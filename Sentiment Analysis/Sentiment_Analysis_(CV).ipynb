{
  "nbformat": 4,
  "nbformat_minor": 0,
  "metadata": {
    "colab": {
      "name": " Sentiment Analysis (CV).ipynb",
      "provenance": [],
      "collapsed_sections": [],
      "toc_visible": true,
      "include_colab_link": true
    },
    "kernelspec": {
      "name": "python3",
      "display_name": "Python 3"
    },
    "language_info": {
      "name": "python"
    }
  },
  "cells": [
    {
      "cell_type": "markdown",
      "metadata": {
        "id": "view-in-github",
        "colab_type": "text"
      },
      "source": [
        "<a href=\"https://colab.research.google.com/github/reginaxy/Hotel_Analysis/blob/main/Sentiment_Analysis_(CV).ipynb\" target=\"_parent\"><img src=\"https://colab.research.google.com/assets/colab-badge.svg\" alt=\"Open In Colab\"/></a>"
      ]
    },
    {
      "cell_type": "markdown",
      "source": [
        "# **Import Libraries, Packages, and Data**"
      ],
      "metadata": {
        "id": "BnMN14c0gqXK"
      }
    },
    {
      "cell_type": "markdown",
      "source": [
        "**Import Libraries & Packages**"
      ],
      "metadata": {
        "id": "5OIsBQqJ41UG"
      }
    },
    {
      "cell_type": "code",
      "execution_count": null,
      "metadata": {
        "id": "s3jCdCoKNZkl"
      },
      "outputs": [],
      "source": [
        "import pandas as pd\n",
        "import matplotlib.pyplot as plt\n",
        "import seaborn as sns\n",
        "import numpy as np\n",
        "\n",
        "from sklearn.model_selection import train_test_split\n",
        "from sklearn import metrics\n",
        "from sklearn.metrics import confusion_matrix, classification_report, accuracy_score, f1_score\n",
        "from sklearn.naive_bayes import MultinomialNB\n",
        "from sklearn.ensemble import RandomForestClassifier\n",
        "from sklearn.linear_model import LogisticRegression\n",
        "from sklearn.feature_extraction.text import TfidfVectorizer, CountVectorizer\n",
        "from sklearn.pipeline import Pipeline\n",
        "from sklearn.tree import DecisionTreeClassifier\n",
        "\n",
        "seed = 4353"
      ]
    },
    {
      "cell_type": "markdown",
      "source": [
        "**Mount to GDrive**"
      ],
      "metadata": {
        "id": "L1A-rt-S44Bl"
      }
    },
    {
      "cell_type": "code",
      "source": [
        "from google.colab import drive\n",
        "drive.mount('/content/drive')"
      ],
      "metadata": {
        "colab": {
          "base_uri": "https://localhost:8080/"
        },
        "id": "C3P-Ug67OjUo",
        "outputId": "f1e987b7-040a-4e87-ca2e-48bfe9986aa2"
      },
      "execution_count": null,
      "outputs": [
        {
          "output_type": "stream",
          "name": "stdout",
          "text": [
            "Mounted at /content/drive\n"
          ]
        }
      ]
    },
    {
      "cell_type": "markdown",
      "source": [
        "**Import Data**"
      ],
      "metadata": {
        "id": "p728DuCM45zF"
      }
    },
    {
      "cell_type": "code",
      "source": [
        "path = '/content/drive/MyDrive/Colab Notebooks/Hotel_Analysis/Hotel_Datasets/515k_Hotel_Reviews_SENTIMENTS_40tokens.csv'\n",
        "df = pd.read_csv(path)\n",
        "df"
      ],
      "metadata": {
        "colab": {
          "base_uri": "https://localhost:8080/",
          "height": 424
        },
        "id": "QioaXoyyOqXk",
        "outputId": "5fe6705f-1842-4080-eaea-b1fdc182144e"
      },
      "execution_count": null,
      "outputs": [
        {
          "output_type": "execute_result",
          "data": {
            "text/plain": [
              "       Review_Date Hotel_Country             Hotel_Name Sentiments  \\\n",
              "0       2017-07-24   Netherlands            Hotel Arena   Negative   \n",
              "1       2017-07-17   Netherlands            Hotel Arena   Negative   \n",
              "2       2017-07-17   Netherlands            Hotel Arena   Negative   \n",
              "3       2017-09-07   Netherlands            Hotel Arena   Negative   \n",
              "4       2017-08-07   Netherlands            Hotel Arena   Negative   \n",
              "...            ...           ...                    ...        ...   \n",
              "545176  2015-07-09       Austria  Atlantis Hotel Vienna   Positive   \n",
              "545177  2015-06-09       Austria  Atlantis Hotel Vienna   Positive   \n",
              "545178  2015-08-22       Austria  Atlantis Hotel Vienna   Positive   \n",
              "545179  2015-08-17       Austria  Atlantis Hotel Vienna   Positive   \n",
              "545180  2015-09-08       Austria  Atlantis Hotel Vienna   Positive   \n",
              "\n",
              "       Reviewer_Nationality  \\\n",
              "0                   Poland    \n",
              "1           United Kingdom    \n",
              "2           United Kingdom    \n",
              "3                  Belgium    \n",
              "4                   Norway    \n",
              "...                     ...   \n",
              "545176             Germany    \n",
              "545177              Kuwait    \n",
              "545178             Estonia    \n",
              "545179              Mexico    \n",
              "545180             Hungary    \n",
              "\n",
              "                                                   Review  \\\n",
              "0        Backyard of the hotel is total mess shouldn t...   \n",
              "1        Cleaner did not change our sheet and duvet ev...   \n",
              "2        Apart from the price for the brekfast Everyth...   \n",
              "3        Even though the pictures show very clean room...   \n",
              "4        The aircondition makes so much noise and its ...   \n",
              "...                                                   ...   \n",
              "545176                                     Good breakfast   \n",
              "545177   helpful staff allowed me to check in early as...   \n",
              "545178      Breakfast was ok and we got earlier check in    \n",
              "545179   The rooms are enormous and really comfortable...   \n",
              "545180                               staff was very kind    \n",
              "\n",
              "                                          cleaned_Reviews  \n",
              "0             backyard hotel total mess happen hotel star  \n",
              "1       cleaner change sheet duvet everyday made bed a...  \n",
              "2                               apart price brekfast good  \n",
              "3       even though picture show clean room actual roo...  \n",
              "4                aircondition make noise hard sleep night  \n",
              "...                                                   ...  \n",
              "545176                                     good breakfast  \n",
              "545177  helpful staff allowed check early arrived chec...  \n",
              "545178                     breakfast ok got earlier check  \n",
              "545179  room enormous comfortable believe family membe...  \n",
              "545180                                         staff kind  \n",
              "\n",
              "[545181 rows x 7 columns]"
            ],
            "text/html": [
              "\n",
              "  <div id=\"df-c9440928-ffd8-4c46-9fc9-a4bf9c84de9a\">\n",
              "    <div class=\"colab-df-container\">\n",
              "      <div>\n",
              "<style scoped>\n",
              "    .dataframe tbody tr th:only-of-type {\n",
              "        vertical-align: middle;\n",
              "    }\n",
              "\n",
              "    .dataframe tbody tr th {\n",
              "        vertical-align: top;\n",
              "    }\n",
              "\n",
              "    .dataframe thead th {\n",
              "        text-align: right;\n",
              "    }\n",
              "</style>\n",
              "<table border=\"1\" class=\"dataframe\">\n",
              "  <thead>\n",
              "    <tr style=\"text-align: right;\">\n",
              "      <th></th>\n",
              "      <th>Review_Date</th>\n",
              "      <th>Hotel_Country</th>\n",
              "      <th>Hotel_Name</th>\n",
              "      <th>Sentiments</th>\n",
              "      <th>Reviewer_Nationality</th>\n",
              "      <th>Review</th>\n",
              "      <th>cleaned_Reviews</th>\n",
              "    </tr>\n",
              "  </thead>\n",
              "  <tbody>\n",
              "    <tr>\n",
              "      <th>0</th>\n",
              "      <td>2017-07-24</td>\n",
              "      <td>Netherlands</td>\n",
              "      <td>Hotel Arena</td>\n",
              "      <td>Negative</td>\n",
              "      <td>Poland</td>\n",
              "      <td>Backyard of the hotel is total mess shouldn t...</td>\n",
              "      <td>backyard hotel total mess happen hotel star</td>\n",
              "    </tr>\n",
              "    <tr>\n",
              "      <th>1</th>\n",
              "      <td>2017-07-17</td>\n",
              "      <td>Netherlands</td>\n",
              "      <td>Hotel Arena</td>\n",
              "      <td>Negative</td>\n",
              "      <td>United Kingdom</td>\n",
              "      <td>Cleaner did not change our sheet and duvet ev...</td>\n",
              "      <td>cleaner change sheet duvet everyday made bed a...</td>\n",
              "    </tr>\n",
              "    <tr>\n",
              "      <th>2</th>\n",
              "      <td>2017-07-17</td>\n",
              "      <td>Netherlands</td>\n",
              "      <td>Hotel Arena</td>\n",
              "      <td>Negative</td>\n",
              "      <td>United Kingdom</td>\n",
              "      <td>Apart from the price for the brekfast Everyth...</td>\n",
              "      <td>apart price brekfast good</td>\n",
              "    </tr>\n",
              "    <tr>\n",
              "      <th>3</th>\n",
              "      <td>2017-09-07</td>\n",
              "      <td>Netherlands</td>\n",
              "      <td>Hotel Arena</td>\n",
              "      <td>Negative</td>\n",
              "      <td>Belgium</td>\n",
              "      <td>Even though the pictures show very clean room...</td>\n",
              "      <td>even though picture show clean room actual roo...</td>\n",
              "    </tr>\n",
              "    <tr>\n",
              "      <th>4</th>\n",
              "      <td>2017-08-07</td>\n",
              "      <td>Netherlands</td>\n",
              "      <td>Hotel Arena</td>\n",
              "      <td>Negative</td>\n",
              "      <td>Norway</td>\n",
              "      <td>The aircondition makes so much noise and its ...</td>\n",
              "      <td>aircondition make noise hard sleep night</td>\n",
              "    </tr>\n",
              "    <tr>\n",
              "      <th>...</th>\n",
              "      <td>...</td>\n",
              "      <td>...</td>\n",
              "      <td>...</td>\n",
              "      <td>...</td>\n",
              "      <td>...</td>\n",
              "      <td>...</td>\n",
              "      <td>...</td>\n",
              "    </tr>\n",
              "    <tr>\n",
              "      <th>545176</th>\n",
              "      <td>2015-07-09</td>\n",
              "      <td>Austria</td>\n",
              "      <td>Atlantis Hotel Vienna</td>\n",
              "      <td>Positive</td>\n",
              "      <td>Germany</td>\n",
              "      <td>Good breakfast</td>\n",
              "      <td>good breakfast</td>\n",
              "    </tr>\n",
              "    <tr>\n",
              "      <th>545177</th>\n",
              "      <td>2015-06-09</td>\n",
              "      <td>Austria</td>\n",
              "      <td>Atlantis Hotel Vienna</td>\n",
              "      <td>Positive</td>\n",
              "      <td>Kuwait</td>\n",
              "      <td>helpful staff allowed me to check in early as...</td>\n",
              "      <td>helpful staff allowed check early arrived chec...</td>\n",
              "    </tr>\n",
              "    <tr>\n",
              "      <th>545178</th>\n",
              "      <td>2015-08-22</td>\n",
              "      <td>Austria</td>\n",
              "      <td>Atlantis Hotel Vienna</td>\n",
              "      <td>Positive</td>\n",
              "      <td>Estonia</td>\n",
              "      <td>Breakfast was ok and we got earlier check in</td>\n",
              "      <td>breakfast ok got earlier check</td>\n",
              "    </tr>\n",
              "    <tr>\n",
              "      <th>545179</th>\n",
              "      <td>2015-08-17</td>\n",
              "      <td>Austria</td>\n",
              "      <td>Atlantis Hotel Vienna</td>\n",
              "      <td>Positive</td>\n",
              "      <td>Mexico</td>\n",
              "      <td>The rooms are enormous and really comfortable...</td>\n",
              "      <td>room enormous comfortable believe family membe...</td>\n",
              "    </tr>\n",
              "    <tr>\n",
              "      <th>545180</th>\n",
              "      <td>2015-09-08</td>\n",
              "      <td>Austria</td>\n",
              "      <td>Atlantis Hotel Vienna</td>\n",
              "      <td>Positive</td>\n",
              "      <td>Hungary</td>\n",
              "      <td>staff was very kind</td>\n",
              "      <td>staff kind</td>\n",
              "    </tr>\n",
              "  </tbody>\n",
              "</table>\n",
              "<p>545181 rows × 7 columns</p>\n",
              "</div>\n",
              "      <button class=\"colab-df-convert\" onclick=\"convertToInteractive('df-c9440928-ffd8-4c46-9fc9-a4bf9c84de9a')\"\n",
              "              title=\"Convert this dataframe to an interactive table.\"\n",
              "              style=\"display:none;\">\n",
              "        \n",
              "  <svg xmlns=\"http://www.w3.org/2000/svg\" height=\"24px\"viewBox=\"0 0 24 24\"\n",
              "       width=\"24px\">\n",
              "    <path d=\"M0 0h24v24H0V0z\" fill=\"none\"/>\n",
              "    <path d=\"M18.56 5.44l.94 2.06.94-2.06 2.06-.94-2.06-.94-.94-2.06-.94 2.06-2.06.94zm-11 1L8.5 8.5l.94-2.06 2.06-.94-2.06-.94L8.5 2.5l-.94 2.06-2.06.94zm10 10l.94 2.06.94-2.06 2.06-.94-2.06-.94-.94-2.06-.94 2.06-2.06.94z\"/><path d=\"M17.41 7.96l-1.37-1.37c-.4-.4-.92-.59-1.43-.59-.52 0-1.04.2-1.43.59L10.3 9.45l-7.72 7.72c-.78.78-.78 2.05 0 2.83L4 21.41c.39.39.9.59 1.41.59.51 0 1.02-.2 1.41-.59l7.78-7.78 2.81-2.81c.8-.78.8-2.07 0-2.86zM5.41 20L4 18.59l7.72-7.72 1.47 1.35L5.41 20z\"/>\n",
              "  </svg>\n",
              "      </button>\n",
              "      \n",
              "  <style>\n",
              "    .colab-df-container {\n",
              "      display:flex;\n",
              "      flex-wrap:wrap;\n",
              "      gap: 12px;\n",
              "    }\n",
              "\n",
              "    .colab-df-convert {\n",
              "      background-color: #E8F0FE;\n",
              "      border: none;\n",
              "      border-radius: 50%;\n",
              "      cursor: pointer;\n",
              "      display: none;\n",
              "      fill: #1967D2;\n",
              "      height: 32px;\n",
              "      padding: 0 0 0 0;\n",
              "      width: 32px;\n",
              "    }\n",
              "\n",
              "    .colab-df-convert:hover {\n",
              "      background-color: #E2EBFA;\n",
              "      box-shadow: 0px 1px 2px rgba(60, 64, 67, 0.3), 0px 1px 3px 1px rgba(60, 64, 67, 0.15);\n",
              "      fill: #174EA6;\n",
              "    }\n",
              "\n",
              "    [theme=dark] .colab-df-convert {\n",
              "      background-color: #3B4455;\n",
              "      fill: #D2E3FC;\n",
              "    }\n",
              "\n",
              "    [theme=dark] .colab-df-convert:hover {\n",
              "      background-color: #434B5C;\n",
              "      box-shadow: 0px 1px 3px 1px rgba(0, 0, 0, 0.15);\n",
              "      filter: drop-shadow(0px 1px 2px rgba(0, 0, 0, 0.3));\n",
              "      fill: #FFFFFF;\n",
              "    }\n",
              "  </style>\n",
              "\n",
              "      <script>\n",
              "        const buttonEl =\n",
              "          document.querySelector('#df-c9440928-ffd8-4c46-9fc9-a4bf9c84de9a button.colab-df-convert');\n",
              "        buttonEl.style.display =\n",
              "          google.colab.kernel.accessAllowed ? 'block' : 'none';\n",
              "\n",
              "        async function convertToInteractive(key) {\n",
              "          const element = document.querySelector('#df-c9440928-ffd8-4c46-9fc9-a4bf9c84de9a');\n",
              "          const dataTable =\n",
              "            await google.colab.kernel.invokeFunction('convertToInteractive',\n",
              "                                                     [key], {});\n",
              "          if (!dataTable) return;\n",
              "\n",
              "          const docLinkHtml = 'Like what you see? Visit the ' +\n",
              "            '<a target=\"_blank\" href=https://colab.research.google.com/notebooks/data_table.ipynb>data table notebook</a>'\n",
              "            + ' to learn more about interactive tables.';\n",
              "          element.innerHTML = '';\n",
              "          dataTable['output_type'] = 'display_data';\n",
              "          await google.colab.output.renderOutput(dataTable, element);\n",
              "          const docLink = document.createElement('div');\n",
              "          docLink.innerHTML = docLinkHtml;\n",
              "          element.appendChild(docLink);\n",
              "        }\n",
              "      </script>\n",
              "    </div>\n",
              "  </div>\n",
              "  "
            ]
          },
          "metadata": {},
          "execution_count": 3
        }
      ]
    },
    {
      "cell_type": "markdown",
      "source": [
        "**Overview of Dataset**"
      ],
      "metadata": {
        "id": "4GoKRuS-4778"
      }
    },
    {
      "cell_type": "code",
      "source": [
        "df.info()"
      ],
      "metadata": {
        "colab": {
          "base_uri": "https://localhost:8080/"
        },
        "id": "CFtGUcvp_NdY",
        "outputId": "cfbbb0df-5de9-426e-d239-9d33ca65daba"
      },
      "execution_count": null,
      "outputs": [
        {
          "output_type": "stream",
          "name": "stdout",
          "text": [
            "<class 'pandas.core.frame.DataFrame'>\n",
            "RangeIndex: 545181 entries, 0 to 545180\n",
            "Data columns (total 7 columns):\n",
            " #   Column                Non-Null Count   Dtype \n",
            "---  ------                --------------   ----- \n",
            " 0   Review_Date           545181 non-null  object\n",
            " 1   Hotel_Country         545181 non-null  object\n",
            " 2   Hotel_Name            545181 non-null  object\n",
            " 3   Sentiments            545181 non-null  object\n",
            " 4   Reviewer_Nationality  545181 non-null  object\n",
            " 5   Review                545181 non-null  object\n",
            " 6   cleaned_Reviews       545181 non-null  object\n",
            "dtypes: object(7)\n",
            "memory usage: 29.1+ MB\n"
          ]
        }
      ]
    },
    {
      "cell_type": "markdown",
      "source": [
        "**Barchart of Sentiments Distribution**"
      ],
      "metadata": {
        "id": "xHqw3GMq2lhn"
      }
    },
    {
      "cell_type": "code",
      "source": [
        "ax = sns.countplot(x=\"Sentiments\", data=df_new, palette = 'Set2')\n",
        "plt.title('Distribution of Sentiments')\n",
        "sns.set(rc = {'figure.figsize':(15,8)})"
      ],
      "metadata": {
        "colab": {
          "base_uri": "https://localhost:8080/",
          "height": 294
        },
        "id": "6K1t5N5qAOnX",
        "outputId": "4e376a3b-3f8b-4f77-9dbd-4b0824dcdfe4"
      },
      "execution_count": null,
      "outputs": [
        {
          "output_type": "display_data",
          "data": {
            "text/plain": [
              "<Figure size 432x288 with 1 Axes>"
            ],
            "image/png": "[encoded data removed]"
          },
          "metadata": {
            "needs_background": "light"
          }
        }
      ]
    },
    {
      "cell_type": "markdown",
      "source": [
        "### **Data Selection & Preparation**"
      ],
      "metadata": {
        "id": "0Sssb1eQg2Pw"
      }
    },
    {
      "cell_type": "markdown",
      "source": [
        "**Defining predictor & Target variable**"
      ],
      "metadata": {
        "id": "JDIToqdO4_qk"
      }
    },
    {
      "cell_type": "code",
      "source": [
        "# Defining predictor & Target variable\n",
        "\n",
        "X = df_new['cleaned_Reviews'] # predictor variable\n",
        "y = df_new['Sentiments'] # target variable"
      ],
      "metadata": {
        "id": "0lBV6cy9O_pU"
      },
      "execution_count": null,
      "outputs": []
    },
    {
      "cell_type": "markdown",
      "source": [
        "**Split dataset into training and testing sets**\n",
        "\n",
        "Training set - 70%\n",
        "\n",
        "Testing set - 30%\n"
      ],
      "metadata": {
        "id": "FPqhP2Ms5A7s"
      }
    },
    {
      "cell_type": "code",
      "source": [
        "# Split dataset into training and testing sets\n",
        "# Training set - 70%\n",
        "# Testing set - 30%\n",
        "\n",
        "X_train, X_test, y_train, y_test = train_test_split(X, y, test_size=0.30, random_state= seed)"
      ],
      "metadata": {
        "id": "9m5CG527PJ3Z"
      },
      "execution_count": null,
      "outputs": []
    },
    {
      "cell_type": "markdown",
      "source": [
        "**Display data shape**"
      ],
      "metadata": {
        "id": "ezQoYXOe5GEx"
      }
    },
    {
      "cell_type": "code",
      "source": [
        "# Display data shape\n",
        "\n",
        "print(X_train.shape,y_train.shape)\n",
        "print(X_test.shape,y_test.shape)"
      ],
      "metadata": {
        "colab": {
          "base_uri": "https://localhost:8080/"
        },
        "id": "3_jxbKJTRjoB",
        "outputId": "ce6e4909-0ae7-455f-f1ef-2538de8f0f0b"
      },
      "execution_count": null,
      "outputs": [
        {
          "output_type": "stream",
          "name": "stdout",
          "text": [
            "(381626,) (381626,)\n",
            "(163555,) (163555,)\n"
          ]
        }
      ]
    },
    {
      "cell_type": "markdown",
      "source": [
        "**Percentage of Positive & Negative Review counts in Training set**"
      ],
      "metadata": {
        "id": "7CZZIVmM5H2k"
      }
    },
    {
      "cell_type": "code",
      "source": [
        "# Percentage of Positive & Negative Review counts\n",
        "\n",
        "y_train.value_counts(normalize=True)"
      ],
      "metadata": {
        "colab": {
          "base_uri": "https://localhost:8080/"
        },
        "id": "_uQwe89RjCGA",
        "outputId": "d5ad2ce7-6ba9-458a-f53e-33403b30a04f"
      },
      "execution_count": null,
      "outputs": [
        {
          "output_type": "execute_result",
          "data": {
            "text/plain": [
              "Positive    0.58664\n",
              "Negative    0.41336\n",
              "Name: Sentiments, dtype: float64"
            ]
          },
          "metadata": {},
          "execution_count": 11
        }
      ]
    },
    {
      "cell_type": "markdown",
      "source": [
        "### **Model 1: Multinomial Naive Bayes (MNB)**"
      ],
      "metadata": {
        "id": "A8kjcWrw_1sX"
      }
    },
    {
      "cell_type": "markdown",
      "source": [
        "**Fitting Multinomial Naive Bayes (MNB) classifer into Pipeline**"
      ],
      "metadata": {
        "id": "KSTsWhYt5JyA"
      }
    },
    {
      "cell_type": "code",
      "source": [
        "# Fitting Multinomial Naive Bayes (MNB) classifer into Pipeline\n",
        "# Countvectorizer \n",
        "\n",
        "MNB = Pipeline([('Vect',CountVectorizer()),\n",
        "                  ('model',MultinomialNB())])"
      ],
      "metadata": {
        "id": "c4USOnRG9qgA"
      },
      "execution_count": null,
      "outputs": []
    },
    {
      "cell_type": "markdown",
      "source": [
        "**Train MNB classifier**"
      ],
      "metadata": {
        "id": "1E7A9Nad5LmT"
      }
    },
    {
      "cell_type": "code",
      "source": [
        "# Train MNB classifier\n",
        "\n",
        "MNB.fit(X_train, y_train)"
      ],
      "metadata": {
        "colab": {
          "base_uri": "https://localhost:8080/"
        },
        "id": "L5jjpUoM-TKX",
        "outputId": "c833d378-7342-4733-9210-fa5e20401b9f"
      },
      "execution_count": null,
      "outputs": [
        {
          "output_type": "execute_result",
          "data": {
            "text/plain": [
              "Pipeline(steps=[('Vect', CountVectorizer()), ('model', MultinomialNB())])"
            ]
          },
          "metadata": {},
          "execution_count": 13
        }
      ]
    },
    {
      "cell_type": "markdown",
      "source": [
        "**Calculate Accuracy**"
      ],
      "metadata": {
        "id": "4KG0L6Yt5OE-"
      }
    },
    {
      "cell_type": "code",
      "source": [
        "# Calculate Accuracy\n",
        "\n",
        "print (\"Accuracy:\", MNB.score(X_test, y_test))"
      ],
      "metadata": {
        "colab": {
          "base_uri": "https://localhost:8080/"
        },
        "id": "BAgOgi_u-aSm",
        "outputId": "5d8c743c-07cb-4e2a-f439-9c09f053aab4"
      },
      "execution_count": null,
      "outputs": [
        {
          "output_type": "stream",
          "name": "stdout",
          "text": [
            "Accuracy: 0.920778942863257\n"
          ]
        }
      ]
    },
    {
      "cell_type": "markdown",
      "source": [
        "**Construct the classification report , accuracy & F1 score**"
      ],
      "metadata": {
        "id": "Ebk1eopW5SN-"
      }
    },
    {
      "cell_type": "code",
      "source": [
        "# Construct the classification report , accuracy & F1 score\n",
        "\n",
        "predictions = MNB.predict(X_test)\n",
        "\n",
        "print(classification_report(y_test, predictions))\n",
        "\n",
        "MNB_f1 = round(f1_score(y_test, predictions, average='weighted'), 3)\n",
        "MNB_accuracy = round((accuracy_score(y_test, predictions)*100),2)\n",
        "\n",
        "print(\"Accuracy : \" , MNB_accuracy , \" %\")\n",
        "print(\"f1_score : \" , MNB_f1)"
      ],
      "metadata": {
        "colab": {
          "base_uri": "https://localhost:8080/"
        },
        "id": "x25EOVUgRvDD",
        "outputId": "a13694e8-a721-4faf-b224-acbc78346e6c"
      },
      "execution_count": null,
      "outputs": [
        {
          "output_type": "stream",
          "name": "stdout",
          "text": [
            "              precision    recall  f1-score   support\n",
            "\n",
            "    Negative       0.91      0.89      0.90     67789\n",
            "    Positive       0.93      0.94      0.93     95766\n",
            "\n",
            "    accuracy                           0.92    163555\n",
            "   macro avg       0.92      0.92      0.92    163555\n",
            "weighted avg       0.92      0.92      0.92    163555\n",
            "\n",
            "Accuracy :  92.08  %\n",
            "f1_score :  0.921\n"
          ]
        }
      ]
    },
    {
      "cell_type": "markdown",
      "source": [
        "**Construct the Confusion Matrix**"
      ],
      "metadata": {
        "id": "ZIfNWIqE5Txp"
      }
    },
    {
      "cell_type": "code",
      "source": [
        "# Construct the Confusion Matrix\n",
        "\n",
        "predictions = MNB.predict(X_test)\n",
        "cm = confusion_matrix(y_test, predictions)\n",
        "\n",
        "names = ['True Negative','False Positive','False Negative','True Positive']\n",
        "\n",
        "counts = ['{0:0.0f}'.format(value) for value in\n",
        "                cm.flatten()]\n",
        "\n",
        "percentages = ['{0:.2%}'.format(value) for value in\n",
        "                     cm.flatten()/np.sum(cm)]\n",
        "\n",
        "labels = [f'{v1}\\n{v2}\\n{v3}' for v1, v2, v3 in\n",
        "          zip(names, counts, percentages)]\n",
        "\n",
        "labels = np.asarray(labels).reshape(2,2)\n",
        "sns.heatmap(cm, annot=labels, fmt='', cmap='Blues')"
      ],
      "metadata": {
        "colab": {
          "base_uri": "https://localhost:8080/",
          "height": 556
        },
        "id": "j7c5PZIXCKjS",
        "outputId": "2d3a4acc-8ddd-492c-f995-2fb173d0f272"
      },
      "execution_count": null,
      "outputs": [
        {
          "output_type": "stream",
          "name": "stderr",
          "text": [
            "/usr/local/lib/python3.7/dist-packages/ipykernel_launcher.py:21: MatplotlibDeprecationWarning: Adding an axes using the same arguments as a previous axes currently reuses the earlier instance.  In a future version, a new instance will always be created and returned.  Meanwhile, this warning can be suppressed, and the future behavior ensured, by passing a unique label to each axes instance.\n"
          ]
        },
        {
          "output_type": "display_data",
          "data": {
            "text/plain": [
              "<Figure size 1080x576 with 2 Axes>"
            ],
            "image/png": "[encoded data removed]"
          },
          "metadata": {}
        }
      ]
    },
    {
      "cell_type": "markdown",
      "source": [
        "**Testing out the model built**\n",
        "\n",
        "fitting in some random reviews to predict their sentiments"
      ],
      "metadata": {
        "id": "ODiMoXK55VaW"
      }
    },
    {
      "cell_type": "code",
      "source": [
        "# Testing out the model built\n",
        "# fitting in some random reviews to predict their sentiments\n",
        "\n",
        "MNB.predict(['the service is fantastic', 'the staff was unfriendly', 'slow service', 'beautiful scenery', 'my hotel room was very clean', 'rude manager'])"
      ],
      "metadata": {
        "colab": {
          "base_uri": "https://localhost:8080/"
        },
        "id": "newrdgjMR41K",
        "outputId": "b4369609-5d84-416e-b52f-f2d9618d7798"
      },
      "execution_count": null,
      "outputs": [
        {
          "output_type": "execute_result",
          "data": {
            "text/plain": [
              "array(['Positive', 'Negative', 'Negative', 'Positive', 'Positive',\n",
              "       'Negative'], dtype='<U8')"
            ]
          },
          "metadata": {},
          "execution_count": 19
        }
      ]
    },
    {
      "cell_type": "markdown",
      "source": [
        "### **Model 2: Logistic Regression**"
      ],
      "metadata": {
        "id": "n7yrHzgbM72R"
      }
    },
    {
      "cell_type": "markdown",
      "source": [
        "**Fitting Logistic Regression (LR) classifer into Pipeline**"
      ],
      "metadata": {
        "id": "jZgdL-Fi5Y-z"
      }
    },
    {
      "cell_type": "code",
      "source": [
        "# Fitting Logistic Regression (LR) classifer into Pipeline\n",
        "# Countvectorizer \n",
        "\n",
        "lr = Pipeline([('Vect',CountVectorizer()),\n",
        "                  ('model',LogisticRegression(solver='lbfgs', max_iter=1000))])\n",
        "\n",
        "lr.fit(X_train, y_train)"
      ],
      "metadata": {
        "colab": {
          "base_uri": "https://localhost:8080/"
        },
        "id": "P0emx9QpM-pl",
        "outputId": "e7279002-629b-4dde-eeee-3eeb0852e6a7"
      },
      "execution_count": null,
      "outputs": [
        {
          "output_type": "execute_result",
          "data": {
            "text/plain": [
              "Pipeline(steps=[('Vect', CountVectorizer()),\n",
              "                ('model', LogisticRegression(max_iter=1000))])"
            ]
          },
          "metadata": {},
          "execution_count": 20
        }
      ]
    },
    {
      "cell_type": "markdown",
      "source": [
        "**Calculate Accuracy**"
      ],
      "metadata": {
        "id": "cosuOlcP5akL"
      }
    },
    {
      "cell_type": "code",
      "source": [
        "# Calculate Accuracy\n",
        "\n",
        "print (\"Accuracy:\", lr.score(X_test, y_test))"
      ],
      "metadata": {
        "colab": {
          "base_uri": "https://localhost:8080/"
        },
        "id": "cyjQ6HyIPdu9",
        "outputId": "9183b233-04ee-47f8-8049-ece30300cf1c"
      },
      "execution_count": null,
      "outputs": [
        {
          "output_type": "stream",
          "name": "stdout",
          "text": [
            "Accuracy: 0.9312952829323469\n"
          ]
        }
      ]
    },
    {
      "cell_type": "markdown",
      "source": [
        "**Construct the classification report , accuracy & F1 score**"
      ],
      "metadata": {
        "id": "KQvJbGXO5cpz"
      }
    },
    {
      "cell_type": "code",
      "source": [
        "# Construct the classification report , accuracy & F1 score\n",
        "\n",
        "predictions = lr.predict(X_test)\n",
        "\n",
        "print(classification_report(y_test, predictions))\n",
        "\n",
        "lr_f1 = round(f1_score(y_test, predictions, average= 'weighted'), 3)\n",
        "lr_accuracy = round((accuracy_score(y_test, predictions) * 100), 2)\n",
        "\n",
        "print(\"Accuracy : \" , lr_accuracy , \" %\")\n",
        "print(\"f1_score : \" , lr_f1)"
      ],
      "metadata": {
        "colab": {
          "base_uri": "https://localhost:8080/"
        },
        "id": "0syWMkxnPkKr",
        "outputId": "eb2b8a9f-06e6-4990-a33d-b43fe79e8413"
      },
      "execution_count": null,
      "outputs": [
        {
          "output_type": "stream",
          "name": "stdout",
          "text": [
            "              precision    recall  f1-score   support\n",
            "\n",
            "    Negative       0.92      0.92      0.92     67789\n",
            "    Positive       0.94      0.94      0.94     95766\n",
            "\n",
            "    accuracy                           0.93    163555\n",
            "   macro avg       0.93      0.93      0.93    163555\n",
            "weighted avg       0.93      0.93      0.93    163555\n",
            "\n",
            "Accuracy :  93.13  %\n",
            "f1_score :  0.931\n"
          ]
        }
      ]
    },
    {
      "cell_type": "markdown",
      "source": [
        "**Construct the Confusion Matrix**"
      ],
      "metadata": {
        "id": "0isB9Gbv5gVz"
      }
    },
    {
      "cell_type": "code",
      "source": [
        "# Construct the Confusion Matrix\n",
        "\n",
        "predictions = lr.predict(X_test)\n",
        "cm = confusion_matrix(y_test, predictions)\n",
        "\n",
        "names = ['True Negative','False Positive','False Negative','True Positive']\n",
        "\n",
        "counts = ['{0:0.0f}'.format(value) for value in\n",
        "                cm.flatten()]\n",
        "\n",
        "percentages = ['{0:.2%}'.format(value) for value in\n",
        "                     cm.flatten()/np.sum(cm)]\n",
        "\n",
        "labels = [f'{v1}\\n{v2}\\n{v3}' for v1, v2, v3 in\n",
        "          zip(names, counts, percentages)]\n",
        "\n",
        "labels = np.asarray(labels).reshape(2,2)\n",
        "sns.heatmap(cm, annot=labels, fmt='', cmap='Blues')"
      ],
      "metadata": {
        "colab": {
          "base_uri": "https://localhost:8080/",
          "height": 506
        },
        "id": "_HK7kffeQEvW",
        "outputId": "4cfa3c2f-11a9-4361-9c42-5879a4cbb323"
      },
      "execution_count": null,
      "outputs": [
        {
          "output_type": "execute_result",
          "data": {
            "text/plain": [
              "<matplotlib.axes._subplots.AxesSubplot at 0x7f8b07572990>"
            ]
          },
          "metadata": {},
          "execution_count": 25
        },
        {
          "output_type": "display_data",
          "data": {
            "text/plain": [
              "<Figure size 1080x576 with 2 Axes>"
            ],
            "image/png": "[encoded data removed]"
          },
          "metadata": {}
        }
      ]
    },
    {
      "cell_type": "markdown",
      "source": [
        "**Testing out the model built**\n",
        "\n",
        "fitting in some random reviews to predict their sentiments"
      ],
      "metadata": {
        "id": "EN2Kqype5h_j"
      }
    },
    {
      "cell_type": "code",
      "source": [
        "# Testing out the model built\n",
        "# fitting in some random reviews to predict their sentiments\n",
        "\n",
        "lr.predict(['the service is fantastic', 'the staff was unfriendly', 'slow service', 'beautiful scenery', 'the scenery was gorgeous', 'the manager was very rude'])"
      ],
      "metadata": {
        "colab": {
          "base_uri": "https://localhost:8080/"
        },
        "id": "CvrIfR16fY2X",
        "outputId": "6539e64d-83ea-4548-ea8d-0311bf485e4a"
      },
      "execution_count": null,
      "outputs": [
        {
          "output_type": "execute_result",
          "data": {
            "text/plain": [
              "array(['Positive', 'Negative', 'Negative', 'Positive', 'Positive',\n",
              "       'Negative'], dtype=object)"
            ]
          },
          "metadata": {},
          "execution_count": 26
        }
      ]
    },
    {
      "cell_type": "markdown",
      "source": [
        "### **Model 3: Random Forest**"
      ],
      "metadata": {
        "id": "CdZsYac0Th62"
      }
    },
    {
      "cell_type": "markdown",
      "source": [
        "**Fitting Random Forest (RFC) classifer into Pipeline**"
      ],
      "metadata": {
        "id": "1h_HYukD5k1T"
      }
    },
    {
      "cell_type": "code",
      "source": [
        "# Fitting Random Forest (RFC) classifer into Pipeline\n",
        "# Countvectorizer \n",
        "\n",
        "rfc = Pipeline([('Vect',CountVectorizer()),\n",
        "                  ('model',RandomForestClassifier(n_estimators= 10, random_state= seed))])\n",
        "\n",
        "rfc.fit(X_train, y_train)"
      ],
      "metadata": {
        "colab": {
          "base_uri": "https://localhost:8080/"
        },
        "id": "-_JFgrMfSqk6",
        "outputId": "cd2045dd-e2e8-45dd-9943-4bf6701b8951"
      },
      "execution_count": null,
      "outputs": [
        {
          "output_type": "execute_result",
          "data": {
            "text/plain": [
              "Pipeline(steps=[('Vect', CountVectorizer()),\n",
              "                ('model',\n",
              "                 RandomForestClassifier(n_estimators=10, random_state=4353))])"
            ]
          },
          "metadata": {},
          "execution_count": 27
        }
      ]
    },
    {
      "cell_type": "markdown",
      "source": [
        "**Calculate Accuracy**"
      ],
      "metadata": {
        "id": "3KOYhKUg5mWq"
      }
    },
    {
      "cell_type": "code",
      "source": [
        "# Calculate Accuracy\n",
        "\n",
        "print (\"Accuracy:\", rfc.score(X_test, y_test))"
      ],
      "metadata": {
        "colab": {
          "base_uri": "https://localhost:8080/"
        },
        "id": "_Ga6hiN9ThUy",
        "outputId": "ec062182-96ca-4e1c-8c67-65581021f848"
      },
      "execution_count": null,
      "outputs": [
        {
          "output_type": "stream",
          "name": "stdout",
          "text": [
            "Accuracy: 0.9176546115985448\n"
          ]
        }
      ]
    },
    {
      "cell_type": "markdown",
      "source": [
        "**Construct the classification report , accuracy & F1 score**"
      ],
      "metadata": {
        "id": "AvB4Cplz5pTr"
      }
    },
    {
      "cell_type": "code",
      "source": [
        "# Construct the classification report , accuracy & F1 score\n",
        "\n",
        "predictions = rfc.predict(X_test)\n",
        "\n",
        "print(classification_report(y_test, predictions))\n",
        "\n",
        "rfc_f1 = round(f1_score(y_test, predictions, average= 'weighted'), 3)\n",
        "rfc_accuracy = round((accuracy_score(y_test, predictions) * 100), 2)\n",
        "\n",
        "print(\"Accuracy : \" , rfc_accuracy , \" %\")\n",
        "print(\"f1_score : \" , rfc_f1)"
      ],
      "metadata": {
        "colab": {
          "base_uri": "https://localhost:8080/"
        },
        "id": "y0lyzCRxTqBr",
        "outputId": "72d33bf4-9605-4d75-dc73-b90215646a1b"
      },
      "execution_count": null,
      "outputs": [
        {
          "output_type": "stream",
          "name": "stdout",
          "text": [
            "              precision    recall  f1-score   support\n",
            "\n",
            "    Negative       0.90      0.90      0.90     67789\n",
            "    Positive       0.93      0.93      0.93     95766\n",
            "\n",
            "    accuracy                           0.92    163555\n",
            "   macro avg       0.91      0.92      0.92    163555\n",
            "weighted avg       0.92      0.92      0.92    163555\n",
            "\n",
            "Accuracy :  91.77  %\n",
            "f1_score :  0.918\n"
          ]
        }
      ]
    },
    {
      "cell_type": "markdown",
      "source": [
        "**Construct the Confusion Matrix**"
      ],
      "metadata": {
        "id": "CMkJt4Df5rHr"
      }
    },
    {
      "cell_type": "code",
      "source": [
        "# Construct the Confusion Matrix\n",
        "\n",
        "predictions = rfc.predict(X_test)\n",
        "cm = confusion_matrix(y_test, predictions)\n",
        "\n",
        "names = ['True Negative','False Positive','False Negative','True Positive']\n",
        "\n",
        "counts = ['{0:0.0f}'.format(value) for value in\n",
        "                cm.flatten()]\n",
        "\n",
        "percentages = ['{0:.2%}'.format(value) for value in\n",
        "                     cm.flatten()/np.sum(cm)]\n",
        "\n",
        "labels = [f'{v1}\\n{v2}\\n{v3}' for v1, v2, v3 in\n",
        "          zip(names, counts, percentages)]\n",
        "\n",
        "labels = np.asarray(labels).reshape(2,2)\n",
        "sns.heatmap(cm, annot=labels, fmt='', cmap='Blues')"
      ],
      "metadata": {
        "colab": {
          "base_uri": "https://localhost:8080/",
          "height": 502
        },
        "id": "7mlVBDIiT0_2",
        "outputId": "51816627-bc21-4ac6-bfe0-9265b81dda82"
      },
      "execution_count": null,
      "outputs": [
        {
          "output_type": "execute_result",
          "data": {
            "text/plain": [
              "<matplotlib.axes._subplots.AxesSubplot at 0x7f8b0a867710>"
            ]
          },
          "metadata": {},
          "execution_count": 32
        },
        {
          "output_type": "display_data",
          "data": {
            "text/plain": [
              "<Figure size 1080x576 with 2 Axes>"
            ],
            "image/png": "[encoded data removed]"
          },
          "metadata": {}
        }
      ]
    },
    {
      "cell_type": "markdown",
      "source": [
        "**Testing out the model built**\n",
        "\n",
        "Fitting in some random reviews to predict their sentiments\n"
      ],
      "metadata": {
        "id": "iYf9teh55tjF"
      }
    },
    {
      "cell_type": "code",
      "source": [
        "# Testing out the model built\n",
        "# Fitting in some random reviews to predict their sentiments\n",
        "\n",
        "rfc.predict(['the service is fantastic', 'the staff was unfriendly', 'slow service', 'beautiful scenery', 'the scenery was gorgeous', 'the manager was very rude'])"
      ],
      "metadata": {
        "colab": {
          "base_uri": "https://localhost:8080/"
        },
        "id": "QhWVnLembU42",
        "outputId": "3adcb99d-c457-4fe8-fc0a-e302a2fd3c0d"
      },
      "execution_count": null,
      "outputs": [
        {
          "output_type": "execute_result",
          "data": {
            "text/plain": [
              "array(['Positive', 'Negative', 'Negative', 'Positive', 'Positive',\n",
              "       'Negative'], dtype=object)"
            ]
          },
          "metadata": {},
          "execution_count": 33
        }
      ]
    },
    {
      "cell_type": "markdown",
      "source": [
        "### **Model 4: Decision Tree**"
      ],
      "metadata": {
        "id": "Nt1Kzwv3lU44"
      }
    },
    {
      "cell_type": "markdown",
      "source": [
        "**Fitting Decision Tree (DCT) classifer into Pipeline**"
      ],
      "metadata": {
        "id": "_acxT38P5xFU"
      }
    },
    {
      "cell_type": "code",
      "source": [
        "# Fitting Decision Tree (DCT) classifer into Pipeline\n",
        "# Countvectorizer \n",
        "\n",
        "dct = Pipeline([('Vect',CountVectorizer()),\n",
        "                  ('model',DecisionTreeClassifier(criterion='entropy', random_state=seed))])\n",
        "\n",
        "dct.fit(X_train,y_train)"
      ],
      "metadata": {
        "colab": {
          "base_uri": "https://localhost:8080/"
        },
        "id": "Zsrj7_P7lYck",
        "outputId": "0ee150dd-a2a6-4ea9-9e39-ef52754d0943"
      },
      "execution_count": null,
      "outputs": [
        {
          "output_type": "execute_result",
          "data": {
            "text/plain": [
              "Pipeline(steps=[('Vect', CountVectorizer()),\n",
              "                ('model',\n",
              "                 DecisionTreeClassifier(criterion='entropy',\n",
              "                                        random_state=4353))])"
            ]
          },
          "metadata": {},
          "execution_count": 34
        }
      ]
    },
    {
      "cell_type": "markdown",
      "source": [
        "**Calculate Accuracy**"
      ],
      "metadata": {
        "id": "YB-uXHes51x8"
      }
    },
    {
      "cell_type": "code",
      "source": [
        "# Calculate Accuracy\n",
        "\n",
        "print (\"Accuracy:\", dct.score(X_test, y_test))"
      ],
      "metadata": {
        "colab": {
          "base_uri": "https://localhost:8080/"
        },
        "id": "QMYe0F70leat",
        "outputId": "4b8e2139-acde-4a22-fa37-7c611a910a2d"
      },
      "execution_count": null,
      "outputs": [
        {
          "output_type": "stream",
          "name": "stdout",
          "text": [
            "Accuracy: 0.887469047109535\n"
          ]
        }
      ]
    },
    {
      "cell_type": "markdown",
      "source": [
        "**Construct the classification report , accuracy & F1 score**"
      ],
      "metadata": {
        "id": "RFkewuza53s0"
      }
    },
    {
      "cell_type": "code",
      "source": [
        "# Construct the classification report , accuracy & F1 score\n",
        "\n",
        "predictions = dct.predict(X_test)\n",
        "\n",
        "print(classification_report(y_test, predictions))\n",
        "\n",
        "dct_f1 = round(f1_score(y_test, predictions, average= 'weighted'), 3)\n",
        "dct_accuracy = round((accuracy_score(y_test, predictions) * 100), 2)\n",
        "\n",
        "print(\"Accuracy : \" , dct_accuracy , \" %\")\n",
        "print(\"f1_score : \" , dct_f1)"
      ],
      "metadata": {
        "colab": {
          "base_uri": "https://localhost:8080/"
        },
        "id": "OxeV5hHLlf5x",
        "outputId": "fd5fdf51-fa5b-455f-a39a-311c93f98f82"
      },
      "execution_count": null,
      "outputs": [
        {
          "output_type": "stream",
          "name": "stdout",
          "text": [
            "              precision    recall  f1-score   support\n",
            "\n",
            "    Negative       0.87      0.86      0.86     67789\n",
            "    Positive       0.90      0.91      0.90     95766\n",
            "\n",
            "    accuracy                           0.89    163555\n",
            "   macro avg       0.88      0.88      0.88    163555\n",
            "weighted avg       0.89      0.89      0.89    163555\n",
            "\n",
            "Accuracy :  88.75  %\n",
            "f1_score :  0.887\n"
          ]
        }
      ]
    },
    {
      "cell_type": "markdown",
      "source": [
        "**Construct the Confusion Matrix**"
      ],
      "metadata": {
        "id": "lLB4-uZV55Ze"
      }
    },
    {
      "cell_type": "code",
      "source": [
        "# Construct the Confusion Matrix\n",
        "\n",
        "predictions = dct.predict(X_test)\n",
        "cm = confusion_matrix(y_test, predictions)\n",
        "\n",
        "names = ['True Negative','False Positive','False Negative','True Positive']\n",
        "\n",
        "counts = ['{0:0.0f}'.format(value) for value in\n",
        "                cm.flatten()]\n",
        "\n",
        "percentages = ['{0:.2%}'.format(value) for value in\n",
        "                     cm.flatten()/np.sum(cm)]\n",
        "\n",
        "labels = [f'{v1}\\n{v2}\\n{v3}' for v1, v2, v3 in\n",
        "          zip(names, counts, percentages)]\n",
        "\n",
        "labels = np.asarray(labels).reshape(2,2)\n",
        "sns.heatmap(cm, annot=labels, fmt='', cmap='Blues')"
      ],
      "metadata": {
        "colab": {
          "base_uri": "https://localhost:8080/",
          "height": 502
        },
        "id": "fO3YgyH9lje8",
        "outputId": "25a57dd0-a1c2-4e6e-9e86-609717bfa648"
      },
      "execution_count": null,
      "outputs": [
        {
          "output_type": "execute_result",
          "data": {
            "text/plain": [
              "<matplotlib.axes._subplots.AxesSubplot at 0x7f8b0ab32b50>"
            ]
          },
          "metadata": {},
          "execution_count": 39
        },
        {
          "output_type": "display_data",
          "data": {
            "text/plain": [
              "<Figure size 1080x576 with 2 Axes>"
            ],
            "image/png": "[encoded data removed]"
          },
          "metadata": {}
        }
      ]
    },
    {
      "cell_type": "markdown",
      "source": [
        "**Testing out the model built** \n",
        "\n",
        "fitting in some random reviews to predict their sentiments"
      ],
      "metadata": {
        "id": "tNzW652557A7"
      }
    },
    {
      "cell_type": "code",
      "source": [
        "# Testing out the model built \n",
        "# fitting in some random reviews to predict their sentiments\n",
        "\n",
        "dct.predict(['the service is fantastic', 'the staff was unfriendly', 'slow service', 'beautiful scenery', 'the scenery was gorgeous', 'the manager was very rude'])"
      ],
      "metadata": {
        "colab": {
          "base_uri": "https://localhost:8080/"
        },
        "id": "YUS1vqbJbSH3",
        "outputId": "8358fd58-d432-4f47-af85-417907ea9173"
      },
      "execution_count": null,
      "outputs": [
        {
          "output_type": "execute_result",
          "data": {
            "text/plain": [
              "array(['Positive', 'Negative', 'Negative', 'Positive', 'Positive',\n",
              "       'Negative'], dtype=object)"
            ]
          },
          "metadata": {},
          "execution_count": 40
        }
      ]
    }
  ]
}
