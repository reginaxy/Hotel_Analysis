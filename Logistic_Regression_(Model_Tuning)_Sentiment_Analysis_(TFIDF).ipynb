{
  "cells": [
    {
      "cell_type": "markdown",
      "metadata": {
        "id": "view-in-github",
        "colab_type": "text"
      },
      "source": [
        "<a href=\"https://colab.research.google.com/github/reginaxy/Hotel_Analysis/blob/main/Logistic_Regression_(Model_Tuning)_Sentiment_Analysis_(TFIDF).ipynb\" target=\"_parent\"><img src=\"https://colab.research.google.com/assets/colab-badge.svg\" alt=\"Open In Colab\"/></a>"
      ]
    },
    {
      "cell_type": "markdown",
      "metadata": {
        "id": "BnMN14c0gqXK"
      },
      "source": [
        "# **Import Libraries, Packages, and Data**"
      ]
    },
    {
      "cell_type": "markdown",
      "source": [
        "**Import Libraries & Packages**"
      ],
      "metadata": {
        "id": "BM9b0Pgk6Flw"
      }
    },
    {
      "cell_type": "code",
      "execution_count": null,
      "metadata": {
        "id": "s3jCdCoKNZkl"
      },
      "outputs": [],
      "source": [
        "import pandas as pd\n",
        "import matplotlib.pyplot as plt\n",
        "import seaborn as sns\n",
        "import numpy as np\n",
        "\n",
        "from sklearn.model_selection import train_test_split\n",
        "from sklearn import metrics\n",
        "from sklearn.metrics import confusion_matrix, classification_report, accuracy_score, f1_score\n",
        "from sklearn.naive_bayes import MultinomialNB\n",
        "from sklearn.ensemble import RandomForestClassifier\n",
        "from sklearn.linear_model import LogisticRegression\n",
        "from sklearn.feature_extraction.text import TfidfVectorizer\n",
        "from sklearn.pipeline import Pipeline\n",
        "from sklearn.tree import DecisionTreeClassifier\n",
        "\n",
        "seed = 4353"
      ]
    },
    {
      "cell_type": "markdown",
      "source": [
        "**Mount to GDrive**"
      ],
      "metadata": {
        "id": "upBt1FQF6IuH"
      }
    },
    {
      "cell_type": "code",
      "execution_count": null,
      "metadata": {
        "colab": {
          "base_uri": "https://localhost:8080/"
        },
        "id": "C3P-Ug67OjUo",
        "outputId": "9f30e64c-80c4-4668-ae01-7f9372748059"
      },
      "outputs": [
        {
          "output_type": "stream",
          "name": "stdout",
          "text": [
            "Mounted at /content/drive\n"
          ]
        }
      ],
      "source": [
        "from google.colab import drive\n",
        "drive.mount('/content/drive')"
      ]
    },
    {
      "cell_type": "markdown",
      "source": [
        "**Import Data**"
      ],
      "metadata": {
        "id": "0egHI03a6Kmq"
      }
    },
    {
      "cell_type": "code",
      "execution_count": null,
      "metadata": {
        "colab": {
          "base_uri": "https://localhost:8080/",
          "height": 424
        },
        "id": "QioaXoyyOqXk",
        "outputId": "56038b38-7584-4cf0-ae57-ef1901f07e0d"
      },
      "outputs": [
        {
          "output_type": "execute_result",
          "data": {
            "text/plain": [
              "       Review_Date Hotel_Country             Hotel_Name Sentiments  \\\n",
              "0       2017-07-24   Netherlands            Hotel Arena   Negative   \n",
              "1       2017-07-17   Netherlands            Hotel Arena   Negative   \n",
              "2       2017-07-17   Netherlands            Hotel Arena   Negative   \n",
              "3       2017-09-07   Netherlands            Hotel Arena   Negative   \n",
              "4       2017-08-07   Netherlands            Hotel Arena   Negative   \n",
              "...            ...           ...                    ...        ...   \n",
              "545176  2015-07-09       Austria  Atlantis Hotel Vienna   Positive   \n",
              "545177  2015-06-09       Austria  Atlantis Hotel Vienna   Positive   \n",
              "545178  2015-08-22       Austria  Atlantis Hotel Vienna   Positive   \n",
              "545179  2015-08-17       Austria  Atlantis Hotel Vienna   Positive   \n",
              "545180  2015-09-08       Austria  Atlantis Hotel Vienna   Positive   \n",
              "\n",
              "       Reviewer_Nationality  \\\n",
              "0                   Poland    \n",
              "1           United Kingdom    \n",
              "2           United Kingdom    \n",
              "3                  Belgium    \n",
              "4                   Norway    \n",
              "...                     ...   \n",
              "545176             Germany    \n",
              "545177              Kuwait    \n",
              "545178             Estonia    \n",
              "545179              Mexico    \n",
              "545180             Hungary    \n",
              "\n",
              "                                                   Review  \\\n",
              "0        Backyard of the hotel is total mess shouldn t...   \n",
              "1        Cleaner did not change our sheet and duvet ev...   \n",
              "2        Apart from the price for the brekfast Everyth...   \n",
              "3        Even though the pictures show very clean room...   \n",
              "4        The aircondition makes so much noise and its ...   \n",
              "...                                                   ...   \n",
              "545176                                     Good breakfast   \n",
              "545177   helpful staff allowed me to check in early as...   \n",
              "545178      Breakfast was ok and we got earlier check in    \n",
              "545179   The rooms are enormous and really comfortable...   \n",
              "545180                               staff was very kind    \n",
              "\n",
              "                                          cleaned_Reviews  \n",
              "0             backyard hotel total mess happen hotel star  \n",
              "1       cleaner change sheet duvet everyday made bed a...  \n",
              "2                               apart price brekfast good  \n",
              "3       even though picture show clean room actual roo...  \n",
              "4                aircondition make noise hard sleep night  \n",
              "...                                                   ...  \n",
              "545176                                     good breakfast  \n",
              "545177  helpful staff allowed check early arrived chec...  \n",
              "545178                     breakfast ok got earlier check  \n",
              "545179  room enormous comfortable believe family membe...  \n",
              "545180                                         staff kind  \n",
              "\n",
              "[545181 rows x 7 columns]"
            ],
            "text/html": [
              "\n",
              "  <div id=\"df-c175cb07-32e7-4e92-91ed-85998e1e84e9\">\n",
              "    <div class=\"colab-df-container\">\n",
              "      <div>\n",
              "<style scoped>\n",
              "    .dataframe tbody tr th:only-of-type {\n",
              "        vertical-align: middle;\n",
              "    }\n",
              "\n",
              "    .dataframe tbody tr th {\n",
              "        vertical-align: top;\n",
              "    }\n",
              "\n",
              "    .dataframe thead th {\n",
              "        text-align: right;\n",
              "    }\n",
              "</style>\n",
              "<table border=\"1\" class=\"dataframe\">\n",
              "  <thead>\n",
              "    <tr style=\"text-align: right;\">\n",
              "      <th></th>\n",
              "      <th>Review_Date</th>\n",
              "      <th>Hotel_Country</th>\n",
              "      <th>Hotel_Name</th>\n",
              "      <th>Sentiments</th>\n",
              "      <th>Reviewer_Nationality</th>\n",
              "      <th>Review</th>\n",
              "      <th>cleaned_Reviews</th>\n",
              "    </tr>\n",
              "  </thead>\n",
              "  <tbody>\n",
              "    <tr>\n",
              "      <th>0</th>\n",
              "      <td>2017-07-24</td>\n",
              "      <td>Netherlands</td>\n",
              "      <td>Hotel Arena</td>\n",
              "      <td>Negative</td>\n",
              "      <td>Poland</td>\n",
              "      <td>Backyard of the hotel is total mess shouldn t...</td>\n",
              "      <td>backyard hotel total mess happen hotel star</td>\n",
              "    </tr>\n",
              "    <tr>\n",
              "      <th>1</th>\n",
              "      <td>2017-07-17</td>\n",
              "      <td>Netherlands</td>\n",
              "      <td>Hotel Arena</td>\n",
              "      <td>Negative</td>\n",
              "      <td>United Kingdom</td>\n",
              "      <td>Cleaner did not change our sheet and duvet ev...</td>\n",
              "      <td>cleaner change sheet duvet everyday made bed a...</td>\n",
              "    </tr>\n",
              "    <tr>\n",
              "      <th>2</th>\n",
              "      <td>2017-07-17</td>\n",
              "      <td>Netherlands</td>\n",
              "      <td>Hotel Arena</td>\n",
              "      <td>Negative</td>\n",
              "      <td>United Kingdom</td>\n",
              "      <td>Apart from the price for the brekfast Everyth...</td>\n",
              "      <td>apart price brekfast good</td>\n",
              "    </tr>\n",
              "    <tr>\n",
              "      <th>3</th>\n",
              "      <td>2017-09-07</td>\n",
              "      <td>Netherlands</td>\n",
              "      <td>Hotel Arena</td>\n",
              "      <td>Negative</td>\n",
              "      <td>Belgium</td>\n",
              "      <td>Even though the pictures show very clean room...</td>\n",
              "      <td>even though picture show clean room actual roo...</td>\n",
              "    </tr>\n",
              "    <tr>\n",
              "      <th>4</th>\n",
              "      <td>2017-08-07</td>\n",
              "      <td>Netherlands</td>\n",
              "      <td>Hotel Arena</td>\n",
              "      <td>Negative</td>\n",
              "      <td>Norway</td>\n",
              "      <td>The aircondition makes so much noise and its ...</td>\n",
              "      <td>aircondition make noise hard sleep night</td>\n",
              "    </tr>\n",
              "    <tr>\n",
              "      <th>...</th>\n",
              "      <td>...</td>\n",
              "      <td>...</td>\n",
              "      <td>...</td>\n",
              "      <td>...</td>\n",
              "      <td>...</td>\n",
              "      <td>...</td>\n",
              "      <td>...</td>\n",
              "    </tr>\n",
              "    <tr>\n",
              "      <th>545176</th>\n",
              "      <td>2015-07-09</td>\n",
              "      <td>Austria</td>\n",
              "      <td>Atlantis Hotel Vienna</td>\n",
              "      <td>Positive</td>\n",
              "      <td>Germany</td>\n",
              "      <td>Good breakfast</td>\n",
              "      <td>good breakfast</td>\n",
              "    </tr>\n",
              "    <tr>\n",
              "      <th>545177</th>\n",
              "      <td>2015-06-09</td>\n",
              "      <td>Austria</td>\n",
              "      <td>Atlantis Hotel Vienna</td>\n",
              "      <td>Positive</td>\n",
              "      <td>Kuwait</td>\n",
              "      <td>helpful staff allowed me to check in early as...</td>\n",
              "      <td>helpful staff allowed check early arrived chec...</td>\n",
              "    </tr>\n",
              "    <tr>\n",
              "      <th>545178</th>\n",
              "      <td>2015-08-22</td>\n",
              "      <td>Austria</td>\n",
              "      <td>Atlantis Hotel Vienna</td>\n",
              "      <td>Positive</td>\n",
              "      <td>Estonia</td>\n",
              "      <td>Breakfast was ok and we got earlier check in</td>\n",
              "      <td>breakfast ok got earlier check</td>\n",
              "    </tr>\n",
              "    <tr>\n",
              "      <th>545179</th>\n",
              "      <td>2015-08-17</td>\n",
              "      <td>Austria</td>\n",
              "      <td>Atlantis Hotel Vienna</td>\n",
              "      <td>Positive</td>\n",
              "      <td>Mexico</td>\n",
              "      <td>The rooms are enormous and really comfortable...</td>\n",
              "      <td>room enormous comfortable believe family membe...</td>\n",
              "    </tr>\n",
              "    <tr>\n",
              "      <th>545180</th>\n",
              "      <td>2015-09-08</td>\n",
              "      <td>Austria</td>\n",
              "      <td>Atlantis Hotel Vienna</td>\n",
              "      <td>Positive</td>\n",
              "      <td>Hungary</td>\n",
              "      <td>staff was very kind</td>\n",
              "      <td>staff kind</td>\n",
              "    </tr>\n",
              "  </tbody>\n",
              "</table>\n",
              "<p>545181 rows × 7 columns</p>\n",
              "</div>\n",
              "      <button class=\"colab-df-convert\" onclick=\"convertToInteractive('df-c175cb07-32e7-4e92-91ed-85998e1e84e9')\"\n",
              "              title=\"Convert this dataframe to an interactive table.\"\n",
              "              style=\"display:none;\">\n",
              "        \n",
              "  <svg xmlns=\"http://www.w3.org/2000/svg\" height=\"24px\"viewBox=\"0 0 24 24\"\n",
              "       width=\"24px\">\n",
              "    <path d=\"M0 0h24v24H0V0z\" fill=\"none\"/>\n",
              "    <path d=\"M18.56 5.44l.94 2.06.94-2.06 2.06-.94-2.06-.94-.94-2.06-.94 2.06-2.06.94zm-11 1L8.5 8.5l.94-2.06 2.06-.94-2.06-.94L8.5 2.5l-.94 2.06-2.06.94zm10 10l.94 2.06.94-2.06 2.06-.94-2.06-.94-.94-2.06-.94 2.06-2.06.94z\"/><path d=\"M17.41 7.96l-1.37-1.37c-.4-.4-.92-.59-1.43-.59-.52 0-1.04.2-1.43.59L10.3 9.45l-7.72 7.72c-.78.78-.78 2.05 0 2.83L4 21.41c.39.39.9.59 1.41.59.51 0 1.02-.2 1.41-.59l7.78-7.78 2.81-2.81c.8-.78.8-2.07 0-2.86zM5.41 20L4 18.59l7.72-7.72 1.47 1.35L5.41 20z\"/>\n",
              "  </svg>\n",
              "      </button>\n",
              "      \n",
              "  <style>\n",
              "    .colab-df-container {\n",
              "      display:flex;\n",
              "      flex-wrap:wrap;\n",
              "      gap: 12px;\n",
              "    }\n",
              "\n",
              "    .colab-df-convert {\n",
              "      background-color: #E8F0FE;\n",
              "      border: none;\n",
              "      border-radius: 50%;\n",
              "      cursor: pointer;\n",
              "      display: none;\n",
              "      fill: #1967D2;\n",
              "      height: 32px;\n",
              "      padding: 0 0 0 0;\n",
              "      width: 32px;\n",
              "    }\n",
              "\n",
              "    .colab-df-convert:hover {\n",
              "      background-color: #E2EBFA;\n",
              "      box-shadow: 0px 1px 2px rgba(60, 64, 67, 0.3), 0px 1px 3px 1px rgba(60, 64, 67, 0.15);\n",
              "      fill: #174EA6;\n",
              "    }\n",
              "\n",
              "    [theme=dark] .colab-df-convert {\n",
              "      background-color: #3B4455;\n",
              "      fill: #D2E3FC;\n",
              "    }\n",
              "\n",
              "    [theme=dark] .colab-df-convert:hover {\n",
              "      background-color: #434B5C;\n",
              "      box-shadow: 0px 1px 3px 1px rgba(0, 0, 0, 0.15);\n",
              "      filter: drop-shadow(0px 1px 2px rgba(0, 0, 0, 0.3));\n",
              "      fill: #FFFFFF;\n",
              "    }\n",
              "  </style>\n",
              "\n",
              "      <script>\n",
              "        const buttonEl =\n",
              "          document.querySelector('#df-c175cb07-32e7-4e92-91ed-85998e1e84e9 button.colab-df-convert');\n",
              "        buttonEl.style.display =\n",
              "          google.colab.kernel.accessAllowed ? 'block' : 'none';\n",
              "\n",
              "        async function convertToInteractive(key) {\n",
              "          const element = document.querySelector('#df-c175cb07-32e7-4e92-91ed-85998e1e84e9');\n",
              "          const dataTable =\n",
              "            await google.colab.kernel.invokeFunction('convertToInteractive',\n",
              "                                                     [key], {});\n",
              "          if (!dataTable) return;\n",
              "\n",
              "          const docLinkHtml = 'Like what you see? Visit the ' +\n",
              "            '<a target=\"_blank\" href=https://colab.research.google.com/notebooks/data_table.ipynb>data table notebook</a>'\n",
              "            + ' to learn more about interactive tables.';\n",
              "          element.innerHTML = '';\n",
              "          dataTable['output_type'] = 'display_data';\n",
              "          await google.colab.output.renderOutput(dataTable, element);\n",
              "          const docLink = document.createElement('div');\n",
              "          docLink.innerHTML = docLinkHtml;\n",
              "          element.appendChild(docLink);\n",
              "        }\n",
              "      </script>\n",
              "    </div>\n",
              "  </div>\n",
              "  "
            ]
          },
          "metadata": {},
          "execution_count": 3
        }
      ],
      "source": [
        "path = '/content/drive/MyDrive/Colab Notebooks/Hotel_Analysis/Hotel_Datasets/515k_Hotel_Reviews_SENTIMENTS_40tokens.csv'\n",
        "df = pd.read_csv(path)\n",
        "df"
      ]
    },
    {
      "cell_type": "markdown",
      "source": [
        "**First 5 rows of Data**"
      ],
      "metadata": {
        "id": "vnHEpgPx6M98"
      }
    },
    {
      "cell_type": "code",
      "execution_count": null,
      "metadata": {
        "colab": {
          "base_uri": "https://localhost:8080/",
          "height": 206
        },
        "id": "xvzX0tS2O7kR",
        "outputId": "7b9a97b8-a937-41ff-c9c4-c3951c7bc6fe"
      },
      "outputs": [
        {
          "output_type": "execute_result",
          "data": {
            "text/plain": [
              "  Review_Date Hotel_Country   Hotel_Name Sentiments Reviewer_Nationality  \\\n",
              "0  2017-07-24   Netherlands  Hotel Arena   Negative              Poland    \n",
              "1  2017-07-17   Netherlands  Hotel Arena   Negative      United Kingdom    \n",
              "2  2017-07-17   Netherlands  Hotel Arena   Negative      United Kingdom    \n",
              "3  2017-09-07   Netherlands  Hotel Arena   Negative             Belgium    \n",
              "4  2017-08-07   Netherlands  Hotel Arena   Negative              Norway    \n",
              "\n",
              "                                              Review  \\\n",
              "0   Backyard of the hotel is total mess shouldn t...   \n",
              "1   Cleaner did not change our sheet and duvet ev...   \n",
              "2   Apart from the price for the brekfast Everyth...   \n",
              "3   Even though the pictures show very clean room...   \n",
              "4   The aircondition makes so much noise and its ...   \n",
              "\n",
              "                                     cleaned_Reviews  \n",
              "0        backyard hotel total mess happen hotel star  \n",
              "1  cleaner change sheet duvet everyday made bed a...  \n",
              "2                          apart price brekfast good  \n",
              "3  even though picture show clean room actual roo...  \n",
              "4           aircondition make noise hard sleep night  "
            ],
            "text/html": [
              "\n",
              "  <div id=\"df-4c0851aa-2726-4800-ac50-8d4189039ca3\">\n",
              "    <div class=\"colab-df-container\">\n",
              "      <div>\n",
              "<style scoped>\n",
              "    .dataframe tbody tr th:only-of-type {\n",
              "        vertical-align: middle;\n",
              "    }\n",
              "\n",
              "    .dataframe tbody tr th {\n",
              "        vertical-align: top;\n",
              "    }\n",
              "\n",
              "    .dataframe thead th {\n",
              "        text-align: right;\n",
              "    }\n",
              "</style>\n",
              "<table border=\"1\" class=\"dataframe\">\n",
              "  <thead>\n",
              "    <tr style=\"text-align: right;\">\n",
              "      <th></th>\n",
              "      <th>Review_Date</th>\n",
              "      <th>Hotel_Country</th>\n",
              "      <th>Hotel_Name</th>\n",
              "      <th>Sentiments</th>\n",
              "      <th>Reviewer_Nationality</th>\n",
              "      <th>Review</th>\n",
              "      <th>cleaned_Reviews</th>\n",
              "    </tr>\n",
              "  </thead>\n",
              "  <tbody>\n",
              "    <tr>\n",
              "      <th>0</th>\n",
              "      <td>2017-07-24</td>\n",
              "      <td>Netherlands</td>\n",
              "      <td>Hotel Arena</td>\n",
              "      <td>Negative</td>\n",
              "      <td>Poland</td>\n",
              "      <td>Backyard of the hotel is total mess shouldn t...</td>\n",
              "      <td>backyard hotel total mess happen hotel star</td>\n",
              "    </tr>\n",
              "    <tr>\n",
              "      <th>1</th>\n",
              "      <td>2017-07-17</td>\n",
              "      <td>Netherlands</td>\n",
              "      <td>Hotel Arena</td>\n",
              "      <td>Negative</td>\n",
              "      <td>United Kingdom</td>\n",
              "      <td>Cleaner did not change our sheet and duvet ev...</td>\n",
              "      <td>cleaner change sheet duvet everyday made bed a...</td>\n",
              "    </tr>\n",
              "    <tr>\n",
              "      <th>2</th>\n",
              "      <td>2017-07-17</td>\n",
              "      <td>Netherlands</td>\n",
              "      <td>Hotel Arena</td>\n",
              "      <td>Negative</td>\n",
              "      <td>United Kingdom</td>\n",
              "      <td>Apart from the price for the brekfast Everyth...</td>\n",
              "      <td>apart price brekfast good</td>\n",
              "    </tr>\n",
              "    <tr>\n",
              "      <th>3</th>\n",
              "      <td>2017-09-07</td>\n",
              "      <td>Netherlands</td>\n",
              "      <td>Hotel Arena</td>\n",
              "      <td>Negative</td>\n",
              "      <td>Belgium</td>\n",
              "      <td>Even though the pictures show very clean room...</td>\n",
              "      <td>even though picture show clean room actual roo...</td>\n",
              "    </tr>\n",
              "    <tr>\n",
              "      <th>4</th>\n",
              "      <td>2017-08-07</td>\n",
              "      <td>Netherlands</td>\n",
              "      <td>Hotel Arena</td>\n",
              "      <td>Negative</td>\n",
              "      <td>Norway</td>\n",
              "      <td>The aircondition makes so much noise and its ...</td>\n",
              "      <td>aircondition make noise hard sleep night</td>\n",
              "    </tr>\n",
              "  </tbody>\n",
              "</table>\n",
              "</div>\n",
              "      <button class=\"colab-df-convert\" onclick=\"convertToInteractive('df-4c0851aa-2726-4800-ac50-8d4189039ca3')\"\n",
              "              title=\"Convert this dataframe to an interactive table.\"\n",
              "              style=\"display:none;\">\n",
              "        \n",
              "  <svg xmlns=\"http://www.w3.org/2000/svg\" height=\"24px\"viewBox=\"0 0 24 24\"\n",
              "       width=\"24px\">\n",
              "    <path d=\"M0 0h24v24H0V0z\" fill=\"none\"/>\n",
              "    <path d=\"M18.56 5.44l.94 2.06.94-2.06 2.06-.94-2.06-.94-.94-2.06-.94 2.06-2.06.94zm-11 1L8.5 8.5l.94-2.06 2.06-.94-2.06-.94L8.5 2.5l-.94 2.06-2.06.94zm10 10l.94 2.06.94-2.06 2.06-.94-2.06-.94-.94-2.06-.94 2.06-2.06.94z\"/><path d=\"M17.41 7.96l-1.37-1.37c-.4-.4-.92-.59-1.43-.59-.52 0-1.04.2-1.43.59L10.3 9.45l-7.72 7.72c-.78.78-.78 2.05 0 2.83L4 21.41c.39.39.9.59 1.41.59.51 0 1.02-.2 1.41-.59l7.78-7.78 2.81-2.81c.8-.78.8-2.07 0-2.86zM5.41 20L4 18.59l7.72-7.72 1.47 1.35L5.41 20z\"/>\n",
              "  </svg>\n",
              "      </button>\n",
              "      \n",
              "  <style>\n",
              "    .colab-df-container {\n",
              "      display:flex;\n",
              "      flex-wrap:wrap;\n",
              "      gap: 12px;\n",
              "    }\n",
              "\n",
              "    .colab-df-convert {\n",
              "      background-color: #E8F0FE;\n",
              "      border: none;\n",
              "      border-radius: 50%;\n",
              "      cursor: pointer;\n",
              "      display: none;\n",
              "      fill: #1967D2;\n",
              "      height: 32px;\n",
              "      padding: 0 0 0 0;\n",
              "      width: 32px;\n",
              "    }\n",
              "\n",
              "    .colab-df-convert:hover {\n",
              "      background-color: #E2EBFA;\n",
              "      box-shadow: 0px 1px 2px rgba(60, 64, 67, 0.3), 0px 1px 3px 1px rgba(60, 64, 67, 0.15);\n",
              "      fill: #174EA6;\n",
              "    }\n",
              "\n",
              "    [theme=dark] .colab-df-convert {\n",
              "      background-color: #3B4455;\n",
              "      fill: #D2E3FC;\n",
              "    }\n",
              "\n",
              "    [theme=dark] .colab-df-convert:hover {\n",
              "      background-color: #434B5C;\n",
              "      box-shadow: 0px 1px 3px 1px rgba(0, 0, 0, 0.15);\n",
              "      filter: drop-shadow(0px 1px 2px rgba(0, 0, 0, 0.3));\n",
              "      fill: #FFFFFF;\n",
              "    }\n",
              "  </style>\n",
              "\n",
              "      <script>\n",
              "        const buttonEl =\n",
              "          document.querySelector('#df-4c0851aa-2726-4800-ac50-8d4189039ca3 button.colab-df-convert');\n",
              "        buttonEl.style.display =\n",
              "          google.colab.kernel.accessAllowed ? 'block' : 'none';\n",
              "\n",
              "        async function convertToInteractive(key) {\n",
              "          const element = document.querySelector('#df-4c0851aa-2726-4800-ac50-8d4189039ca3');\n",
              "          const dataTable =\n",
              "            await google.colab.kernel.invokeFunction('convertToInteractive',\n",
              "                                                     [key], {});\n",
              "          if (!dataTable) return;\n",
              "\n",
              "          const docLinkHtml = 'Like what you see? Visit the ' +\n",
              "            '<a target=\"_blank\" href=https://colab.research.google.com/notebooks/data_table.ipynb>data table notebook</a>'\n",
              "            + ' to learn more about interactive tables.';\n",
              "          element.innerHTML = '';\n",
              "          dataTable['output_type'] = 'display_data';\n",
              "          await google.colab.output.renderOutput(dataTable, element);\n",
              "          const docLink = document.createElement('div');\n",
              "          docLink.innerHTML = docLinkHtml;\n",
              "          element.appendChild(docLink);\n",
              "        }\n",
              "      </script>\n",
              "    </div>\n",
              "  </div>\n",
              "  "
            ]
          },
          "metadata": {},
          "execution_count": 4
        }
      ],
      "source": [
        "df.head()"
      ]
    },
    {
      "cell_type": "markdown",
      "source": [
        "**Overview of Data**"
      ],
      "metadata": {
        "id": "hThgncTT6PZG"
      }
    },
    {
      "cell_type": "code",
      "execution_count": null,
      "metadata": {
        "colab": {
          "base_uri": "https://localhost:8080/"
        },
        "id": "CFtGUcvp_NdY",
        "outputId": "490a67cd-3537-473b-ca34-ab4dc0246dc9"
      },
      "outputs": [
        {
          "output_type": "stream",
          "name": "stdout",
          "text": [
            "<class 'pandas.core.frame.DataFrame'>\n",
            "RangeIndex: 545181 entries, 0 to 545180\n",
            "Data columns (total 7 columns):\n",
            " #   Column                Non-Null Count   Dtype \n",
            "---  ------                --------------   ----- \n",
            " 0   Review_Date           545181 non-null  object\n",
            " 1   Hotel_Country         545181 non-null  object\n",
            " 2   Hotel_Name            545181 non-null  object\n",
            " 3   Sentiments            545181 non-null  object\n",
            " 4   Reviewer_Nationality  545181 non-null  object\n",
            " 5   Review                545181 non-null  object\n",
            " 6   cleaned_Reviews       545181 non-null  object\n",
            "dtypes: object(7)\n",
            "memory usage: 29.1+ MB\n"
          ]
        }
      ],
      "source": [
        "df.info()"
      ]
    },
    {
      "cell_type": "markdown",
      "metadata": {
        "id": "0Sssb1eQg2Pw"
      },
      "source": [
        "### **Data Selection & Preparation**"
      ]
    },
    {
      "cell_type": "markdown",
      "source": [
        "**Defining predictor & Target variable**"
      ],
      "metadata": {
        "id": "ww49_7sg6T6k"
      }
    },
    {
      "cell_type": "code",
      "execution_count": null,
      "metadata": {
        "id": "0lBV6cy9O_pU"
      },
      "outputs": [],
      "source": [
        "# Defining predictor & Target variable\n",
        "\n",
        "X = df['cleaned_Reviews'] # predictor variable\n",
        "y = df['Sentiments'] # target variable"
      ]
    },
    {
      "cell_type": "markdown",
      "source": [
        "**Split dataset into training and testing sets**\n",
        "\n",
        "Training set - 70%\n",
        "\n",
        "Testing set - 30%"
      ],
      "metadata": {
        "id": "a8reM0lC6VkH"
      }
    },
    {
      "cell_type": "code",
      "execution_count": null,
      "metadata": {
        "id": "9m5CG527PJ3Z"
      },
      "outputs": [],
      "source": [
        "# Split dataset into training and testing sets\n",
        "\n",
        "X_train, X_test, y_train, y_test = train_test_split(X, y, test_size=0.30, random_state= seed)"
      ]
    },
    {
      "cell_type": "markdown",
      "source": [
        "**Data Shape**"
      ],
      "metadata": {
        "id": "prm59bGK6bMi"
      }
    },
    {
      "cell_type": "code",
      "execution_count": null,
      "metadata": {
        "colab": {
          "base_uri": "https://localhost:8080/"
        },
        "id": "3_jxbKJTRjoB",
        "outputId": "92435c03-b135-41f2-fa96-1c8f5e736011"
      },
      "outputs": [
        {
          "output_type": "stream",
          "name": "stdout",
          "text": [
            "(381626, 45265) (381626,)\n",
            "(163555, 45265) (163555,)\n"
          ]
        }
      ],
      "source": [
        "print(X_train.shape,y_train.shape)\n",
        "print(X_test.shape,y_test.shape)"
      ]
    },
    {
      "cell_type": "markdown",
      "source": [
        "**Counts of Positive and Negative Sentiments in Training set**"
      ],
      "metadata": {
        "id": "wDrtXHRf6ddV"
      }
    },
    {
      "cell_type": "code",
      "execution_count": null,
      "metadata": {
        "colab": {
          "base_uri": "https://localhost:8080/"
        },
        "id": "_uQwe89RjCGA",
        "outputId": "90839109-9be7-4de7-e1b5-972ca8a38e0f"
      },
      "outputs": [
        {
          "output_type": "execute_result",
          "data": {
            "text/plain": [
              "Positive    0.58664\n",
              "Negative    0.41336\n",
              "Name: Sentiments, dtype: float64"
            ]
          },
          "metadata": {},
          "execution_count": 20
        }
      ],
      "source": [
        "y_train.value_counts(normalize=True)"
      ]
    },
    {
      "cell_type": "markdown",
      "source": [
        "# **Results of Original Logistic Regression model built**\n",
        "\n",
        "Results obtained from workbook **'Sentiment Analysis (TF-IDF)'**"
      ],
      "metadata": {
        "id": "sgPph--MUi6m"
      }
    },
    {
      "cell_type": "markdown",
      "source": [
        "**Load the original model from disk & Display Accuracy score**"
      ],
      "metadata": {
        "id": "SaVNd_PQ7Byf"
      }
    },
    {
      "cell_type": "code",
      "execution_count": null,
      "metadata": {
        "colab": {
          "base_uri": "https://localhost:8080/"
        },
        "id": "bmShnHZJ7eMl",
        "outputId": "116afb8f-5547-4975-9f10-f853bb4ca4d5"
      },
      "outputs": [
        {
          "output_type": "stream",
          "name": "stdout",
          "text": [
            "Accuracy: 0.9328421631866957\n"
          ]
        }
      ],
      "source": [
        "import pickle\n",
        "# load the original model from disk\n",
        "filename = '/content/drive/MyDrive/Colab Notebooks/Hotel_Analysis/Sentiment Analysis/Sentiment Models/LR_SentAnalysis.sav'\n",
        "loaded_model = pickle.load(open(filename, 'rb'))\n",
        "result = loaded_model.score(X_test, y_test)\n",
        "print (\"Accuracy:\", result)"
      ]
    },
    {
      "cell_type": "markdown",
      "source": [
        "**Construct the classification report , accuracy & F1 score**"
      ],
      "metadata": {
        "id": "oifN2MYs7Ic8"
      }
    },
    {
      "cell_type": "code",
      "source": [
        "# Construct the classification report , accuracy & F1 score\n",
        "\n",
        "predictions = loaded_model.predict(X_test)\n",
        "\n",
        "print(classification_report(y_test, predictions))\n",
        "\n",
        "lr_f1 = round(f1_score(y_test, predictions, average= 'weighted'), 3)\n",
        "lr_accuracy = round((accuracy_score(y_test, predictions) * 100), 2)\n",
        "\n",
        "print(\"Accuracy : \" , lr_accuracy , \" %\")\n",
        "print(\"f1_score : \" , lr_f1)"
      ],
      "metadata": {
        "colab": {
          "base_uri": "https://localhost:8080/"
        },
        "id": "V9YVXUrFURXn",
        "outputId": "5d0506bb-8d64-4821-e1f1-557c5241a80e"
      },
      "execution_count": null,
      "outputs": [
        {
          "output_type": "stream",
          "name": "stdout",
          "text": [
            "              precision    recall  f1-score   support\n",
            "\n",
            "    Negative       0.91      0.93      0.92     67789\n",
            "    Positive       0.95      0.94      0.94     95766\n",
            "\n",
            "    accuracy                           0.93    163555\n",
            "   macro avg       0.93      0.93      0.93    163555\n",
            "weighted avg       0.93      0.93      0.93    163555\n",
            "\n",
            "Accuracy :  93.28  %\n",
            "f1_score :  0.933\n"
          ]
        }
      ]
    },
    {
      "cell_type": "markdown",
      "source": [
        "**Construct the Confusion Matrix**"
      ],
      "metadata": {
        "id": "GcecIZsz7Kaq"
      }
    },
    {
      "cell_type": "code",
      "source": [
        "# Construct the Confusion Matrix\n",
        "\n",
        "predictions = loaded_model.predict(X_test)\n",
        "cm = confusion_matrix(y_test, predictions)\n",
        "\n",
        "names = ['True Negative','False Positive','False Negative','True Positive']\n",
        "\n",
        "counts = ['{0:0.0f}'.format(value) for value in\n",
        "                cm.flatten()]\n",
        "\n",
        "percentages = ['{0:.2%}'.format(value) for value in\n",
        "                     cm.flatten()/np.sum(cm)]\n",
        "\n",
        "labels = [f'{v1}\\n{v2}\\n{v3}' for v1, v2, v3 in\n",
        "          zip(names, counts, percentages)]\n",
        "\n",
        "labels = np.asarray(labels).reshape(2,2)\n",
        "sns.heatmap(cm, annot=labels, fmt='', cmap='Blues')\n",
        "sns.set(rc = {'figure.figsize':(15,8)})"
      ],
      "metadata": {
        "colab": {
          "base_uri": "https://localhost:8080/",
          "height": 485
        },
        "id": "MT91-l9jUVwA",
        "outputId": "e90be36c-c104-4634-8d36-56dbd5516674"
      },
      "execution_count": null,
      "outputs": [
        {
          "output_type": "display_data",
          "data": {
            "text/plain": [
              "<Figure size 1080x576 with 2 Axes>"
            ],
            "image/png": "[encoded data removed]"
          },
          "metadata": {}
        }
      ]
    },
    {
      "cell_type": "markdown",
      "source": [
        "**Model Results:** \n",
        "\n",
        "From our previously built LR model, we managed to achieve an accuracy, precision, recall and F1-score of 93%.\n",
        "\n",
        "In addition, we have 3.70% of False Negative results and 3.01% of False Positive results.\n",
        "\n",
        "In the next steps, we will be tuning our TF-IDF vectorizer parameters to check if any further improvements can be made to the model performance."
      ],
      "metadata": {
        "id": "zqSlcxTaT8Sv"
      }
    },
    {
      "cell_type": "markdown",
      "source": [
        "# **Tuning Parameters of TF-IDF vectorizer**"
      ],
      "metadata": {
        "id": "2ZjcKKaAxLx2"
      }
    },
    {
      "cell_type": "markdown",
      "source": [
        "## **Testing on different Ngrams ranges**\n",
        "\n",
        "ngram_range: tuple (min_n, max_n), default=(1, 1)\n",
        "\n",
        "The lower and upper boundary of the range of n-values for different n-grams to be extracted.\n",
        "\n",
        "**E.g.**\n",
        "\n",
        "'Welcome to python'\n",
        "\n",
        "one-grams : 'welcome', 'to', 'python'\n",
        "\n",
        "two-grams : 'welcome to', 'python'\n",
        "\n",
        "and so on..."
      ],
      "metadata": {
        "id": "1PJw8Ao6zDv0"
      }
    },
    {
      "cell_type": "markdown",
      "source": [
        "**Include 1-grams only (Default)**"
      ],
      "metadata": {
        "id": "wL6bFzzo7tbd"
      }
    },
    {
      "cell_type": "code",
      "source": [
        "# include 1-grams only (Default)\n",
        "\n",
        "lr = Pipeline([('Vect',TfidfVectorizer(ngram_range=(1, 1))),\n",
        "                  ('model',LogisticRegression(solver='lbfgs', max_iter=1000))])\n",
        "\n",
        "lr.fit(X_train, y_train)\n",
        "\n",
        "# Calculate Accuracy\n",
        "print (\"Accuracy:\", lr.score(X_test, y_test))"
      ],
      "metadata": {
        "colab": {
          "base_uri": "https://localhost:8080/"
        },
        "id": "SMTfnthzyzvG",
        "outputId": "e539f95c-96ff-4319-ce3d-f71228a5e156"
      },
      "execution_count": null,
      "outputs": [
        {
          "output_type": "stream",
          "name": "stdout",
          "text": [
            "Accuracy: 0.9328421631866957\n"
          ]
        }
      ]
    },
    {
      "cell_type": "markdown",
      "source": [
        "**Include 1-grams & 2- grams**"
      ],
      "metadata": {
        "id": "eGiBmyYj7wBD"
      }
    },
    {
      "cell_type": "code",
      "source": [
        "# include 1-grams & 2- grams\n",
        "\n",
        "lr = Pipeline([('Vect',TfidfVectorizer(ngram_range=(1, 2))),\n",
        "                  ('model',LogisticRegression(solver='lbfgs', max_iter=1000))])\n",
        "\n",
        "lr.fit(X_train, y_train)\n",
        "\n",
        "# Calculate Accuracy\n",
        "print (\"Accuracy:\", lr.score(X_test, y_test))"
      ],
      "metadata": {
        "colab": {
          "base_uri": "https://localhost:8080/"
        },
        "id": "cLeep-ZMyZxs",
        "outputId": "b3dd19d7-7f58-4eed-aaec-96cdc226c36f"
      },
      "execution_count": null,
      "outputs": [
        {
          "output_type": "stream",
          "name": "stdout",
          "text": [
            "Accuracy: 0.9383021002109382\n"
          ]
        }
      ]
    },
    {
      "cell_type": "markdown",
      "source": [
        "**Include 1-grams to 3-grams**"
      ],
      "metadata": {
        "id": "KX5ZnBdN7ykt"
      }
    },
    {
      "cell_type": "code",
      "source": [
        "# include 1-grams to 3-grams\n",
        "\n",
        "lr = Pipeline([('Vect',TfidfVectorizer(ngram_range=(1, 3))),\n",
        "                  ('model',LogisticRegression(solver='lbfgs', max_iter=1000))])\n",
        "\n",
        "lr.fit(X_train, y_train)\n",
        "\n",
        "# Calculate Accuracy\n",
        "print (\"Accuracy:\", lr.score(X_test, y_test))"
      ],
      "metadata": {
        "colab": {
          "base_uri": "https://localhost:8080/"
        },
        "id": "4QfdXwKFx0Tn",
        "outputId": "8250492b-15a4-4cda-927a-b4a15b1b2337"
      },
      "execution_count": null,
      "outputs": [
        {
          "output_type": "stream",
          "name": "stdout",
          "text": [
            "Accuracy: 0.9368713888294458\n"
          ]
        }
      ]
    },
    {
      "cell_type": "markdown",
      "source": [
        "**Include 1-grams to 4-grams**"
      ],
      "metadata": {
        "id": "fG1Mqada700F"
      }
    },
    {
      "cell_type": "code",
      "source": [
        "# include 1-grams to 4-grams\n",
        "\n",
        "lr = Pipeline([('Vect',TfidfVectorizer(ngram_range=(1, 4))),\n",
        "                  ('model',LogisticRegression(solver='lbfgs', max_iter=1000))])\n",
        "\n",
        "lr.fit(X_train, y_train)\n",
        "\n",
        "# Calculate Accuracy\n",
        "print (\"Accuracy:\", lr.score(X_test, y_test))"
      ],
      "metadata": {
        "colab": {
          "base_uri": "https://localhost:8080/"
        },
        "id": "uCgdmkwz0IDE",
        "outputId": "ceb5de22-4bbd-4c1f-f885-b68f89415e21"
      },
      "execution_count": null,
      "outputs": [
        {
          "output_type": "stream",
          "name": "stdout",
          "text": [
            "Accuracy: 0.9358075265201309\n"
          ]
        }
      ]
    },
    {
      "cell_type": "markdown",
      "source": [
        "**Results:** \n",
        "\n",
        "We observe that ngram_range=(1, 2) managed to give us the highest accuracy of 0.938 out of the other ngram ranges."
      ],
      "metadata": {
        "id": "P9bcjP11ytFg"
      }
    },
    {
      "cell_type": "markdown",
      "source": [
        "##**Testing on different Max document frequency (DF) values**\n",
        "\n",
        "max_df: float in range [0.0, 1.0] or int, default=1.0\n",
        "\n",
        "When building the vocabulary, ignore terms that have a document frequency strictly higher than the given threshold.\n",
        "\n",
        "**E.g.**\n",
        "\n",
        "0.25 --> Ignore terms that appear in more than 25% of the documents\n",
        "\n",
        "0.50 --> Ignore terms that appear in more than 50% of the documents"
      ],
      "metadata": {
        "id": "Uk1HOQfYzC3E"
      }
    },
    {
      "cell_type": "markdown",
      "source": [
        "**Ignore terms that appear in more than 25% of the documents**"
      ],
      "metadata": {
        "id": "WH36G5b88HcT"
      }
    },
    {
      "cell_type": "code",
      "source": [
        "# ignore terms that appear in more than 25% of the documents\n",
        "\n",
        "lr = Pipeline([('Vect',TfidfVectorizer(max_df=0.25)),\n",
        "                  ('model',LogisticRegression(solver='lbfgs', max_iter=1000))])\n",
        "\n",
        "lr.fit(X_train, y_train)\n",
        "\n",
        "# Calculate Accuracy\n",
        "print (\"Accuracy:\", lr.score(X_test, y_test))"
      ],
      "metadata": {
        "colab": {
          "base_uri": "https://localhost:8080/"
        },
        "id": "upheSwItP2vg",
        "outputId": "7982b48b-01d2-4cd5-8242-cca72f8d05f2"
      },
      "execution_count": null,
      "outputs": [
        {
          "output_type": "stream",
          "name": "stdout",
          "text": [
            "Accuracy: 0.9311240866986641\n"
          ]
        }
      ]
    },
    {
      "cell_type": "markdown",
      "source": [
        "**Ignore terms that appear in more than 50% of the documents**"
      ],
      "metadata": {
        "id": "Nwn52Znf8J4u"
      }
    },
    {
      "cell_type": "code",
      "source": [
        "# ignore terms that appear in more than 50% of the documents\n",
        "\n",
        "lr = Pipeline([('Vect',TfidfVectorizer(max_df=0.5)),\n",
        "                  ('model',LogisticRegression(solver='lbfgs', max_iter=1000))])\n",
        "\n",
        "lr.fit(X_train, y_train)\n",
        "\n",
        "# Calculate Accuracy\n",
        "print (\"Accuracy:\", lr.score(X_test, y_test))"
      ],
      "metadata": {
        "colab": {
          "base_uri": "https://localhost:8080/"
        },
        "id": "iHxGftZ9P7YW",
        "outputId": "d9f58c02-12d4-45ef-fe1b-51cb81e82e4d"
      },
      "execution_count": null,
      "outputs": [
        {
          "output_type": "stream",
          "name": "stdout",
          "text": [
            "Accuracy: 0.9328421631866957\n"
          ]
        }
      ]
    },
    {
      "cell_type": "markdown",
      "source": [
        "**Ignore terms that appear in more than 75% of the documents**"
      ],
      "metadata": {
        "id": "Hh0hjCv_8MbN"
      }
    },
    {
      "cell_type": "code",
      "source": [
        "# ignore terms that appear in more than 75% of the documents\n",
        "\n",
        "lr = Pipeline([('Vect',TfidfVectorizer(max_df=0.75)),\n",
        "                  ('model',LogisticRegression(solver='lbfgs', max_iter=1000))])\n",
        "\n",
        "lr.fit(X_train, y_train)\n",
        "\n",
        "# Calculate Accuracy\n",
        "print (\"Accuracy:\", lr.score(X_test, y_test))"
      ],
      "metadata": {
        "colab": {
          "base_uri": "https://localhost:8080/"
        },
        "id": "A3KUO8VtQAJ7",
        "outputId": "42bb2563-3c64-418c-a069-0ad8487031a6"
      },
      "execution_count": null,
      "outputs": [
        {
          "output_type": "stream",
          "name": "stdout",
          "text": [
            "Accuracy: 0.9328421631866957\n"
          ]
        }
      ]
    },
    {
      "cell_type": "markdown",
      "source": [
        "**Ignore terms that appear in more than 100% of the documents (default)**"
      ],
      "metadata": {
        "id": "sJNLPCpc8PKi"
      }
    },
    {
      "cell_type": "code",
      "source": [
        "# ignore terms that appear in more than 100% of the documents (default)\n",
        "\n",
        "lr = Pipeline([('Vect',TfidfVectorizer(max_df=1.00)),\n",
        "                  ('model',LogisticRegression(solver='lbfgs', max_iter=1000))])\n",
        "\n",
        "lr.fit(X_train, y_train)\n",
        "\n",
        "# Calculate Accuracy\n",
        "print (\"Accuracy:\", lr.score(X_test, y_test))"
      ],
      "metadata": {
        "colab": {
          "base_uri": "https://localhost:8080/"
        },
        "id": "5q7pK8eWQFqV",
        "outputId": "3e8b19e8-f7dd-41fd-d9a3-86e2dd3f5e1f"
      },
      "execution_count": null,
      "outputs": [
        {
          "output_type": "stream",
          "name": "stdout",
          "text": [
            "Accuracy: 0.9328421631866957\n"
          ]
        }
      ]
    },
    {
      "cell_type": "markdown",
      "source": [
        "**Results:**\n",
        "\n",
        "We observe that when we ignore terms that appear in more than 50% of the documents (max_df = 0.5), it gave us an accuracy of 0.9328. It managed to retain at this accuracy rate when we increase max_df to 0.75 & 1.00. "
      ],
      "metadata": {
        "id": "T7NIhnAFy2tV"
      }
    },
    {
      "cell_type": "markdown",
      "source": [
        "## **Testing on different Min document frequency (DF) values**\n",
        "\n",
        "min_df: float in range [0.0, 1.0] or int, default=1\n",
        "\n",
        "When building the vocabulary, ignore terms that have a document frequency strictly lower than the given threshold. \n",
        "\n",
        "(This value is also called \"cut-off\" in the literature.)\n",
        "\n",
        "**E.g.**\n",
        "\n",
        "2 --> only keep terms that appear in at least 2 documents\n",
        "\n",
        "3 --> only keep terms that appear in at least 3 documents"
      ],
      "metadata": {
        "id": "PpUnuIAQ4Iz-"
      }
    },
    {
      "cell_type": "markdown",
      "source": [
        "**Only keep terms that appear in at least 2 documents**"
      ],
      "metadata": {
        "id": "py9DVtP38Z2h"
      }
    },
    {
      "cell_type": "code",
      "source": [
        "# only keep terms that appear in at least 2 documents\n",
        "\n",
        "lr = Pipeline([('Vect',TfidfVectorizer(min_df=2)),\n",
        "                  ('model',LogisticRegression(solver='lbfgs', max_iter=1000))])\n",
        "\n",
        "lr.fit(X_train, y_train)\n",
        "\n",
        "# Calculate Accuracy\n",
        "print (\"Accuracy:\", lr.score(X_test, y_test))"
      ],
      "metadata": {
        "colab": {
          "base_uri": "https://localhost:8080/"
        },
        "id": "xh_arnqPQpt8",
        "outputId": "be3acfc0-ad9c-40ca-a4d8-a7955b028c84"
      },
      "execution_count": null,
      "outputs": [
        {
          "output_type": "stream",
          "name": "stdout",
          "text": [
            "Accuracy: 0.9326831952554187\n"
          ]
        }
      ]
    },
    {
      "cell_type": "markdown",
      "source": [
        "**Only keep terms that appear in at least 3 documents**"
      ],
      "metadata": {
        "id": "0mBFD7gX8cE6"
      }
    },
    {
      "cell_type": "code",
      "source": [
        "# only keep terms that appear in at least 3 documents\n",
        "\n",
        "lr = Pipeline([('Vect',TfidfVectorizer(min_df=3)),\n",
        "                  ('model',LogisticRegression(solver='lbfgs', max_iter=1000))])\n",
        "\n",
        "lr.fit(X_train, y_train)\n",
        "\n",
        "# Calculate Accuracy\n",
        "print (\"Accuracy:\", lr.score(X_test, y_test))"
      ],
      "metadata": {
        "colab": {
          "base_uri": "https://localhost:8080/"
        },
        "id": "fWkcv8_5Q2Ln",
        "outputId": "40854d38-6a01-495a-e61a-ab48797a0769"
      },
      "execution_count": null,
      "outputs": [
        {
          "output_type": "stream",
          "name": "stdout",
          "text": [
            "Accuracy: 0.9327015377090275\n"
          ]
        }
      ]
    },
    {
      "cell_type": "markdown",
      "source": [
        "**Only keep terms that appear in at least 5 documents**"
      ],
      "metadata": {
        "id": "GxOozdp58erC"
      }
    },
    {
      "cell_type": "code",
      "source": [
        "# only keep terms that appear in at least 5 documents\n",
        "\n",
        "lr = Pipeline([('Vect',TfidfVectorizer(min_df=5)),\n",
        "                  ('model',LogisticRegression(solver='lbfgs', max_iter=1000))])\n",
        "\n",
        "lr.fit(X_train, y_train)\n",
        "\n",
        "# Calculate Accuracy\n",
        "print (\"Accuracy:\", lr.score(X_test, y_test))"
      ],
      "metadata": {
        "colab": {
          "base_uri": "https://localhost:8080/"
        },
        "id": "vg49Zc7AQ5IZ",
        "outputId": "06e52791-3e7b-4a4a-805b-ee2269d23def"
      },
      "execution_count": null,
      "outputs": [
        {
          "output_type": "stream",
          "name": "stdout",
          "text": [
            "Accuracy: 0.932634282045795\n"
          ]
        }
      ]
    },
    {
      "cell_type": "markdown",
      "source": [
        "**Results:**\n",
        "\n",
        "We observe that when we keep only terms that appear in at least 3 documents (min_df = 3), it gave us the highest accuracy of 0.9327. "
      ],
      "metadata": {
        "id": "wmoOd6xlzVVz"
      }
    },
    {
      "cell_type": "markdown",
      "source": [
        "# **Combining all best results (Optimal Model)**\n",
        "\n",
        "Upon trial and error on different parameters, we discover that these parameters managed to give us the best results:\n",
        "\n",
        "1. Include 1-grams to 2-grams (acc = 93.8%) \n",
        "2. Ignore terms that appear in more than 50% of the documents (acc = 93.3%)\n",
        "3. only keep terms that appear in at least 3 documents (acc = 93.3%)\n",
        "\n",
        "Hence, **we will be combining all three of these parameters to build a new improvised LR model, then observe if any improvements were made to the model result.**"
      ],
      "metadata": {
        "id": "Sh7UzeMuSUvs"
      }
    },
    {
      "cell_type": "code",
      "execution_count": null,
      "metadata": {
        "colab": {
          "base_uri": "https://localhost:8080/"
        },
        "id": "P0emx9QpM-pl",
        "outputId": "388156dd-36da-42f8-beeb-801b2d827547"
      },
      "outputs": [
        {
          "output_type": "stream",
          "name": "stdout",
          "text": [
            "Accuracy: 0.9389807709944666\n"
          ]
        }
      ],
      "source": [
        "# include 1-grams to 2-grams\n",
        "# ignore terms that appear in more than 50% of the documents\n",
        "# only keep terms that appear in at least 3 documents\n",
        "\n",
        "lr = Pipeline([('Vect',TfidfVectorizer(ngram_range=(1, 2), min_df=3, max_df=0.5)),\n",
        "                  ('model',LogisticRegression(solver='lbfgs', max_iter=1000))])\n",
        "\n",
        "lr.fit(X_train, y_train)\n",
        "\n",
        "# Calculate Accuracy\n",
        "print (\"Accuracy:\", lr.score(X_test, y_test))"
      ]
    },
    {
      "cell_type": "markdown",
      "source": [
        "**Save the model to disk**"
      ],
      "metadata": {
        "id": "iFr978AF8orq"
      }
    },
    {
      "cell_type": "code",
      "source": [
        "import pickle\n",
        "\n",
        "# save the model to disk\n",
        "filename = '/content/drive/MyDrive/Colab Notebooks/Hotel_Analysis/Sentiment Analysis/Sentiment Models/LR_SentAnalysis_IMPROVED.sav'\n",
        "pickle.dump(lr, open(filename, 'wb'))"
      ],
      "metadata": {
        "id": "GSvhXWe4TU2g"
      },
      "execution_count": null,
      "outputs": []
    },
    {
      "cell_type": "markdown",
      "source": [
        "As a result of tuning the LR model, we managed to achieve an **improved accuracy rate of 93.9%** (as compared to the original 93.3%) \n",
        "\n",
        "Hence, we will be looking further into the other performance metrices of this improvised model and make comparisons to the original version."
      ],
      "metadata": {
        "id": "n17Xtq75Xubo"
      }
    },
    {
      "cell_type": "markdown",
      "source": [
        "**Construct the classification report , accuracy & F1 score**"
      ],
      "metadata": {
        "id": "o8FNnis38wdK"
      }
    },
    {
      "cell_type": "code",
      "execution_count": null,
      "metadata": {
        "colab": {
          "base_uri": "https://localhost:8080/"
        },
        "id": "0syWMkxnPkKr",
        "outputId": "e5836383-5765-4147-bf6e-8fcca9ca999e"
      },
      "outputs": [
        {
          "output_type": "stream",
          "name": "stdout",
          "text": [
            "              precision    recall  f1-score   support\n",
            "\n",
            "    Negative       0.92      0.93      0.93     67789\n",
            "    Positive       0.95      0.94      0.95     95766\n",
            "\n",
            "    accuracy                           0.94    163555\n",
            "   macro avg       0.94      0.94      0.94    163555\n",
            "weighted avg       0.94      0.94      0.94    163555\n",
            "\n",
            "Accuracy :  93.9  %\n",
            "f1_score :  0.939\n"
          ]
        }
      ],
      "source": [
        "# Construct the classification report , accuracy & F1 score\n",
        "\n",
        "predictions = lr.predict(X_test)\n",
        "\n",
        "print(classification_report(y_test, predictions))\n",
        "\n",
        "lr_f1 = round(f1_score(y_test, predictions, average= 'weighted'), 3)\n",
        "lr_accuracy = round((accuracy_score(y_test, predictions) * 100), 2)\n",
        "\n",
        "print(\"Accuracy : \" , lr_accuracy , \" %\")\n",
        "print(\"f1_score : \" , lr_f1)"
      ]
    },
    {
      "cell_type": "markdown",
      "source": [
        "Negative Predictions Precision **improved from 91% to 92%**.\n",
        "\n",
        "Negative Predictions F1-score **improved from 92% to 93%**.\n",
        "\n",
        "Overall Accuracy **improved from 93% to 94%**."
      ],
      "metadata": {
        "id": "ndl13FaGYbJG"
      }
    },
    {
      "cell_type": "markdown",
      "source": [
        "**Construct the Confusion Matrix**"
      ],
      "metadata": {
        "id": "dM2oXUJ18yxJ"
      }
    },
    {
      "cell_type": "code",
      "execution_count": null,
      "metadata": {
        "colab": {
          "base_uri": "https://localhost:8080/",
          "height": 486
        },
        "id": "_HK7kffeQEvW",
        "outputId": "628de424-ca2b-409e-b15d-37042b924c42"
      },
      "outputs": [
        {
          "output_type": "display_data",
          "data": {
            "text/plain": [
              "<Figure size 1080x576 with 2 Axes>"
            ],
            "image/png": "[encoded data removed]"
          },
          "metadata": {}
        }
      ],
      "source": [
        "# Construct the Confusion Matrix\n",
        "predictions = lr.predict(X_test)\n",
        "cm = confusion_matrix(y_test, predictions)\n",
        "\n",
        "names = ['True Negative','False Positive','False Negative','True Positive']\n",
        "\n",
        "counts = ['{0:0.0f}'.format(value) for value in\n",
        "                cm.flatten()]\n",
        "\n",
        "percentages = ['{0:.2%}'.format(value) for value in\n",
        "                     cm.flatten()/np.sum(cm)]\n",
        "\n",
        "labels = [f'{v1}\\n{v2}\\n{v3}' for v1, v2, v3 in\n",
        "          zip(names, counts, percentages)]\n",
        "\n",
        "labels = np.asarray(labels).reshape(2,2)\n",
        "sns.heatmap(cm, annot=labels, fmt='', cmap='Blues')\n",
        "\n",
        "sns.set(rc = {'figure.figsize':(15,8)})"
      ]
    },
    {
      "cell_type": "markdown",
      "source": [
        "False Negative **reduced from 3.70% to 3.28%.**\n",
        "\n",
        "False Positive **reduced from 3.01% to 2.82%.**"
      ],
      "metadata": {
        "id": "91TrBgNRY7Ab"
      }
    },
    {
      "cell_type": "markdown",
      "source": [
        "**Testing out the model built**\n",
        "\n",
        "fitting in some random reviews to predict their sentiments\n"
      ],
      "metadata": {
        "id": "EH3L6Qjy83Xj"
      }
    },
    {
      "cell_type": "code",
      "execution_count": null,
      "metadata": {
        "colab": {
          "base_uri": "https://localhost:8080/"
        },
        "id": "CvrIfR16fY2X",
        "outputId": "33e3581e-b7c1-4cbf-fb79-9741057c9054"
      },
      "outputs": [
        {
          "output_type": "execute_result",
          "data": {
            "text/plain": [
              "array(['Positive', 'Negative', 'Negative', 'Positive', 'Positive',\n",
              "       'Negative'], dtype=object)"
            ]
          },
          "metadata": {},
          "execution_count": 94
        }
      ],
      "source": [
        "lr.predict(['the service is fantastic', 'the staff was unfriendly', 'slow service', 'beautiful scenery', 'the scenery was gorgeous', 'the manager was very rude'])"
      ]
    }
  ],
  "metadata": {
    "colab": {
      "collapsed_sections": [],
      "name": "Logistic Regression (Model Tuning) - Sentiment Analysis (TFIDF).ipynb",
      "provenance": [],
      "toc_visible": true,
      "include_colab_link": true
    },
    "kernelspec": {
      "display_name": "Python 3",
      "name": "python3"
    },
    "language_info": {
      "name": "python"
    }
  },
  "nbformat": 4,
  "nbformat_minor": 0
}