{
  "cells": [
    {
      "cell_type": "markdown",
      "metadata": {
        "id": "view-in-github",
        "colab_type": "text"
      },
      "source": [
        "<a href=\"https://colab.research.google.com/drive/1LJToCKwnublp8ITrLWFHZhn6jHVivG-l?usp=sharing\" target=\"_parent\"><img src=\"https://colab.research.google.com/assets/colab-badge.svg\" alt=\"Open In Colab\"/></a>"
      ]
    },
    {
      "cell_type": "markdown",
      "metadata": {
        "id": "00eHLMgarc5b"
      },
      "source": [
        "#**Topic Modeling** \n",
        "is a technique to extract the hidden topics from large volumes of text. Latent Dirichlet Allocation(LDA) is a popular algorithm for topic modeling with excellent implementations in the Python’s Gensim package. \n",
        "\n",
        "The challenge, however, is how to extract good quality of topics that are clear, segregated and meaningful. This depends heavily on the quality of text preprocessing and the strategy of finding the optimal number of topics."
      ]
    },
    {
      "cell_type": "markdown",
      "metadata": {
        "id": "VMhriIdrrff2"
      },
      "source": [
        "# **LDA Mallet Model (NGRAMS)**\n",
        "\n",
        "In this notebook, we present the approach of using **NGRAMS (1-gram, 2-grams and 3-grams) + NOUNS only** approach to build a LDA topic model using the LDA Mallet.\n",
        "\n",
        "Gensim provides a wrapper to implement Mallet’s LDA from within Gensim itself. We only need to download the zipfile, unzip it and provide the path to mallet in the unzipped directory to gensim.models.wrappers.Lda3Mallet."
      ]
    },
    {
      "cell_type": "markdown",
      "metadata": {
        "id": "-IZyawZBDnzg"
      },
      "source": [
        "## **Import Libraries, Packages and Data**"
      ]
    },
    {
      "cell_type": "markdown",
      "metadata": {
        "id": "-bbJbHcbDsN-"
      },
      "source": [
        "**Install JAVA**"
      ]
    },
    {
      "cell_type": "code",
      "execution_count": null,
      "metadata": {
        "colab": {
          "base_uri": "https://localhost:8080/"
        },
        "id": "2gImtQ3Ajui9",
        "outputId": "e86790a4-5e03-4436-a946-bea8fcf5f6f1"
      },
      "outputs": [
        {
          "output_type": "stream",
          "name": "stdout",
          "text": [
            "openjdk version \"11.0.14\" 2022-01-18\n",
            "OpenJDK Runtime Environment (build 11.0.14+9-Ubuntu-0ubuntu2.18.04)\n",
            "OpenJDK 64-Bit Server VM (build 11.0.14+9-Ubuntu-0ubuntu2.18.04, mixed mode, sharing)\n"
          ]
        }
      ],
      "source": [
        "import os       #importing os to set environment variable\n",
        "def install_java():\n",
        "  !apt-get install -y openjdk-8-jdk-headless -qq > /dev/null      #install openjdk\n",
        "  os.environ[\"JAVA_HOME\"] = \"/usr/lib/jvm/java-8-openjdk-amd64\"     #set environment variable\n",
        "  !java -version       #check java version\n",
        "install_java()"
      ]
    },
    {
      "cell_type": "markdown",
      "metadata": {
        "id": "92Kmo6IvDwt3"
      },
      "source": [
        "**Install & Unpack LDA Mallet**"
      ]
    },
    {
      "cell_type": "code",
      "execution_count": null,
      "metadata": {
        "colab": {
          "base_uri": "https://localhost:8080/"
        },
        "id": "kz7FGnY5j1Yr",
        "outputId": "a89e142c-be29-40c2-801f-cf0a07b1bb7e"
      },
      "outputs": [
        {
          "output_type": "stream",
          "name": "stdout",
          "text": [
            "--2022-03-21 13:49:39--  http://mallet.cs.umass.edu/dist/mallet-2.0.8.zip\n",
            "Resolving mallet.cs.umass.edu (mallet.cs.umass.edu)... 128.119.246.70\n",
            "Connecting to mallet.cs.umass.edu (mallet.cs.umass.edu)|128.119.246.70|:80... connected.\n",
            "HTTP request sent, awaiting response... 302 Found\n",
            "Location: https://mallet.cs.umass.edu/dist/mallet-2.0.8.zip [following]\n",
            "--2022-03-21 13:49:40--  https://mallet.cs.umass.edu/dist/mallet-2.0.8.zip\n",
            "Connecting to mallet.cs.umass.edu (mallet.cs.umass.edu)|128.119.246.70|:443... connected.\n",
            "HTTP request sent, awaiting response... 200 OK\n",
            "Length: 16184794 (15M) [application/zip]\n",
            "Saving to: ‘mallet-2.0.8.zip.1’\n",
            "\n",
            "mallet-2.0.8.zip.1  100%[===================>]  15.43M  5.46MB/s    in 2.8s    \n",
            "\n",
            "2022-03-21 13:49:43 (5.46 MB/s) - ‘mallet-2.0.8.zip.1’ saved [16184794/16184794]\n",
            "\n",
            "Archive:  mallet-2.0.8.zip\n",
            "replace mallet-2.0.8/bin/classifier2info? [y]es, [n]o, [A]ll, [N]one, [r]ename: "
          ]
        }
      ],
      "source": [
        "!wget http://mallet.cs.umass.edu/dist/mallet-2.0.8.zip\n",
        "!unzip mallet-2.0.8.zip"
      ]
    },
    {
      "cell_type": "code",
      "execution_count": null,
      "metadata": {
        "id": "6rZOnz9ij_CY"
      },
      "outputs": [],
      "source": [
        "os.environ['MALLET_HOME'] = '/content/mallet-2.0.8'\n",
        "mallet_path = '/content/mallet-2.0.8/bin/mallet' "
      ]
    },
    {
      "cell_type": "markdown",
      "metadata": {
        "id": "y3tC2TXID1l5"
      },
      "source": [
        "**Import Libraries & Packages**"
      ]
    },
    {
      "cell_type": "code",
      "execution_count": null,
      "metadata": {
        "colab": {
          "base_uri": "https://localhost:8080/"
        },
        "id": "IaPXW9k8lF9S",
        "outputId": "2a2d657e-268c-43a5-e45f-7f718cbea713"
      },
      "outputs": [
        {
          "output_type": "stream",
          "name": "stdout",
          "text": [
            "Requirement already satisfied: pyLDAvis in /usr/local/lib/python3.7/dist-packages (3.3.1)\n",
            "Requirement already satisfied: funcy in /usr/local/lib/python3.7/dist-packages (from pyLDAvis) (1.17)\n",
            "Requirement already satisfied: sklearn in /usr/local/lib/python3.7/dist-packages (from pyLDAvis) (0.0)\n",
            "Requirement already satisfied: scikit-learn in /usr/local/lib/python3.7/dist-packages (from pyLDAvis) (1.0.2)\n",
            "Requirement already satisfied: setuptools in /usr/local/lib/python3.7/dist-packages (from pyLDAvis) (57.4.0)\n",
            "Requirement already satisfied: jinja2 in /usr/local/lib/python3.7/dist-packages (from pyLDAvis) (2.11.3)\n",
            "Requirement already satisfied: numpy>=1.20.0 in /usr/local/lib/python3.7/dist-packages (from pyLDAvis) (1.21.5)\n",
            "Requirement already satisfied: joblib in /usr/local/lib/python3.7/dist-packages (from pyLDAvis) (1.1.0)\n",
            "Requirement already satisfied: pandas>=1.2.0 in /usr/local/lib/python3.7/dist-packages (from pyLDAvis) (1.3.5)\n",
            "Requirement already satisfied: numexpr in /usr/local/lib/python3.7/dist-packages (from pyLDAvis) (2.8.1)\n",
            "Requirement already satisfied: future in /usr/local/lib/python3.7/dist-packages (from pyLDAvis) (0.16.0)\n",
            "Requirement already satisfied: scipy in /usr/local/lib/python3.7/dist-packages (from pyLDAvis) (1.4.1)\n",
            "Requirement already satisfied: gensim in /usr/local/lib/python3.7/dist-packages (from pyLDAvis) (3.8.0)\n",
            "Requirement already satisfied: pytz>=2017.3 in /usr/local/lib/python3.7/dist-packages (from pandas>=1.2.0->pyLDAvis) (2018.9)\n",
            "Requirement already satisfied: python-dateutil>=2.7.3 in /usr/local/lib/python3.7/dist-packages (from pandas>=1.2.0->pyLDAvis) (2.8.2)\n",
            "Requirement already satisfied: six>=1.5 in /usr/local/lib/python3.7/dist-packages (from python-dateutil>=2.7.3->pandas>=1.2.0->pyLDAvis) (1.15.0)\n",
            "Requirement already satisfied: smart-open>=1.7.0 in /usr/local/lib/python3.7/dist-packages (from gensim->pyLDAvis) (5.2.1)\n",
            "Requirement already satisfied: MarkupSafe>=0.23 in /usr/local/lib/python3.7/dist-packages (from jinja2->pyLDAvis) (2.0.1)\n",
            "Requirement already satisfied: packaging in /usr/local/lib/python3.7/dist-packages (from numexpr->pyLDAvis) (21.3)\n",
            "Requirement already satisfied: pyparsing!=3.0.5,>=2.0.2 in /usr/local/lib/python3.7/dist-packages (from packaging->numexpr->pyLDAvis) (3.0.7)\n",
            "Requirement already satisfied: threadpoolctl>=2.0.0 in /usr/local/lib/python3.7/dist-packages (from scikit-learn->pyLDAvis) (3.1.0)\n",
            "[nltk_data] Downloading package punkt to /root/nltk_data...\n",
            "[nltk_data]   Package punkt is already up-to-date!\n"
          ]
        }
      ],
      "source": [
        "!pip install pyLDAvis\n",
        "\n",
        "import pandas as pd\n",
        "import numpy as np\n",
        "from pprint import pprint\n",
        "\n",
        "import gensim\n",
        "from gensim import corpora\n",
        "from gensim.models import CoherenceModel\n",
        "\n",
        "from nltk.tokenize import sent_tokenize, word_tokenize\n",
        "\n",
        "import nltk\n",
        "nltk.download('punkt')\n",
        "\n",
        "# libraries for visualization\n",
        "import pyLDAvis\n",
        "import pyLDAvis.gensim_models\n",
        "import matplotlib.pyplot as plt\n",
        "import seaborn as sns\n",
        "%matplotlib inline"
      ]
    },
    {
      "cell_type": "markdown",
      "metadata": {
        "id": "4yVIwz7bD3nw"
      },
      "source": [
        "**Mount to GDrive**"
      ]
    },
    {
      "cell_type": "code",
      "execution_count": null,
      "metadata": {
        "id": "VZ6WalL7lVcS",
        "colab": {
          "base_uri": "https://localhost:8080/"
        },
        "outputId": "8c61d40d-869c-4072-bcf8-57e5c69f9cf7"
      },
      "outputs": [
        {
          "output_type": "stream",
          "name": "stdout",
          "text": [
            "Mounted at /content/drive\n"
          ]
        }
      ],
      "source": [
        "from google.colab import drive\n",
        "drive.mount('/content/drive')"
      ]
    },
    {
      "cell_type": "markdown",
      "metadata": {
        "id": "mX0WAe9aD6P2"
      },
      "source": [
        "**Import Data**"
      ]
    },
    {
      "cell_type": "code",
      "execution_count": null,
      "metadata": {
        "id": "Tq3RpBQnleaw",
        "colab": {
          "base_uri": "https://localhost:8080/",
          "height": 206
        },
        "outputId": "be07113f-eb33-432f-e3b7-bb19126ea967"
      },
      "outputs": [
        {
          "output_type": "execute_result",
          "data": {
            "text/plain": [
              "                                     cleaned_Reviews\n",
              "0                 ['hotel', 'mess', 'hotel', 'star']\n",
              "1  ['change', 'sheet', 'duvet', 'everyday', 'bed'...\n",
              "2                              ['price', 'brekfast']\n",
              "3  ['picture', 'room', 'room', 'quit', 'dirty', '...\n",
              "4                 ['aircondition', 'sleep', 'night']"
            ],
            "text/html": [
              "\n",
              "  <div id=\"df-3db65360-724d-4b54-ad40-098f07d5acb3\">\n",
              "    <div class=\"colab-df-container\">\n",
              "      <div>\n",
              "<style scoped>\n",
              "    .dataframe tbody tr th:only-of-type {\n",
              "        vertical-align: middle;\n",
              "    }\n",
              "\n",
              "    .dataframe tbody tr th {\n",
              "        vertical-align: top;\n",
              "    }\n",
              "\n",
              "    .dataframe thead th {\n",
              "        text-align: right;\n",
              "    }\n",
              "</style>\n",
              "<table border=\"1\" class=\"dataframe\">\n",
              "  <thead>\n",
              "    <tr style=\"text-align: right;\">\n",
              "      <th></th>\n",
              "      <th>cleaned_Reviews</th>\n",
              "    </tr>\n",
              "  </thead>\n",
              "  <tbody>\n",
              "    <tr>\n",
              "      <th>0</th>\n",
              "      <td>['hotel', 'mess', 'hotel', 'star']</td>\n",
              "    </tr>\n",
              "    <tr>\n",
              "      <th>1</th>\n",
              "      <td>['change', 'sheet', 'duvet', 'everyday', 'bed'...</td>\n",
              "    </tr>\n",
              "    <tr>\n",
              "      <th>2</th>\n",
              "      <td>['price', 'brekfast']</td>\n",
              "    </tr>\n",
              "    <tr>\n",
              "      <th>3</th>\n",
              "      <td>['picture', 'room', 'room', 'quit', 'dirty', '...</td>\n",
              "    </tr>\n",
              "    <tr>\n",
              "      <th>4</th>\n",
              "      <td>['aircondition', 'sleep', 'night']</td>\n",
              "    </tr>\n",
              "  </tbody>\n",
              "</table>\n",
              "</div>\n",
              "      <button class=\"colab-df-convert\" onclick=\"convertToInteractive('df-3db65360-724d-4b54-ad40-098f07d5acb3')\"\n",
              "              title=\"Convert this dataframe to an interactive table.\"\n",
              "              style=\"display:none;\">\n",
              "        \n",
              "  <svg xmlns=\"http://www.w3.org/2000/svg\" height=\"24px\"viewBox=\"0 0 24 24\"\n",
              "       width=\"24px\">\n",
              "    <path d=\"M0 0h24v24H0V0z\" fill=\"none\"/>\n",
              "    <path d=\"M18.56 5.44l.94 2.06.94-2.06 2.06-.94-2.06-.94-.94-2.06-.94 2.06-2.06.94zm-11 1L8.5 8.5l.94-2.06 2.06-.94-2.06-.94L8.5 2.5l-.94 2.06-2.06.94zm10 10l.94 2.06.94-2.06 2.06-.94-2.06-.94-.94-2.06-.94 2.06-2.06.94z\"/><path d=\"M17.41 7.96l-1.37-1.37c-.4-.4-.92-.59-1.43-.59-.52 0-1.04.2-1.43.59L10.3 9.45l-7.72 7.72c-.78.78-.78 2.05 0 2.83L4 21.41c.39.39.9.59 1.41.59.51 0 1.02-.2 1.41-.59l7.78-7.78 2.81-2.81c.8-.78.8-2.07 0-2.86zM5.41 20L4 18.59l7.72-7.72 1.47 1.35L5.41 20z\"/>\n",
              "  </svg>\n",
              "      </button>\n",
              "      \n",
              "  <style>\n",
              "    .colab-df-container {\n",
              "      display:flex;\n",
              "      flex-wrap:wrap;\n",
              "      gap: 12px;\n",
              "    }\n",
              "\n",
              "    .colab-df-convert {\n",
              "      background-color: #E8F0FE;\n",
              "      border: none;\n",
              "      border-radius: 50%;\n",
              "      cursor: pointer;\n",
              "      display: none;\n",
              "      fill: #1967D2;\n",
              "      height: 32px;\n",
              "      padding: 0 0 0 0;\n",
              "      width: 32px;\n",
              "    }\n",
              "\n",
              "    .colab-df-convert:hover {\n",
              "      background-color: #E2EBFA;\n",
              "      box-shadow: 0px 1px 2px rgba(60, 64, 67, 0.3), 0px 1px 3px 1px rgba(60, 64, 67, 0.15);\n",
              "      fill: #174EA6;\n",
              "    }\n",
              "\n",
              "    [theme=dark] .colab-df-convert {\n",
              "      background-color: #3B4455;\n",
              "      fill: #D2E3FC;\n",
              "    }\n",
              "\n",
              "    [theme=dark] .colab-df-convert:hover {\n",
              "      background-color: #434B5C;\n",
              "      box-shadow: 0px 1px 3px 1px rgba(0, 0, 0, 0.15);\n",
              "      filter: drop-shadow(0px 1px 2px rgba(0, 0, 0, 0.3));\n",
              "      fill: #FFFFFF;\n",
              "    }\n",
              "  </style>\n",
              "\n",
              "      <script>\n",
              "        const buttonEl =\n",
              "          document.querySelector('#df-3db65360-724d-4b54-ad40-098f07d5acb3 button.colab-df-convert');\n",
              "        buttonEl.style.display =\n",
              "          google.colab.kernel.accessAllowed ? 'block' : 'none';\n",
              "\n",
              "        async function convertToInteractive(key) {\n",
              "          const element = document.querySelector('#df-3db65360-724d-4b54-ad40-098f07d5acb3');\n",
              "          const dataTable =\n",
              "            await google.colab.kernel.invokeFunction('convertToInteractive',\n",
              "                                                     [key], {});\n",
              "          if (!dataTable) return;\n",
              "\n",
              "          const docLinkHtml = 'Like what you see? Visit the ' +\n",
              "            '<a target=\"_blank\" href=https://colab.research.google.com/notebooks/data_table.ipynb>data table notebook</a>'\n",
              "            + ' to learn more about interactive tables.';\n",
              "          element.innerHTML = '';\n",
              "          dataTable['output_type'] = 'display_data';\n",
              "          await google.colab.output.renderOutput(dataTable, element);\n",
              "          const docLink = document.createElement('div');\n",
              "          docLink.innerHTML = docLinkHtml;\n",
              "          element.appendChild(docLink);\n",
              "        }\n",
              "      </script>\n",
              "    </div>\n",
              "  </div>\n",
              "  "
            ]
          },
          "metadata": {},
          "execution_count": 6
        }
      ],
      "source": [
        "path = '/content/drive/MyDrive/Colab Notebooks/Hotel_Analysis/Hotel_Datasets/515k_Hotel_Reviews_NOUNS_TOKENS.csv'\n",
        "df = pd.read_csv(path)\n",
        "df.head(5)"
      ]
    },
    {
      "cell_type": "code",
      "execution_count": null,
      "metadata": {
        "id": "UdfF5rOblriC",
        "colab": {
          "base_uri": "https://localhost:8080/"
        },
        "outputId": "ddbe592b-74d3-4ad3-cd9d-a74a1866c7cc"
      },
      "outputs": [
        {
          "output_type": "stream",
          "name": "stdout",
          "text": [
            "<class 'pandas.core.frame.DataFrame'>\n",
            "RangeIndex: 545181 entries, 0 to 545180\n",
            "Data columns (total 1 columns):\n",
            " #   Column           Non-Null Count   Dtype \n",
            "---  ------           --------------   ----- \n",
            " 0   cleaned_Reviews  545181 non-null  object\n",
            "dtypes: object(1)\n",
            "memory usage: 4.2+ MB\n"
          ]
        }
      ],
      "source": [
        "df.info()"
      ]
    },
    {
      "cell_type": "markdown",
      "metadata": {
        "id": "0hrD0jUpD-Te"
      },
      "source": [
        "**10000 random samples for Topic Modelling**"
      ]
    },
    {
      "cell_type": "code",
      "execution_count": null,
      "metadata": {
        "id": "YJeD9vRol3V5"
      },
      "outputs": [],
      "source": [
        "# Obtain a sample for topic model building\n",
        "\n",
        "df_sample = df.sample(10000, random_state=120)"
      ]
    },
    {
      "cell_type": "code",
      "execution_count": null,
      "metadata": {
        "id": "IYF-yE3Xl9ag"
      },
      "outputs": [],
      "source": [
        "# Reset index\n",
        "df_sample = df_sample.reset_index(drop=True)"
      ]
    },
    {
      "cell_type": "code",
      "execution_count": null,
      "metadata": {
        "id": "vNRFXTUDmABe",
        "colab": {
          "base_uri": "https://localhost:8080/",
          "height": 424
        },
        "outputId": "a9241608-70db-4dd4-9bc8-c37290d9e4f5"
      },
      "outputs": [
        {
          "output_type": "execute_result",
          "data": {
            "text/plain": [
              "                                        cleaned_Reviews\n",
              "0     ['service', 'gave_u_free', 'bottle', 'room', '...\n",
              "1     ['room', 'immaculate', 'bar', 'view', 'oxford_...\n",
              "2     ['hotel', 'room', 'bed', 'bathroom', 'term', '...\n",
              "3                            ['city', 'grea', 'thotel']\n",
              "4     ['front_desk', 'help', 'delight', 'stay', 'mor...\n",
              "...                                                 ...\n",
              "9995  ['room', 'bathroom', 'room', 'word', 'describe...\n",
              "9996                          ['staff', 'roof_terrace']\n",
              "9997                                          ['staff']\n",
              "9998                                 ['hotel', 'night']\n",
              "9999  ['breakfast', 'hotel', 'room', 'staff', 'helpf...\n",
              "\n",
              "[10000 rows x 1 columns]"
            ],
            "text/html": [
              "\n",
              "  <div id=\"df-42f5c76b-9bd3-418b-8cae-3e085de3d7ae\">\n",
              "    <div class=\"colab-df-container\">\n",
              "      <div>\n",
              "<style scoped>\n",
              "    .dataframe tbody tr th:only-of-type {\n",
              "        vertical-align: middle;\n",
              "    }\n",
              "\n",
              "    .dataframe tbody tr th {\n",
              "        vertical-align: top;\n",
              "    }\n",
              "\n",
              "    .dataframe thead th {\n",
              "        text-align: right;\n",
              "    }\n",
              "</style>\n",
              "<table border=\"1\" class=\"dataframe\">\n",
              "  <thead>\n",
              "    <tr style=\"text-align: right;\">\n",
              "      <th></th>\n",
              "      <th>cleaned_Reviews</th>\n",
              "    </tr>\n",
              "  </thead>\n",
              "  <tbody>\n",
              "    <tr>\n",
              "      <th>0</th>\n",
              "      <td>['service', 'gave_u_free', 'bottle', 'room', '...</td>\n",
              "    </tr>\n",
              "    <tr>\n",
              "      <th>1</th>\n",
              "      <td>['room', 'immaculate', 'bar', 'view', 'oxford_...</td>\n",
              "    </tr>\n",
              "    <tr>\n",
              "      <th>2</th>\n",
              "      <td>['hotel', 'room', 'bed', 'bathroom', 'term', '...</td>\n",
              "    </tr>\n",
              "    <tr>\n",
              "      <th>3</th>\n",
              "      <td>['city', 'grea', 'thotel']</td>\n",
              "    </tr>\n",
              "    <tr>\n",
              "      <th>4</th>\n",
              "      <td>['front_desk', 'help', 'delight', 'stay', 'mor...</td>\n",
              "    </tr>\n",
              "    <tr>\n",
              "      <th>...</th>\n",
              "      <td>...</td>\n",
              "    </tr>\n",
              "    <tr>\n",
              "      <th>9995</th>\n",
              "      <td>['room', 'bathroom', 'room', 'word', 'describe...</td>\n",
              "    </tr>\n",
              "    <tr>\n",
              "      <th>9996</th>\n",
              "      <td>['staff', 'roof_terrace']</td>\n",
              "    </tr>\n",
              "    <tr>\n",
              "      <th>9997</th>\n",
              "      <td>['staff']</td>\n",
              "    </tr>\n",
              "    <tr>\n",
              "      <th>9998</th>\n",
              "      <td>['hotel', 'night']</td>\n",
              "    </tr>\n",
              "    <tr>\n",
              "      <th>9999</th>\n",
              "      <td>['breakfast', 'hotel', 'room', 'staff', 'helpf...</td>\n",
              "    </tr>\n",
              "  </tbody>\n",
              "</table>\n",
              "<p>10000 rows × 1 columns</p>\n",
              "</div>\n",
              "      <button class=\"colab-df-convert\" onclick=\"convertToInteractive('df-42f5c76b-9bd3-418b-8cae-3e085de3d7ae')\"\n",
              "              title=\"Convert this dataframe to an interactive table.\"\n",
              "              style=\"display:none;\">\n",
              "        \n",
              "  <svg xmlns=\"http://www.w3.org/2000/svg\" height=\"24px\"viewBox=\"0 0 24 24\"\n",
              "       width=\"24px\">\n",
              "    <path d=\"M0 0h24v24H0V0z\" fill=\"none\"/>\n",
              "    <path d=\"M18.56 5.44l.94 2.06.94-2.06 2.06-.94-2.06-.94-.94-2.06-.94 2.06-2.06.94zm-11 1L8.5 8.5l.94-2.06 2.06-.94-2.06-.94L8.5 2.5l-.94 2.06-2.06.94zm10 10l.94 2.06.94-2.06 2.06-.94-2.06-.94-.94-2.06-.94 2.06-2.06.94z\"/><path d=\"M17.41 7.96l-1.37-1.37c-.4-.4-.92-.59-1.43-.59-.52 0-1.04.2-1.43.59L10.3 9.45l-7.72 7.72c-.78.78-.78 2.05 0 2.83L4 21.41c.39.39.9.59 1.41.59.51 0 1.02-.2 1.41-.59l7.78-7.78 2.81-2.81c.8-.78.8-2.07 0-2.86zM5.41 20L4 18.59l7.72-7.72 1.47 1.35L5.41 20z\"/>\n",
              "  </svg>\n",
              "      </button>\n",
              "      \n",
              "  <style>\n",
              "    .colab-df-container {\n",
              "      display:flex;\n",
              "      flex-wrap:wrap;\n",
              "      gap: 12px;\n",
              "    }\n",
              "\n",
              "    .colab-df-convert {\n",
              "      background-color: #E8F0FE;\n",
              "      border: none;\n",
              "      border-radius: 50%;\n",
              "      cursor: pointer;\n",
              "      display: none;\n",
              "      fill: #1967D2;\n",
              "      height: 32px;\n",
              "      padding: 0 0 0 0;\n",
              "      width: 32px;\n",
              "    }\n",
              "\n",
              "    .colab-df-convert:hover {\n",
              "      background-color: #E2EBFA;\n",
              "      box-shadow: 0px 1px 2px rgba(60, 64, 67, 0.3), 0px 1px 3px 1px rgba(60, 64, 67, 0.15);\n",
              "      fill: #174EA6;\n",
              "    }\n",
              "\n",
              "    [theme=dark] .colab-df-convert {\n",
              "      background-color: #3B4455;\n",
              "      fill: #D2E3FC;\n",
              "    }\n",
              "\n",
              "    [theme=dark] .colab-df-convert:hover {\n",
              "      background-color: #434B5C;\n",
              "      box-shadow: 0px 1px 3px 1px rgba(0, 0, 0, 0.15);\n",
              "      filter: drop-shadow(0px 1px 2px rgba(0, 0, 0, 0.3));\n",
              "      fill: #FFFFFF;\n",
              "    }\n",
              "  </style>\n",
              "\n",
              "      <script>\n",
              "        const buttonEl =\n",
              "          document.querySelector('#df-42f5c76b-9bd3-418b-8cae-3e085de3d7ae button.colab-df-convert');\n",
              "        buttonEl.style.display =\n",
              "          google.colab.kernel.accessAllowed ? 'block' : 'none';\n",
              "\n",
              "        async function convertToInteractive(key) {\n",
              "          const element = document.querySelector('#df-42f5c76b-9bd3-418b-8cae-3e085de3d7ae');\n",
              "          const dataTable =\n",
              "            await google.colab.kernel.invokeFunction('convertToInteractive',\n",
              "                                                     [key], {});\n",
              "          if (!dataTable) return;\n",
              "\n",
              "          const docLinkHtml = 'Like what you see? Visit the ' +\n",
              "            '<a target=\"_blank\" href=https://colab.research.google.com/notebooks/data_table.ipynb>data table notebook</a>'\n",
              "            + ' to learn more about interactive tables.';\n",
              "          element.innerHTML = '';\n",
              "          dataTable['output_type'] = 'display_data';\n",
              "          await google.colab.output.renderOutput(dataTable, element);\n",
              "          const docLink = document.createElement('div');\n",
              "          docLink.innerHTML = docLinkHtml;\n",
              "          element.appendChild(docLink);\n",
              "        }\n",
              "      </script>\n",
              "    </div>\n",
              "  </div>\n",
              "  "
            ]
          },
          "metadata": {},
          "execution_count": 11
        }
      ],
      "source": [
        "df_sample"
      ]
    },
    {
      "cell_type": "markdown",
      "metadata": {
        "id": "6IIji3q5rr6L"
      },
      "source": [
        "## **Reviews Pre-processing**"
      ]
    },
    {
      "cell_type": "markdown",
      "metadata": {
        "id": "aIbwSfuOEAd4"
      },
      "source": [
        "**Remove Punctuations**"
      ]
    },
    {
      "cell_type": "code",
      "execution_count": null,
      "metadata": {
        "id": "CPz7-TL5hztg",
        "colab": {
          "base_uri": "https://localhost:8080/"
        },
        "outputId": "9b4e245e-2698-4988-85bd-892b8f63dd8d"
      },
      "outputs": [
        {
          "output_type": "stream",
          "name": "stderr",
          "text": [
            "<input>:1: DeprecationWarning: invalid escape sequence \\w\n",
            "<ipython-input-12-1e9b69d4e2be>:1: DeprecationWarning: invalid escape sequence \\w\n",
            "  df_sample[\"Reviews\"] = df_sample['cleaned_Reviews'].str.replace('[^\\w\\s]','')\n",
            "/usr/local/lib/python3.7/dist-packages/ipykernel_launcher.py:1: FutureWarning: The default value of regex will change from True to False in a future version.\n",
            "  \"\"\"Entry point for launching an IPython kernel.\n"
          ]
        }
      ],
      "source": [
        "df_sample[\"Reviews\"] = df_sample['cleaned_Reviews'].str.replace('[^\\w\\s]','')"
      ]
    },
    {
      "cell_type": "code",
      "execution_count": null,
      "metadata": {
        "id": "UOwiY8hniIer",
        "colab": {
          "base_uri": "https://localhost:8080/",
          "height": 424
        },
        "outputId": "a1ffb101-d865-483f-8542-e66fd89e0d7e"
      },
      "outputs": [
        {
          "output_type": "execute_result",
          "data": {
            "text/plain": [
              "                                        cleaned_Reviews  \\\n",
              "0     ['service', 'gave_u_free', 'bottle', 'room', '...   \n",
              "1     ['room', 'immaculate', 'bar', 'view', 'oxford_...   \n",
              "2     ['hotel', 'room', 'bed', 'bathroom', 'term', '...   \n",
              "3                            ['city', 'grea', 'thotel']   \n",
              "4     ['front_desk', 'help', 'delight', 'stay', 'mor...   \n",
              "...                                                 ...   \n",
              "9995  ['room', 'bathroom', 'room', 'word', 'describe...   \n",
              "9996                          ['staff', 'roof_terrace']   \n",
              "9997                                          ['staff']   \n",
              "9998                                 ['hotel', 'night']   \n",
              "9999  ['breakfast', 'hotel', 'room', 'staff', 'helpf...   \n",
              "\n",
              "                                                Reviews  \n",
              "0     service gave_u_free bottle room victoria spong...  \n",
              "1     room immaculate bar view oxford_street recepti...  \n",
              "2     hotel room bed bathroom term hotel experience ...  \n",
              "3                                      city grea thotel  \n",
              "4     front_desk help delight stay morning brekfast ...  \n",
              "...                                                 ...  \n",
              "9995  room bathroom room word describe night ventila...  \n",
              "9996                                 staff roof_terrace  \n",
              "9997                                              staff  \n",
              "9998                                        hotel night  \n",
              "9999                 breakfast hotel room staff helpful  \n",
              "\n",
              "[10000 rows x 2 columns]"
            ],
            "text/html": [
              "\n",
              "  <div id=\"df-014a387b-ec20-48bc-b008-f37cc8e767ed\">\n",
              "    <div class=\"colab-df-container\">\n",
              "      <div>\n",
              "<style scoped>\n",
              "    .dataframe tbody tr th:only-of-type {\n",
              "        vertical-align: middle;\n",
              "    }\n",
              "\n",
              "    .dataframe tbody tr th {\n",
              "        vertical-align: top;\n",
              "    }\n",
              "\n",
              "    .dataframe thead th {\n",
              "        text-align: right;\n",
              "    }\n",
              "</style>\n",
              "<table border=\"1\" class=\"dataframe\">\n",
              "  <thead>\n",
              "    <tr style=\"text-align: right;\">\n",
              "      <th></th>\n",
              "      <th>cleaned_Reviews</th>\n",
              "      <th>Reviews</th>\n",
              "    </tr>\n",
              "  </thead>\n",
              "  <tbody>\n",
              "    <tr>\n",
              "      <th>0</th>\n",
              "      <td>['service', 'gave_u_free', 'bottle', 'room', '...</td>\n",
              "      <td>service gave_u_free bottle room victoria spong...</td>\n",
              "    </tr>\n",
              "    <tr>\n",
              "      <th>1</th>\n",
              "      <td>['room', 'immaculate', 'bar', 'view', 'oxford_...</td>\n",
              "      <td>room immaculate bar view oxford_street recepti...</td>\n",
              "    </tr>\n",
              "    <tr>\n",
              "      <th>2</th>\n",
              "      <td>['hotel', 'room', 'bed', 'bathroom', 'term', '...</td>\n",
              "      <td>hotel room bed bathroom term hotel experience ...</td>\n",
              "    </tr>\n",
              "    <tr>\n",
              "      <th>3</th>\n",
              "      <td>['city', 'grea', 'thotel']</td>\n",
              "      <td>city grea thotel</td>\n",
              "    </tr>\n",
              "    <tr>\n",
              "      <th>4</th>\n",
              "      <td>['front_desk', 'help', 'delight', 'stay', 'mor...</td>\n",
              "      <td>front_desk help delight stay morning brekfast ...</td>\n",
              "    </tr>\n",
              "    <tr>\n",
              "      <th>...</th>\n",
              "      <td>...</td>\n",
              "      <td>...</td>\n",
              "    </tr>\n",
              "    <tr>\n",
              "      <th>9995</th>\n",
              "      <td>['room', 'bathroom', 'room', 'word', 'describe...</td>\n",
              "      <td>room bathroom room word describe night ventila...</td>\n",
              "    </tr>\n",
              "    <tr>\n",
              "      <th>9996</th>\n",
              "      <td>['staff', 'roof_terrace']</td>\n",
              "      <td>staff roof_terrace</td>\n",
              "    </tr>\n",
              "    <tr>\n",
              "      <th>9997</th>\n",
              "      <td>['staff']</td>\n",
              "      <td>staff</td>\n",
              "    </tr>\n",
              "    <tr>\n",
              "      <th>9998</th>\n",
              "      <td>['hotel', 'night']</td>\n",
              "      <td>hotel night</td>\n",
              "    </tr>\n",
              "    <tr>\n",
              "      <th>9999</th>\n",
              "      <td>['breakfast', 'hotel', 'room', 'staff', 'helpf...</td>\n",
              "      <td>breakfast hotel room staff helpful</td>\n",
              "    </tr>\n",
              "  </tbody>\n",
              "</table>\n",
              "<p>10000 rows × 2 columns</p>\n",
              "</div>\n",
              "      <button class=\"colab-df-convert\" onclick=\"convertToInteractive('df-014a387b-ec20-48bc-b008-f37cc8e767ed')\"\n",
              "              title=\"Convert this dataframe to an interactive table.\"\n",
              "              style=\"display:none;\">\n",
              "        \n",
              "  <svg xmlns=\"http://www.w3.org/2000/svg\" height=\"24px\"viewBox=\"0 0 24 24\"\n",
              "       width=\"24px\">\n",
              "    <path d=\"M0 0h24v24H0V0z\" fill=\"none\"/>\n",
              "    <path d=\"M18.56 5.44l.94 2.06.94-2.06 2.06-.94-2.06-.94-.94-2.06-.94 2.06-2.06.94zm-11 1L8.5 8.5l.94-2.06 2.06-.94-2.06-.94L8.5 2.5l-.94 2.06-2.06.94zm10 10l.94 2.06.94-2.06 2.06-.94-2.06-.94-.94-2.06-.94 2.06-2.06.94z\"/><path d=\"M17.41 7.96l-1.37-1.37c-.4-.4-.92-.59-1.43-.59-.52 0-1.04.2-1.43.59L10.3 9.45l-7.72 7.72c-.78.78-.78 2.05 0 2.83L4 21.41c.39.39.9.59 1.41.59.51 0 1.02-.2 1.41-.59l7.78-7.78 2.81-2.81c.8-.78.8-2.07 0-2.86zM5.41 20L4 18.59l7.72-7.72 1.47 1.35L5.41 20z\"/>\n",
              "  </svg>\n",
              "      </button>\n",
              "      \n",
              "  <style>\n",
              "    .colab-df-container {\n",
              "      display:flex;\n",
              "      flex-wrap:wrap;\n",
              "      gap: 12px;\n",
              "    }\n",
              "\n",
              "    .colab-df-convert {\n",
              "      background-color: #E8F0FE;\n",
              "      border: none;\n",
              "      border-radius: 50%;\n",
              "      cursor: pointer;\n",
              "      display: none;\n",
              "      fill: #1967D2;\n",
              "      height: 32px;\n",
              "      padding: 0 0 0 0;\n",
              "      width: 32px;\n",
              "    }\n",
              "\n",
              "    .colab-df-convert:hover {\n",
              "      background-color: #E2EBFA;\n",
              "      box-shadow: 0px 1px 2px rgba(60, 64, 67, 0.3), 0px 1px 3px 1px rgba(60, 64, 67, 0.15);\n",
              "      fill: #174EA6;\n",
              "    }\n",
              "\n",
              "    [theme=dark] .colab-df-convert {\n",
              "      background-color: #3B4455;\n",
              "      fill: #D2E3FC;\n",
              "    }\n",
              "\n",
              "    [theme=dark] .colab-df-convert:hover {\n",
              "      background-color: #434B5C;\n",
              "      box-shadow: 0px 1px 3px 1px rgba(0, 0, 0, 0.15);\n",
              "      filter: drop-shadow(0px 1px 2px rgba(0, 0, 0, 0.3));\n",
              "      fill: #FFFFFF;\n",
              "    }\n",
              "  </style>\n",
              "\n",
              "      <script>\n",
              "        const buttonEl =\n",
              "          document.querySelector('#df-014a387b-ec20-48bc-b008-f37cc8e767ed button.colab-df-convert');\n",
              "        buttonEl.style.display =\n",
              "          google.colab.kernel.accessAllowed ? 'block' : 'none';\n",
              "\n",
              "        async function convertToInteractive(key) {\n",
              "          const element = document.querySelector('#df-014a387b-ec20-48bc-b008-f37cc8e767ed');\n",
              "          const dataTable =\n",
              "            await google.colab.kernel.invokeFunction('convertToInteractive',\n",
              "                                                     [key], {});\n",
              "          if (!dataTable) return;\n",
              "\n",
              "          const docLinkHtml = 'Like what you see? Visit the ' +\n",
              "            '<a target=\"_blank\" href=https://colab.research.google.com/notebooks/data_table.ipynb>data table notebook</a>'\n",
              "            + ' to learn more about interactive tables.';\n",
              "          element.innerHTML = '';\n",
              "          dataTable['output_type'] = 'display_data';\n",
              "          await google.colab.output.renderOutput(dataTable, element);\n",
              "          const docLink = document.createElement('div');\n",
              "          docLink.innerHTML = docLinkHtml;\n",
              "          element.appendChild(docLink);\n",
              "        }\n",
              "      </script>\n",
              "    </div>\n",
              "  </div>\n",
              "  "
            ]
          },
          "metadata": {},
          "execution_count": 13
        }
      ],
      "source": [
        "df_sample"
      ]
    },
    {
      "cell_type": "markdown",
      "metadata": {
        "id": "C4Wnm1VPEFTd"
      },
      "source": [
        "**Create Dataframe of Reviews**"
      ]
    },
    {
      "cell_type": "code",
      "execution_count": null,
      "metadata": {
        "id": "doAl-PpvbKZc",
        "colab": {
          "base_uri": "https://localhost:8080/"
        },
        "outputId": "050005cb-d220-495d-e96b-c966896d1320"
      },
      "outputs": [
        {
          "output_type": "execute_result",
          "data": {
            "text/plain": [
              "0       service gave_u_free bottle room victoria spong...\n",
              "1       room immaculate bar view oxford_street recepti...\n",
              "2       hotel room bed bathroom term hotel experience ...\n",
              "3                                        city grea thotel\n",
              "4       front_desk help delight stay morning brekfast ...\n",
              "                              ...                        \n",
              "9995    room bathroom room word describe night ventila...\n",
              "9996                                   staff roof_terrace\n",
              "9997                                                staff\n",
              "9998                                          hotel night\n",
              "9999                   breakfast hotel room staff helpful\n",
              "Name: Reviews, Length: 10000, dtype: object"
            ]
          },
          "metadata": {},
          "execution_count": 14
        }
      ],
      "source": [
        "reviews = df_sample.Reviews\n",
        "reviews"
      ]
    },
    {
      "cell_type": "markdown",
      "metadata": {
        "id": "E3VTlrDiEIVN"
      },
      "source": [
        "**Convert reviews dataframe to list**"
      ]
    },
    {
      "cell_type": "code",
      "execution_count": null,
      "metadata": {
        "id": "M3Ow7BFifLtN"
      },
      "outputs": [],
      "source": [
        "reviews = reviews.tolist()"
      ]
    },
    {
      "cell_type": "markdown",
      "metadata": {
        "id": "_mNi_kPqEJM3"
      },
      "source": [
        "**Tokenize the sentence into words**"
      ]
    },
    {
      "cell_type": "code",
      "execution_count": null,
      "metadata": {
        "id": "0tM54RI0f2ct"
      },
      "outputs": [],
      "source": [
        "import string \n",
        "\n",
        "#Tokenize the sentence into words\n",
        "reviews_tokens = [word_tokenize(t) for t in reviews]"
      ]
    },
    {
      "cell_type": "markdown",
      "metadata": {
        "id": "g2tgLVffESEp"
      },
      "source": [
        "**Samples of reviews tokens**"
      ]
    },
    {
      "cell_type": "code",
      "execution_count": null,
      "metadata": {
        "id": "ue71Ya4piSih",
        "colab": {
          "base_uri": "https://localhost:8080/"
        },
        "outputId": "77363597-8214-402e-b10a-4b6b80d49cc7"
      },
      "outputs": [
        {
          "output_type": "execute_result",
          "data": {
            "text/plain": [
              "[['service', 'gave_u_free', 'bottle', 'room', 'victoria', 'sponge', 'thank'],\n",
              " ['room',\n",
              "  'immaculate',\n",
              "  'bar',\n",
              "  'view',\n",
              "  'oxford_street',\n",
              "  'reception',\n",
              "  'delightful',\n",
              "  'shop',\n",
              "  'rest',\n",
              "  'shop',\n",
              "  'palladium',\n",
              "  'dinner',\n",
              "  'grill',\n",
              "  'bus',\n",
              "  'street'],\n",
              " ['hotel',\n",
              "  'room',\n",
              "  'bed',\n",
              "  'bathroom',\n",
              "  'term',\n",
              "  'hotel',\n",
              "  'experience',\n",
              "  'bathrobe_slipper',\n",
              "  'room',\n",
              "  'commend',\n",
              "  'spa',\n",
              "  'space'],\n",
              " ['city', 'grea', 'thotel'],\n",
              " ['front_desk',\n",
              "  'help',\n",
              "  'delight',\n",
              "  'stay',\n",
              "  'morning',\n",
              "  'brekfast',\n",
              "  'delight',\n",
              "  'morning']]"
            ]
          },
          "metadata": {},
          "execution_count": 17
        }
      ],
      "source": [
        "reviews_tokens[:5]"
      ]
    },
    {
      "cell_type": "markdown",
      "metadata": {
        "id": "kT_8nKY_EUuO"
      },
      "source": [
        "**Create a dictionary (mapping between words and their integer ids)**"
      ]
    },
    {
      "cell_type": "code",
      "execution_count": null,
      "metadata": {
        "id": "Swt3dkdUZ_GF"
      },
      "outputs": [],
      "source": [
        "dictionary = corpora.Dictionary(reviews_tokens)            "
      ]
    },
    {
      "cell_type": "markdown",
      "metadata": {
        "id": "ui0UImefEXe5"
      },
      "source": [
        "**Converts the word to its integer word id and returns the result as a sparse vector (using Doc2bow Doc term matrix)**"
      ]
    },
    {
      "cell_type": "code",
      "execution_count": null,
      "metadata": {
        "id": "5qH2Kz0JaA5T"
      },
      "outputs": [],
      "source": [
        "doc_term_matrix = [dictionary.doc2bow(doc) for doc in reviews_tokens]"
      ]
    },
    {
      "cell_type": "markdown",
      "metadata": {
        "id": "HXmHXdPtEZ2R"
      },
      "source": [
        "**Samples of doc_term_matrix (corpus)**"
      ]
    },
    {
      "cell_type": "code",
      "execution_count": null,
      "metadata": {
        "id": "AbeF1chva951",
        "colab": {
          "base_uri": "https://localhost:8080/"
        },
        "outputId": "a4413dee-fe71-4824-c360-689073e31bbc"
      },
      "outputs": [
        {
          "output_type": "execute_result",
          "data": {
            "text/plain": [
              "[[(0, 1), (1, 1), (2, 1), (3, 1), (4, 1), (5, 1), (6, 1)],\n",
              " [(2, 1),\n",
              "  (7, 1),\n",
              "  (8, 1),\n",
              "  (9, 1),\n",
              "  (10, 1),\n",
              "  (11, 1),\n",
              "  (12, 1),\n",
              "  (13, 1),\n",
              "  (14, 1),\n",
              "  (15, 1),\n",
              "  (16, 1),\n",
              "  (17, 2),\n",
              "  (18, 1),\n",
              "  (19, 1)],\n",
              " [(2, 2),\n",
              "  (20, 1),\n",
              "  (21, 1),\n",
              "  (22, 1),\n",
              "  (23, 1),\n",
              "  (24, 1),\n",
              "  (25, 2),\n",
              "  (26, 1),\n",
              "  (27, 1),\n",
              "  (28, 1)],\n",
              " [(29, 1), (30, 1), (31, 1)],\n",
              " [(32, 1), (33, 2), (34, 1), (35, 1), (36, 2), (37, 1)]]"
            ]
          },
          "metadata": {},
          "execution_count": 20
        }
      ],
      "source": [
        "doc_term_matrix[:5]"
      ]
    },
    {
      "cell_type": "markdown",
      "metadata": {
        "id": "N-NAZpQyEkpK"
      },
      "source": [
        "**Human readable format of corpus**"
      ]
    },
    {
      "cell_type": "code",
      "execution_count": null,
      "metadata": {
        "id": "KYl62Dfia_pV",
        "colab": {
          "base_uri": "https://localhost:8080/"
        },
        "outputId": "4665b779-40ea-4f0c-d736-175d01f12938"
      },
      "outputs": [
        {
          "output_type": "execute_result",
          "data": {
            "text/plain": [
              "[[('bottle', 1),\n",
              "  ('gave_u_free', 1),\n",
              "  ('room', 1),\n",
              "  ('service', 1),\n",
              "  ('sponge', 1),\n",
              "  ('thank', 1),\n",
              "  ('victoria', 1)],\n",
              " [('room', 1),\n",
              "  ('bar', 1),\n",
              "  ('bus', 1),\n",
              "  ('delightful', 1),\n",
              "  ('dinner', 1),\n",
              "  ('grill', 1),\n",
              "  ('immaculate', 1),\n",
              "  ('oxford_street', 1),\n",
              "  ('palladium', 1),\n",
              "  ('reception', 1),\n",
              "  ('rest', 1),\n",
              "  ('shop', 2),\n",
              "  ('street', 1),\n",
              "  ('view', 1)],\n",
              " [('room', 2),\n",
              "  ('bathrobe_slipper', 1),\n",
              "  ('bathroom', 1),\n",
              "  ('bed', 1),\n",
              "  ('commend', 1),\n",
              "  ('experience', 1),\n",
              "  ('hotel', 2),\n",
              "  ('spa', 1),\n",
              "  ('space', 1),\n",
              "  ('term', 1)],\n",
              " [('city', 1), ('grea', 1), ('thotel', 1)],\n",
              " [('brekfast', 1),\n",
              "  ('delight', 2),\n",
              "  ('front_desk', 1),\n",
              "  ('help', 1),\n",
              "  ('morning', 2),\n",
              "  ('stay', 1)]]"
            ]
          },
          "metadata": {},
          "execution_count": 21
        }
      ],
      "source": [
        "# Human readable format of corpus\n",
        "[[(dictionary[id], freq) for id, freq in cp] for cp in doc_term_matrix[:5]]"
      ]
    },
    {
      "cell_type": "markdown",
      "metadata": {
        "id": "wyzdPjNtEm0f"
      },
      "source": [
        "## **Model Building**"
      ]
    },
    {
      "cell_type": "markdown",
      "metadata": {
        "id": "nzUi6wSNEp9w"
      },
      "source": [
        "**Compute coherence score for models with different number of topics (Try from 2 topics - 40 topics)**"
      ]
    },
    {
      "cell_type": "code",
      "execution_count": null,
      "metadata": {
        "id": "ZCkMDbf9nZ5D"
      },
      "outputs": [],
      "source": [
        "# Compute coherence score for models with different number of topics\n",
        "# Try from 2 topics - 40 topics\n",
        "\n",
        "def compute_coherence_values(dictionary, corpus, texts, limit, start=2, step=3):\n",
        "    coherence_values = []\n",
        "    model_list = []\n",
        "    for num_topics in range(start, limit, step):\n",
        "        model = gensim.models.wrappers.LdaMallet(mallet_path, corpus=corpus, num_topics=num_topics, id2word=dictionary)\n",
        "        \n",
        "        model_list.append(model)\n",
        "        coherencemodel = CoherenceModel(model=model, texts=texts, dictionary=dictionary, coherence='c_v')\n",
        "        coherence_values.append(coherencemodel.get_coherence())\n",
        "\n",
        "    return model_list, coherence_values"
      ]
    },
    {
      "cell_type": "code",
      "execution_count": null,
      "metadata": {
        "id": "xiaVag8Bnksi"
      },
      "outputs": [],
      "source": [
        "model_list, coherence_values = compute_coherence_values(dictionary=dictionary, corpus=doc_term_matrix, texts=reviews_tokens, start=2, limit=40, step=2)"
      ]
    },
    {
      "cell_type": "code",
      "execution_count": null,
      "metadata": {
        "id": "oxGM5o4UntvV",
        "colab": {
          "base_uri": "https://localhost:8080/",
          "height": 278
        },
        "outputId": "f37eea3c-b2be-4993-8af7-47427b2ba978"
      },
      "outputs": [
        {
          "output_type": "display_data",
          "data": {
            "text/plain": [
              "<Figure size 432x288 with 1 Axes>"
            ],
            "image/png": "[encoded data removed]"
          },
          "metadata": {
            "needs_background": "light"
          }
        }
      ],
      "source": [
        "# Show graph\n",
        "\n",
        "limit=40; start=2; step=2;\n",
        "x = range(start, limit, step)\n",
        "plt.plot(x, coherence_values)\n",
        "plt.xlabel(\"Num Topics\")\n",
        "plt.ylabel(\"Coherence score\")\n",
        "plt.legend((\"coherence_values\"), loc='best')\n",
        "plt.show() \n",
        "sns.set(rc = {'figure.figsize':(15,8)})"
      ]
    },
    {
      "cell_type": "code",
      "execution_count": null,
      "metadata": {
        "id": "QQuWxFWLpabP",
        "colab": {
          "base_uri": "https://localhost:8080/"
        },
        "outputId": "f320b2a2-e91f-4af4-b6bd-6a59bffb5de4"
      },
      "outputs": [
        {
          "output_type": "stream",
          "name": "stdout",
          "text": [
            "Num Topics = 2  has Coherence Value of 0.2054\n",
            "Num Topics = 4  has Coherence Value of 0.2914\n",
            "Num Topics = 6  has Coherence Value of 0.3243\n",
            "Num Topics = 8  has Coherence Value of 0.3571\n",
            "Num Topics = 10  has Coherence Value of 0.387\n",
            "Num Topics = 12  has Coherence Value of 0.4315\n",
            "Num Topics = 14  has Coherence Value of 0.4579\n",
            "Num Topics = 16  has Coherence Value of 0.4503\n",
            "Num Topics = 18  has Coherence Value of 0.4868\n",
            "Num Topics = 20  has Coherence Value of 0.4907\n",
            "Num Topics = 22  has Coherence Value of 0.5237\n",
            "Num Topics = 24  has Coherence Value of 0.5058\n",
            "Num Topics = 26  has Coherence Value of 0.5093\n",
            "Num Topics = 28  has Coherence Value of 0.5227\n",
            "Num Topics = 30  has Coherence Value of 0.5406\n",
            "Num Topics = 32  has Coherence Value of 0.5521\n",
            "Num Topics = 34  has Coherence Value of 0.5404\n",
            "Num Topics = 36  has Coherence Value of 0.5626\n",
            "Num Topics = 38  has Coherence Value of 0.5679\n"
          ]
        }
      ],
      "source": [
        "# Print the coherence scores\n",
        "\n",
        "for m, cv in zip(x, coherence_values):\n",
        "    print(\"Num Topics =\", m, \" has Coherence Value of\", round(cv, 4))"
      ]
    },
    {
      "cell_type": "markdown",
      "metadata": {
        "id": "rT6O4HjFEwPf"
      },
      "source": [
        "Finding the optimal number of topics is to build many LDA models with different values of number of topics (k) and pick the one that gives the highest coherence value.\n",
        "\n",
        "If the coherence score seems to keep increasing, it may make better sense to pick the model that gave the highest CV before flattening out. This is exactly the case here.\n",
        "\n",
        "Upon observation, we decided to go with Num Topics = 20, as at this number of topic, the coherence score of the model managed to achieve its highest at 0.4947. After this number of topics, the coherence score of number of topics above this number 'flattens out' to around 0.50+-.\n",
        "\n",
        "We will be choosing the least number of topic before the coherence scores 'flattens out', which is Num Topics = 20."
      ]
    },
    {
      "cell_type": "markdown",
      "metadata": {
        "id": "bj0psazrFHy_"
      },
      "source": [
        "## **Topic Model with Num Topic = 20**"
      ]
    },
    {
      "cell_type": "code",
      "execution_count": null,
      "metadata": {
        "id": "qsicWVqwv6w6"
      },
      "outputs": [],
      "source": [
        "ldamallet = gensim.models.wrappers.LdaMallet(mallet_path, corpus=doc_term_matrix, num_topics=20, id2word=dictionary)"
      ]
    },
    {
      "cell_type": "code",
      "execution_count": null,
      "metadata": {
        "id": "sCdy5f6Nxn6Z",
        "colab": {
          "base_uri": "https://localhost:8080/"
        },
        "outputId": "d991faa8-cb56-4c4c-9158-88855b9ae648"
      },
      "outputs": [
        {
          "output_type": "stream",
          "name": "stdout",
          "text": [
            "[(9,\n",
            "  [('bathroom', 0.25377015080603227),\n",
            "   ('shower', 0.10140405616224649),\n",
            "   ('room', 0.09256370254810192),\n",
            "   ('water', 0.07020280811232449),\n",
            "   ('door', 0.058242329693187725),\n",
            "   ('bath', 0.0452418096723869),\n",
            "   ('smell', 0.0265210608424337),\n",
            "   ('towel', 0.0234009360374415),\n",
            "   ('glass', 0.019760790431617263),\n",
            "   ('travel', 0.010400416016640665)]),\n",
            " (10,\n",
            "  [('bed', 0.398717263495457),\n",
            "   ('comfy', 0.12453233564938536),\n",
            "   ('pillow', 0.028327097808658473),\n",
            "   ('value_money', 0.021378941742383754),\n",
            "   ('balcony', 0.02084446819882416),\n",
            "   ('area', 0.016568679850347406),\n",
            "   ('shopping', 0.016568679850347406),\n",
            "   ('super', 0.014430785676109033),\n",
            "   ('pool', 0.014430785676109033),\n",
            "   ('mattress', 0.013361838588989846)]),\n",
            " (7,\n",
            "  [('hotel', 0.28921819110884006),\n",
            "   ('view', 0.1548288196218702),\n",
            "   ('location', 0.08993357179356157),\n",
            "   ('city', 0.06745017884517118),\n",
            "   ('kind', 0.03474706182933061),\n",
            "   ('centre', 0.021972406745017884),\n",
            "   ('town', 0.01481859989780276),\n",
            "   ('river', 0.012774655084312723),\n",
            "   ('spot', 0.011752682677567705),\n",
            "   ('swimming_pool', 0.010219724067450179)]),\n",
            " (17,\n",
            "  [('room', 0.2938689217758985),\n",
            "   ('staff', 0.2558139534883721),\n",
            "   ('lot', 0.07135306553911205),\n",
            "   ('thing', 0.05021141649048626),\n",
            "   ('problem', 0.04492600422832981),\n",
            "   ('nice', 0.022198731501057084),\n",
            "   ('club', 0.011627906976744186),\n",
            "   ('bonus', 0.008456659619450317),\n",
            "   ('dust', 0.006342494714587738),\n",
            "   ('direction', 0.006342494714587738)]),\n",
            " (15,\n",
            "  [('hotel', 0.24509283819628647),\n",
            "   ('place', 0.10450928381962865),\n",
            "   ('location', 0.09071618037135279),\n",
            "   ('london', 0.053580901856763924),\n",
            "   ('street', 0.04350132625994695),\n",
            "   ('side', 0.027586206896551724),\n",
            "   ('parking', 0.0259946949602122),\n",
            "   ('eat', 0.021750663129973476),\n",
            "   ('ideal', 0.021220159151193633),\n",
            "   ('pool', 0.020159151193633953)]),\n",
            " (6,\n",
            "  [('room', 0.25157563025210083),\n",
            "   ('floor', 0.09873949579831932),\n",
            "   ('window', 0.05934873949579832),\n",
            "   ('lift', 0.043592436974789914),\n",
            "   ('noisy', 0.026785714285714284),\n",
            "   ('elevator', 0.025735294117647058),\n",
            "   ('dirty', 0.025210084033613446),\n",
            "   ('wall', 0.022058823529411766),\n",
            "   ('cold', 0.02100840336134454),\n",
            "   ('carpet', 0.019432773109243698)]),\n",
            " (1,\n",
            "  [('station', 0.11415752741774676),\n",
            "   ('area', 0.09770687936191426),\n",
            "   ('walk', 0.05284147557328016),\n",
            "   ('convenient', 0.0448654037886341),\n",
            "   ('tube', 0.04287138584247258),\n",
            "   ('metro', 0.0423728813559322),\n",
            "   ('minute', 0.04187437686939183),\n",
            "   ('min', 0.03489531405782652),\n",
            "   ('train', 0.03489531405782652),\n",
            "   ('access', 0.03290129611166501)]),\n",
            " (16,\n",
            "  [('location', 0.4026915113871636),\n",
            "   ('staff', 0.260351966873706),\n",
            "   ('cleanliness', 0.03571428571428571),\n",
            "   ('good', 0.025879917184265012),\n",
            "   ('excellent', 0.021221532091097308),\n",
            "   ('concierge', 0.020703933747412008),\n",
            "   ('visit', 0.009316770186335404),\n",
            "   ('decoration', 0.007763975155279503),\n",
            "   ('heart', 0.006211180124223602),\n",
            "   ('cooky', 0.005693581780538302)]),\n",
            " (13,\n",
            "  [('breakfast', 0.47943118334179785),\n",
            "   ('choice', 0.06653123412899949),\n",
            "   ('quality', 0.055865921787709494),\n",
            "   ('buffet', 0.041137633316404264),\n",
            "   ('variety', 0.0228542407313357),\n",
            "   ('selection', 0.0228542407313357),\n",
            "   ('order', 0.02133062468257999),\n",
            "   ('plenty', 0.019299136617572373),\n",
            "   ('item', 0.0111731843575419),\n",
            "   ('egg', 0.01015744032503809)]),\n",
            " (14,\n",
            "  [('time', 0.1344364012409514),\n",
            "   ('day', 0.11840744570837643),\n",
            "   ('work', 0.08169596690796277),\n",
            "   ('check', 0.06463288521199587),\n",
            "   ('building', 0.037745604963805586),\n",
            "   ('hour', 0.03360910031023785),\n",
            "   ('pay', 0.026370217166494313),\n",
            "   ('money', 0.02481902792140641),\n",
            "   ('issue', 0.024301964839710446),\n",
            "   ('change', 0.024301964839710446)])]\n"
          ]
        }
      ],
      "source": [
        "# Show Topics\n",
        "pprint(ldamallet.show_topics(formatted=False))"
      ]
    },
    {
      "cell_type": "markdown",
      "metadata": {
        "id": "ozLhj2HPFViw"
      },
      "source": [
        "**Convert to LDA format (to display pyLDAvis)**"
      ]
    },
    {
      "cell_type": "code",
      "execution_count": null,
      "metadata": {
        "id": "e2saJQO_wO70"
      },
      "outputs": [],
      "source": [
        "lda_model = gensim.models.wrappers.ldamallet.malletmodel2ldamodel(ldamallet)"
      ]
    },
    {
      "cell_type": "markdown",
      "metadata": {
        "id": "k6jsxKpHFXBe"
      },
      "source": [
        "**Save & Load the model**"
      ]
    },
    {
      "cell_type": "code",
      "execution_count": null,
      "metadata": {
        "id": "9c_W42O9MMtD"
      },
      "outputs": [],
      "source": [
        "# Save & Load the model\n",
        "lda_model.save('/content/drive/MyDrive/Colab Notebooks/Hotel_Analysis/Topic Modelling/Topic Models/LDAmallet_NOUNS')\n",
        "lda_model = gensim.models.ldamodel.LdaModel.load('/content/drive/MyDrive/Colab Notebooks/Hotel_Analysis/Topic Modelling/Topic Models/LDAmallet_NOUNS')"
      ]
    },
    {
      "cell_type": "markdown",
      "metadata": {
        "id": "_jVeWAA4FZfP"
      },
      "source": [
        "**Compute Coherence Score**"
      ]
    },
    {
      "cell_type": "code",
      "execution_count": null,
      "metadata": {
        "id": "qI0lS8QPsXXW",
        "colab": {
          "base_uri": "https://localhost:8080/"
        },
        "outputId": "cfc39f11-836e-4c6e-c92c-5d02f2a08d75"
      },
      "outputs": [
        {
          "output_type": "stream",
          "name": "stdout",
          "text": [
            "\n",
            "Coherence Score:  0.511010535895693\n"
          ]
        }
      ],
      "source": [
        "# Compute Coherence Score\n",
        "coherence_model_ldamodel = CoherenceModel(model=lda_model, texts=reviews_tokens, dictionary=dictionary, coherence='c_v')\n",
        "coherence_ldamodel = coherence_model_ldamodel.get_coherence()\n",
        "print('\\nCoherence Score: ', coherence_ldamodel)"
      ]
    },
    {
      "cell_type": "markdown",
      "metadata": {
        "id": "XB3mJT3oFf4p"
      },
      "source": [
        "## **Visualize the topics using pyLDAvis**"
      ]
    },
    {
      "cell_type": "code",
      "execution_count": null,
      "metadata": {
        "id": "twQ0552-q_-p",
        "colab": {
          "base_uri": "https://localhost:8080/",
          "height": 896
        },
        "outputId": "15f18152-b3bc-46d1-d7dd-b2e4cc99ceff"
      },
      "outputs": [
        {
          "output_type": "stream",
          "name": "stderr",
          "text": [
            "/usr/local/lib/python3.7/dist-packages/pyLDAvis/_prepare.py:247: FutureWarning: In a future version of pandas all arguments of DataFrame.drop except for the argument 'labels' will be keyword-only\n",
            "  by='saliency', ascending=False).head(R).drop('saliency', 1)\n"
          ]
        },
        {
          "output_type": "execute_result",
          "data": {
            "text/plain": [
              "PreparedData(topic_coordinates=              x         y  topics  cluster      Freq\n",
              "topic                                               \n",
              "0     -0.002789  0.228884       1        1  5.002278\n",
              "1      0.225115 -0.141404       2        1  4.951940\n",
              "2     -0.005516  0.119727       3        1  5.050848\n",
              "3     -0.314329 -0.140457       4        1  4.997295\n",
              "4     -0.224574 -0.073790       5        1  4.940977\n",
              "5     -0.230749 -0.107541       6        1  5.051760\n",
              "6     -0.302829 -0.133943       7        1  5.016871\n",
              "7      0.086320  0.242626       8        1  5.056898\n",
              "8      0.221702 -0.141020       9        1  4.955557\n",
              "9     -0.001614  0.230118      10        1  4.988133\n",
              "10    -0.016266  0.110424      11        1  5.080580\n",
              "11    -0.076542  0.061705      12        1  5.011292\n",
              "12     0.310014 -0.056279      13        1  4.920791\n",
              "13     0.060767  0.238758      14        1  5.020672\n",
              "14     0.299448 -0.214504      15        1  4.902278\n",
              "15    -0.273507 -0.098160      16        1  5.034452\n",
              "16    -0.264012 -0.094498      17        1  5.037869\n",
              "17     0.313699 -0.218433      18        1  4.918069\n",
              "18     0.129026 -0.070064      19        1  5.027750\n",
              "19     0.066635  0.257850      20        1  5.033691, topic_info=          Term         Freq        Total Category  logprob  loglift\n",
              "2         room  3965.000000  3965.000000  Default  30.0000  30.0000\n",
              "54       staff  2758.000000  2758.000000  Default  29.0000  29.0000\n",
              "48   breakfast  1583.000000  1583.000000  Default  28.0000  28.0000\n",
              "50    location  2368.000000  2368.000000  Default  27.0000  27.0000\n",
              "25       hotel  1802.000000  1802.000000  Default  26.0000  26.0000\n",
              "..         ...          ...          ...      ...      ...      ...\n",
              "25       hotel   510.075754  1802.806854  Topic20  -1.3562   1.7265\n",
              "431     milano     9.236784    11.243307  Topic20  -5.3675   2.7924\n",
              "364        air    14.368331    22.798764  Topic20  -4.9257   2.5273\n",
              "545    deposit     8.210475    12.399468  Topic20  -5.4853   2.5768\n",
              "53      london    12.315712   108.749217  Topic20  -5.0799   0.8108\n",
              "\n",
              "[1216 rows x 6 columns], token_table=      Topic      Freq               Term\n",
              "term                                    \n",
              "2200      9  0.992293               abit\n",
              "374       3  0.014666             access\n",
              "374       8  0.806603             access\n",
              "374      19  0.190652             access\n",
              "660      10  0.977657      accommodation\n",
              "...     ...       ...                ...\n",
              "638       9  0.992293            yasmine\n",
              "966      14  1.004436               year\n",
              "967      10  0.977657  year_old_daughter\n",
              "723       4  0.992146               yolk\n",
              "1063     17  0.954883              yummy\n",
              "\n",
              "[1507 rows x 3 columns], R=30, lambda_step=0.01, plot_opts={'xlab': 'PC1', 'ylab': 'PC2'}, topic_order=[1, 2, 3, 4, 5, 6, 7, 8, 9, 10, 11, 12, 13, 14, 15, 16, 17, 18, 19, 20])"
            ],
            "text/html": [
              "\n",
              "<link rel=\"stylesheet\" type=\"text/css\" href=\"https://cdn.jsdelivr.net/gh/bmabey/pyLDAvis@3.3.1/pyLDAvis/js/ldavis.v1.0.0.css\">\n",
              "\n",
              "\n",
              "<div id=\"ldavis_el3051404163422149924657426770\"></div>\n",
              "<script type=\"text/javascript\">\n",
              "\n",
              "var ldavis_el3051404163422149924657426770_data = {\"mdsDat\": {\"x\": [-0.0027889570046022256, 0.22511546901751806, -0.005516243044294549, -0.314329097235648, -0.22457367065139988, -0.23074921067262022, -0.3028291773688021, 0.08632045806027377, 0.22170228851449358, -0.0016139529542331175, -0.016265667503846365, -0.07654173730859301, 0.3100137252088086, 0.06076702388699165, 0.2994478882099087, -0.2735069691217528, -0.26401178747654686, 0.31369897654835865, 0.12902567090525752, 0.06663496999072786], \"y\": [0.2288844651194335, -0.14140360968543472, 0.11972703975782027, -0.14045693743761908, -0.07378980346476784, -0.10754107027704891, -0.13394332608280887, 0.24262619001986158, -0.14101982691487397, 0.23011808715432583, 0.11042374193611053, 0.06170468942885649, -0.056278534483463115, 0.23875791356372666, -0.21450394374404733, -0.09816005892259451, -0.09449788680879329, -0.21843283739213715, -0.07006424892601709, 0.25784995715947095], \"topics\": [1, 2, 3, 4, 5, 6, 7, 8, 9, 10, 11, 12, 13, 14, 15, 16, 17, 18, 19, 20], \"cluster\": [1, 1, 1, 1, 1, 1, 1, 1, 1, 1, 1, 1, 1, 1, 1, 1, 1, 1, 1, 1], \"Freq\": [5.002278044629743, 4.95193962639364, 5.050848236554979, 4.997295359889634, 4.940977341553202, 5.051759517772767, 5.016870918167439, 5.056898148895862, 4.95555675900991, 4.988133215250948, 5.080579598804106, 5.0112916659685425, 4.920791241162477, 5.020671976186548, 4.9022780439383355, 5.034451516973428, 5.03786894694649, 4.918068848776912, 5.027749758332347, 5.033691234792705]}, \"tinfo\": {\"Term\": [\"room\", \"staff\", \"breakfast\", \"location\", \"hotel\", \"bed\", \"service\", \"bathroom\", \"bar\", \"restaurant\", \"food\", \"view\", \"night\", \"time\", \"facility\", \"price\", \"stay\", \"comfy\", \"reception\", \"day\", \"station\", \"place\", \"size\", \"area\", \"excellent\", \"shower\", \"helpful\", \"floor\", \"coffee\", \"work\", \"bathrobe_slipper\", \"close_paddington_station\", \"excellent_customer_service\", \"fruit\", \"lotion\", \"ache\", \"terrific\", \"film\", \"checkin\", \"easy_access_public_transport\", \"vino\", \"opinion\", \"overhead\", \"wide_variety\", \"wonderful\", \"dust\", \"volksopera\", \"walk_city_centre\", \"sausage\", \"plein\", \"capital\", \"gluten_free_bread\", \"wheat\", \"expectation\", \"bagel\", \"huevos\", \"review\", \"junction\", \"seat\", \"understand\", \"buffet\", \"option\", \"variety\", \"selection\", \"connection\", \"euro\", \"deluxe\", \"queue\", \"base\", \"scrambled_egg\", \"moment\", \"email\", \"free_tea_coffee\", \"budget\", \"rate\", \"part\", \"wifi\", \"booking\", \"bread\", \"breakfast\", \"taste\", \"pay\", \"pastry\", \"decent\", \"interest\", \"cold\", \"direction\", \"return\", \"roissy\", \"walking_distance\", \"place\", \"bogey\", \"daughter_birthday\", \"garage\", \"attraction\", \"hen\", \"file\", \"unit\", \"eat\", \"ideal\", \"glass_door_bathroom\", \"bath_tub\", \"reality\", \"rah\", \"fav\", \"garden\", \"mass\", \"four_poster\", \"sector\", \"monk\", \"de_gracia\", \"bellboy\", \"device\", \"prostitute\", \"bipassing\", \"need_refurbishment\", \"knob\", \"candy\", \"sight\", \"purpose\", \"transparent\", \"awful\", \"apology\", \"close_milano_centrale\", \"complain\", \"stuff\", \"usa\", \"thick\", \"tennis\", \"min_walking_distance\", \"short_walk_away\", \"establishment\", \"museum\", \"good\", \"perfect\", \"london\", \"layout\", \"till\", \"meal\", \"picture\", \"ground_floor\", \"foot\", \"item\", \"location\", \"style\", \"activity\", \"definitely_return\", \"attention_detail\", \"fridge\", \"staff\", \"make\", \"bar\", \"grill\", \"delight\", \"lady\", \"wife\", \"interior\", \"terrace\", \"drink\", \"champagne\", \"mini\", \"condition\", \"beautiful\", \"amount\", \"cope\", \"guest\", \"aligre\", \"lounge\", \"lol\", \"close_public_transportation\", \"pop\", \"went_way_make\", \"hugo\", \"victor\", \"beer\", \"warrant\", \"wooden_floor\", \"run\", \"request\", \"rod\", \"man\", \"view\", \"balcony\", \"river\", \"cocktail\", \"idea\", \"atmosphere\", \"worth\", \"rooftop\", \"group\", \"note\", \"front_desk_staff\", \"rooftop_terrace\", \"guy\", \"lobby\", \"pricey\", \"order\", \"expensive\", \"corner\", \"lack\", \"sit\", \"bill\", \"amenity\", \"wifi\", \"beach\", \"perfect\", \"fast\", \"daughter\", \"privelage\", \"snug\", \"derty\", \"premise\", \"roof_top_pool\", \"sky_lounge\", \"wife_birthday\", \"pressure\", \"speaker\", \"flute\", \"resourceful\", \"musket\", \"yolk\", \"wake\", \"light\", \"worker\", \"warm\", \"desert\", \"portion\", \"walk_city_center\", \"makeup\", \"sort\", \"furnishing\", \"ace\", \"mony\", \"compare\", \"easy_reach\", \"easy_get_airport\", \"size\", \"modern\", \"comment\", \"blind\", \"next_tube_station\", \"bedroom\", \"meet_expectation\", \"hotter\", \"advantage\", \"eurostar\", \"sleeping\", \"earplug\", \"quaint\", \"montcalm\", \"coffee_machine\", \"hand\", \"complaint\", \"room\", \"control\", \"relax\", \"sound\", \"twin\", \"close_tube_station\", \"credit_card\", \"window\", \"situation\", \"entrance\", \"availability\", \"pretty\", \"problem\", \"comfy\", \"bed_pushed_together\", \"month\", \"rating\", \"top\", \"performance\", \"wash\", \"odor\", \"soooo\", \"hanger\", \"meant\", \"foyer\", \"eye\", \"addition\", \"caring\", \"spotless\", \"bed_two_single\", \"didnt\", \"breakfast_included_price\", \"development\", \"congratulation\", \"hight\", \"jhony\", \"air_con\", \"peruse\", \"interview\", \"irritation\", \"stick\", \"eiffel_tower_view\", \"rotta\", \"bed\", \"plate\", \"bedding\", \"city_tax\", \"willingness\", \"duct\", \"radiator\", \"easy_access_city\", \"awkward\", \"outer\", \"pillow\", \"mattress\", \"super\", \"closet\", \"sofa\", \"cosy\", \"porter\", \"duvet\", \"number\", \"room\", \"kitchen\", \"length\", \"attentive\", \"discount\", \"floor\", \"cooky\", \"storage\", \"king\", \"half\", \"fresh_fruit\", \"sandal\", \"policy\", \"car\", \"bath\", \"paper\", \"closing\", \"blanket\", \"misplace\", \"soup\", \"plug\", \"supply\", \"queensway\", \"rulez\", \"hamza\", \"birthday\", \"hetero\", \"view_tower_bridge\", \"crockery\", \"health\", \"hbo\", \"rush\", \"fault\", \"dusty\", \"information\", \"h_tel\", \"cleaner\", \"minute_walk_away\", \"gesture\", \"time\", \"day\", \"difficulty\", \"arrival\", \"waiter\", \"parking\", \"fix\", \"booked_booking_com\", \"receptionist\", \"research\", \"talk\", \"disappointment\", \"soundproof\", \"hard\", \"person\", \"booking_com\", \"bottle\", \"executive\", \"rude\", \"range\", \"trouble\", \"fee\", \"client\", \"car_park\", \"sink\", \"electricity\", \"room\", \"reason\", \"pay\", \"location\", \"move\", \"recall\", \"side\", \"suitcase\", \"iron\", \"doesnt\", \"furniture\", \"breakfast_per_person\", \"bathtbu\", \"honor\", \"neighbourghood\", \"fine\", \"chair\", \"lead\", \"near_metro_station\", \"climate_control\", \"helpful_front_desk\", \"neighbor\", \"discover\", \"decoration\", \"drinking\", \"quilt\", \"carrot\", \"mother\", \"shampo\", \"concreat\", \"ambience\", \"possibility\", \"rolex\", \"stretch\", \"space\", \"firm\", \"change\", \"premier_inn\", \"suppose\", \"close_city_centre\", \"proper\", \"brand_new\", \"minute_walk_paddington\", \"plumbing\", \"hot_water_shower\", \"la_rambla\", \"duplex\", \"push\", \"occupancy\", \"standard\", \"channel\", \"luxury\", \"shabby\", \"feel\", \"response\", \"ice\", \"feeling\", \"weather\", \"room\", \"wardrobe\", \"internet_connection\", \"value_money\", \"refurbishment\", \"toiletry\", \"turn\", \"europe\", \"heating\", \"thotel\", \"meeting\", \"arrangement\", \"convenience\", \"vamp\", \"station\", \"schwedenplatz\", \"arrange\", \"smelt\", \"train\", \"visit\", \"desolate\", \"exit\", \"proximity\", \"pound\", \"mary\", \"indoor\", \"paddington\", \"cutlery\", \"royale\", \"closeness\", \"railway\", \"midnight\", \"computer\", \"poop\", \"cozy\", \"plenty_place_eat\", \"ecellent\", \"roof_terrace_bar\", \"hazley\", \"tube\", \"metro\", \"duomo\", \"disappointing\", \"doorstep\", \"vibe\", \"massage\", \"hip\", \"match\", \"pick\", \"euston\", \"cinema\", \"tram_stop\", \"light_sleeper\", \"area\", \"child\", \"great_value_money\", \"access\", \"around_corner\", \"stop\", \"public_transport\", \"round\", \"level\", \"find\", \"hotel\", \"spa\", \"partner\", \"far_city_centre\", \"tourist\", \"slipper\", \"bus\", \"staff\", \"brekfast\", \"wise\", \"cleanliness\", \"polite\", \"short_walk_tube\", \"confirmation\", \"mint\", \"bucket\", \"limp\", \"public_transport_link\", \"yasmine\", \"ill\", \"orange\", \"geat\", \"section\", \"break\", \"doorman\", \"tower\", \"delicious\", \"caterpillar\", \"dull\", \"peace\", \"buckingham_palace\", \"ritz\", \"tea_coffee_making\", \"le_minute_walk\", \"catch\", \"pain\", \"cigarette\", \"outweigh\", \"reception\", \"comfort\", \"screen\", \"concierge\", \"nice\", \"judge\", \"abit\", \"friendlier\", \"replacement\", \"comb\", \"iffy\", \"modernity\", \"smoker\", \"helpful\", \"team\", \"smile\", \"relaxing\", \"making\", \"friendliness\", \"staff\", \"question\", \"power\", \"decor\", \"package\", \"ticket\", \"desk\", \"airport\", \"efficient\", \"dislike\", \"sink\", \"direction\", \"twin\", \"tour\", \"mercer\", \"offer\", \"price\", \"money\", \"table\", \"roman\", \"security\", \"quality\", \"martin\", \"cab\", \"housekeeping\", \"recommend_anyone\", \"appointment\", \"suggest\", \"cotton\", \"wool\", \"cooperative\", \"accommodation\", \"toast\", \"jeez\", \"serve\", \"sunrise\", \"dingy\", \"rusty\", \"sloping\", \"celebration\", \"year_old_daughter\", \"bacon\", \"toothpaste\", \"view_eiffel_tower\", \"love\", \"cost\", \"choice\", \"extra\", \"map\", \"italy\", \"piece\", \"mum\", \"buy\", \"ratio\", \"good_transport_link\", \"plenty\", \"swimming_pool\", \"charge\", \"superb\", \"egg\", \"privacy\", \"cold\", \"breakfast\", \"suite\", \"tidy\", \"smoke\", \"aircon\", \"shut\", \"tourist\", \"slipper\", \"boiled_egg\", \"compact\", \"carpet\", \"foam\", \"stand\", \"housekeeper\", \"marche\", \"product\", \"scrape\", \"spotify\", \"afield\", \"transport_link\", \"benedict\", \"bathrobe\", \"cell\", \"corridor\", \"rated_star\", \"soap\", \"room_ground_floor\", \"bath_mat\", \"diverse\", \"sissi\", \"impress\", \"capiccuno\", \"block_away\", \"update\", \"prob\", \"petrol\", \"maid\", \"softer\", \"comfortablebed\", \"bathroom\", \"shower\", \"water\", \"dirty\", \"wall\", \"glass\", \"door\", \"mirror\", \"tap\", \"drain\", \"lock\", \"stain\", \"socket\", \"tissue\", \"kitchenette\", \"water_pressure\", \"hole\", \"state\", \"towel\", \"fire\", \"sewage\", \"basic\", \"smell\", \"floor\", \"curtain\", \"head\", \"hair\", \"toilet\", \"ceiling\", \"history\", \"toiletry\", \"lack\", \"order\", \"service\", \"delightful\", \"dinner\", \"shop\", \"food\", \"wine\", \"cafe\", \"coffee_machine_room\", \"berry\", \"penthouse\", \"bloody\", \"eur\", \"expensive_per_person\", \"type\", \"across_road\", \"recommend\", \"supermarket\", \"doh\", \"background\", \"cleanliess\", \"fantastic\", \"misery\", \"front_office\", \"jug\", \"breakfasr\", \"traffic\", \"village\", \"annoying\", \"realyy\", \"meterage\", \"restaurant\", \"pub\", \"charm\", \"public_transportation\", \"locker\", \"son\", \"kettle_tea_coffee\", \"handy\", \"business_leisure\", \"pleasant\", \"king_cross\", \"premium\", \"putney\", \"plunge\", \"mobility\", \"customer\", \"menu\", \"upgrade\", \"amenity\", \"exceeded_expectation\", \"resteraunt\", \"average\", \"welcoming\", \"desk\", \"gym\", \"room\", \"level\", \"feel\", \"superb\", \"good_value_money\", \"advice\", \"definitely_recommend_hotel\", \"neighbour\", \"message\", \"tv_remote\", \"renovation\", \"spoil\", \"silence\", \"tub\", \"sliding_door\", \"thing\", \"cover\", \"strauss\", \"resolve\", \"across_street\", \"duty\", \"watch\", \"broaken\", \"backyard\", \"tea_coffee_facility\", \"tourism\", \"helpfull\", \"wounderful\", \"girlfriend\", \"john\", \"calm\", \"fab\", \"pin\", \"misunderstood\", \"set\", \"sooo\", \"previous_guest\", \"oxford_st\", \"genius\", \"funky\", \"etoile\", \"reciption\", \"disturb\", \"trip\", \"sign\", \"site\", \"secure\", \"spot\", \"whole_experience\", \"make\", \"close_train_station\", \"staff\", \"hotel\", \"location\", \"clean\", \"paris\", \"full_english_breakfast\", \"contact\", \"thought\", \"twin\", \"stair\", \"grea\", \"tapa\", \"stitch\", \"pool\", \"shame\", \"helpfulness\", \"evening_meal\", \"bathtub\", \"catalunya\", \"alow\", \"mac\", \"fact\", \"vacuum\", \"decrepit\", \"description\", \"campus\", \"rooster\", \"close_city_center\", \"atmoshere\", \"swing\", \"jusrt\", \"rapport\", \"interior_design\", \"element\", \"enter\", \"bistro\", \"parent\", \"locality\", \"desperate\", \"traveler\", \"internet\", \"temperature\", \"year\", \"design\", \"surprise\", \"front_desk\", \"card\", \"bonus\", \"construction\", \"equipment\", \"star\", \"building\", \"lighting\", \"barman\", \"sky\", \"rambla\", \"communication\", \"mistake\", \"clock\", \"work\", \"minibar\", \"cleaning\", \"music\", \"system\", \"feature\", \"issue\", \"gym\", \"brilliant\", \"air_condition\", \"hotel\", \"morning\", \"style\", \"town\", \"sponge\", \"comfortable\", \"waking\", \"show\", \"double\", \"pack\", \"went_extra_mile\", \"availbe\", \"ggod\", \"hotel_booking_com\", \"douvet\", \"leisure\", \"vracar\", \"flop\", \"challenge\", \"close_public_transport\", \"bring\", \"neat\", \"solution\", \"repair\", \"nexpresso\", \"network\", \"reall\", \"arrivo\", \"luca\", \"rocco\", \"gameday\", \"bond_street\", \"remote\", \"wheel\", \"facility\", \"excellent\", \"switch\", \"localization\", \"flower\", \"atm\", \"creamer\", \"chino\", \"met_expectation\", \"easy_access\", \"whilst\", \"decor\", \"dining\", \"efficient\", \"staff\", \"location\", \"club_lounge\", \"cleanness\", \"ground\", \"english\", \"desk\", \"air\", \"fan\", \"roof_top_bar\", \"lift\", \"ceiling\", \"quietness\", \"reservation\", \"hair_dryer\", \"impression\", \"body\", \"summer\", \"smiley\", \"brochure\", \"house_keeping\", \"ingredient\", \"support\", \"night\", \"company\", \"espresso\", \"news\", \"strange\", \"male\", \"miniature\", \"inform\", \"priority\", \"dark\", \"ample\", \"ate\", \"evening\", \"disability\", \"road\", \"mark\", \"contrast\", \"roof\", \"bec\", \"lot\", \"noise\", \"street\", \"basement\", \"fun\", \"guess\", \"noisy\", \"light_switch\", \"colleague\", \"sleep\", \"window\", \"week\", \"neighbourhood\", \"ventilation\", \"hear\", \"morning\", \"room\", \"attitude\", \"control\", \"toilet\", \"wasnt\", \"spot\", \"work\", \"reason\", \"elevator\", \"coffee\", \"tea\", \"wait\", \"cup\", \"recomend\", \"occasion\", \"heel\", \"booklet\", \"orgasm\", \"throe\", \"courtyard\", \"lavender\", \"coffe\", \"bag\", \"milk\", \"admit\", \"tiny\", \"gracechurch\", \"kettle\", \"care\", \"working\", \"stuf\", \"juat\", \"airy\", \"yummy\", \"recaiption\", \"bus_route\", \"apple\", \"fire_alarm\", \"check\", \"key\", \"pot\", \"cupboard\", \"personel\", \"holiday\", \"meet\", \"elegance\", \"orange_juice\", \"biscuit\", \"sugar\", \"tad\", \"telephone\", \"luggage\", \"problem\", \"hour\", \"chocolate\", \"taxi\", \"touch\", \"machine\", \"club\", \"phone\", \"airport\", \"fridge\", \"front\", \"quiet\", \"room\", \"spa\", \"morning\", \"complaint\", \"oxford_street\", \"commend\", \"member\", \"tradition\", \"comparison\", \"ambiance\", \"hadnot\", \"view_st_paul\", \"helper\", \"eifel_tower\", \"authority\", \"ferry\", \"starting\", \"five_star_hotel\", \"land\", \"debbie\", \"suggestion\", \"comfiest\", \"shopper\", \"action\", \"kindness\", \"inconsistent\", \"weird\", \"compliment\", \"hall\", \"trocadero\", \"petrichor\", \"bellman\", \"tender\", \"location_walking_distance\", \"tourist_attraction\", \"assist\", \"load\", \"milano_centrale\", \"wish_stayed_longer\", \"saturday\", \"school\", \"baggage\", \"volume\", \"shower_gel\", \"dish\", \"medium\", \"appearance\", \"gallery\", \"owner\", \"gbp\", \"dresser\", \"minute_walk_duomo\", \"kind\", \"hyde_park\", \"point\", \"clean\", \"hallway\", \"staff\", \"location\", \"attention\", \"property\", \"transportation\", \"value_money\", \"executive_lounge\", \"sheet\", \"town\", \"accomodation\", \"helpful\", \"excellent\", \"number\", \"deal\", \"neighborhood\", \"amsterdam\", \"distance\", \"square\", \"walk\", \"tram\", \"mobile_phone\", \"prepaid\", \"line\", \"end\", \"min\", \"cool\", \"nespresso_coffee_machine\", \"rarity\", \"park\", \"snooty\", \"tower_bridge\", \"burger\", \"franco\", \"district\", \"shepherd_bush\", \"shampoo_conditioner\", \"walking\", \"concert\", \"bell_boy\", \"laundery\", \"underground\", \"buffett\", \"british_museum\", \"convenient\", \"minute\", \"call\", \"near_train_station\", \"opera\", \"chelsea\", \"palace\", \"cookie\", \"courtesy\", \"respond\", \"rent\", \"theatre\", \"book\", \"lift\", \"travel\", \"amazing\", \"bus\", \"city_center\", \"entrance\", \"market\", \"transport\", \"step\", \"location\", \"paris\", \"stair\", \"breakfast\", \"area\", \"room\", \"term\", \"center\", \"weekend\", \"milan\", \"hilton\", \"position\", \"house\", \"close_metro_station\", \"perfume\", \"improvement\", \"hate\", \"nuisance\", \"photo\", \"shower_cubicle\", \"stadium\", \"refresh\", \"library\", \"rest\", \"experience\", \"centre\", \"home\", \"fitness\", \"stoff\", \"worn\", \"keycard\", \"material\", \"interiorv\", \"job\", \"beat\", \"police\", \"stay\", \"city\", \"adult\", \"family\", \"first_impression\", \"booking_com_hotel\", \"route\", \"rip\", \"difference\", \"business\", \"couple\", \"friend\", \"heart\", \"life\", \"shopping\", \"kid\", \"hotel\", \"milano\", \"air\", \"deposit\", \"london\"], \"Freq\": [3965.0, 2758.0, 1583.0, 2368.0, 1802.0, 761.0, 513.0, 479.0, 416.0, 345.0, 317.0, 318.0, 298.0, 277.0, 266.0, 259.0, 258.0, 240.0, 234.0, 235.0, 231.0, 204.0, 204.0, 230.0, 198.0, 192.0, 189.0, 185.0, 159.0, 166.0, 1.003261578252316, 8.026092626018528, 4.013046313009264, 17.055446830289373, 1.003261578252316, 1.003261578252316, 4.013046313009264, 3.009784734756948, 8.026092626018528, 3.009784734756948, 1.003261578252316, 5.01630789126158, 1.003261578252316, 4.013046313009264, 17.055446830289373, 12.039138939027792, 2.006523156504632, 2.006523156504632, 8.026092626018528, 1.003261578252316, 1.003261578252316, 2.006523156504632, 1.003261578252316, 8.026092626018528, 1.003261578252316, 1.003261578252316, 6.019569469513896, 1.003261578252316, 6.019569469513896, 3.009784734756948, 81.26418783843759, 49.15981733436349, 45.14677102135422, 45.14677102135422, 21.06849314329864, 21.06849314329864, 11.035877360775476, 11.035877360775476, 7.022831047766212, 7.022831047766212, 5.01630789126158, 5.01630789126158, 4.013046313009264, 3.009784734756948, 39.12720155184032, 24.078277878055584, 128.41748201629645, 13.04240051728011, 12.039138939027792, 949.085453026691, 10.03261578252316, 38.12393997358801, 9.029354204270843, 9.029354204270843, 6.019569469513896, 13.04240051728011, 7.022831047766212, 7.022831047766212, 1.0261316412331576, 35.91460744316052, 204.20019660539836, 1.0261316412331576, 1.0261316412331576, 10.261316412331576, 30.783949236994733, 1.0261316412331576, 1.0261316412331576, 4.10452656493263, 43.097528931792624, 41.0452656493263, 1.0261316412331576, 8.20905312986526, 3.0783949236994728, 1.0261316412331576, 1.0261316412331576, 16.41810625973052, 1.0261316412331576, 1.0261316412331576, 1.0261316412331576, 1.0261316412331576, 1.0261316412331576, 1.0261316412331576, 9.23518477109842, 1.0261316412331576, 1.0261316412331576, 7.182921488632104, 1.0261316412331576, 1.0261316412331576, 11.287448053564734, 5.130658206165788, 3.0783949236994728, 3.0783949236994728, 3.0783949236994728, 3.0783949236994728, 3.0783949236994728, 37.96687072562683, 2.052263282466315, 2.052263282466315, 2.052263282466315, 2.052263282466315, 2.052263282466315, 2.052263282466315, 33.8623441606942, 65.67242503892209, 107.74382232948155, 95.43024263468365, 13.33971133603105, 12.313579694797891, 11.287448053564734, 16.41810625973052, 8.20905312986526, 9.23518477109842, 19.496501183429995, 659.8026453129204, 25.653291030828942, 7.182921488632104, 5.130658206165788, 6.1567898473989455, 15.391974618497366, 66.69855668015525, 6.1567898473989455, 416.55659658193946, 2.0270393994254965, 3.0405590991382443, 12.162236396552977, 12.162236396552977, 7.094637897989236, 33.44615009052069, 60.811181982764886, 6.081118198276489, 24.324472793105954, 9.121677297414733, 33.44615009052069, 11.148716696840228, 4.054078798850993, 29.392071291669694, 1.0135196997127482, 54.7300637844884, 3.0405590991382443, 1.0135196997127482, 4.054078798850993, 3.0405590991382443, 1.0135196997127482, 2.0270393994254965, 15.202795495691221, 1.0135196997127482, 3.0405590991382443, 7.094637897989236, 22.297433393680457, 1.0135196997127482, 11.148716696840228, 316.2181463103774, 39.527268288797174, 26.351512192531448, 26.351512192531448, 16.216315195403972, 13.175756096265724, 10.13519699712748, 9.121677297414733, 9.121677297414733, 8.108157597701986, 8.108157597701986, 8.108157597701986, 7.094637897989236, 67.90581988075412, 22.297433393680457, 28.378551591956946, 10.13519699712748, 12.162236396552977, 24.324472793105954, 13.175756096265724, 12.162236396552977, 16.216315195403972, 23.310953093393206, 12.162236396552977, 15.202795495691221, 11.087076366917733, 13.102908433630049, 1.0079160333561574, 2.015832066712315, 1.0079160333561574, 2.015832066712315, 3.0237481000684725, 3.0237481000684725, 1.0079160333561574, 6.047496200136945, 4.03166413342463, 1.0079160333561574, 1.0079160333561574, 1.0079160333561574, 1.0079160333561574, 4.03166413342463, 23.182068767191623, 4.03166413342463, 26.205816867260097, 2.015832066712315, 5.039580166780787, 1.0079160333561574, 1.0079160333561574, 9.071244300205418, 4.03166413342463, 4.03166413342463, 1.0079160333561574, 1.0079160333561574, 1.0079160333561574, 1.0079160333561574, 203.5990387379438, 11.087076366917733, 6.047496200136945, 5.039580166780787, 5.039580166780787, 96.75993920219112, 4.03166413342463, 4.03166413342463, 3.0237481000684725, 3.0237481000684725, 3.0237481000684725, 3.0237481000684725, 3.0237481000684725, 3.0237481000684725, 16.12665653369852, 10.079160333561575, 22.174152733835466, 1065.3672472574585, 18.142488600410836, 5.039580166780787, 8.06332826684926, 14.110824466986205, 6.047496200136945, 5.039580166780787, 13.102908433630049, 5.039580166780787, 5.039580166780787, 4.03166413342463, 4.03166413342463, 4.03166413342463, 240.8695313393583, 7.144435251591136, 6.123801644220974, 3.061900822110487, 10.206336073701623, 3.061900822110487, 5.103168036850811, 3.061900822110487, 3.061900822110487, 3.061900822110487, 3.061900822110487, 5.103168036850811, 3.061900822110487, 5.103168036850811, 3.061900822110487, 16.330137717922597, 1.0206336073701623, 15.309504110552433, 11.226969681071786, 1.0206336073701623, 1.0206336073701623, 1.0206336073701623, 1.0206336073701623, 21.43330575477341, 1.0206336073701623, 1.0206336073701623, 1.0206336073701623, 2.0412672147403246, 1.0206336073701623, 1.0206336073701623, 756.2895030612902, 8.165068858961298, 4.082534429480649, 4.082534429480649, 2.0412672147403246, 2.0412672147403246, 2.0412672147403246, 2.0412672147403246, 2.0412672147403246, 2.0412672147403246, 54.0935811906186, 24.495206576883895, 25.515840184254056, 10.206336073701623, 13.268236895812109, 16.330137717922597, 6.123801644220974, 9.18570246633146, 9.18570246633146, 333.74718961004305, 7.144435251591136, 4.082534429480649, 5.103168036850811, 5.103168036850811, 16.330137717922597, 4.082534429480649, 4.082534429480649, 4.082534429480649, 8.210152968346868, 6.157614726260151, 1.0262691210433585, 4.105076484173434, 40.02449572069098, 89.2854135307722, 9.236422089390228, 6.157614726260151, 9.236422089390228, 1.0262691210433585, 3.0788073631300756, 12.315229452520303, 10.262691210433585, 1.0262691210433585, 1.0262691210433585, 1.0262691210433585, 26.682997147127324, 1.0262691210433585, 4.105076484173434, 1.0262691210433585, 1.0262691210433585, 1.0262691210433585, 3.0788073631300756, 33.86688099443083, 5.131345605216793, 20.52538242086717, 2.052538242086717, 9.236422089390228, 3.0788073631300756, 3.0788073631300756, 276.06639356066347, 233.98935959788574, 12.315229452520303, 12.315229452520303, 11.288960331476945, 54.392263415298004, 5.131345605216793, 5.131345605216793, 45.15584132590778, 4.105076484173434, 4.105076484173434, 4.105076484173434, 4.105076484173434, 4.105076484173434, 33.86688099443083, 25.656728026083965, 16.420305936693737, 22.57792066295389, 24.630458905040605, 11.288960331476945, 9.236422089390228, 11.288960331476945, 8.210152968346868, 12.315229452520303, 17.446575057737096, 9.236422089390228, 433.0855690802973, 9.236422089390228, 11.288960331476945, 10.262691210433585, 21.369696737709393, 2.03520921311518, 52.91543954099469, 13.228859885248673, 13.228859885248673, 4.07041842623036, 35.616161229515654, 1.01760460655759, 1.01760460655759, 1.01760460655759, 1.01760460655759, 20.352092131151803, 21.369696737709393, 1.01760460655759, 6.105627639345541, 1.01760460655759, 4.07041842623036, 4.07041842623036, 1.01760460655759, 21.369696737709393, 1.01760460655759, 1.01760460655759, 1.01760460655759, 1.01760460655759, 1.01760460655759, 1.01760460655759, 14.246464491806263, 4.07041842623036, 1.01760460655759, 1.01760460655759, 109.90129750821974, 7.123232245903131, 49.86262572132191, 5.088023032787951, 4.07041842623036, 3.0528138196727705, 3.0528138196727705, 3.0528138196727705, 3.0528138196727705, 3.0528138196727705, 2.03520921311518, 2.03520921311518, 2.03520921311518, 2.03520921311518, 2.03520921311518, 41.721788868861196, 17.299278311479032, 17.299278311479032, 12.211255278691082, 40.704184262303606, 8.14083685246072, 7.123232245903131, 9.158441459018311, 8.14083685246072, 990.1292821805353, 13.228859885248673, 9.158441459018311, 22.387301344266984, 7.123232245903131, 18.316882918036622, 8.14083685246072, 6.105627639345541, 7.123232245903131, 1.010095501249698, 6.0605730074981885, 10.10095501249698, 6.0605730074981885, 1.010095501249698, 231.31186978618086, 1.010095501249698, 6.0605730074981885, 3.0302865037490943, 73.73697159122797, 47.474488558735814, 1.010095501249698, 7.070668508747887, 33.333151541240035, 5.05047750624849, 1.010095501249698, 1.010095501249698, 14.141337017495774, 4.040382004998792, 1.010095501249698, 6.0605730074981885, 6.0605730074981885, 5.05047750624849, 6.0605730074981885, 1.010095501249698, 21.212005526243658, 1.010095501249698, 1.010095501249698, 1.010095501249698, 1.010095501249698, 87.87830860872373, 84.84802210497463, 14.141337017495774, 8.080764009997583, 7.070668508747887, 7.070668508747887, 6.0605730074981885, 6.0605730074981885, 6.0605730074981885, 6.0605730074981885, 5.05047750624849, 5.05047750624849, 5.05047750624849, 5.05047750624849, 207.0695777561881, 18.181719022494566, 16.161528019995167, 54.5451570674837, 12.121146014996377, 15.151432518745471, 15.151432518745471, 16.161528019995167, 20.20191002499396, 14.141337017495774, 489.89631810610354, 18.181719022494566, 9.090859511247283, 7.070668508747887, 9.090859511247283, 7.070668508747887, 9.090859511247283, 14.141337017495774, 2.015533064445204, 1.007766532222602, 69.53589072335953, 32.24852903112326, 1.007766532222602, 1.007766532222602, 1.007766532222602, 3.0232995966678056, 1.007766532222602, 1.007766532222602, 1.007766532222602, 2.015533064445204, 4.031066128890408, 1.007766532222602, 3.0232995966678056, 6.046599193335611, 10.07766532222602, 10.07766532222602, 1.007766532222602, 1.007766532222602, 1.007766532222602, 1.007766532222602, 3.0232995966678056, 1.007766532222602, 1.007766532222602, 2.015533064445204, 2.015533064445204, 9.069898790003418, 1.007766532222602, 1.007766532222602, 233.80183547564363, 66.51259112669172, 8.062132257780815, 50.3883266111301, 66.51259112669172, 3.0232995966678056, 3.0232995966678056, 3.0232995966678056, 3.0232995966678056, 2.015533064445204, 2.015533064445204, 2.015533064445204, 2.015533064445204, 165.27371128450673, 18.139797580006835, 11.08543185444862, 8.062132257780815, 7.054365725558213, 7.054365725558213, 795.1277939236329, 6.046599193335611, 6.046599193335611, 36.27959516001367, 5.03883266111301, 7.054365725558213, 12.093198386671222, 11.08543185444862, 7.054365725558213, 4.031066128890408, 7.054365725558213, 5.03883266111301, 6.046599193335611, 4.031066128890408, 1.022853385588171, 23.525627868527927, 259.8047599393954, 56.2569362073494, 21.47992109735159, 1.022853385588171, 12.27424062705805, 114.55957918587514, 1.022853385588171, 10.228533855881707, 9.205680470293538, 4.091413542352684, 3.0685601567645127, 3.0685601567645127, 1.022853385588171, 1.022853385588171, 2.045706771176342, 14.319947398234392, 5.114266927940854, 1.022853385588171, 5.114266927940854, 1.022853385588171, 1.022853385588171, 1.022853385588171, 1.022853385588171, 1.022853385588171, 1.022853385588171, 5.114266927940854, 4.091413542352684, 6.137120313529025, 12.27424062705805, 57.27978959293757, 129.9023799696977, 5.114266927940854, 4.091413542352684, 4.091413542352684, 3.0685601567645127, 3.0685601567645127, 3.0685601567645127, 3.0685601567645127, 3.0685601567645127, 37.845575266762324, 29.662748182056955, 45.00554896587952, 58.30264297852573, 17.388507554998903, 9.205680470293538, 30.68560156764513, 599.3920839546681, 18.411360940587077, 9.205680470293538, 7.159973699117196, 6.137120313529025, 5.114266927940854, 8.182827084705368, 6.137120313529025, 5.114266927940854, 3.9295810348270743, 42.24299612439105, 1.9647905174135372, 4.911976293533843, 0.9823952587067686, 0.9823952587067686, 15.718324139308297, 0.9823952587067686, 0.9823952587067686, 0.9823952587067686, 1.9647905174135372, 0.9823952587067686, 7.859162069654149, 4.911976293533843, 30.454253019909824, 0.9823952587067686, 10.806347845774454, 1.9647905174135372, 0.9823952587067686, 1.9647905174135372, 0.9823952587067686, 0.9823952587067686, 0.9823952587067686, 3.9295810348270743, 3.9295810348270743, 0.9823952587067686, 1.9647905174135372, 4.911976293533843, 1.9647905174135372, 0.9823952587067686, 477.44409573148954, 192.54947070652662, 134.5881504428273, 47.15497241792489, 41.26060086568428, 37.33101983085721, 118.869826303519, 17.683114656721834, 11.788743104481222, 8.841557328360917, 7.859162069654149, 6.87676681094738, 6.87676681094738, 6.87676681094738, 6.87676681094738, 5.894371552240611, 5.894371552240611, 5.894371552240611, 45.19018190051135, 4.911976293533843, 4.911976293533843, 4.911976293533843, 48.137367676631655, 167.98958923885743, 35.36622931344367, 15.718324139308297, 15.718324139308297, 37.33101983085721, 16.700719398015064, 8.841557328360917, 18.665509915428604, 13.75353362189476, 13.75353362189476, 513.7474173657739, 4.202432861887721, 33.61946289510177, 61.9858847128439, 317.283681072523, 18.91094787849475, 16.809731447550885, 10.506082154719303, 1.0506082154719303, 1.0506082154719303, 1.0506082154719303, 4.202432861887721, 1.0506082154719303, 11.556690370191236, 11.556690370191236, 19.961556093966678, 12.607298585663164, 1.0506082154719303, 1.0506082154719303, 1.0506082154719303, 4.202432861887721, 1.0506082154719303, 1.0506082154719303, 1.0506082154719303, 1.0506082154719303, 10.506082154719303, 1.0506082154719303, 1.0506082154719303, 1.0506082154719303, 1.0506082154719303, 343.54888645932124, 15.759123232078956, 7.354257508303513, 6.303649292831582, 5.253041077359652, 4.202432861887721, 3.151824646415791, 3.151824646415791, 3.151824646415791, 35.720679326045634, 2.1012164309438606, 2.1012164309438606, 2.1012164309438606, 2.1012164309438606, 2.1012164309438606, 57.78345185095617, 33.61946289510177, 14.708515016607025, 26.265205386798257, 5.253041077359652, 5.253041077359652, 5.253041077359652, 4.202432861887721, 9.455473939247375, 10.506082154719303, 46.22676148076494, 5.253041077359652, 5.253041077359652, 5.253041077359652, 29.03020792723676, 7.526350203357678, 3.2255786585818624, 3.2255786585818624, 3.2255786585818624, 3.2255786585818624, 22.579050610073036, 3.2255786585818624, 3.2255786585818624, 6.451157317163725, 3.2255786585818624, 107.51928861939541, 8.601543089551633, 1.0751928861939541, 1.0751928861939541, 4.300771544775817, 1.0751928861939541, 13.977507520521403, 1.0751928861939541, 4.300771544775817, 10.751928861939541, 1.0751928861939541, 16.127893292909313, 1.0751928861939541, 1.0751928861939541, 1.0751928861939541, 4.300771544775817, 23.654243496266993, 2.1503857723879083, 1.0751928861939541, 4.300771544775817, 4.300771544775817, 2.1503857723879083, 2.1503857723879083, 2.1503857723879083, 2.1503857723879083, 2.1503857723879083, 2.1503857723879083, 2.1503857723879083, 38.706943902982346, 10.751928861939541, 27.955015041042806, 6.451157317163725, 17.203086179103266, 5.375964430969771, 12.90231463432745, 9.676735975745586, 567.7018439104078, 369.8663528507202, 281.70053618281594, 33.33097947201258, 15.052700406715356, 4.300771544775817, 4.300771544775817, 5.375964430969771, 6.451157317163725, 5.375964430969771, 1.0508942460000439, 3.1526827380001317, 1.0508942460000439, 116.64926130600487, 14.712519444000614, 4.2035769840001755, 6.305365476000263, 6.305365476000263, 3.1526827380001317, 1.0508942460000439, 3.1526827380001317, 32.57772162600136, 1.0508942460000439, 1.0508942460000439, 6.305365476000263, 1.0508942460000439, 1.0508942460000439, 4.2035769840001755, 1.0508942460000439, 1.0508942460000439, 1.0508942460000439, 1.0508942460000439, 14.712519444000614, 3.1526827380001317, 4.2035769840001755, 3.1526827380001317, 8.407153968000351, 3.1526827380001317, 1.0508942460000439, 3.1526827380001317, 54.646500792002286, 42.035769840001755, 37.83219285600158, 86.17332817200361, 26.272356150001098, 23.119673412000967, 22.068779166000922, 16.814307936000702, 15.76341369000066, 11.559836706000484, 56.74828928400237, 74.61349146600313, 5.254471230000219, 5.254471230000219, 5.254471230000219, 5.254471230000219, 4.2035769840001755, 4.2035769840001755, 4.2035769840001755, 156.58324265400654, 23.119673412000967, 21.017884920000878, 17.865202182000747, 29.42503888800123, 12.610730952000527, 40.984875594001714, 43.086664086001804, 19.966990674000833, 8.407153968000351, 432.9684293520181, 38.88308710200163, 17.865202182000747, 9.458048214000396, 1.0547406754271678, 30.587479587387868, 1.0547406754271678, 13.711628780553182, 3.1642220262815037, 4.218962701708671, 3.1642220262815037, 1.0547406754271678, 1.0547406754271678, 1.0547406754271678, 1.0547406754271678, 4.218962701708671, 1.0547406754271678, 1.0547406754271678, 4.218962701708671, 4.218962701708671, 3.1642220262815037, 3.1642220262815037, 6.3284440525630075, 8.437925403417342, 1.0547406754271678, 1.0547406754271678, 1.0547406754271678, 1.0547406754271678, 1.0547406754271678, 1.0547406754271678, 1.0547406754271678, 1.0547406754271678, 1.0547406754271678, 4.218962701708671, 265.7946502076463, 194.07228427859891, 6.3284440525630075, 3.1642220262815037, 3.1642220262815037, 3.1642220262815037, 2.1094813508543355, 2.1094813508543355, 2.1094813508543355, 16.875850806834684, 5.273703377135839, 52.73703377135839, 4.218962701708671, 11.602147429698848, 559.012557976399, 458.81219381081803, 6.3284440525630075, 6.3284440525630075, 5.273703377135839, 5.273703377135839, 9.492666078844511, 7.383184727990175, 5.273703377135839, 4.218962701708671, 5.273703377135839, 4.218962701708671, 3.027599054473337, 19.174794011664467, 3.027599054473337, 6.055198108946674, 3.027599054473337, 6.055198108946674, 3.027599054473337, 3.027599054473337, 3.027599054473337, 3.027599054473337, 3.027599054473337, 298.7231067080359, 8.073597478595566, 1.0091996848244458, 4.036798739297783, 1.0091996848244458, 1.0091996848244458, 1.0091996848244458, 1.0091996848244458, 1.0091996848244458, 27.248391490260037, 1.0091996848244458, 4.036798739297783, 11.101196533068903, 1.0091996848244458, 46.4231855019245, 5.045998424122229, 2.0183993696488916, 11.101196533068903, 1.0091996848244458, 136.24195745130018, 93.85557068867344, 82.75437415560455, 15.137995272366686, 11.101196533068903, 8.073597478595566, 50.45998424122228, 4.036798739297783, 4.036798739297783, 41.377187077802276, 100.91996848244456, 18.165594326840022, 10.091996848244458, 8.073597478595566, 7.0643977937711195, 39.35878770815338, 552.0322275989718, 10.091996848244458, 13.119595902717794, 10.091996848244458, 5.045998424122229, 6.055198108946674, 9.082797163420011, 5.045998424122229, 51.315168596651375, 159.18174748348997, 82.7326187578665, 36.65369185475099, 20.94496677414342, 1.047248338707171, 9.425235048364538, 2.094496677414342, 1.047248338707171, 1.047248338707171, 1.047248338707171, 6.283490032243026, 1.047248338707171, 7.330738370950196, 30.37020182250796, 32.4646984999223, 1.047248338707171, 16.755973419314735, 1.047248338707171, 16.755973419314735, 18.850470096729076, 1.047248338707171, 1.047248338707171, 1.047248338707171, 5.236241693535855, 3.141745016121513, 1.047248338707171, 1.047248338707171, 8.377986709657367, 3.141745016121513, 128.81154566098203, 10.47248338707171, 6.283490032243026, 5.236241693535855, 5.236241693535855, 4.188993354828684, 4.188993354828684, 4.188993354828684, 4.188993354828684, 4.188993354828684, 3.141745016121513, 3.141745016121513, 3.141745016121513, 25.133960128972102, 82.7326187578665, 64.9293969998446, 18.850470096729076, 36.65369185475099, 27.228456806386443, 15.708725080607563, 19.897718435436246, 15.708725080607563, 39.79543687087249, 26.181208467679276, 15.708725080607563, 13.614228403193222, 525.7186660309999, 19.897718435436246, 17.803221758021905, 9.425235048364538, 5.021486184381814, 1.0042972368763627, 34.14610605379634, 2.0085944737527255, 4.017188947505451, 9.038675131887263, 1.0042972368763627, 1.0042972368763627, 1.0042972368763627, 1.0042972368763627, 1.0042972368763627, 4.017188947505451, 1.0042972368763627, 7.03008065813454, 1.0042972368763627, 1.0042972368763627, 7.03008065813454, 1.0042972368763627, 1.0042972368763627, 2.0085944737527255, 5.021486184381814, 1.0042972368763627, 1.0042972368763627, 1.0042972368763627, 15.06445855314544, 1.0042972368763627, 1.0042972368763627, 1.0042972368763627, 1.0042972368763627, 3.0128917106290882, 11.04726960563999, 5.021486184381814, 5.021486184381814, 4.017188947505451, 4.017188947505451, 4.017188947505451, 3.0128917106290882, 3.0128917106290882, 3.0128917106290882, 3.0128917106290882, 2.0085944737527255, 2.0085944737527255, 2.0085944737527255, 2.0085944737527255, 2.0085944737527255, 2.0085944737527255, 2.0085944737527255, 2.0085944737527255, 72.3094010550981, 12.051566842516353, 14.06016131626908, 91.39104855574901, 7.03008065813454, 756.2358193679011, 518.2173742282031, 7.03008065813454, 10.042972368763628, 4.017188947505451, 15.06445855314544, 6.0257834212581765, 7.03008065813454, 11.04726960563999, 5.021486184381814, 24.103133685032706, 4.017188947505451, 4.017188947505451, 14.733260095438187, 15.785635816540914, 22.099890143157282, 13.68088437433546, 21.04751442205455, 111.55182643688913, 54.72353749734184, 6.314254326616366, 1.0523757211027276, 38.93790168080093, 24.204641585362737, 73.66630047719094, 17.89038725874637, 1.0523757211027276, 1.0523757211027276, 30.518895911979104, 1.0523757211027276, 3.157127163308183, 3.157127163308183, 1.0523757211027276, 13.68088437433546, 1.0523757211027276, 1.0523757211027276, 4.20950288441091, 8.41900576882182, 3.157127163308183, 1.0523757211027276, 12.628508653232732, 3.157127163308183, 6.314254326616366, 93.66143917814277, 87.34718485152639, 17.89038725874637, 10.523757211027275, 6.314254326616366, 6.314254326616366, 6.314254326616366, 6.314254326616366, 5.261878605513638, 5.261878605513638, 4.20950288441091, 24.204641585362737, 35.78077451749274, 82.08530624601276, 22.099890143157282, 19.995138700951824, 52.61878605513638, 21.04751442205455, 28.414144469773646, 11.576132932130005, 13.68088437433546, 14.733260095438187, 429.3692942099129, 18.942762979849096, 13.68088437433546, 34.72839879639002, 16.83801153764364, 18.942762979849096, 7.184165546141622, 49.262849459256834, 28.736662184566487, 22.578806002159386, 11.289403001079693, 42.07868391311521, 14.368331092283244, 7.184165546141622, 3.078928091203552, 11.289403001079693, 3.078928091203552, 3.078928091203552, 7.184165546141622, 6.157856182407104, 7.184165546141622, 3.078928091203552, 3.078928091203552, 18.473568547221316, 48.23654009552232, 65.68379927900912, 38.99975582191166, 15.394640456017763, 1.0263093637345175, 1.0263093637345175, 1.0263093637345175, 2.052618727469035, 1.0263093637345175, 10.263093637345175, 5.131546818672588, 1.0263093637345175, 257.60365029736386, 134.44652664922177, 9.236784273610658, 56.44701500539846, 5.131546818672588, 5.131546818672588, 5.131546818672588, 5.131546818672588, 4.10523745493807, 28.736662184566487, 28.736662184566487, 24.631424729628417, 16.42094981975228, 14.368331092283244, 29.762971548301007, 12.315712364814209, 510.07575377605514, 9.236784273610658, 14.368331092283244, 8.21047490987614, 12.315712364814209], \"Total\": [3965.0, 2758.0, 1583.0, 2368.0, 1802.0, 761.0, 513.0, 479.0, 416.0, 345.0, 317.0, 318.0, 298.0, 277.0, 266.0, 259.0, 258.0, 240.0, 234.0, 235.0, 231.0, 204.0, 204.0, 230.0, 198.0, 192.0, 189.0, 185.0, 159.0, 166.0, 1.003261578252316, 8.026092626018528, 4.013046313009264, 17.055446830289373, 1.003261578252316, 1.003261578252316, 4.013046313009264, 3.009784734756948, 8.026092626018528, 3.009784734756948, 1.003261578252316, 5.01630789126158, 1.003261578252316, 4.013046313009264, 17.055446830289373, 12.039138939027792, 2.006523156504632, 2.006523156504632, 8.026092626018528, 1.003261578252316, 1.003261578252316, 2.006523156504632, 1.003261578252316, 8.026092626018528, 1.003261578252316, 1.003261578252316, 6.019569469513896, 1.003261578252316, 6.019569469513896, 3.009784734756948, 81.26418783843759, 49.15981733436349, 45.14677102135422, 45.14677102135422, 21.06849314329864, 21.06849314329864, 11.035877360775476, 11.035877360775476, 7.022831047766212, 7.022831047766212, 5.01630789126158, 5.01630789126158, 4.013046313009264, 3.009784734756948, 41.16765954398608, 26.14417329887106, 153.7900105156168, 14.050167049502711, 13.04923444027749, 1583.2059357777491, 11.041815467347607, 51.56328607745286, 10.037120736493446, 10.055663568005361, 7.0458385905572545, 44.754311448659756, 12.061663708879223, 14.206996593907835, 1.0261316412331576, 35.91460744316052, 204.20019660539836, 1.0261316412331576, 1.0261316412331576, 10.261316412331576, 30.783949236994733, 1.0261316412331576, 1.0261316412331576, 4.10452656493263, 43.097528931792624, 41.0452656493263, 1.0261316412331576, 8.20905312986526, 3.0783949236994728, 1.0261316412331576, 1.0261316412331576, 16.41810625973052, 1.0261316412331576, 1.0261316412331576, 1.0261316412331576, 1.0261316412331576, 1.0261316412331576, 1.0261316412331576, 9.23518477109842, 1.0261316412331576, 1.0261316412331576, 7.182921488632104, 1.0261316412331576, 1.0261316412331576, 11.287448053564734, 5.130658206165788, 3.0783949236994728, 3.0783949236994728, 3.0783949236994728, 3.0783949236994728, 3.0783949236994728, 38.97013230387915, 2.052263282466315, 2.052263282466315, 2.052263282466315, 2.052263282466315, 2.052263282466315, 2.052263282466315, 34.882977768064364, 70.79522685772658, 122.94661782517277, 108.74921657775018, 14.35731594258864, 13.322779379622336, 12.305052660122325, 18.470724987199556, 9.284246016059214, 11.336973263098507, 28.655513224346418, 2368.573808496777, 48.73379593139289, 9.287672930837559, 6.15129181353595, 8.163313003903578, 43.58901515288896, 2758.917908875992, 19.059104481726393, 416.55659658193946, 2.0270393994254965, 3.0405590991382443, 12.162236396552977, 12.162236396552977, 7.094637897989236, 33.44615009052069, 60.811181982764886, 6.081118198276489, 24.324472793105954, 9.121677297414733, 33.44615009052069, 11.148716696840228, 4.054078798850993, 29.392071291669694, 1.0135196997127482, 54.7300637844884, 3.0405590991382443, 1.0135196997127482, 4.054078798850993, 3.0405590991382443, 1.0135196997127482, 2.0270393994254965, 15.202795495691221, 1.0135196997127482, 3.0405590991382443, 7.094637897989236, 22.297433393680457, 1.0135196997127482, 11.148716696840228, 318.30343469782105, 39.527268288797174, 26.351512192531448, 26.351512192531448, 16.216315195403972, 13.175756096265724, 10.13519699712748, 9.121677297414733, 9.121677297414733, 8.108157597701986, 8.108157597701986, 8.108157597701986, 7.094637897989236, 70.01057132295958, 23.300694971932774, 42.13208521385171, 11.210389883321433, 14.256733073967318, 39.08577294722332, 16.29760613457975, 15.30398141267449, 42.48152058220223, 153.7900105156168, 22.55901541490592, 122.94661782517277, 11.087076366917733, 13.102908433630049, 1.0079160333561574, 2.015832066712315, 1.0079160333561574, 2.015832066712315, 3.0237481000684725, 3.0237481000684725, 1.0079160333561574, 6.047496200136945, 4.03166413342463, 1.0079160333561574, 1.0079160333561574, 1.0079160333561574, 1.0079160333561574, 4.03166413342463, 23.182068767191623, 4.03166413342463, 26.205816867260097, 2.015832066712315, 5.039580166780787, 1.0079160333561574, 1.0079160333561574, 9.071244300205418, 4.03166413342463, 4.03166413342463, 1.0079160333561574, 1.0079160333561574, 1.0079160333561574, 1.0079160333561574, 204.6068052701664, 11.087076366917733, 6.047496200136945, 5.039580166780787, 5.039580166780787, 99.75103908333917, 4.03166413342463, 4.03166413342463, 3.0237481000684725, 3.0237481000684725, 3.0237481000684725, 3.0237481000684725, 3.0237481000684725, 3.0237481000684725, 20.157722662588927, 12.13177906103061, 31.599387782200004, 3965.2497062189204, 32.312978749128675, 6.057184773338378, 12.117407065700252, 27.612878214361906, 12.141226339933842, 10.090057673029278, 114.02287691607461, 17.45331011912783, 33.45372463655443, 6.137013024323728, 6.050063503073521, 88.86607138329123, 240.8695313393583, 7.144435251591136, 6.123801644220974, 3.061900822110487, 10.206336073701623, 3.061900822110487, 5.103168036850811, 3.061900822110487, 3.061900822110487, 3.061900822110487, 3.061900822110487, 5.103168036850811, 3.061900822110487, 5.103168036850811, 3.061900822110487, 16.330137717922597, 1.0206336073701623, 15.309504110552433, 11.226969681071786, 1.0206336073701623, 1.0206336073701623, 1.0206336073701623, 1.0206336073701623, 21.43330575477341, 1.0206336073701623, 1.0206336073701623, 1.0206336073701623, 2.0412672147403246, 1.0206336073701623, 1.0206336073701623, 761.4210498799629, 8.165068858961298, 4.082534429480649, 4.082534429480649, 2.0412672147403246, 2.0412672147403246, 2.0412672147403246, 2.0412672147403246, 2.0412672147403246, 2.0412672147403246, 57.116880787286405, 25.547582297986622, 27.617628676254142, 11.25871179480435, 16.312645793751734, 21.429467293631436, 7.128098881097337, 12.29525749055415, 14.210657946059513, 3965.2497062189204, 11.207935177692153, 5.108843793215167, 8.18695539679749, 9.208357577626309, 185.37210267788274, 12.186994284842598, 6.192015780334985, 10.188162068826191, 8.210152968346868, 6.157614726260151, 1.0262691210433585, 4.105076484173434, 40.02449572069098, 89.2854135307722, 9.236422089390228, 6.157614726260151, 9.236422089390228, 1.0262691210433585, 3.0788073631300756, 12.315229452520303, 10.262691210433585, 1.0262691210433585, 1.0262691210433585, 1.0262691210433585, 26.682997147127324, 1.0262691210433585, 4.105076484173434, 1.0262691210433585, 1.0262691210433585, 1.0262691210433585, 3.0788073631300756, 33.86688099443083, 5.131345605216793, 20.52538242086717, 2.052538242086717, 9.236422089390228, 3.0788073631300756, 3.0788073631300756, 277.0743095940196, 235.04025384388578, 12.315229452520303, 12.315229452520303, 11.288960331476945, 55.44463913640073, 5.131345605216793, 5.131345605216793, 46.181972967140936, 4.105076484173434, 4.105076484173434, 4.105076484173434, 4.105076484173434, 4.105076484173434, 34.91748920990276, 27.786661587705087, 17.446615300428256, 24.7283064353418, 27.683272724713376, 12.302480031189694, 10.262553730623384, 13.309151333976342, 9.227757574904459, 15.395341266727662, 24.50094078329531, 11.314016150405566, 3965.2497062189204, 14.282420513512456, 51.56328607745286, 2368.573808496777, 21.369696737709393, 2.03520921311518, 52.91543954099469, 13.228859885248673, 13.228859885248673, 4.07041842623036, 35.616161229515654, 1.01760460655759, 1.01760460655759, 1.01760460655759, 1.01760460655759, 20.352092131151803, 21.369696737709393, 1.01760460655759, 6.105627639345541, 1.01760460655759, 4.07041842623036, 4.07041842623036, 1.01760460655759, 21.369696737709393, 1.01760460655759, 1.01760460655759, 1.01760460655759, 1.01760460655759, 1.01760460655759, 1.01760460655759, 14.246464491806263, 4.07041842623036, 1.01760460655759, 1.01760460655759, 112.92504560828822, 7.123232245903131, 50.870392253544516, 5.088023032787951, 4.07041842623036, 3.0528138196727705, 3.0528138196727705, 3.0528138196727705, 3.0528138196727705, 3.0528138196727705, 2.03520921311518, 2.03520921311518, 2.03520921311518, 2.03520921311518, 2.03520921311518, 44.87447160686133, 18.308477996303477, 18.31279801119178, 13.219021810913684, 48.00984406713229, 9.191731098460764, 8.1779729213303, 11.169619070626783, 10.159236222109612, 3965.2497062189204, 19.123231437489284, 12.199000558156555, 42.468067788674006, 9.129755402407763, 36.98239283346523, 12.222916708937982, 8.070418156759079, 12.364601321834542, 1.010095501249698, 6.0605730074981885, 10.10095501249698, 6.0605730074981885, 1.010095501249698, 231.31186978618086, 1.010095501249698, 6.0605730074981885, 3.0302865037490943, 73.73697159122797, 47.474488558735814, 1.010095501249698, 7.070668508747887, 33.333151541240035, 5.05047750624849, 1.010095501249698, 1.010095501249698, 14.141337017495774, 4.040382004998792, 1.010095501249698, 6.0605730074981885, 6.0605730074981885, 5.05047750624849, 6.0605730074981885, 1.010095501249698, 21.212005526243658, 1.010095501249698, 1.010095501249698, 1.010095501249698, 1.010095501249698, 88.90461797245824, 85.9027627804018, 14.141337017495774, 8.080764009997583, 7.070668508747887, 7.070668508747887, 6.0605730074981885, 6.0605730074981885, 6.0605730074981885, 6.0605730074981885, 5.05047750624849, 5.05047750624849, 5.05047750624849, 5.05047750624849, 230.19107932607477, 19.199323629052156, 17.213903741097894, 68.18718542042917, 13.147277656229534, 17.169831888394363, 17.256183960950928, 19.220426897602525, 25.45495110235361, 17.220265108699326, 1802.806854084897, 39.10574682166533, 12.195853959819045, 8.07496574562425, 20.430813759260833, 13.207788822276912, 61.709645566383664, 2758.917908875992, 2.015533064445204, 1.007766532222602, 69.53589072335953, 32.24852903112326, 1.007766532222602, 1.007766532222602, 1.007766532222602, 3.0232995966678056, 1.007766532222602, 1.007766532222602, 1.007766532222602, 2.015533064445204, 4.031066128890408, 1.007766532222602, 3.0232995966678056, 6.046599193335611, 10.07766532222602, 10.07766532222602, 1.007766532222602, 1.007766532222602, 1.007766532222602, 1.007766532222602, 3.0232995966678056, 1.007766532222602, 1.007766532222602, 2.015533064445204, 2.015533064445204, 9.069898790003418, 1.007766532222602, 1.007766532222602, 234.82814483937815, 67.5354445122799, 8.062132257780815, 51.40593121768769, 68.57335916511164, 3.0232995966678056, 3.0232995966678056, 3.0232995966678056, 3.0232995966678056, 2.015533064445204, 2.015533064445204, 2.015533064445204, 2.015533064445204, 189.37684496953943, 20.181064794747158, 12.136326100448663, 9.109380596487986, 8.06228175891437, 8.06446122680791, 2758.917908875992, 8.092305964511953, 8.19698496572352, 89.01662893137205, 7.065872060538506, 12.31624433107185, 31.041338404763106, 50.880868725321115, 20.73007085769875, 6.051257131389804, 24.50094078329531, 12.061663708879223, 27.612878214361906, 7.061352632639502, 1.022853385588171, 23.525627868527927, 259.8047599393954, 56.2569362073494, 21.47992109735159, 1.022853385588171, 12.27424062705805, 114.55957918587514, 1.022853385588171, 10.228533855881707, 9.205680470293538, 4.091413542352684, 3.0685601567645127, 3.0685601567645127, 1.022853385588171, 1.022853385588171, 2.045706771176342, 14.319947398234392, 5.114266927940854, 1.022853385588171, 5.114266927940854, 1.022853385588171, 1.022853385588171, 1.022853385588171, 1.022853385588171, 1.022853385588171, 1.022853385588171, 5.114266927940854, 4.091413542352684, 6.137120313529025, 12.27424062705805, 58.30609895667209, 133.93917870899548, 5.114266927940854, 4.091413542352684, 4.091413542352684, 3.0685601567645127, 3.0685601567645127, 3.0685601567645127, 3.0685601567645127, 3.0685601567645127, 38.892823605469495, 30.713642428057, 47.01994170400558, 68.60168248000761, 20.467435646202453, 10.256288685765469, 44.754311448659756, 1583.2059357777491, 25.777990988306172, 12.361326158499036, 9.18837383870996, 8.192135184458799, 6.161515266648024, 20.430813759260833, 13.207788822276912, 6.189459814134808, 3.9295810348270743, 42.24299612439105, 1.9647905174135372, 4.911976293533843, 0.9823952587067686, 0.9823952587067686, 15.718324139308297, 0.9823952587067686, 0.9823952587067686, 0.9823952587067686, 1.9647905174135372, 0.9823952587067686, 7.859162069654149, 4.911976293533843, 30.454253019909824, 0.9823952587067686, 10.806347845774454, 1.9647905174135372, 0.9823952587067686, 1.9647905174135372, 0.9823952587067686, 0.9823952587067686, 0.9823952587067686, 3.9295810348270743, 3.9295810348270743, 0.9823952587067686, 1.9647905174135372, 4.911976293533843, 1.9647905174135372, 0.9823952587067686, 479.5458842234896, 192.54947070652662, 134.5881504428273, 47.15497241792489, 41.26060086568428, 37.33101983085721, 120.97281024009366, 17.683114656721834, 11.788743104481222, 8.841557328360917, 7.859162069654149, 6.87676681094738, 6.87676681094738, 6.87676681094738, 6.87676681094738, 5.894371552240611, 5.894371552240611, 5.894371552240611, 46.19809793386751, 4.911976293533843, 4.911976293533843, 4.911976293533843, 50.19238254756143, 185.37210267788274, 37.46072599085801, 16.744593260351657, 16.770699860411025, 48.445870064689835, 20.919682099723737, 10.859956698009809, 36.98239283346523, 39.08577294722332, 42.13208521385171, 513.7474173657739, 4.202432861887721, 33.61946289510177, 61.9858847128439, 317.283681072523, 18.91094787849475, 16.809731447550885, 10.506082154719303, 1.0506082154719303, 1.0506082154719303, 1.0506082154719303, 4.202432861887721, 1.0506082154719303, 11.556690370191236, 11.556690370191236, 19.961556093966678, 12.607298585663164, 1.0506082154719303, 1.0506082154719303, 1.0506082154719303, 4.202432861887721, 1.0506082154719303, 1.0506082154719303, 1.0506082154719303, 1.0506082154719303, 10.506082154719303, 1.0506082154719303, 1.0506082154719303, 1.0506082154719303, 1.0506082154719303, 345.60114974178754, 15.759123232078956, 7.354257508303513, 6.303649292831582, 5.253041077359652, 4.202432861887721, 3.151824646415791, 3.151824646415791, 3.151824646415791, 36.74698868978015, 2.1012164309438606, 2.1012164309438606, 2.1012164309438606, 2.1012164309438606, 2.1012164309438606, 59.810491250381666, 39.680035902599954, 18.88627578728537, 42.48152058220223, 6.27931019840301, 6.300289416066823, 7.40342684974756, 5.210348895243879, 31.041338404763106, 54.61337984809127, 3965.2497062189204, 25.45495110235361, 48.00984406713229, 68.60168248000761, 29.03020792723676, 7.526350203357678, 3.2255786585818624, 3.2255786585818624, 3.2255786585818624, 3.2255786585818624, 22.579050610073036, 3.2255786585818624, 3.2255786585818624, 6.451157317163725, 3.2255786585818624, 107.51928861939541, 8.601543089551633, 1.0751928861939541, 1.0751928861939541, 4.300771544775817, 1.0751928861939541, 13.977507520521403, 1.0751928861939541, 4.300771544775817, 10.751928861939541, 1.0751928861939541, 16.127893292909313, 1.0751928861939541, 1.0751928861939541, 1.0751928861939541, 4.300771544775817, 23.654243496266993, 2.1503857723879083, 1.0751928861939541, 4.300771544775817, 4.300771544775817, 2.1503857723879083, 2.1503857723879083, 2.1503857723879083, 2.1503857723879083, 2.1503857723879083, 2.1503857723879083, 2.1503857723879083, 40.74821111772267, 11.772562469309705, 36.18108404547943, 7.477466680898242, 24.308892503521868, 6.358359689676539, 19.059104481726393, 14.693043867007166, 2758.917908875992, 1802.806854084897, 2368.573808496777, 124.72202802776158, 36.02250278598995, 5.323624930363987, 5.323624930363987, 9.393153378475223, 27.612878214361906, 19.05684880530523, 1.0508942460000439, 3.1526827380001317, 1.0508942460000439, 116.64926130600487, 14.712519444000614, 4.2035769840001755, 6.305365476000263, 6.305365476000263, 3.1526827380001317, 1.0508942460000439, 3.1526827380001317, 32.57772162600136, 1.0508942460000439, 1.0508942460000439, 6.305365476000263, 1.0508942460000439, 1.0508942460000439, 4.2035769840001755, 1.0508942460000439, 1.0508942460000439, 1.0508942460000439, 1.0508942460000439, 14.712519444000614, 3.1526827380001317, 4.2035769840001755, 3.1526827380001317, 8.407153968000351, 3.1526827380001317, 1.0508942460000439, 3.1526827380001317, 54.646500792002286, 42.035769840001755, 37.83219285600158, 87.19945981323677, 26.272356150001098, 23.119673412000967, 22.068779166000922, 16.814307936000702, 15.76341369000066, 11.559836706000484, 57.774420925235525, 76.60365325693249, 5.254471230000219, 5.254471230000219, 5.254471230000219, 5.254471230000219, 4.2035769840001755, 4.2035769840001755, 4.2035769840001755, 166.68364442398416, 24.137278018558558, 22.044194283735393, 18.86949941887711, 33.510016508952134, 13.620826453250224, 49.19502856234858, 54.61337984809127, 23.99400035232162, 9.414920500222953, 1802.806854084897, 96.04509656817692, 48.73379593139289, 34.674048424840564, 1.0547406754271678, 30.587479587387868, 1.0547406754271678, 13.711628780553182, 3.1642220262815037, 4.218962701708671, 3.1642220262815037, 1.0547406754271678, 1.0547406754271678, 1.0547406754271678, 1.0547406754271678, 4.218962701708671, 1.0547406754271678, 1.0547406754271678, 4.218962701708671, 4.218962701708671, 3.1642220262815037, 3.1642220262815037, 6.3284440525630075, 8.437925403417342, 1.0547406754271678, 1.0547406754271678, 1.0547406754271678, 1.0547406754271678, 1.0547406754271678, 1.0547406754271678, 1.0547406754271678, 1.0547406754271678, 1.0547406754271678, 4.218962701708671, 266.82095957138085, 198.08947322610436, 6.3284440525630075, 3.1642220262815037, 3.1642220262815037, 3.1642220262815037, 2.1094813508543355, 2.1094813508543355, 2.1094813508543355, 17.92674505283473, 6.32431159260777, 89.01662893137205, 5.241816087296842, 20.73007085769875, 2758.917908875992, 2368.573808496777, 10.433520536736442, 10.537946936973917, 8.318234388017888, 9.378779861309273, 31.041338404763106, 22.79876415898059, 14.4294183383224, 12.637968470530492, 89.41154786523532, 20.919682099723737, 3.027599054473337, 19.174794011664467, 3.027599054473337, 6.055198108946674, 3.027599054473337, 6.055198108946674, 3.027599054473337, 3.027599054473337, 3.027599054473337, 3.027599054473337, 3.027599054473337, 298.7231067080359, 8.073597478595566, 1.0091996848244458, 4.036798739297783, 1.0091996848244458, 1.0091996848244458, 1.0091996848244458, 1.0091996848244458, 1.0091996848244458, 27.248391490260037, 1.0091996848244458, 4.036798739297783, 11.101196533068903, 1.0091996848244458, 46.4231855019245, 5.045998424122229, 2.0183993696488916, 11.101196533068903, 1.0091996848244458, 137.24972398352278, 94.8818398097168, 83.80162249431173, 15.137995272366686, 11.101196533068903, 8.073597478595566, 51.46790027457844, 4.036798739297783, 4.036798739297783, 43.43599735715848, 114.02287691607461, 20.212359575443344, 11.099912881600615, 9.091202085153157, 9.091437193196615, 96.04509656817692, 3965.2497062189204, 19.235015868631436, 32.312978749128675, 48.445870064689835, 8.099169464780882, 24.308892503521868, 166.68364442398416, 14.282420513512456, 51.315168596651375, 159.18174748348997, 82.7326187578665, 36.65369185475099, 20.94496677414342, 1.047248338707171, 9.425235048364538, 2.094496677414342, 1.047248338707171, 1.047248338707171, 1.047248338707171, 6.283490032243026, 1.047248338707171, 7.330738370950196, 30.37020182250796, 32.4646984999223, 1.047248338707171, 16.755973419314735, 1.047248338707171, 16.755973419314735, 18.850470096729076, 1.047248338707171, 1.047248338707171, 1.047248338707171, 5.236241693535855, 3.141745016121513, 1.047248338707171, 1.047248338707171, 8.377986709657367, 3.141745016121513, 130.81806881748668, 10.47248338707171, 6.283490032243026, 5.236241693535855, 5.236241693535855, 4.188993354828684, 4.188993354828684, 4.188993354828684, 4.188993354828684, 4.188993354828684, 3.141745016121513, 3.141745016121513, 3.141745016121513, 26.14747982868485, 88.86607138329123, 70.95768744335916, 19.873323482317247, 39.830101171888806, 29.33024529838653, 16.73499420165092, 22.91200812416348, 17.724557147319878, 50.880868725321115, 43.58901515288896, 22.585491891554945, 18.673185716376874, 3965.2497062189204, 39.10574682166533, 96.04509656817692, 31.599387782200004, 5.021486184381814, 1.0042972368763627, 34.14610605379634, 2.0085944737527255, 4.017188947505451, 9.038675131887263, 1.0042972368763627, 1.0042972368763627, 1.0042972368763627, 1.0042972368763627, 1.0042972368763627, 4.017188947505451, 1.0042972368763627, 7.03008065813454, 1.0042972368763627, 1.0042972368763627, 7.03008065813454, 1.0042972368763627, 1.0042972368763627, 2.0085944737527255, 5.021486184381814, 1.0042972368763627, 1.0042972368763627, 1.0042972368763627, 15.06445855314544, 1.0042972368763627, 1.0042972368763627, 1.0042972368763627, 1.0042972368763627, 3.0128917106290882, 11.04726960563999, 5.021486184381814, 5.021486184381814, 4.017188947505451, 4.017188947505451, 4.017188947505451, 3.0128917106290882, 3.0128917106290882, 3.0128917106290882, 3.0128917106290882, 2.0085944737527255, 2.0085944737527255, 2.0085944737527255, 2.0085944737527255, 2.0085944737527255, 2.0085944737527255, 2.0085944737527255, 2.0085944737527255, 77.43391518940453, 13.074420228104524, 16.161949808269167, 124.72202802776158, 8.080974904134584, 2758.917908875992, 2368.573808496777, 10.109008749338091, 17.20334068353634, 5.092381833699405, 42.468067788674006, 10.087023256879721, 14.287289961067302, 34.674048424840564, 8.083387006492302, 189.37684496953943, 198.08947322610436, 14.210657946059513, 14.733260095438187, 15.785635816540914, 22.099890143157282, 13.68088437433546, 21.04751442205455, 111.55182643688913, 54.72353749734184, 6.314254326616366, 1.0523757211027276, 38.93790168080093, 24.204641585362737, 73.66630047719094, 17.89038725874637, 1.0523757211027276, 1.0523757211027276, 30.518895911979104, 1.0523757211027276, 3.157127163308183, 3.157127163308183, 1.0523757211027276, 13.68088437433546, 1.0523757211027276, 1.0523757211027276, 4.20950288441091, 8.41900576882182, 3.157127163308183, 1.0523757211027276, 12.628508653232732, 3.157127163308183, 6.314254326616366, 94.66573641501914, 88.36478945808398, 17.89038725874637, 10.523757211027275, 6.314254326616366, 6.314254326616366, 6.314254326616366, 6.314254326616366, 5.261878605513638, 5.261878605513638, 4.20950288441091, 25.218161285075485, 37.74556503490628, 89.41154786523532, 23.15049835862921, 21.02127034218498, 61.709645566383664, 23.088781636794877, 33.45372463655443, 12.596766539500166, 15.733422616422176, 18.838497550376257, 2368.573808496777, 36.02250278598995, 19.05684880530523, 1583.2059357777491, 230.19107932607477, 3965.2497062189204, 7.184165546141622, 49.262849459256834, 28.736662184566487, 22.578806002159386, 11.289403001079693, 42.07868391311521, 14.368331092283244, 7.184165546141622, 3.078928091203552, 11.289403001079693, 3.078928091203552, 3.078928091203552, 7.184165546141622, 6.157856182407104, 7.184165546141622, 3.078928091203552, 3.078928091203552, 18.473568547221316, 48.23654009552232, 65.68379927900912, 38.99975582191166, 15.394640456017763, 1.0263093637345175, 1.0263093637345175, 1.0263093637345175, 2.052618727469035, 1.0263093637345175, 10.263093637345175, 5.131546818672588, 1.0263093637345175, 258.61374579861354, 135.45429318144437, 9.236784273610658, 57.497623220870395, 5.131546818672588, 5.131546818672588, 5.131546818672588, 5.131546818672588, 4.10523745493807, 29.745861869390932, 29.754266791124078, 25.682318975628462, 17.441583427122442, 15.394462733516402, 34.826547556756914, 15.38427252157872, 1802.806854084897, 11.24330743011529, 22.79876415898059, 12.399468264704824, 108.74921657775018], \"Category\": [\"Default\", \"Default\", \"Default\", \"Default\", \"Default\", \"Default\", \"Default\", \"Default\", \"Default\", \"Default\", \"Default\", \"Default\", \"Default\", \"Default\", \"Default\", \"Default\", \"Default\", \"Default\", \"Default\", \"Default\", \"Default\", \"Default\", \"Default\", \"Default\", \"Default\", \"Default\", \"Default\", \"Default\", \"Default\", \"Default\", \"Topic1\", \"Topic1\", \"Topic1\", \"Topic1\", \"Topic1\", \"Topic1\", \"Topic1\", \"Topic1\", \"Topic1\", \"Topic1\", \"Topic1\", \"Topic1\", \"Topic1\", \"Topic1\", \"Topic1\", \"Topic1\", \"Topic1\", \"Topic1\", \"Topic1\", \"Topic1\", \"Topic1\", \"Topic1\", \"Topic1\", \"Topic1\", \"Topic1\", \"Topic1\", \"Topic1\", \"Topic1\", \"Topic1\", \"Topic1\", \"Topic1\", \"Topic1\", \"Topic1\", \"Topic1\", \"Topic1\", \"Topic1\", \"Topic1\", \"Topic1\", \"Topic1\", \"Topic1\", \"Topic1\", \"Topic1\", \"Topic1\", \"Topic1\", \"Topic1\", \"Topic1\", \"Topic1\", \"Topic1\", \"Topic1\", \"Topic1\", \"Topic1\", \"Topic1\", \"Topic1\", \"Topic1\", \"Topic1\", \"Topic1\", \"Topic1\", \"Topic1\", \"Topic2\", \"Topic2\", \"Topic2\", \"Topic2\", \"Topic2\", \"Topic2\", \"Topic2\", \"Topic2\", \"Topic2\", \"Topic2\", \"Topic2\", \"Topic2\", \"Topic2\", \"Topic2\", \"Topic2\", \"Topic2\", \"Topic2\", \"Topic2\", \"Topic2\", \"Topic2\", \"Topic2\", \"Topic2\", \"Topic2\", \"Topic2\", \"Topic2\", \"Topic2\", \"Topic2\", \"Topic2\", \"Topic2\", \"Topic2\", \"Topic2\", \"Topic2\", \"Topic2\", \"Topic2\", \"Topic2\", \"Topic2\", \"Topic2\", \"Topic2\", \"Topic2\", \"Topic2\", \"Topic2\", \"Topic2\", \"Topic2\", \"Topic2\", \"Topic2\", \"Topic2\", \"Topic2\", \"Topic2\", \"Topic2\", \"Topic2\", \"Topic2\", \"Topic2\", \"Topic2\", \"Topic2\", \"Topic2\", \"Topic2\", \"Topic2\", \"Topic2\", \"Topic2\", \"Topic2\", \"Topic2\", \"Topic2\", \"Topic2\", \"Topic3\", \"Topic3\", \"Topic3\", \"Topic3\", \"Topic3\", \"Topic3\", \"Topic3\", \"Topic3\", \"Topic3\", \"Topic3\", \"Topic3\", \"Topic3\", \"Topic3\", \"Topic3\", \"Topic3\", \"Topic3\", \"Topic3\", \"Topic3\", \"Topic3\", \"Topic3\", \"Topic3\", \"Topic3\", \"Topic3\", \"Topic3\", \"Topic3\", \"Topic3\", \"Topic3\", \"Topic3\", \"Topic3\", \"Topic3\", \"Topic3\", \"Topic3\", \"Topic3\", \"Topic3\", \"Topic3\", \"Topic3\", \"Topic3\", \"Topic3\", \"Topic3\", \"Topic3\", \"Topic3\", \"Topic3\", \"Topic3\", \"Topic3\", \"Topic3\", \"Topic3\", \"Topic3\", \"Topic3\", \"Topic3\", \"Topic3\", \"Topic3\", \"Topic3\", \"Topic3\", \"Topic3\", \"Topic3\", \"Topic4\", \"Topic4\", \"Topic4\", \"Topic4\", \"Topic4\", \"Topic4\", \"Topic4\", \"Topic4\", \"Topic4\", \"Topic4\", \"Topic4\", \"Topic4\", \"Topic4\", \"Topic4\", \"Topic4\", \"Topic4\", \"Topic4\", \"Topic4\", \"Topic4\", \"Topic4\", \"Topic4\", \"Topic4\", \"Topic4\", \"Topic4\", \"Topic4\", \"Topic4\", \"Topic4\", \"Topic4\", \"Topic4\", \"Topic4\", \"Topic4\", \"Topic4\", \"Topic4\", \"Topic4\", \"Topic4\", \"Topic4\", \"Topic4\", \"Topic4\", \"Topic4\", \"Topic4\", \"Topic4\", \"Topic4\", \"Topic4\", \"Topic4\", \"Topic4\", \"Topic4\", \"Topic4\", \"Topic4\", \"Topic4\", \"Topic4\", \"Topic4\", \"Topic4\", \"Topic4\", \"Topic4\", \"Topic4\", \"Topic4\", \"Topic4\", \"Topic4\", \"Topic4\", \"Topic4\", \"Topic5\", \"Topic5\", \"Topic5\", \"Topic5\", \"Topic5\", \"Topic5\", \"Topic5\", \"Topic5\", \"Topic5\", \"Topic5\", \"Topic5\", \"Topic5\", \"Topic5\", \"Topic5\", \"Topic5\", \"Topic5\", \"Topic5\", \"Topic5\", \"Topic5\", \"Topic5\", \"Topic5\", \"Topic5\", \"Topic5\", \"Topic5\", \"Topic5\", \"Topic5\", \"Topic5\", \"Topic5\", \"Topic5\", \"Topic5\", \"Topic5\", \"Topic5\", \"Topic5\", \"Topic5\", \"Topic5\", \"Topic5\", \"Topic5\", \"Topic5\", \"Topic5\", \"Topic5\", \"Topic5\", \"Topic5\", \"Topic5\", \"Topic5\", \"Topic5\", \"Topic5\", \"Topic5\", \"Topic5\", \"Topic5\", \"Topic5\", \"Topic5\", \"Topic5\", \"Topic5\", \"Topic5\", \"Topic5\", \"Topic5\", \"Topic5\", \"Topic5\", \"Topic6\", \"Topic6\", \"Topic6\", \"Topic6\", \"Topic6\", \"Topic6\", \"Topic6\", \"Topic6\", \"Topic6\", \"Topic6\", \"Topic6\", \"Topic6\", \"Topic6\", \"Topic6\", \"Topic6\", \"Topic6\", \"Topic6\", \"Topic6\", \"Topic6\", \"Topic6\", \"Topic6\", \"Topic6\", \"Topic6\", \"Topic6\", \"Topic6\", \"Topic6\", \"Topic6\", \"Topic6\", \"Topic6\", \"Topic6\", \"Topic6\", \"Topic6\", \"Topic6\", \"Topic6\", \"Topic6\", \"Topic6\", \"Topic6\", \"Topic6\", \"Topic6\", \"Topic6\", \"Topic6\", \"Topic6\", \"Topic6\", \"Topic6\", \"Topic6\", \"Topic6\", \"Topic6\", \"Topic6\", \"Topic6\", \"Topic6\", \"Topic6\", \"Topic6\", \"Topic6\", \"Topic6\", \"Topic6\", \"Topic6\", \"Topic6\", \"Topic6\", \"Topic6\", \"Topic6\", \"Topic7\", \"Topic7\", \"Topic7\", \"Topic7\", \"Topic7\", \"Topic7\", \"Topic7\", \"Topic7\", \"Topic7\", \"Topic7\", \"Topic7\", \"Topic7\", \"Topic7\", \"Topic7\", \"Topic7\", \"Topic7\", \"Topic7\", \"Topic7\", \"Topic7\", \"Topic7\", \"Topic7\", \"Topic7\", \"Topic7\", \"Topic7\", \"Topic7\", \"Topic7\", \"Topic7\", \"Topic7\", \"Topic7\", \"Topic7\", \"Topic7\", \"Topic7\", \"Topic7\", \"Topic7\", \"Topic7\", \"Topic7\", \"Topic7\", \"Topic7\", \"Topic7\", \"Topic7\", \"Topic7\", \"Topic7\", \"Topic7\", \"Topic7\", \"Topic7\", \"Topic7\", \"Topic7\", \"Topic7\", \"Topic7\", \"Topic7\", \"Topic7\", \"Topic7\", \"Topic7\", \"Topic7\", \"Topic7\", \"Topic7\", \"Topic7\", \"Topic7\", \"Topic7\", \"Topic7\", \"Topic7\", \"Topic7\", \"Topic7\", \"Topic8\", \"Topic8\", \"Topic8\", \"Topic8\", \"Topic8\", \"Topic8\", \"Topic8\", \"Topic8\", \"Topic8\", \"Topic8\", \"Topic8\", \"Topic8\", \"Topic8\", \"Topic8\", \"Topic8\", \"Topic8\", \"Topic8\", \"Topic8\", \"Topic8\", \"Topic8\", \"Topic8\", \"Topic8\", \"Topic8\", \"Topic8\", \"Topic8\", \"Topic8\", \"Topic8\", \"Topic8\", \"Topic8\", \"Topic8\", \"Topic8\", \"Topic8\", \"Topic8\", \"Topic8\", \"Topic8\", \"Topic8\", \"Topic8\", \"Topic8\", \"Topic8\", \"Topic8\", \"Topic8\", \"Topic8\", \"Topic8\", \"Topic8\", \"Topic8\", \"Topic8\", \"Topic8\", \"Topic8\", \"Topic8\", \"Topic8\", \"Topic8\", \"Topic8\", \"Topic8\", \"Topic8\", \"Topic8\", \"Topic8\", \"Topic8\", \"Topic8\", \"Topic8\", \"Topic8\", \"Topic8\", \"Topic8\", \"Topic9\", \"Topic9\", \"Topic9\", \"Topic9\", \"Topic9\", \"Topic9\", \"Topic9\", \"Topic9\", \"Topic9\", \"Topic9\", \"Topic9\", \"Topic9\", \"Topic9\", \"Topic9\", \"Topic9\", \"Topic9\", \"Topic9\", \"Topic9\", \"Topic9\", \"Topic9\", \"Topic9\", \"Topic9\", \"Topic9\", \"Topic9\", \"Topic9\", \"Topic9\", \"Topic9\", \"Topic9\", \"Topic9\", \"Topic9\", \"Topic9\", \"Topic9\", \"Topic9\", \"Topic9\", \"Topic9\", \"Topic9\", \"Topic9\", \"Topic9\", \"Topic9\", \"Topic9\", \"Topic9\", \"Topic9\", \"Topic9\", \"Topic9\", \"Topic9\", \"Topic9\", \"Topic9\", \"Topic9\", \"Topic9\", \"Topic9\", \"Topic9\", \"Topic9\", \"Topic9\", \"Topic9\", \"Topic9\", \"Topic9\", \"Topic9\", \"Topic9\", \"Topic9\", \"Topic9\", \"Topic9\", \"Topic9\", \"Topic9\", \"Topic10\", \"Topic10\", \"Topic10\", \"Topic10\", \"Topic10\", \"Topic10\", \"Topic10\", \"Topic10\", \"Topic10\", \"Topic10\", \"Topic10\", \"Topic10\", \"Topic10\", \"Topic10\", \"Topic10\", \"Topic10\", \"Topic10\", \"Topic10\", \"Topic10\", \"Topic10\", \"Topic10\", \"Topic10\", \"Topic10\", \"Topic10\", \"Topic10\", \"Topic10\", \"Topic10\", \"Topic10\", \"Topic10\", \"Topic10\", \"Topic10\", \"Topic10\", \"Topic10\", \"Topic10\", \"Topic10\", \"Topic10\", \"Topic10\", \"Topic10\", \"Topic10\", \"Topic10\", \"Topic10\", \"Topic10\", \"Topic10\", \"Topic10\", \"Topic10\", \"Topic10\", \"Topic10\", \"Topic10\", \"Topic10\", \"Topic10\", \"Topic10\", \"Topic10\", \"Topic10\", \"Topic10\", \"Topic10\", \"Topic10\", \"Topic10\", \"Topic11\", \"Topic11\", \"Topic11\", \"Topic11\", \"Topic11\", \"Topic11\", \"Topic11\", \"Topic11\", \"Topic11\", \"Topic11\", \"Topic11\", \"Topic11\", \"Topic11\", \"Topic11\", \"Topic11\", \"Topic11\", \"Topic11\", \"Topic11\", \"Topic11\", \"Topic11\", \"Topic11\", \"Topic11\", \"Topic11\", \"Topic11\", \"Topic11\", \"Topic11\", \"Topic11\", \"Topic11\", \"Topic11\", \"Topic11\", \"Topic11\", \"Topic11\", \"Topic11\", \"Topic11\", \"Topic11\", \"Topic11\", \"Topic11\", \"Topic11\", \"Topic11\", \"Topic11\", \"Topic11\", \"Topic11\", \"Topic11\", \"Topic11\", \"Topic11\", \"Topic11\", \"Topic11\", \"Topic11\", \"Topic11\", \"Topic11\", \"Topic11\", \"Topic11\", \"Topic11\", \"Topic11\", \"Topic11\", \"Topic11\", \"Topic11\", \"Topic11\", \"Topic11\", \"Topic11\", \"Topic11\", \"Topic11\", \"Topic11\", \"Topic12\", \"Topic12\", \"Topic12\", \"Topic12\", \"Topic12\", \"Topic12\", \"Topic12\", \"Topic12\", \"Topic12\", \"Topic12\", \"Topic12\", \"Topic12\", \"Topic12\", \"Topic12\", \"Topic12\", \"Topic12\", \"Topic12\", \"Topic12\", \"Topic12\", \"Topic12\", \"Topic12\", \"Topic12\", \"Topic12\", \"Topic12\", \"Topic12\", \"Topic12\", \"Topic12\", \"Topic12\", \"Topic12\", \"Topic12\", \"Topic12\", \"Topic12\", \"Topic12\", \"Topic12\", \"Topic12\", \"Topic12\", \"Topic12\", \"Topic12\", \"Topic12\", \"Topic12\", \"Topic12\", \"Topic12\", \"Topic12\", \"Topic12\", \"Topic12\", \"Topic12\", \"Topic12\", \"Topic12\", \"Topic12\", \"Topic12\", \"Topic12\", \"Topic12\", \"Topic12\", \"Topic12\", \"Topic12\", \"Topic12\", \"Topic12\", \"Topic12\", \"Topic12\", \"Topic13\", \"Topic13\", \"Topic13\", \"Topic13\", \"Topic13\", \"Topic13\", \"Topic13\", \"Topic13\", \"Topic13\", \"Topic13\", \"Topic13\", \"Topic13\", \"Topic13\", \"Topic13\", \"Topic13\", \"Topic13\", \"Topic13\", \"Topic13\", \"Topic13\", \"Topic13\", \"Topic13\", \"Topic13\", \"Topic13\", \"Topic13\", \"Topic13\", \"Topic13\", \"Topic13\", \"Topic13\", \"Topic13\", \"Topic13\", \"Topic13\", \"Topic13\", \"Topic13\", \"Topic13\", \"Topic13\", \"Topic13\", \"Topic13\", \"Topic13\", \"Topic13\", \"Topic13\", \"Topic13\", \"Topic13\", \"Topic13\", \"Topic13\", \"Topic13\", \"Topic13\", \"Topic13\", \"Topic13\", \"Topic13\", \"Topic13\", \"Topic13\", \"Topic13\", \"Topic13\", \"Topic13\", \"Topic13\", \"Topic13\", \"Topic13\", \"Topic14\", \"Topic14\", \"Topic14\", \"Topic14\", \"Topic14\", \"Topic14\", \"Topic14\", \"Topic14\", \"Topic14\", \"Topic14\", \"Topic14\", \"Topic14\", \"Topic14\", \"Topic14\", \"Topic14\", \"Topic14\", \"Topic14\", \"Topic14\", \"Topic14\", \"Topic14\", \"Topic14\", \"Topic14\", \"Topic14\", \"Topic14\", \"Topic14\", \"Topic14\", \"Topic14\", \"Topic14\", \"Topic14\", \"Topic14\", \"Topic14\", \"Topic14\", \"Topic14\", \"Topic14\", \"Topic14\", \"Topic14\", \"Topic14\", \"Topic14\", \"Topic14\", \"Topic14\", \"Topic14\", \"Topic14\", \"Topic14\", \"Topic14\", \"Topic14\", \"Topic14\", \"Topic14\", \"Topic14\", \"Topic14\", \"Topic14\", \"Topic14\", \"Topic14\", \"Topic14\", \"Topic14\", \"Topic14\", \"Topic14\", \"Topic14\", \"Topic14\", \"Topic14\", \"Topic14\", \"Topic14\", \"Topic14\", \"Topic14\", \"Topic15\", \"Topic15\", \"Topic15\", \"Topic15\", \"Topic15\", \"Topic15\", \"Topic15\", \"Topic15\", \"Topic15\", \"Topic15\", \"Topic15\", \"Topic15\", \"Topic15\", \"Topic15\", \"Topic15\", \"Topic15\", \"Topic15\", \"Topic15\", \"Topic15\", \"Topic15\", \"Topic15\", \"Topic15\", \"Topic15\", \"Topic15\", \"Topic15\", \"Topic15\", \"Topic15\", \"Topic15\", \"Topic15\", \"Topic15\", \"Topic15\", \"Topic15\", \"Topic15\", \"Topic15\", \"Topic15\", \"Topic15\", \"Topic15\", \"Topic15\", \"Topic15\", \"Topic15\", \"Topic15\", \"Topic15\", \"Topic15\", \"Topic15\", \"Topic15\", \"Topic15\", \"Topic15\", \"Topic15\", \"Topic15\", \"Topic15\", \"Topic15\", \"Topic15\", \"Topic15\", \"Topic15\", \"Topic15\", \"Topic15\", \"Topic16\", \"Topic16\", \"Topic16\", \"Topic16\", \"Topic16\", \"Topic16\", \"Topic16\", \"Topic16\", \"Topic16\", \"Topic16\", \"Topic16\", \"Topic16\", \"Topic16\", \"Topic16\", \"Topic16\", \"Topic16\", \"Topic16\", \"Topic16\", \"Topic16\", \"Topic16\", \"Topic16\", \"Topic16\", \"Topic16\", \"Topic16\", \"Topic16\", \"Topic16\", \"Topic16\", \"Topic16\", \"Topic16\", \"Topic16\", \"Topic16\", \"Topic16\", \"Topic16\", \"Topic16\", \"Topic16\", \"Topic16\", \"Topic16\", \"Topic16\", \"Topic16\", \"Topic16\", \"Topic16\", \"Topic16\", \"Topic16\", \"Topic16\", \"Topic16\", \"Topic16\", \"Topic16\", \"Topic16\", \"Topic16\", \"Topic16\", \"Topic16\", \"Topic16\", \"Topic16\", \"Topic16\", \"Topic17\", \"Topic17\", \"Topic17\", \"Topic17\", \"Topic17\", \"Topic17\", \"Topic17\", \"Topic17\", \"Topic17\", \"Topic17\", \"Topic17\", \"Topic17\", \"Topic17\", \"Topic17\", \"Topic17\", \"Topic17\", \"Topic17\", \"Topic17\", \"Topic17\", \"Topic17\", \"Topic17\", \"Topic17\", \"Topic17\", \"Topic17\", \"Topic17\", \"Topic17\", \"Topic17\", \"Topic17\", \"Topic17\", \"Topic17\", \"Topic17\", \"Topic17\", \"Topic17\", \"Topic17\", \"Topic17\", \"Topic17\", \"Topic17\", \"Topic17\", \"Topic17\", \"Topic17\", \"Topic17\", \"Topic17\", \"Topic17\", \"Topic17\", \"Topic17\", \"Topic17\", \"Topic17\", \"Topic17\", \"Topic17\", \"Topic17\", \"Topic17\", \"Topic17\", \"Topic17\", \"Topic17\", \"Topic17\", \"Topic17\", \"Topic17\", \"Topic17\", \"Topic17\", \"Topic17\", \"Topic18\", \"Topic18\", \"Topic18\", \"Topic18\", \"Topic18\", \"Topic18\", \"Topic18\", \"Topic18\", \"Topic18\", \"Topic18\", \"Topic18\", \"Topic18\", \"Topic18\", \"Topic18\", \"Topic18\", \"Topic18\", \"Topic18\", \"Topic18\", \"Topic18\", \"Topic18\", \"Topic18\", \"Topic18\", \"Topic18\", \"Topic18\", \"Topic18\", \"Topic18\", \"Topic18\", \"Topic18\", \"Topic18\", \"Topic18\", \"Topic18\", \"Topic18\", \"Topic18\", \"Topic18\", \"Topic18\", \"Topic18\", \"Topic18\", \"Topic18\", \"Topic18\", \"Topic18\", \"Topic18\", \"Topic18\", \"Topic18\", \"Topic18\", \"Topic18\", \"Topic18\", \"Topic18\", \"Topic18\", \"Topic18\", \"Topic18\", \"Topic18\", \"Topic18\", \"Topic18\", \"Topic18\", \"Topic18\", \"Topic18\", \"Topic18\", \"Topic18\", \"Topic18\", \"Topic18\", \"Topic18\", \"Topic18\", \"Topic18\", \"Topic18\", \"Topic18\", \"Topic18\", \"Topic19\", \"Topic19\", \"Topic19\", \"Topic19\", \"Topic19\", \"Topic19\", \"Topic19\", \"Topic19\", \"Topic19\", \"Topic19\", \"Topic19\", \"Topic19\", \"Topic19\", \"Topic19\", \"Topic19\", \"Topic19\", \"Topic19\", \"Topic19\", \"Topic19\", \"Topic19\", \"Topic19\", \"Topic19\", \"Topic19\", \"Topic19\", \"Topic19\", \"Topic19\", \"Topic19\", \"Topic19\", \"Topic19\", \"Topic19\", \"Topic19\", \"Topic19\", \"Topic19\", \"Topic19\", \"Topic19\", \"Topic19\", \"Topic19\", \"Topic19\", \"Topic19\", \"Topic19\", \"Topic19\", \"Topic19\", \"Topic19\", \"Topic19\", \"Topic19\", \"Topic19\", \"Topic19\", \"Topic19\", \"Topic19\", \"Topic19\", \"Topic19\", \"Topic19\", \"Topic19\", \"Topic19\", \"Topic19\", \"Topic19\", \"Topic19\", \"Topic19\", \"Topic20\", \"Topic20\", \"Topic20\", \"Topic20\", \"Topic20\", \"Topic20\", \"Topic20\", \"Topic20\", \"Topic20\", \"Topic20\", \"Topic20\", \"Topic20\", \"Topic20\", \"Topic20\", \"Topic20\", \"Topic20\", \"Topic20\", \"Topic20\", \"Topic20\", \"Topic20\", \"Topic20\", \"Topic20\", \"Topic20\", \"Topic20\", \"Topic20\", \"Topic20\", \"Topic20\", \"Topic20\", \"Topic20\", \"Topic20\", \"Topic20\", \"Topic20\", \"Topic20\", \"Topic20\", \"Topic20\", \"Topic20\", \"Topic20\", \"Topic20\", \"Topic20\", \"Topic20\", \"Topic20\", \"Topic20\", \"Topic20\", \"Topic20\", \"Topic20\", \"Topic20\", \"Topic20\", \"Topic20\", \"Topic20\", \"Topic20\", \"Topic20\"], \"logprob\": [30.0, 29.0, 28.0, 27.0, 26.0, 25.0, 24.0, 23.0, 22.0, 21.0, 20.0, 19.0, 18.0, 17.0, 16.0, 15.0, 14.0, 13.0, 12.0, 11.0, 10.0, 9.0, 8.0, 7.0, 6.0, 5.0, 4.0, 3.0, 2.0, 1.0, -7.5812, -5.5018, -6.1949, -4.748, -7.5812, -7.5812, -6.1949, -6.4826, -5.5018, -6.4826, -7.5812, -5.9718, -7.5812, -6.1949, -4.748, -5.0963, -6.8881, -6.8881, -5.5018, -7.5812, -7.5812, -6.8881, -7.5812, -5.5018, -7.5812, -7.5812, -5.7895, -7.5812, -5.7895, -6.4826, -3.1868, -3.6894, -3.7745, -3.7745, -4.5367, -4.5367, -5.1833, -5.1833, -5.6353, -5.6353, -5.9718, -5.9718, -6.1949, -6.4826, -3.9176, -4.4032, -2.7292, -5.0163, -5.0963, -0.729, -5.2786, -3.9436, -5.384, -5.384, -5.7895, -5.0163, -5.6353, -5.6353, -7.5486, -3.9932, -2.2553, -7.5486, -7.5486, -5.246, -4.1474, -7.5486, -7.5486, -6.1623, -3.8109, -3.8597, -7.5486, -5.4691, -6.4499, -7.5486, -7.5486, -4.776, -7.5486, -7.5486, -7.5486, -7.5486, -7.5486, -7.5486, -5.3513, -7.5486, -7.5486, -5.6026, -7.5486, -7.5486, -5.1507, -5.9391, -6.4499, -6.4499, -6.4499, -6.4499, -6.4499, -3.9376, -6.8554, -6.8554, -6.8554, -6.8554, -6.8554, -6.8554, -4.052, -3.3897, -2.8946, -3.016, -4.9836, -5.0636, -5.1507, -4.776, -5.4691, -5.3513, -4.6041, -1.0824, -4.3297, -5.6026, -5.9391, -5.7568, -4.8405, -3.3742, -5.7568, -1.5621, -6.8876, -6.4821, -5.0958, -5.0958, -5.6348, -4.0842, -3.4864, -5.7889, -4.4026, -5.3835, -4.0842, -5.1828, -6.1944, -4.2134, -7.5807, -3.5917, -6.4821, -7.5807, -6.1944, -6.4821, -7.5807, -6.8876, -4.8726, -7.5807, -6.4821, -5.6348, -4.4897, -7.5807, -5.1828, -1.8377, -3.9171, -4.3226, -4.3226, -4.8081, -5.0158, -5.2781, -5.3835, -5.3835, -5.5013, -5.5013, -5.5013, -5.6348, -3.376, -4.4897, -4.2485, -5.2781, -5.0958, -4.4026, -5.0158, -5.0958, -4.8081, -4.4452, -5.0958, -4.8726, -5.1777, -5.0106, -7.5756, -6.8824, -7.5756, -6.8824, -6.477, -6.477, -7.5756, -5.7838, -6.1893, -7.5756, -7.5756, -7.5756, -7.5756, -6.1893, -4.4401, -6.1893, -4.3175, -6.8824, -5.9661, -7.5756, -7.5756, -5.3784, -6.1893, -6.1893, -7.5756, -7.5756, -7.5756, -7.5756, -2.2673, -5.1777, -5.7838, -5.9661, -5.9661, -3.0112, -6.1893, -6.1893, -6.477, -6.477, -6.477, -6.477, -6.477, -6.477, -4.803, -5.273, -4.4845, -0.6124, -4.6852, -5.9661, -5.4961, -4.9365, -5.7838, -5.9661, -5.0106, -5.9661, -5.9661, -6.1893, -6.1893, -6.1893, -2.0879, -5.6058, -5.76, -6.4531, -5.2491, -6.4531, -5.9423, -6.4531, -6.4531, -6.4531, -6.4531, -5.9423, -6.4531, -5.9423, -6.4531, -4.7791, -7.5517, -4.8437, -5.1538, -7.5517, -7.5517, -7.5517, -7.5517, -4.5072, -7.5517, -7.5517, -7.5517, -6.8586, -7.5517, -7.5517, -0.9437, -5.4723, -6.1654, -6.1654, -6.8586, -6.8586, -6.8586, -6.8586, -6.8586, -6.8586, -3.5814, -4.3737, -4.3328, -5.2491, -4.9868, -4.7791, -5.76, -5.3545, -5.3545, -1.7618, -5.6058, -6.1654, -5.9423, -5.9423, -4.7791, -6.1654, -6.1654, -6.1654, -5.4889, -5.7766, -7.5684, -6.1821, -3.9048, -3.1025, -5.3712, -5.7766, -5.3712, -7.5684, -6.4698, -5.0835, -5.2658, -7.5684, -7.5684, -7.5684, -4.3103, -7.5684, -6.1821, -7.5684, -7.5684, -7.5684, -6.4698, -4.0719, -5.9589, -4.5726, -6.8752, -5.3712, -6.4698, -6.4698, -1.9737, -2.139, -5.0835, -5.0835, -5.1705, -3.5981, -5.9589, -5.9589, -3.7842, -6.1821, -6.1821, -6.1821, -6.1821, -6.1821, -4.0719, -4.3495, -4.7958, -4.4773, -4.3903, -5.1705, -5.3712, -5.1705, -5.4889, -5.0835, -4.7352, -5.3712, -1.5234, -5.3712, -5.1705, -5.2658, -4.5254, -6.8768, -3.6187, -5.005, -5.005, -6.1836, -4.0146, -7.5699, -7.5699, -7.5699, -7.5699, -4.5742, -4.5254, -7.5699, -5.7782, -7.5699, -6.1836, -6.1836, -7.5699, -4.5254, -7.5699, -7.5699, -7.5699, -7.5699, -7.5699, -7.5699, -4.9309, -6.1836, -7.5699, -7.5699, -2.8878, -5.624, -3.6781, -5.9605, -6.1836, -6.4713, -6.4713, -6.4713, -6.4713, -6.4713, -6.8768, -6.8768, -6.8768, -6.8768, -6.8768, -3.8564, -4.7367, -4.7367, -5.085, -3.881, -5.4905, -5.624, -5.3727, -5.4905, -0.6895, -5.005, -5.3727, -4.4789, -5.624, -4.6796, -5.4905, -5.7782, -5.624, -7.5853, -5.7935, -5.2827, -5.7935, -7.5853, -2.1516, -7.5853, -5.7935, -6.4867, -3.2948, -3.7351, -7.5853, -5.6394, -4.0888, -5.9758, -7.5853, -7.5853, -4.9462, -6.199, -7.5853, -5.7935, -5.7935, -5.9758, -5.7935, -7.5853, -4.5408, -7.5853, -7.5853, -7.5853, -7.5853, -3.1194, -3.1545, -4.9462, -5.5058, -5.6394, -5.6394, -5.7935, -5.7935, -5.7935, -5.7935, -5.9758, -5.9758, -5.9758, -5.9758, -2.2623, -4.6949, -4.8127, -3.5963, -5.1004, -4.8772, -4.8772, -4.8127, -4.5895, -4.9462, -1.4011, -4.6949, -5.3881, -5.6394, -5.3881, -5.6394, -5.3881, -4.9462, -6.8742, -7.5673, -3.3332, -4.1016, -7.5673, -7.5673, -7.5673, -6.4687, -7.5673, -7.5673, -7.5673, -6.8742, -6.1811, -7.5673, -6.4687, -5.7756, -5.2648, -5.2648, -7.5673, -7.5673, -7.5673, -7.5673, -6.4687, -7.5673, -7.5673, -6.8742, -6.8742, -5.3701, -7.5673, -7.5673, -2.1206, -3.3777, -5.4879, -3.6553, -3.3777, -6.4687, -6.4687, -6.4687, -6.4687, -6.8742, -6.8742, -6.8742, -6.8742, -2.4675, -4.677, -5.1695, -5.4879, -5.6214, -5.6214, -0.8966, -5.7756, -5.7756, -3.9838, -5.9579, -5.6214, -5.0824, -5.1695, -5.6214, -6.1811, -5.6214, -5.9579, -5.7756, -6.1811, -7.559, -4.4235, -2.0217, -3.5517, -4.5145, -7.559, -5.0741, -2.8405, -7.559, -5.2565, -5.3618, -6.1727, -6.4604, -6.4604, -7.559, -7.559, -6.8659, -4.92, -5.9496, -7.559, -5.9496, -7.559, -7.559, -7.559, -7.559, -7.559, -7.559, -5.9496, -6.1727, -5.7673, -5.0741, -3.5337, -2.7149, -5.9496, -6.1727, -6.1727, -6.4604, -6.4604, -6.4604, -6.4604, -6.4604, -3.9481, -4.1917, -3.7748, -3.516, -4.7258, -5.3618, -4.1578, -1.1857, -4.6687, -5.3618, -5.6131, -5.7673, -5.9496, -5.4796, -5.7673, -5.9496, -6.2315, -3.8566, -6.9246, -6.0083, -7.6178, -7.6178, -4.8452, -7.6178, -7.6178, -7.6178, -6.9246, -7.6178, -5.5383, -6.0083, -4.1838, -7.6178, -5.2199, -6.9246, -7.6178, -6.9246, -7.6178, -7.6178, -7.6178, -6.2315, -6.2315, -7.6178, -6.9246, -6.0083, -6.9246, -7.6178, -1.4316, -2.3396, -2.6978, -3.7466, -3.8801, -3.9802, -2.822, -4.7274, -5.1329, -5.4205, -5.5383, -5.6718, -5.6718, -5.6718, -5.6718, -5.826, -5.826, -5.826, -3.7891, -6.0083, -6.0083, -6.0083, -3.7259, -2.4761, -4.0342, -4.8452, -4.8452, -3.9802, -4.7845, -5.4205, -4.6733, -4.9787, -4.9787, -1.3445, -6.1506, -4.0712, -3.4594, -1.8265, -4.6465, -4.7643, -5.2343, -7.5369, -7.5369, -7.5369, -6.1506, -7.5369, -5.139, -5.139, -4.5925, -5.052, -7.5369, -7.5369, -7.5369, -6.1506, -7.5369, -7.5369, -7.5369, -7.5369, -5.2343, -7.5369, -7.5369, -7.5369, -7.5369, -1.7469, -4.8288, -5.591, -5.7451, -5.9275, -6.1506, -6.4383, -6.4383, -6.4383, -4.0105, -6.8437, -6.8437, -6.8437, -6.8437, -6.8437, -3.5296, -4.0712, -4.8978, -4.318, -5.9275, -5.9275, -5.9275, -6.1506, -5.3397, -5.2343, -3.7527, -5.9275, -5.9275, -5.9275, -4.1997, -5.5496, -6.3969, -6.3969, -6.3969, -6.3969, -4.451, -6.3969, -6.3969, -5.7038, -6.3969, -2.8904, -5.4161, -7.4955, -7.4955, -6.1092, -7.4955, -4.9306, -7.4955, -6.1092, -5.193, -7.4955, -4.7875, -7.4955, -7.4955, -7.4955, -6.1092, -4.4045, -6.8024, -7.4955, -6.1092, -6.1092, -6.8024, -6.8024, -6.8024, -6.8024, -6.8024, -6.8024, -6.8024, -3.912, -5.193, -4.2374, -5.7038, -4.723, -5.8861, -5.0106, -5.2983, -1.2264, -1.6549, -1.9272, -4.0616, -4.8565, -6.1092, -6.1092, -5.8861, -5.7038, -5.8861, -7.5385, -6.4399, -7.5385, -2.829, -4.8994, -6.1522, -5.7467, -5.7467, -6.4399, -7.5385, -6.4399, -4.1045, -7.5385, -7.5385, -5.7467, -7.5385, -7.5385, -6.1522, -7.5385, -7.5385, -7.5385, -7.5385, -4.8994, -6.4399, -6.1522, -6.4399, -5.4591, -6.4399, -7.5385, -6.4399, -3.5873, -3.8496, -3.955, -3.1318, -4.3196, -4.4475, -4.494, -4.7659, -4.8304, -5.1406, -3.5495, -3.2758, -5.9291, -5.9291, -5.9291, -5.9291, -6.1522, -6.1522, -6.1522, -2.5345, -4.4475, -4.5428, -4.7053, -4.2063, -5.0536, -3.8749, -3.8249, -4.5941, -5.4591, -1.5175, -3.9276, -4.7053, -5.3413, -7.511, -4.1437, -7.511, -4.946, -6.4124, -6.1247, -6.4124, -7.511, -7.511, -7.511, -7.511, -6.1247, -7.511, -7.511, -6.1247, -6.1247, -6.4124, -6.4124, -5.7192, -5.4315, -7.511, -7.511, -7.511, -7.511, -7.511, -7.511, -7.511, -7.511, -7.511, -6.1247, -1.9815, -2.296, -5.7192, -6.4124, -6.4124, -6.4124, -6.8178, -6.8178, -6.8178, -4.7384, -5.9015, -3.599, -6.1247, -5.1131, -1.2381, -1.4356, -5.7192, -5.7192, -5.9015, -5.9015, -5.3138, -5.5651, -5.9015, -6.1247, -5.9015, -6.1247, -6.4831, -4.6373, -6.4831, -5.79, -6.4831, -5.79, -6.4831, -6.4831, -6.4831, -6.4831, -6.4831, -1.8914, -5.5023, -7.5817, -6.1954, -7.5817, -7.5817, -7.5817, -7.5817, -7.5817, -4.2859, -7.5817, -6.1954, -5.1838, -7.5817, -3.7531, -5.9723, -6.8886, -5.1838, -7.5817, -2.6764, -3.0491, -3.175, -4.8737, -5.1838, -5.5023, -3.6697, -6.1954, -6.1954, -3.8681, -2.9765, -4.6913, -5.2791, -5.5023, -5.6358, -3.9182, -1.2773, -5.2791, -5.0168, -5.2791, -5.9723, -5.79, -5.3845, -5.9723, -3.6536, -2.5215, -3.1759, -3.99, -4.5497, -7.5454, -5.3482, -6.8522, -7.5454, -7.5454, -7.5454, -5.7536, -7.5454, -5.5995, -4.1781, -4.1114, -7.5454, -4.7728, -7.5454, -4.7728, -4.655, -7.5454, -7.5454, -7.5454, -5.936, -6.4468, -7.5454, -7.5454, -5.4659, -6.4468, -2.7332, -5.2428, -5.7536, -5.936, -5.936, -6.1591, -6.1591, -6.1591, -6.1591, -6.1591, -6.4468, -6.4468, -6.4468, -4.3673, -3.1759, -3.4183, -4.655, -3.99, -4.2873, -4.8373, -4.601, -4.8373, -3.9078, -4.3265, -4.8373, -4.9804, -1.3268, -4.601, -4.7122, -5.3482, -5.9538, -7.5632, -4.0368, -6.8701, -6.1769, -5.366, -7.5632, -7.5632, -7.5632, -7.5632, -7.5632, -6.1769, -7.5632, -5.6173, -7.5632, -7.5632, -5.6173, -7.5632, -7.5632, -6.8701, -5.9538, -7.5632, -7.5632, -7.5632, -4.8552, -7.5632, -7.5632, -7.5632, -7.5632, -6.4646, -5.1653, -5.9538, -5.9538, -6.1769, -6.1769, -6.1769, -6.4646, -6.4646, -6.4646, -6.4646, -6.8701, -6.8701, -6.8701, -6.8701, -6.8701, -6.8701, -6.8701, -6.8701, -3.2865, -5.0783, -4.9241, -3.0523, -5.6173, -0.9391, -1.3171, -5.6173, -5.2606, -6.1769, -4.8552, -5.7714, -5.6173, -5.1653, -5.9538, -4.3851, -6.1769, -6.1769, -4.8994, -4.8304, -4.494, -4.9735, -4.5428, -2.8751, -3.5873, -5.7467, -7.5385, -3.9276, -4.403, -3.29, -4.7053, -7.5385, -7.5385, -4.1712, -7.5385, -6.4399, -6.4399, -7.5385, -4.9735, -7.5385, -7.5385, -6.1522, -5.4591, -6.4399, -7.5385, -5.0536, -6.4399, -5.7467, -3.0499, -3.1197, -4.7053, -5.2359, -5.7467, -5.7467, -5.7467, -5.7467, -5.9291, -5.9291, -6.1522, -4.403, -4.0121, -3.1818, -4.494, -4.5941, -3.6265, -4.5428, -4.2427, -5.1406, -4.9735, -4.8994, -1.5272, -4.6481, -4.9735, -4.042, -4.7659, -4.6481, -5.6188, -3.6936, -4.2326, -4.4737, -5.1669, -3.8512, -4.9257, -5.6188, -6.4661, -5.1669, -6.4661, -6.4661, -5.6188, -5.773, -5.6188, -6.4661, -6.4661, -4.6744, -3.7146, -3.4059, -3.9272, -4.8567, -7.5648, -7.5648, -7.5648, -6.8716, -7.5648, -5.2622, -5.9553, -7.5648, -2.0393, -2.6896, -5.3675, -3.5574, -5.9553, -5.9553, -5.9553, -5.9553, -6.1785, -4.2326, -4.2326, -4.3867, -4.7922, -4.9257, -4.1975, -5.0799, -1.3562, -5.3675, -4.9257, -5.4853, -5.0799], \"loglift\": [30.0, 29.0, 28.0, 27.0, 26.0, 25.0, 24.0, 23.0, 22.0, 21.0, 20.0, 19.0, 18.0, 17.0, 16.0, 15.0, 14.0, 13.0, 12.0, 11.0, 10.0, 9.0, 8.0, 7.0, 6.0, 5.0, 4.0, 3.0, 2.0, 1.0, 2.9953, 2.9953, 2.9953, 2.9953, 2.9953, 2.9953, 2.9953, 2.9953, 2.9953, 2.9953, 2.9953, 2.9953, 2.9953, 2.9953, 2.9953, 2.9953, 2.9953, 2.9953, 2.9953, 2.9953, 2.9953, 2.9953, 2.9953, 2.9953, 2.9953, 2.9953, 2.9953, 2.9953, 2.9953, 2.9953, 2.9953, 2.9953, 2.9953, 2.9953, 2.9953, 2.9953, 2.9953, 2.9953, 2.9953, 2.9953, 2.9953, 2.9953, 2.9953, 2.9953, 2.9444, 2.913, 2.815, 2.9208, 2.9147, 2.4836, 2.8994, 2.6933, 2.8895, 2.8876, 2.8379, 1.7623, 2.4544, 2.2907, 3.0054, 3.0054, 3.0054, 3.0054, 3.0054, 3.0054, 3.0054, 3.0054, 3.0054, 3.0054, 3.0054, 3.0054, 3.0054, 3.0054, 3.0054, 3.0054, 3.0054, 3.0054, 3.0054, 3.0054, 3.0054, 3.0054, 3.0054, 3.0054, 3.0054, 3.0054, 3.0054, 3.0054, 3.0054, 3.0054, 3.0054, 3.0054, 3.0054, 3.0054, 3.0054, 3.0054, 3.0054, 2.9793, 3.0054, 3.0054, 3.0054, 3.0054, 3.0054, 3.0054, 2.9757, 2.9303, 2.8734, 2.8747, 2.9319, 2.9266, 2.9191, 2.8876, 2.8823, 2.8003, 2.6203, 1.7273, 2.3637, 2.7484, 2.824, 2.7233, 1.9644, -0.717, 1.8754, 2.9856, 2.9856, 2.9856, 2.9856, 2.9856, 2.9856, 2.9856, 2.9856, 2.9856, 2.9856, 2.9856, 2.9856, 2.9856, 2.9856, 2.9856, 2.9856, 2.9856, 2.9856, 2.9856, 2.9856, 2.9856, 2.9856, 2.9856, 2.9856, 2.9856, 2.9856, 2.9856, 2.9856, 2.9856, 2.9856, 2.979, 2.9856, 2.9856, 2.9856, 2.9856, 2.9856, 2.9856, 2.9856, 2.9856, 2.9856, 2.9856, 2.9856, 2.9856, 2.9551, 2.9416, 2.5904, 2.8848, 2.8267, 2.5113, 2.773, 2.7558, 2.0226, 1.0989, 2.3678, 0.8953, 2.9963, 2.9963, 2.9963, 2.9963, 2.9963, 2.9963, 2.9963, 2.9963, 2.9963, 2.9963, 2.9963, 2.9963, 2.9963, 2.9963, 2.9963, 2.9963, 2.9963, 2.9963, 2.9963, 2.9963, 2.9963, 2.9963, 2.9963, 2.9963, 2.9963, 2.9963, 2.9963, 2.9963, 2.9963, 2.9963, 2.9913, 2.9963, 2.9963, 2.9963, 2.9963, 2.9658, 2.9963, 2.9963, 2.9963, 2.9963, 2.9963, 2.9963, 2.9963, 2.9963, 2.7732, 2.8109, 2.6421, 1.682, 2.4191, 2.8124, 2.589, 2.3249, 2.2993, 2.302, 0.8327, 1.7541, 1.1034, 2.5761, 2.5904, -0.0967, 3.0076, 3.0076, 3.0076, 3.0076, 3.0076, 3.0076, 3.0076, 3.0076, 3.0076, 3.0076, 3.0076, 3.0076, 3.0076, 3.0076, 3.0076, 3.0076, 3.0076, 3.0076, 3.0076, 3.0076, 3.0076, 3.0076, 3.0076, 3.0076, 3.0076, 3.0076, 3.0076, 3.0076, 3.0076, 3.0076, 3.0008, 3.0076, 3.0076, 3.0076, 3.0076, 3.0076, 3.0076, 3.0076, 3.0076, 3.0076, 2.9532, 2.9655, 2.9285, 2.9095, 2.801, 2.7359, 2.8557, 2.716, 2.5713, 0.5327, 2.5573, 2.7834, 2.5349, 2.4174, 0.5783, 1.914, 2.5911, 2.0931, 2.9854, 2.9854, 2.9854, 2.9854, 2.9854, 2.9854, 2.9854, 2.9854, 2.9854, 2.9854, 2.9854, 2.9854, 2.9854, 2.9854, 2.9854, 2.9854, 2.9854, 2.9854, 2.9854, 2.9854, 2.9854, 2.9854, 2.9854, 2.9854, 2.9854, 2.9854, 2.9854, 2.9854, 2.9854, 2.9854, 2.9818, 2.981, 2.9854, 2.9854, 2.9854, 2.9663, 2.9854, 2.9854, 2.963, 2.9854, 2.9854, 2.9854, 2.9854, 2.9854, 2.9549, 2.9057, 2.9248, 2.8945, 2.8686, 2.8995, 2.8801, 2.8208, 2.8686, 2.7622, 2.6459, 2.7825, 0.771, 2.5496, 1.4664, -2.4561, 2.9924, 2.9924, 2.9924, 2.9924, 2.9924, 2.9924, 2.9924, 2.9924, 2.9924, 2.9924, 2.9924, 2.9924, 2.9924, 2.9924, 2.9924, 2.9924, 2.9924, 2.9924, 2.9924, 2.9924, 2.9924, 2.9924, 2.9924, 2.9924, 2.9924, 2.9924, 2.9924, 2.9924, 2.9924, 2.9924, 2.9652, 2.9924, 2.9724, 2.9924, 2.9924, 2.9924, 2.9924, 2.9924, 2.9924, 2.9924, 2.9924, 2.9924, 2.9924, 2.9924, 2.9924, 2.9195, 2.9357, 2.9354, 2.9131, 2.8273, 2.871, 2.8543, 2.7938, 2.7709, 1.6049, 2.6239, 2.7057, 2.3521, 2.7442, 2.2897, 2.5859, 2.7134, 2.4409, 2.9844, 2.9844, 2.9844, 2.9844, 2.9844, 2.9844, 2.9844, 2.9844, 2.9844, 2.9844, 2.9844, 2.9844, 2.9844, 2.9844, 2.9844, 2.9844, 2.9844, 2.9844, 2.9844, 2.9844, 2.9844, 2.9844, 2.9844, 2.9844, 2.9844, 2.9844, 2.9844, 2.9844, 2.9844, 2.9844, 2.9728, 2.9721, 2.9844, 2.9844, 2.9844, 2.9844, 2.9844, 2.9844, 2.9844, 2.9844, 2.9844, 2.9844, 2.9844, 2.9844, 2.8786, 2.93, 2.9213, 2.7612, 2.9032, 2.8594, 2.8543, 2.8111, 2.7533, 2.7874, 1.6815, 2.2186, 2.6906, 2.8516, 2.1746, 2.3596, 1.0692, -2.2891, 3.0047, 3.0047, 3.0047, 3.0047, 3.0047, 3.0047, 3.0047, 3.0047, 3.0047, 3.0047, 3.0047, 3.0047, 3.0047, 3.0047, 3.0047, 3.0047, 3.0047, 3.0047, 3.0047, 3.0047, 3.0047, 3.0047, 3.0047, 3.0047, 3.0047, 3.0047, 3.0047, 3.0047, 3.0047, 3.0047, 3.0003, 2.9894, 3.0047, 2.9847, 2.9741, 3.0047, 3.0047, 3.0047, 3.0047, 3.0047, 3.0047, 3.0047, 3.0047, 2.8685, 2.898, 2.9141, 2.8825, 2.8711, 2.8708, 1.7606, 2.7132, 2.7004, 2.1071, 2.6666, 2.4474, 2.062, 1.4808, 1.9267, 2.5984, 1.7596, 2.1318, 1.4859, 2.4441, 2.9981, 2.9981, 2.9981, 2.9981, 2.9981, 2.9981, 2.9981, 2.9981, 2.9981, 2.9981, 2.9981, 2.9981, 2.9981, 2.9981, 2.9981, 2.9981, 2.9981, 2.9981, 2.9981, 2.9981, 2.9981, 2.9981, 2.9981, 2.9981, 2.9981, 2.9981, 2.9981, 2.9981, 2.9981, 2.9981, 2.9981, 2.9803, 2.9675, 2.9981, 2.9981, 2.9981, 2.9981, 2.9981, 2.9981, 2.9981, 2.9981, 2.9708, 2.9633, 2.9543, 2.8354, 2.8351, 2.89, 2.6207, 2.0268, 2.6616, 2.7034, 2.7487, 2.7093, 2.8118, 2.0831, 2.2317, 2.8073, 2.9797, 2.9797, 2.9797, 2.9797, 2.9797, 2.9797, 2.9797, 2.9797, 2.9797, 2.9797, 2.9797, 2.9797, 2.9797, 2.9797, 2.9797, 2.9797, 2.9797, 2.9797, 2.9797, 2.9797, 2.9797, 2.9797, 2.9797, 2.9797, 2.9797, 2.9797, 2.9797, 2.9797, 2.9797, 2.9797, 2.9754, 2.9797, 2.9797, 2.9797, 2.9797, 2.9797, 2.9622, 2.9797, 2.9797, 2.9797, 2.9797, 2.9797, 2.9797, 2.9797, 2.9797, 2.9797, 2.9797, 2.9797, 2.9577, 2.9797, 2.9797, 2.9797, 2.9379, 2.8813, 2.9222, 2.9165, 2.9149, 2.7191, 2.7545, 2.7741, 2.296, 1.9353, 1.8602, 2.9935, 2.9935, 2.9935, 2.9935, 2.9935, 2.9935, 2.9935, 2.9935, 2.9935, 2.9935, 2.9935, 2.9935, 2.9935, 2.9935, 2.9935, 2.9935, 2.9935, 2.9935, 2.9935, 2.9935, 2.9935, 2.9935, 2.9935, 2.9935, 2.9935, 2.9935, 2.9935, 2.9935, 2.9935, 2.9935, 2.9875, 2.9935, 2.9935, 2.9935, 2.9935, 2.9935, 2.9935, 2.9935, 2.9935, 2.9651, 2.9935, 2.9935, 2.9935, 2.9935, 2.9935, 2.959, 2.8277, 2.7435, 2.5127, 2.815, 2.8117, 2.6503, 2.7785, 1.8048, 1.3452, -1.4583, 1.4154, 0.7809, 0.424, 3.0117, 3.0117, 3.0117, 3.0117, 3.0117, 3.0117, 3.0117, 3.0117, 3.0117, 3.0117, 3.0117, 3.0117, 3.0117, 3.0117, 3.0117, 3.0117, 3.0117, 3.0117, 3.0117, 3.0117, 3.0117, 3.0117, 3.0117, 3.0117, 3.0117, 3.0117, 3.0117, 3.0117, 3.0117, 3.0117, 3.0117, 3.0117, 3.0117, 3.0117, 3.0117, 3.0117, 3.0117, 3.0117, 3.0117, 2.9603, 2.921, 2.7538, 2.8641, 2.6659, 2.8439, 2.6216, 2.5941, 1.4307, 1.4277, 0.8825, 1.6921, 2.1391, 2.7983, 2.7983, 2.4537, 1.5577, 1.7462, 2.9916, 2.9916, 2.9916, 2.9916, 2.9916, 2.9916, 2.9916, 2.9916, 2.9916, 2.9916, 2.9916, 2.9916, 2.9916, 2.9916, 2.9916, 2.9916, 2.9916, 2.9916, 2.9916, 2.9916, 2.9916, 2.9916, 2.9916, 2.9916, 2.9916, 2.9916, 2.9916, 2.9916, 2.9916, 2.9916, 2.9916, 2.9916, 2.9916, 2.9798, 2.9916, 2.9916, 2.9916, 2.9916, 2.9916, 2.9916, 2.9737, 2.9653, 2.9916, 2.9916, 2.9916, 2.9916, 2.9916, 2.9916, 2.9916, 2.9291, 2.9485, 2.9439, 2.9369, 2.8616, 2.9146, 2.809, 2.7545, 2.8079, 2.8784, 1.5652, 2.0873, 1.9881, 1.6925, 3.0155, 3.0155, 3.0155, 3.0155, 3.0155, 3.0155, 3.0155, 3.0155, 3.0155, 3.0155, 3.0155, 3.0155, 3.0155, 3.0155, 3.0155, 3.0155, 3.0155, 3.0155, 3.0155, 3.0155, 3.0155, 3.0155, 3.0155, 3.0155, 3.0155, 3.0155, 3.0155, 3.0155, 3.0155, 3.0155, 3.0116, 2.995, 3.0155, 3.0155, 3.0155, 3.0155, 3.0155, 3.0155, 3.0155, 2.9551, 2.8338, 2.492, 2.7984, 2.4351, 1.419, 1.3741, 2.5155, 2.5055, 2.5598, 2.4398, 1.8307, 1.888, 2.0089, 1.9184, 0.185, 1.4144, 2.9889, 2.9889, 2.9889, 2.9889, 2.9889, 2.9889, 2.9889, 2.9889, 2.9889, 2.9889, 2.9889, 2.9889, 2.9889, 2.9889, 2.9889, 2.9889, 2.9889, 2.9889, 2.9889, 2.9889, 2.9889, 2.9889, 2.9889, 2.9889, 2.9889, 2.9889, 2.9889, 2.9889, 2.9889, 2.9889, 2.9815, 2.978, 2.9763, 2.9889, 2.9889, 2.9889, 2.9691, 2.9889, 2.9889, 2.9403, 2.8668, 2.8821, 2.8937, 2.8702, 2.7366, 2.0968, 1.0171, 2.3439, 2.0875, 1.4202, 2.5157, 1.5989, 0.0792, 1.9484, 2.9882, 2.9882, 2.9882, 2.9882, 2.9882, 2.9882, 2.9882, 2.9882, 2.9882, 2.9882, 2.9882, 2.9882, 2.9882, 2.9882, 2.9882, 2.9882, 2.9882, 2.9882, 2.9882, 2.9882, 2.9882, 2.9882, 2.9882, 2.9882, 2.9882, 2.9882, 2.9882, 2.9882, 2.9882, 2.9882, 2.9727, 2.9882, 2.9882, 2.9882, 2.9882, 2.9882, 2.9882, 2.9882, 2.9882, 2.9882, 2.9882, 2.9882, 2.9882, 2.9487, 2.9167, 2.8994, 2.9353, 2.9051, 2.9138, 2.9249, 2.8471, 2.8675, 2.7425, 2.4784, 2.6251, 2.6722, 0.9676, 2.3125, 1.3027, 1.7784, 3.0123, 3.0123, 3.0123, 3.0123, 3.0123, 3.0123, 3.0123, 3.0123, 3.0123, 3.0123, 3.0123, 3.0123, 3.0123, 3.0123, 3.0123, 3.0123, 3.0123, 3.0123, 3.0123, 3.0123, 3.0123, 3.0123, 3.0123, 3.0123, 3.0123, 3.0123, 3.0123, 3.0123, 3.0123, 3.0123, 3.0123, 3.0123, 3.0123, 3.0123, 3.0123, 3.0123, 3.0123, 3.0123, 3.0123, 3.0123, 3.0123, 3.0123, 3.0123, 3.0123, 3.0123, 3.0123, 3.0123, 3.0123, 2.9438, 2.9308, 2.8729, 2.7013, 2.8729, 1.718, 1.4926, 2.649, 2.474, 2.7751, 1.9758, 2.4971, 2.3031, 1.8684, 2.5362, 0.9509, -0.8859, 1.7488, 2.9902, 2.9902, 2.9902, 2.9902, 2.9902, 2.9902, 2.9902, 2.9902, 2.9902, 2.9902, 2.9902, 2.9902, 2.9902, 2.9902, 2.9902, 2.9902, 2.9902, 2.9902, 2.9902, 2.9902, 2.9902, 2.9902, 2.9902, 2.9902, 2.9902, 2.9902, 2.9902, 2.9902, 2.9902, 2.9902, 2.9795, 2.9786, 2.9902, 2.9902, 2.9902, 2.9902, 2.9902, 2.9902, 2.9902, 2.9902, 2.9902, 2.9492, 2.9367, 2.9047, 2.9438, 2.9402, 2.8308, 2.8976, 2.8269, 2.9057, 2.8504, 2.7444, 1.2825, 2.3475, 2.6588, -0.8295, 0.3749, -2.3537, 2.989, 2.989, 2.989, 2.989, 2.989, 2.989, 2.989, 2.989, 2.989, 2.989, 2.989, 2.989, 2.989, 2.989, 2.989, 2.989, 2.989, 2.989, 2.989, 2.989, 2.989, 2.989, 2.989, 2.989, 2.989, 2.989, 2.989, 2.989, 2.989, 2.989, 2.9851, 2.9815, 2.989, 2.9706, 2.989, 2.989, 2.989, 2.989, 2.989, 2.9545, 2.9542, 2.9472, 2.9287, 2.92, 2.8319, 2.7665, 1.7265, 2.7924, 2.5273, 2.5768, 0.8108]}, \"token.table\": {\"Topic\": [9, 3, 8, 19, 10, 5, 18, 4, 1, 12, 13, 18, 2, 19, 5, 17, 20, 4, 13, 11, 15, 17, 20, 5, 9, 14, 9, 10, 17, 9, 17, 17, 3, 14, 2, 19, 18, 7, 3, 12, 3, 16, 19, 12, 2, 18, 17, 10, 8, 17, 19, 2, 8, 8, 8, 6, 15, 18, 16, 15, 14, 3, 18, 20, 1, 2, 5, 13, 18, 3, 5, 16, 2, 18, 4, 12, 15, 15, 12, 13, 2, 5, 12, 13, 10, 17, 1, 18, 3, 3, 14, 1, 16, 11, 6, 11, 2, 11, 1, 11, 14, 7, 14, 3, 10, 14, 20, 3, 16, 5, 20, 5, 5, 5, 4, 11, 20, 3, 19, 2, 18, 11, 12, 3, 17, 2, 6, 17, 14, 6, 4, 11, 12, 16, 2, 10, 13, 15, 14, 11, 19, 6, 1, 9, 6, 13, 15, 20, 17, 6, 20, 7, 1, 8, 9, 12, 1, 10, 19, 5, 7, 9, 1, 4, 14, 15, 19, 13, 16, 9, 9, 1, 1, 19, 9, 11, 14, 19, 8, 19, 17, 16, 20, 12, 10, 10, 12, 19, 13, 14, 2, 11, 1, 6, 6, 7, 9, 15, 14, 17, 5, 11, 7, 14, 9, 9, 11, 15, 10, 11, 20, 20, 7, 15, 3, 7, 9, 7, 16, 8, 10, 18, 12, 1, 17, 1, 19, 7, 8, 15, 10, 17, 10, 16, 9, 8, 9, 20, 5, 19, 5, 13, 18, 6, 14, 20, 12, 9, 15, 19, 6, 7, 7, 14, 14, 7, 20, 2, 1, 15, 3, 1, 13, 2, 3, 4, 8, 5, 19, 6, 1, 9, 17, 6, 15, 3, 17, 17, 4, 9, 12, 1, 10, 20, 16, 9, 18, 9, 10, 15, 11, 5, 18, 4, 14, 11, 16, 4, 18, 2, 4, 17, 18, 8, 19, 7, 9, 7, 3, 9, 5, 1, 14, 10, 13, 16, 4, 14, 16, 8, 18, 19, 19, 1, 5, 10, 19, 10, 3, 3, 17, 11, 10, 20, 4, 5, 10, 10, 7, 20, 19, 17, 13, 8, 15, 4, 8, 6, 17, 17, 11, 17, 3, 12, 8, 16, 4, 2, 6, 14, 2, 19, 18, 1, 20, 9, 15, 7, 14, 13, 2, 5, 9, 3, 12, 1, 17, 20, 4, 14, 4, 2, 14, 9, 12, 15, 8, 14, 5, 2, 5, 20, 6, 10, 10, 15, 12, 1, 9, 11, 16, 8, 6, 5, 7, 19, 7, 18, 8, 9, 19, 19, 13, 11, 7, 12, 11, 12, 19, 9, 8, 15, 15, 11, 18, 3, 7, 5, 9, 8, 7, 1, 6, 13, 5, 9, 14, 4, 14, 15, 5, 1, 4, 4, 2, 8, 9, 15, 17, 20, 10, 20, 18, 5, 6, 10, 15, 17, 14, 17, 1, 19, 6, 15, 14, 4, 19, 14, 16, 2, 13, 12, 1, 7, 11, 4, 8, 16, 14, 6, 12, 15, 18, 1, 6, 13, 9, 10, 18, 8, 1, 3, 13, 12, 20, 10, 5, 13, 15, 20, 14, 12, 20, 8, 15, 20, 12, 8, 18, 4, 6, 2, 8, 14, 6, 8, 7, 12, 20, 1, 4, 7, 18, 2, 1, 8, 20, 7, 11, 17, 7, 20, 20, 18, 6, 5, 11, 19, 15, 15, 4, 11, 12, 2, 14, 2, 5, 19, 1, 6, 2, 4, 17, 14, 20, 9, 8, 9, 11, 17, 14, 3, 12, 1, 10, 13, 16, 13, 4, 7, 18, 15, 2, 2, 18, 9, 13, 6, 15, 13, 11, 2, 1, 2, 6, 7, 20, 10, 13, 17, 14, 8, 19, 3, 2, 15, 16, 2, 13, 3, 16, 3, 3, 5, 12, 14, 6, 18, 11, 19, 16, 6, 18, 14, 18, 6, 4, 20, 12, 5, 6, 20, 8, 6, 6, 11, 6, 3, 16, 5, 20, 7, 17, 19, 17, 18, 9, 18, 7, 13, 14, 2, 6, 5, 20, 8, 11, 16, 11, 17, 20, 7, 7, 8, 13, 14, 20, 15, 4, 11, 12, 17, 18, 20, 16, 11, 10, 1, 3, 10, 18, 7, 15, 3, 2, 9, 9, 11, 16, 20, 18, 8, 16, 6, 16, 1, 6, 3, 14, 20, 14, 3, 7, 5, 7, 5, 6, 14, 10, 2, 3, 10, 10, 5, 20, 13, 17, 9, 12, 1, 14, 17, 12, 17, 20, 10, 20, 6, 10, 18, 18, 5, 7, 12, 5, 12, 18, 11, 2, 7, 3, 9, 11, 3, 18, 19, 17, 2, 7, 9, 7, 15, 5, 20, 8, 12, 20, 2, 20, 6, 15, 19, 4, 8, 16, 14, 9, 19, 18, 3, 19, 14, 15, 2, 6, 7, 13, 14, 15, 18, 19, 18, 11, 12, 3, 1, 2, 20, 9, 16, 1, 3, 10, 15, 3, 17, 3, 7, 14, 6, 17, 11, 2, 13, 4, 4, 9, 16, 3, 10, 11, 16, 5, 19, 10, 8, 2, 8, 8, 20, 5, 19, 2, 7, 5, 18, 17, 4, 8, 18, 8, 12, 10, 13, 15, 12, 8, 15, 8, 20, 1, 20, 18, 17, 19, 2, 3, 16, 7, 14, 9, 7, 19, 6, 18, 7, 11, 12, 6, 14, 13, 19, 12, 4, 9, 1, 10, 2, 4, 5, 4, 14, 16, 17, 7, 7, 10, 2, 5, 14, 18, 4, 7, 19, 15, 2, 7, 19, 13, 7, 4, 16, 19, 15, 16, 15, 4, 3, 9, 17, 16, 6, 16, 4, 16, 3, 20, 5, 9, 18, 17, 7, 5, 10, 19, 1, 1, 9, 17, 3, 11, 17, 5, 9, 1, 18, 13, 18, 15, 3, 9, 8, 9, 19, 6, 14, 3, 13, 19, 19, 6, 19, 1, 3, 19, 8, 19, 20, 1, 9, 1, 6, 13, 9, 12, 2, 3, 5, 20, 6, 12, 17, 5, 18, 11, 4, 17, 20, 8, 2, 20, 10, 5, 9, 13, 2, 5, 12, 20, 1, 10, 17, 8, 6, 7, 12, 14, 18, 20, 6, 9, 14, 8, 3, 5, 18, 4, 20, 7, 17, 8, 9, 13, 7, 4, 12, 19, 4, 4, 16, 13, 10, 1, 3, 16, 10, 12, 4, 11, 4, 14, 17, 11, 7, 7, 15, 18, 2, 8, 12, 8, 19, 9, 12, 2, 7, 12, 4, 10, 6, 9, 10, 1, 4, 7, 17, 16, 7, 5, 2, 8, 14, 3, 6, 14, 19, 1, 7, 10, 11, 5, 10, 2, 15, 12, 6, 16, 17, 7, 9, 20, 2, 6, 13, 17, 12, 10, 20, 1, 7, 4, 7, 9, 17, 15, 13, 19, 15, 9, 3, 6, 16, 13, 4, 19, 7, 14, 20, 2, 12, 12, 17, 1, 20, 1, 20, 9, 3, 16, 15, 3, 2, 7, 10, 16, 8, 15, 19, 4, 3, 3, 4, 5, 6, 7, 12, 16, 17, 19, 11, 14, 5, 1, 8, 19, 20, 8, 6, 7, 6, 3, 6, 10, 6, 18, 1, 18, 8, 1, 11, 9, 1, 9, 2, 13, 20, 10, 1, 10, 12, 13, 11, 7, 9, 14, 7, 19, 2, 14, 18, 19, 12, 18, 8, 11, 14, 20, 2, 9, 15, 11, 20, 18, 10, 17, 7, 2, 5, 13, 13, 6, 9, 11, 3, 5, 12, 7, 12, 13, 20, 4, 6, 14, 4, 9, 14, 4, 4, 14, 16, 4, 13, 8, 10, 10, 9, 11, 17, 8, 9, 14, 16, 5, 9, 10, 9, 19, 4, 11, 11, 5, 7, 16, 11, 15, 12, 13, 5, 4, 3, 4, 6, 6, 8, 17, 20, 4, 7, 4, 13, 15, 12, 13, 16, 11, 5, 19, 20, 2, 8, 9, 13, 15, 18, 11, 13, 19, 11, 7, 14, 2, 14, 18, 11, 8, 8, 20, 19, 20, 5, 14, 20, 8, 16, 5, 15, 16, 13, 16, 17, 7, 17, 1, 2, 2, 14, 17, 20, 17, 10, 18, 7, 10, 19, 16, 10, 5, 14, 10, 12, 16, 12, 6, 16, 7, 14, 10, 14, 14, 15, 1, 13, 14, 10, 17, 6, 11, 14, 1, 16, 12, 13, 17, 17, 13, 9, 5, 9, 17, 14, 18, 2, 20, 3, 1, 3, 19, 2, 13, 8, 13, 18, 17, 9, 19, 10, 14, 19, 2, 16, 4, 6, 17, 11, 10, 10, 11, 16, 7, 11, 10, 5, 14, 17, 8, 9, 13, 8, 10, 19, 18, 4, 11, 9, 19, 3, 8, 14, 18, 18, 12, 8, 19, 8, 2, 6, 19, 11, 13, 18, 12, 19, 14, 5, 13, 18, 2, 6, 13, 8, 20, 3, 7, 10, 13, 4, 9, 13, 18, 12, 19, 1, 2, 11, 5, 12, 19, 2, 14, 1, 7, 18, 8, 1, 7, 16, 8, 3, 3, 8, 13, 10, 18, 6, 12, 1, 8, 1, 18, 15, 17, 6, 4, 15, 19, 4, 1, 19, 2, 11, 7, 11, 4, 3, 5, 2, 3, 16, 13, 11, 11, 7, 16, 2, 5, 16, 20, 18, 4, 12, 15, 3, 1, 15, 12, 15, 11, 13, 1, 3, 4, 1, 3, 16, 19, 5, 4, 16, 12, 9, 18, 1, 3, 10, 7, 14, 16, 4, 17, 20, 3, 13, 9, 14, 10, 4, 17], \"Freq\": [0.9922933219408736, 0.014665512204884112, 0.8066031712686261, 0.19065165866349346, 0.9776572225206749, 0.3711315563130284, 0.6185525938550474, 0.9921461380768013, 0.9967490250568574, 1.0383595662433092, 0.9300656773687116, 0.9957211503541239, 0.753687177846038, 0.21533919367029658, 0.979783531307255, 0.9548833481411877, 0.974365074835931, 0.9921461380768012, 1.062932202707099, 1.0179202221684238, 0.3070341862035821, 0.04386202660051173, 0.6140683724071642, 0.9797835313072548, 0.10621438598194421, 0.8497150878555537, 0.12206829812782972, 0.7324097887669784, 0.12206829812782972, 0.2161912773027359, 0.786150099282676, 0.9548833481411877, 0.9866606443697346, 0.9515705351002162, 0.047570864354150096, 0.9514172870830019, 0.9957211503541241, 0.9826999539466079, 0.3766343525543022, 0.6120308229007411, 0.9866606443697347, 0.9908841778661018, 0.9954800615518802, 0.9518296023897003, 0.9745338315445046, 0.9957211503541239, 0.9548833481411877, 0.9776572225206749, 0.899252918949028, 0.026065301998522552, 0.0738516889958139, 0.07606137378000632, 0.9127364853600758, 0.9900053992546172, 0.9900053992546172, 0.9744032822339505, 0.9481003466515616, 0.9957211503541238, 0.9908841778661018, 0.9481003466515615, 0.9515705351002162, 0.9866606443697348, 0.6924516709374042, 0.29676500183031607, 0.2449985684787082, 0.7349957054361246, 0.6107276463184179, 0.12214552926368358, 0.24429105852736716, 0.31193111775825627, 0.15596555887912814, 0.5198851962637604, 1.0070182925959879, 0.9957211503541239, 0.6517828761559101, 0.16294571903897753, 0.16294571903897753, 0.9481003466515616, 0.675362923342788, 0.2701451693371152, 0.9745338315445046, 0.979783531307255, 0.9518296023897003, 0.9300656773687116, 0.977657222520675, 0.9878103601460563, 0.9967490250568574, 0.9957211503541239, 1.0119596352510098, 1.00106444939703, 0.9515705351002162, 0.9967490250568574, 0.9908841778661018, 1.0179202221684238, 0.9968033576876044, 1.0179202221684238, 0.9745338315445046, 1.0179202221684238, 0.9967490250568574, 0.9946910518737699, 0.004170612376829224, 0.982699953946608, 0.9515705351002162, 0.5319381089686641, 0.1773127029895547, 0.26596905448433206, 0.974365074835931, 0.9866606443697346, 0.9908841778661018, 0.9928803519671311, 0.0065666689944916075, 0.979783531307255, 0.979783531307255, 0.979783531307255, 0.9724209481062072, 0.020049916455798088, 0.010024958227899044, 0.9866606443697347, 0.9502309678449765, 0.9745338315445046, 0.9957211503541239, 1.0179202221684238, 0.9518296023897003, 0.7841096820767052, 0.1960274205191763, 0.9745338315445046, 1.0118803315506408, 0.9548833481411877, 0.9515705351002162, 0.9744032822339505, 0.9921461380768012, 1.0179202221684238, 0.9518296023897003, 0.990884177866102, 0.9745338315445046, 0.8078249395175892, 0.16156498790351784, 0.9481003466515616, 1.0110436935439797, 0.05298635742107565, 0.9537544335793617, 0.9744032822339505, 0.9252559029509987, 0.07117353099623067, 0.9357007468469821, 0.03598849026334547, 0.03598849026334547, 0.974365074835931, 0.9548833481411877, 0.9170833267360032, 0.0573177079210002, 0.982699953946608, 0.9195941765718497, 0.07663284804765415, 0.9922933219408736, 0.9518296023897003, 0.5994166510838681, 0.3783462318221676, 0.022107041926170058, 0.9797835313072549, 0.982699953946608, 0.9922933219408735, 0.04167708532617578, 0.12503125597852735, 0.8335417065235157, 0.9481003466515615, 0.9502309678449765, 0.9300656773687116, 0.990884177866102, 0.9922933219408736, 0.9922933219408736, 0.9967490250568574, 0.9967490250568574, 0.9502309678449765, 0.013054207697457324, 0.013054207697457324, 0.9790655773092994, 0.9502309678449765, 0.14584429901348764, 0.8588608719683161, 0.9548833481411877, 0.03361812155219544, 0.9749255250136679, 0.9518296023897003, 0.9776572225206749, 0.977657222520675, 1.0113189525390567, 1.0061269071299752, 0.9300656773687116, 0.9515705351002162, 0.9745338315445046, 1.0179202221684238, 0.9967490250568574, 0.9993879817784109, 0.7794565766420744, 0.06495471472017286, 0.06495471472017286, 0.06495471472017286, 0.996883417724036, 1.0079324230379205, 0.979783531307255, 0.9942476588621814, 0.982699953946608, 0.9515705351002162, 0.9922933219408735, 0.9922933219408735, 0.8126318516199871, 0.1912074944988205, 0.9776572225206748, 1.0179202221684238, 0.9946643472283465, 1.004813983424554, 0.982699953946608, 0.9481003466515616, 0.9866606443697347, 0.9828900031042346, 0.01965780006208469, 0.9285315799288362, 0.05461950470169624, 0.02126757209302986, 0.9570407441863437, 0.02126757209302986, 0.9518296023897003, 0.015288407924675437, 0.9861023111415657, 0.9967490250568574, 0.9502309678449765, 0.052085168171591915, 0.9375330270886545, 0.9481003466515616, 0.05031870994752203, 0.9560554890029186, 0.9705897949579488, 0.029864301383321506, 0.9922933219408735, 0.9900053992546172, 0.007382564084997109, 0.9892635873896126, 0.08662215405999373, 0.9095326176299341, 0.979783531307255, 0.2645883852422173, 0.7296225168800536, 0.9744032822339505, 0.9526317782226308, 0.04536341801060147, 0.9518296023897003, 1.0066743845776978, 0.5693708685273532, 0.37958057901823544, 0.8669495199740148, 0.10836868999675185, 0.982699953946608, 0.9515705351002162, 0.9515705351002162, 0.982699953946608, 0.9743650748359313, 0.9745338315445046, 0.9967490250568574, 0.9481003466515616, 0.9866606443697346, 0.3402970851551982, 0.6805941703103964, 0.08236400277877111, 0.41182001389385553, 0.4941840166726267, 0.9900053992546172, 0.8882010821712997, 0.08882010821712998, 0.9744032822339505, 0.08729047184173955, 0.043645235920869774, 0.8729047184173955, 0.3833797025573481, 0.5750695538360222, 0.9866606443697348, 0.9548833481411878, 0.9988582391740056, 0.7937404570851985, 0.19843511427129962, 1.0470125626286704, 0.2904748074364421, 0.6926706946561312, 0.022344215956649396, 0.9908841778661018, 0.9922933219408735, 0.9957211503541239, 0.9920716519133514, 0.01480703958079629, 1.0134865774551174, 1.0179202221684238, 1.0005416569705443, 0.9957211503541239, 0.9921461380768012, 0.9515705351002162, 1.0179202221684238, 0.9908841778661018, 0.9921461380768013, 0.9957211503541239, 0.9745338315445046, 0.6962160201215241, 0.28481564459516895, 0.9957211503541239, 0.9900053992546172, 0.9502309678449766, 0.01945300817069765, 0.9726504085348825, 0.982699953946608, 0.9866606443697347, 0.9922933219408735, 0.979783531307255, 0.9967490250568573, 1.0150085707735639, 0.1878419334721291, 0.7513677338885164, 0.9908841778661018, 0.5570517079142812, 0.030947317106348952, 0.40231512238253636, 0.9900053992546172, 0.01056348408484303, 0.9929675039752449, 0.9502309678449765, 0.3282187475032251, 0.3282187475032251, 0.3282187475032251, 1.0061269071299752, 0.9776572225206748, 0.9866606443697346, 0.8417075593504592, 0.14028459322507653, 0.9850840859694424, 0.9775992738316679, 0.017150864453187156, 0.046664715753209005, 0.7466354520513441, 0.18665886301283602, 0.9776572225206748, 0.03360862517702192, 0.9746501301336358, 0.9502309678449766, 0.9548833481411877, 1.0463238870398006, 0.9900053992546173, 0.9481003466515616, 0.49553730632927884, 0.49553730632927884, 0.9744032822339505, 1.0026275155482471, 0.9548833481411877, 0.9343118445846851, 0.053389248261982006, 0.03343894955865686, 0.9697295372010489, 0.9900053992546173, 0.9908841778661017, 0.9921461380768011, 0.9745338315445046, 0.9955741460159555, 0.004254590367589553, 0.9745338315445046, 1.018104608405332, 0.9957211503541239, 0.8950180104111456, 0.0994464456012384, 0.4044188196314919, 0.5953943733463631, 0.982699953946608, 0.9515705351002162, 0.9300656773687116, 0.8128373927891819, 0.16256747855783638, 0.9922933219408735, 0.9866606443697347, 0.9518296023897003, 0.9967490250568574, 0.32259447861857343, 0.6451889572371469, 0.9921461380768013, 0.9515705351002162, 0.9921461380768013, 0.011467960950008101, 0.9862446417006967, 0.3865812692586307, 0.28993595194397304, 0.28993595194397304, 0.9900053992546173, 0.9515705351002162, 0.979783531307255, 0.9745338315445045, 0.979783531307255, 0.974365074835931, 0.9744032822339505, 0.9776572225206748, 0.19077357605571604, 0.7630943042228642, 1.0113189525390567, 0.5803511164754935, 0.4145365117682097, 0.9967135508732483, 0.9908841778661018, 0.9900053992546173, 0.9744032822339505, 0.5429849957335039, 0.32579099744010237, 0.10859699914670079, 0.982699953946608, 0.9957211503541239, 0.3305098356547041, 0.6610196713094082, 1.0233256576792056, 1.0233256576792056, 0.9300656773687116, 1.0179202221684238, 0.982699953946608, 0.9518296023897003, 0.983692118615925, 0.00826632032450357, 0.00826632032450357, 0.9922933219408735, 0.9900053992546172, 0.9481003466515615, 0.9481003466515616, 1.0179202221684238, 0.9957211503541239, 1.0031049884425636, 0.982699953946608, 0.979783531307255, 0.9922933219408735, 0.9900053992546172, 0.982699953946608, 0.9967490250568574, 0.9744032822339505, 0.9300656773687116, 0.7319895501915485, 0.08133217224350539, 0.16266434448701078, 0.9921461380768012, 0.055782574976814964, 0.9483037746058544, 0.979783531307255, 0.9967490250568574, 0.9921461380768013, 0.9921461380768013, 0.9977370180098498, 0.9900053992546173, 0.3376737131315851, 0.5788692225112888, 0.04823910187594073, 0.04823910187594073, 0.8305876854267377, 0.14657429742824782, 0.9957211503541239, 0.979783531307255, 0.7954734976825522, 0.08838594418695024, 0.08838594418695024, 0.9548833481411877, 0.9515705351002162, 0.9938581786775628, 0.9967490250568573, 0.9915453577512798, 0.42649471030889535, 0.5331183878861192, 0.9515705351002162, 0.14946018879274708, 0.8369770572393836, 1.038076947382054, 0.9908841778661018, 0.9745338315445046, 0.9300656773687116, 0.9518296023897003, 0.9967490250568573, 0.7434559007298678, 0.2478186335766226, 0.9921461380768012, 0.9900053992546172, 0.9908841778661018, 0.9515705351002162, 0.15925316131926812, 0.7962658065963405, 0.9793554237915685, 0.02019289533590863, 0.9967490250568574, 0.9301081762367803, 0.08087897184667656, 0.1982745502877597, 0.1982745502877597, 0.5948236508632792, 0.9900053992546172, 0.9967490250568574, 0.892029635372252, 0.08920296353722519, 0.9518296023897003, 0.995096246640951, 0.977657222520675, 0.979783531307255, 1.014617102584049, 0.9969231818493584, 0.0037478315107118735, 1.0129621825260364, 0.017392023252137172, 0.9739533021196816, 0.34651431421325835, 0.34651431421325835, 0.27721145137060665, 0.9518296023897003, 0.8668767423308559, 0.1238395346186937, 0.9921461380768011, 1.0039306544228581, 0.9745338315445046, 0.07341698416261506, 0.9544207941139958, 0.8264989798349192, 0.15027254178816712, 0.8539915260434837, 0.10414530805408338, 0.041658123221633356, 0.0895285679553515, 0.0895285679553515, 0.8057571115981634, 0.9957211503541239, 0.9745338315445046, 0.9967490250568574, 0.8129956136928163, 0.17421334579131778, 0.982699953946608, 1.0179202221684238, 0.9548833481411877, 0.9826999539466079, 0.974365074835931, 0.974365074835931, 0.9957211503541239, 0.9744032822339505, 0.08631287970986048, 0.9062852369535351, 0.00539455498186628, 0.9481003466515616, 0.9481003466515615, 0.9921461380768013, 1.0179202221684238, 0.9991059071441555, 0.7938626819642168, 0.17641392932538152, 0.9745338315445046, 0.979783531307255, 0.9502309678449766, 0.9967490250568574, 0.9744032822339505, 0.344123397773208, 0.0458831197030944, 0.5964805561402272, 0.038937293822608535, 0.9734323455652133, 0.9922933219408736, 0.12400084418234865, 0.8680059092764406, 0.3099334755962258, 0.7084193727913732, 0.994823741241135, 0.9866606443697346, 0.9518296023897003, 0.9967490250568574, 0.1878419334721291, 0.7513677338885164, 0.9908841778661018, 0.9300656773687116, 0.9921461380768013, 1.0107770954879396, 0.9957211503541239, 0.9481003466515616, 0.9745338315445046, 0.9745338315445046, 0.9957211503541239, 0.9922933219408735, 0.9300656773687116, 0.9744032822339505, 0.9481003466515616, 0.9300656773687116, 0.9911328479008336, 0.9745338315445046, 0.9967490250568574, 0.9322662406695399, 0.014125246070750604, 0.014125246070750604, 0.042375738212251816, 0.9776572225206749, 0.9989594312478756, 0.9548833481411877, 0.9515705351002162, 0.9294812054630165, 0.05809257534143853, 0.9866606443697346, 0.12021781947386134, 0.6010890973693067, 0.24043563894772269, 0.8616747107047984, 0.1077093388380998, 0.9866606443697347, 0.9908841778661018, 0.9866606443697347, 0.9866606443697347, 0.0183105312797254, 0.2014158440769794, 0.7873528450281921, 0.9744032822339505, 0.9957211503541239, 0.954044859974488, 0.0596278037484055, 0.990884177866102, 0.9744032822339505, 0.995721150354124, 0.12374744530989149, 0.8662321171692404, 0.9744032822339505, 0.824281414102054, 0.16485628282041082, 0.9518296023897003, 0.979783531307255, 0.9744032822339505, 0.9743650748359313, 0.9900053992546173, 0.9744032822339505, 0.05972076983009373, 0.9555323172814997, 0.9744032822339505, 0.21998722066700938, 0.7699552723345328, 0.0573342440024657, 0.9173479040394512, 0.5661322850449502, 0.3235041628828286, 0.08087604072070716, 0.9548833481411877, 0.9957211503541239, 0.871278640356162, 0.12673143859725994, 0.982699953946608, 0.992070055859959, 0.9515705351002162, 0.9745338315445046, 0.9744032822339505, 0.979783531307255, 0.974365074835931, 0.9900053992546172, 0.8287325861666959, 0.18416279692593243, 1.0179202221684238, 0.9548833481411877, 1.000006261015824, 0.982699953946608, 0.982699953946608, 0.2717983897663422, 0.20523551880315635, 0.2401810260588289, 0.28289220159353984, 0.9481003466515616, 0.9921461380768013, 0.028185811461181962, 0.014092905730590981, 0.9160388724884138, 0.04227871719177294, 0.9743650748359313, 0.990884177866102, 1.0179202221684238, 0.9776572225206748, 0.9967490250568574, 0.9866606443697346, 0.07648522707342839, 0.9178227248811408, 0.8559578354364763, 0.12227969077663947, 0.9866606443697346, 0.9988971773331172, 0.9922933219408735, 0.9922933219408735, 1.0179202221684238, 0.990884177866102, 0.974365074835931, 0.9957211503541239, 0.9900053992546173, 0.9908841778661018, 1.023123446345648, 0.990884177866102, 0.8515664846539525, 0.1419277474423254, 0.9866606443697347, 1.019539859035946, 0.974365074835931, 1.0064688352021516, 0.24592178561661965, 0.737765356849859, 0.979783531307255, 0.9826999539466079, 0.979783531307255, 0.16261805783608793, 0.8334175464099507, 0.9776572225206748, 0.6630486723880116, 0.17448649273368724, 0.1395891941869498, 0.9776572225206748, 0.979783531307255, 0.974365074835931, 0.9300656773687116, 0.9548833481411877, 0.9922933219408736, 0.9518296023897003, 0.9967490250568574, 0.9515705351002162, 1.014563557400012, 0.9518296023897003, 0.9548833481411877, 0.974365074835931, 0.19500434588584256, 0.7800173835433702, 0.03874271361149639, 0.025828475740997593, 0.9298251266759133, 0.9957211503541238, 0.3926125215694426, 0.588918782354164, 0.9518296023897003, 0.6245575022536295, 0.08922250032194706, 0.2676675009658412, 1.0179202221684238, 0.9745338315445046, 0.982699953946608, 0.6140341661506012, 0.02558475692294172, 0.3581865969211841, 0.9866606443697347, 0.9957211503541239, 0.9502309678449766, 0.9548833481411877, 0.9054617208386155, 0.06965090160297042, 0.9922933219408735, 0.982699953946608, 0.9481003466515616, 0.7829560193858787, 0.19573900484646967, 0.7857017646421942, 0.19642544116054855, 0.9743650748359313, 0.06495842156432179, 0.9094179019005051, 0.02236847530046656, 0.055921188251166404, 0.9171074873191291, 0.9921461380768012, 0.9900053992546172, 0.9908841778661018, 0.9515705351002162, 0.9922933219408735, 1.001594803944705, 0.9957211503541238, 0.9712818895065891, 0.02856711439725262, 0.9515705351002162, 0.9481003466515615, 0.2786486946838575, 0.004221949919452387, 0.001266584975835716, 0.1190589877285573, 0.0029553649436166707, 0.19378750130286454, 0.21869700582763363, 0.18112165154450738, 0.9957211503541239, 1.0179202221684238, 0.9518296023897003, 0.9866606443697347, 0.009195468541927846, 0.8735695114831454, 0.11034562250313416, 0.007285989151570554, 0.9908945246135955, 0.9967490250568574, 1.0049321377839888, 0.9776572225206749, 0.9481003466515616, 0.03824460355460182, 0.9561150888650455, 0.05460661988347464, 0.928312538019069, 0.9515705351002162, 0.05975502518556888, 0.9560804029691021, 1.0179202221684238, 0.31481017409567785, 0.6820887105406354, 0.9921461380768013, 0.12403436519621902, 0.8682405563735331, 0.9908841778661018, 0.9866606443697347, 0.9776572225206748, 1.0179202221684238, 0.9908841778661018, 0.07938545156522997, 0.9526254187827596, 0.9776572225206748, 0.9900053992546173, 0.9745338315445046, 0.9900053992546172, 0.9900053992546172, 0.974365074835931, 0.939423532139533, 0.03914264717248054, 0.8939417249020248, 0.08126742953654771, 0.979783531307255, 0.9957211503541239, 0.9548833481411877, 0.9921461380768013, 0.9900053992546172, 0.9957211503541238, 0.15120954060444441, 0.856854063425185, 0.9776572225206748, 0.9300656773687116, 0.9481003466515616, 0.9518296023897003, 0.9894908760651903, 0.011641069130178709, 0.9900053992546172, 1.0186543964193826, 0.1778835998598583, 0.8004761993693623, 0.9957211503541239, 0.9856860367909035, 1.0045298802932607, 0.9745338315445046, 0.9866606443697347, 0.9908841778661018, 0.04142969224744914, 0.9528829216913302, 0.9922933219408735, 0.01131672475125799, 0.984555053359445, 0.9744032822339505, 0.9957211503541239, 0.982699953946608, 1.0179202221684238, 0.9518296023897003, 0.9744032822339505, 0.9515705351002162, 0.9300656773687116, 0.9502309678449765, 0.9518296023897003, 0.9921461380768011, 0.9922933219408735, 0.9967490250568573, 0.9954328083846872, 0.9745338315445046, 0.9921461380768012, 0.979783531307255, 0.9921461380768013, 0.40605925126345344, 0.40605925126345344, 0.1874119621215939, 0.982699953946608, 0.982699953946608, 0.9776572225206749, 0.9746874313903116, 0.028667277393832694, 0.9539203770288014, 0.05299557650160008, 0.9921461380768013, 0.982699953946608, 1.0452540646294743, 0.9481003466515615, 0.9745338315445045, 0.982699953946608, 1.0135796990346417, 0.9300656773687116, 0.982699953946608, 0.0900907971681125, 0.9009079716811249, 0.9502309678449766, 0.9481003466515616, 0.9908841778661018, 0.9481003466515616, 0.9921461380768012, 0.01458292275856269, 0.9770558248237002, 0.01458292275856269, 1.000926922912042, 0.010539424636004904, 0.990705915784461, 0.019429586104446745, 0.9714793052223372, 0.9866606443697346, 0.9743650748359313, 0.6333274669027987, 0.07036971854475542, 0.2814788741790217, 0.9548833481411878, 0.982699953946608, 0.979783531307255, 1.0201640582824434, 0.9502309678449765, 0.9967490250568573, 0.9967490250568573, 0.9922933219408735, 0.9548833481411877, 0.6645766488385074, 0.3322883244192537, 0.9548833481411877, 0.979783531307255, 0.9922933219408735, 0.9967490250568574, 0.9957211503541239, 0.9300656773687116, 0.9957211503541238, 0.9481003466515616, 0.2830506953514773, 0.7076267383786933, 0.9900053992546172, 0.9922933219408735, 0.9502309678449765, 0.9744032822339505, 0.9515705351002162, 0.05552085072716963, 0.4164063804537722, 0.5274480819081114, 1.0157641380411817, 0.9739444758068181, 0.01803600881123737, 0.9179865710665387, 0.038249440461105774, 0.038249440461105774, 0.7379557044264194, 0.08199507826960216, 0.16399015653920432, 0.8966714893921091, 0.09963016548801211, 0.736958461935891, 0.2133300810867053, 0.03878728747031005, 0.9922933219408735, 0.9518296023897003, 0.8784300203652083, 0.12200416949516783, 0.979783531307255, 0.9743650748359313, 0.9737240783726638, 0.028638943481548936, 0.9548833481411877, 0.979783531307255, 0.9957211503541239, 1.0179202221684238, 0.11283779805479761, 0.9027023844383809, 0.9743650748359313, 0.9900053992546172, 0.8662356248110564, 0.10827945310138205, 0.9776572225206749, 0.9454297793520232, 0.05252387663066796, 0.9300656773687116, 0.9990196062064268, 0.979783531307255, 0.9796721114732347, 0.027213114207589855, 0.9967490250568574, 0.9770440013683157, 0.025711684246534625, 0.9900053992546173, 0.9744032822339505, 0.982699953946608, 0.9518296023897003, 0.12374744530989149, 0.8662321171692404, 0.974365074835931, 0.9744032822339505, 0.9922933219408735, 1.0030067802407685, 0.9900053992546173, 0.9866606443697346, 0.8417391649702155, 0.14028986082836925, 0.9921461380768012, 0.9981300766611978, 0.982699953946608, 0.9548833481411877, 0.9900053992546172, 0.7319764553783589, 0.24399215179278627, 0.982699953946608, 0.9921461380768013, 0.9518296023897003, 0.9502309678449766, 0.9921461380768012, 0.6611500851136424, 0.3305750425568212, 0.9300656773687116, 1.0007514876195884, 0.042917174839830576, 0.9441778464762726, 0.9908841778661018, 0.8775104012517656, 0.09750115569464061, 0.9921461380768013, 1.0179202221684238, 0.04501155432816948, 0.02250577716408474, 0.9339897523095166, 1.0179202221684238, 0.982699953946608, 0.34876946927767477, 0.05812824487961246, 0.5812824487961247, 0.9745338315445046, 0.9900053992546172, 1.0152849092156802, 0.8692535982430152, 0.11590047976573535, 0.9922933219408735, 0.9518296023897003, 0.9745338315445046, 0.982699953946608, 0.9518296023897003, 0.9921461380768012, 1.0038444695524786, 0.9744032822339505, 0.7414450252267322, 0.24714834174224407, 0.9967490250568574, 0.16065817828657492, 0.10710545219104994, 0.7497381653373496, 0.990884177866102, 0.982699953946608, 0.979783531307255, 0.9745338315445046, 0.9900053992546172, 0.9515705351002162, 0.08128442374746911, 0.8941286612221602, 0.9515705351002162, 0.9502309678449766, 0.9473455725198557, 0.024290912115893737, 0.024290912115893737, 1.0179202221684238, 0.979783531307255, 0.9776572225206749, 0.9745338315445046, 0.9481003466515616, 0.9518296023897003, 0.6301452888524876, 0.35008071602915974, 0.9548833481411877, 0.982699953946608, 0.9964734004097141, 0.004258433335084248, 0.021653470732216504, 0.9744061829497427, 0.9300656773687116, 0.9548833481411877, 1.001925897252316, 0.9776572225206748, 0.9743650748359313, 0.2190639192231312, 0.7667237172809592, 0.8254659857840663, 0.16509319715681325, 0.8782155839535682, 0.10977694799419603, 0.9481003466515616, 1.0186433609276366, 0.9502309678449766, 0.9481003466515616, 0.9922933219408736, 0.9866606443697347, 0.9744032822339505, 0.990884177866102, 0.9300656773687116, 0.9921461380768013, 0.9502309678449766, 0.8703474801759236, 0.10879343502199045, 0.974365074835931, 0.005787017784791168, 0.9953670589840808, 0.7936143357556145, 0.1587228671511229, 0.49271497699955114, 0.49271497699955114, 0.9967490250568574, 0.974365074835931, 0.9922933219408735, 0.9866606443697348, 0.990884177866102, 0.9481003466515616, 0.9866606443697346, 0.9745338315445046, 0.982699953946608, 0.9776572225206748, 0.9908841778661018, 0.9900053992546173, 0.31650656585568265, 0.6330131317113653, 0.9921461380768012, 0.9866606443697347, 0.9866606443697346, 0.26858333747045027, 0.08423176968556843, 0.1091986714785962, 0.24966901793027768, 0.011600782651305833, 0.13920939181567, 0.13265242770841018, 0.004791627616843713, 1.0179202221684238, 0.9515705351002162, 0.979783531307255, 0.10405596143389882, 0.8324476914711906, 0.05202798071694941, 0.974365074835931, 0.9900053992546173, 0.9030724166395988, 0.10836868999675185, 0.9744032822339505, 0.9866606443697347, 0.9744032822339505, 0.9776572225206748, 0.9744032822339505, 0.9957211503541239, 0.9967490250568574, 0.9957211503541239, 0.9900053992546173, 0.9967490250568574, 1.0179202221684238, 0.9922933219408735, 0.9967490250568574, 0.9922933219408736, 0.9745338315445046, 0.8024107971390172, 0.13373513285650288, 0.9776572225206749, 0.9967490250568574, 0.977657222520675, 1.000491647501648, 0.9300656773687116, 1.0179202221684238, 0.9077827521316854, 0.07564856267764045, 1.019539859035946, 0.982699953946608, 0.9502309678449766, 0.2799691201690421, 0.20997684012678156, 0.48994596029582366, 0.9502309678449766, 1.0002277177654475, 0.9957211503541239, 0.08614118281781713, 0.028713727605939043, 0.028713727605939043, 0.8614118281781713, 0.9745338315445046, 0.9922933219408735, 1.0210311425478356, 1.0023398106046215, 0.9743650748359313, 0.9957211503541239, 0.8114886977664003, 0.16229773955328006, 1.0015980299840428, 0.9745338315445045, 0.08494327404139364, 0.93437601445533, 0.9300656773687116, 0.6938509076186399, 0.2857033149017929, 1.0179202221684238, 0.7976631594021044, 0.061358704569392644, 0.12271740913878529, 0.027638751750583408, 0.027638751750583408, 0.7738850490163354, 0.16583251050350045, 0.28647860869212916, 0.4583657739074066, 0.2291828869537033, 0.9970342859839624, 0.0048874229705096195, 0.9515705351002162, 0.9921461380768012, 0.023022379151959194, 0.023022379151959194, 0.943917545230327, 0.9921461380768012, 0.9300656773687116, 0.529990303009195, 0.45427740257931004, 0.9776572225206748, 0.019923341934454244, 0.9563204128538038, 0.019923341934454244, 0.9900053992546172, 0.9063698444616897, 0.08239725858742633, 0.990884177866102, 0.10883318610601929, 0.10883318610601929, 0.761832302742135, 0.9922933219408735, 0.9502309678449766, 0.9921461380768013, 1.0179202221684238, 1.0179202221684238, 0.7969277433204255, 0.12260426820314238, 0.06130213410157119, 1.0179202221684238, 0.9481003466515615, 0.9518296023897003, 0.9300656773687116, 0.979783531307255, 0.9921461380768012, 0.33010362516602015, 0.6602072503320403, 0.9744032822339505, 0.9744032822339505, 0.46029040391648157, 0.511433782129424, 0.025571689106471198, 0.02656629434010884, 0.9740974591373242, 0.9921461380768013, 0.9300656773687116, 0.9481003466515616, 0.04113720935065718, 0.6993325589611721, 0.24682325610394307, 1.0179202221684238, 0.979783531307255, 0.9977425162372254, 0.9743650748359313, 0.024284883498870178, 0.005074453268420634, 0.2881564534567432, 0.20587781831878002, 0.20261566978908105, 0.2740204764947143, 1.0179202221684238, 0.2623728640071937, 0.7346440192201422, 1.0179202221684238, 0.9359441681666104, 0.0668531548690436, 0.01730869793215367, 0.9865957821327593, 0.9957211503541239, 1.0179202221684238, 0.9986517346192862, 0.0038667704878251725, 0.9976267858588945, 0.7962418425295498, 0.21233115800787994, 0.979783531307255, 0.9515705351002162, 0.974365074835931, 0.8736253271145292, 0.11648337694860389, 0.645993185725312, 0.322996592862656, 0.9908841778661018, 0.9300656773687116, 0.9904342843198991, 0.011932943184577098, 0.982699953946608, 0.9548833481411877, 0.025660677572307306, 0.9751057477476776, 0.5335106675581485, 0.36935353907871815, 0.08207856423971514, 0.020519641059928786, 0.9548833481411877, 0.9776572225206749, 0.9957211503541239, 0.9826999539466079, 0.6982700866085899, 0.27154947812556274, 0.990884177866102, 0.9776572225206748, 0.9414276766764921, 0.07241751359049939, 0.8454603138472991, 0.07288450981442235, 0.07288450981442235, 1.0311487359221754, 0.9744032822339505, 0.990884177866102, 0.982699953946608, 0.9896333565042248, 0.9767646436032906, 0.03255882145344302, 0.9515705351002162, 0.9481003466515615, 0.08952547066631722, 0.029841823555439073, 0.8654128831077331, 0.9776572225206748, 0.9548833481411877, 0.9744032822339505, 1.0179202221684238, 0.9515705351002162, 0.905648172582813, 0.0905648172582813, 0.05021327943328337, 0.025106639716641684, 0.9289456695157423, 1.0032318720977036, 1.0230722451055827, 0.9922933219408735, 0.09910279860558058, 0.8919251874502252, 0.9548833481411877, 0.999149061855227, 0.9957211503541239, 0.9745338315445046, 0.9743650748359313, 0.9866606443697346, 0.9967490250568574, 0.039653961630890834, 0.9516950791413801, 0.9745338315445046, 1.0044709315582085, 0.9900053992546173, 0.5323026036663784, 0.4258420829331028, 0.9548833481411877, 0.5683550773948318, 0.4059679124248799, 0.7280772212140075, 0.0808974690237786, 0.1617949380475572, 0.900712956213508, 0.07505941301779233, 0.003609140094818751, 0.9961226661699754, 1.014563557400012, 1.0179202221684238, 0.977657222520675, 0.02064159439524357, 0.7637389926240121, 0.2064159439524357, 0.48671810072040195, 0.5137579952048688, 0.9776572225206748, 0.979783531307255, 0.06818899670470949, 0.9205514555135781, 0.42484778144815766, 0.5664637085975436, 0.9300656773687116, 0.4405110881068308, 0.3915654116505163, 0.1468370293689436, 0.995721150354124, 0.021645912812936544, 0.9740660765821445, 0.9922933219408735, 0.9502309678449765, 0.23072010230766082, 0.17304007673074562, 0.2595601150961184, 0.31724014067303363, 0.9957211503541239, 1.0470125626286704, 1.0035671170526255, 1.0050519852206483, 0.9900053992546172, 0.9745338315445046, 0.1271179227024924, 0.8898254589174468, 1.0179202221684238, 0.19637176328420394, 0.7854870531368158, 0.04319561438845898, 0.9503035165460977, 0.9515705351002162, 0.049081909245584955, 0.9570972302889067, 0.9957211503541239, 0.0974416335591021, 0.8769747020319189, 0.9300656773687116, 0.9898248483252188, 0.011248009640059304, 0.08181353303902923, 0.6545082643122339, 0.24544059911708768, 0.9300656773687116, 0.5070098050379396, 0.21728991644483125, 0.21728991644483125, 0.03621498607413854, 1.0383595662433092, 1.029416881832058, 0.9967490250568574, 0.9745338315445046, 1.0179202221684238, 0.05294850140191327, 0.794227521028699, 0.15884550420573978, 0.9745338315445046, 0.9515705351002162, 0.1177355189522767, 0.5180362833900175, 0.3532065568568301, 0.9900053992546173, 0.9967490250568574, 0.10999645488390365, 0.8799716390712292, 0.9900053992546172, 0.9866606443697346, 0.9927633998043163, 0.0031416563284946716, 0.0031416563284946716, 0.9776572225206749, 0.9957211503541239, 0.9744032822339505, 0.9518296023897003, 0.9967490250568574, 0.9900053992546171, 0.9967490250568574, 0.9957211503541239, 0.9481003466515616, 1.0094481108921125, 0.9744032822339505, 0.9921461380768013, 0.9481003466515616, 1.0040176264022393, 0.9921461380768013, 0.9967490250568574, 0.9502309678449766, 1.002377655302919, 0.9936840264025089, 0.6798014259511983, 0.3137545042851685, 0.9921461380768011, 0.9866606443697346, 0.979783531307255, 0.1234694500897265, 0.246938900179453, 0.6173472504486325, 1.0016091910124587, 1.0030600729396877, 1.0179202221684238, 0.787460772158201, 0.19686519303955025, 0.04947467890957831, 0.04947467890957831, 0.8905442203724095, 1.009163827508643, 0.9957211503541239, 0.19192572706845448, 0.7677029082738179, 0.9481003466515615, 0.9866606443697347, 0.9967490250568574, 0.9481003466515616, 0.15811997643646453, 0.7905998821823227, 0.15727326681810788, 0.7863663340905395, 0.9967490250568574, 0.9866606443697347, 0.9921461380768013, 0.832303733973684, 0.14955457719839635, 0.006502372921669406, 0.006502372921669406, 0.979783531307255, 0.11401220835331596, 0.8857871572065318, 1.0047090247446835, 0.9922933219408735, 0.9957211503541239, 0.9967490250568574, 0.9866606443697347, 0.9776572225206748, 0.005999388862990985, 0.9419040514895847, 0.05399449976691886, 0.9921461380768013, 0.9548833481411877, 0.974365074835931, 0.9866606443697348, 0.9300656773687116, 0.9922933219408735, 1.004435564828006, 0.9776572225206748, 0.9921461380768013, 0.9548833481411877], \"Term\": [\"abit\", \"access\", \"access\", \"access\", \"accommodation\", \"accomodation\", \"accomodation\", \"ace\", \"ache\", \"across_road\", \"across_street\", \"action\", \"activity\", \"activity\", \"addition\", \"admit\", \"adult\", \"advantage\", \"advice\", \"afield\", \"air\", \"air\", \"air\", \"air_con\", \"air_condition\", \"air_condition\", \"aircon\", \"aircon\", \"aircon\", \"airport\", \"airport\", \"airy\", \"aligre\", \"alow\", \"amazing\", \"amazing\", \"ambiance\", \"ambience\", \"amenity\", \"amenity\", \"amount\", \"ample\", \"amsterdam\", \"annoying\", \"apology\", \"appearance\", \"apple\", \"appointment\", \"area\", \"area\", \"area\", \"around_corner\", \"around_corner\", \"arrange\", \"arrangement\", \"arrival\", \"arrivo\", \"assist\", \"ate\", \"atm\", \"atmoshere\", \"atmosphere\", \"attention\", \"attention\", \"attention_detail\", \"attention_detail\", \"attentive\", \"attentive\", \"attentive\", \"attitude\", \"attitude\", \"attitude\", \"attraction\", \"authority\", \"availability\", \"availability\", \"availability\", \"availbe\", \"average\", \"average\", \"awful\", \"awkward\", \"background\", \"backyard\", \"bacon\", \"bag\", \"bagel\", \"baggage\", \"balcony\", \"bar\", \"barman\", \"base\", \"basement\", \"basic\", \"bath\", \"bath_mat\", \"bath_tub\", \"bathrobe\", \"bathrobe_slipper\", \"bathroom\", \"bathroom\", \"bathtbu\", \"bathtub\", \"beach\", \"beach\", \"beach\", \"beat\", \"beautiful\", \"bec\", \"bed\", \"bed\", \"bed_pushed_together\", \"bed_two_single\", \"bedding\", \"bedroom\", \"bedroom\", \"bedroom\", \"beer\", \"bell_boy\", \"bellboy\", \"bellman\", \"benedict\", \"berry\", \"bill\", \"bill\", \"bipassing\", \"birthday\", \"biscuit\", \"bistro\", \"blanket\", \"blind\", \"block_away\", \"bloody\", \"body\", \"bogey\", \"boiled_egg\", \"boiled_egg\", \"bond_street\", \"bonus\", \"book\", \"book\", \"booked_booking_com\", \"booking\", \"booking\", \"booking_com\", \"booking_com\", \"booking_com\", \"booking_com_hotel\", \"booklet\", \"bottle\", \"bottle\", \"brand_new\", \"bread\", \"bread\", \"break\", \"breakfasr\", \"breakfast\", \"breakfast\", \"breakfast\", \"breakfast_included_price\", \"breakfast_per_person\", \"brekfast\", \"brilliant\", \"brilliant\", \"brilliant\", \"bring\", \"british_museum\", \"broaken\", \"brochure\", \"bucket\", \"buckingham_palace\", \"budget\", \"buffet\", \"buffett\", \"building\", \"building\", \"building\", \"burger\", \"bus\", \"bus\", \"bus_route\", \"business\", \"business\", \"business_leisure\", \"buy\", \"cab\", \"cafe\", \"call\", \"calm\", \"campus\", \"candy\", \"capiccuno\", \"capital\", \"car\", \"car_park\", \"car_park\", \"car_park\", \"car_park\", \"card\", \"care\", \"caring\", \"carpet\", \"carrot\", \"catalunya\", \"catch\", \"caterpillar\", \"ceiling\", \"ceiling\", \"celebration\", \"cell\", \"center\", \"centre\", \"chair\", \"challenge\", \"champagne\", \"change\", \"change\", \"channel\", \"channel\", \"charge\", \"charge\", \"charge\", \"charm\", \"check\", \"check\", \"checkin\", \"chelsea\", \"child\", \"child\", \"chino\", \"chocolate\", \"chocolate\", \"choice\", \"choice\", \"cigarette\", \"cinema\", \"city\", \"city\", \"city_center\", \"city_center\", \"city_tax\", \"clean\", \"clean\", \"cleaner\", \"cleaning\", \"cleaning\", \"cleanliess\", \"cleanliness\", \"cleanness\", \"cleanness\", \"client\", \"client\", \"climate_control\", \"clock\", \"close_city_center\", \"close_city_centre\", \"close_metro_station\", \"close_milano_centrale\", \"close_paddington_station\", \"close_public_transport\", \"close_public_transportation\", \"close_train_station\", \"close_train_station\", \"close_tube_station\", \"close_tube_station\", \"close_tube_station\", \"closeness\", \"closet\", \"closet\", \"closing\", \"club\", \"club\", \"club\", \"club_lounge\", \"club_lounge\", \"cocktail\", \"coffe\", \"coffee\", \"coffee_machine\", \"coffee_machine\", \"coffee_machine_room\", \"cold\", \"cold\", \"cold\", \"colleague\", \"comb\", \"comfiest\", \"comfort\", \"comfort\", \"comfortable\", \"comfortablebed\", \"comfy\", \"commend\", \"comment\", \"communication\", \"compact\", \"company\", \"compare\", \"comparison\", \"complain\", \"complaint\", \"complaint\", \"compliment\", \"computer\", \"concert\", \"concierge\", \"concierge\", \"concreat\", \"condition\", \"confirmation\", \"congratulation\", \"connection\", \"construction\", \"contact\", \"contact\", \"contrast\", \"control\", \"control\", \"control\", \"convenience\", \"convenient\", \"convenient\", \"cookie\", \"cooky\", \"cooky\", \"cooky\", \"cool\", \"cooperative\", \"cope\", \"corner\", \"corner\", \"corridor\", \"cost\", \"cost\", \"cosy\", \"cosy\", \"cosy\", \"cotton\", \"couple\", \"couple\", \"courtesy\", \"courtyard\", \"cover\", \"cozy\", \"creamer\", \"credit_card\", \"credit_card\", \"crockery\", \"cup\", \"cupboard\", \"curtain\", \"curtain\", \"customer\", \"customer\", \"cutlery\", \"dark\", \"daughter\", \"daughter_birthday\", \"day\", \"day\", \"de_gracia\", \"deal\", \"debbie\", \"decent\", \"decent\", \"decor\", \"decor\", \"decoration\", \"decrepit\", \"definitely_recommend_hotel\", \"definitely_return\", \"definitely_return\", \"delicious\", \"delight\", \"delightful\", \"deluxe\", \"deposit\", \"deposit\", \"derty\", \"description\", \"desert\", \"design\", \"design\", \"desk\", \"desk\", \"desk\", \"desolate\", \"desperate\", \"development\", \"device\", \"didnt\", \"difference\", \"difficulty\", \"dingy\", \"dining\", \"dining\", \"dinner\", \"direction\", \"direction\", \"dirty\", \"disability\", \"disappointing\", \"disappointment\", \"discount\", \"discount\", \"discount\", \"discover\", \"dish\", \"dislike\", \"dislike\", \"distance\", \"district\", \"disturb\", \"diverse\", \"doesnt\", \"doh\", \"door\", \"door\", \"door\", \"doorman\", \"doorstep\", \"double\", \"douvet\", \"drain\", \"dresser\", \"drink\", \"drinking\", \"duct\", \"dull\", \"duomo\", \"duplex\", \"dust\", \"dusty\", \"duty\", \"duvet\", \"duvet\", \"duvet\", \"earplug\", \"easy_access\", \"easy_access\", \"easy_access_city\", \"easy_access_public_transport\", \"easy_get_airport\", \"easy_reach\", \"eat\", \"ecellent\", \"efficient\", \"efficient\", \"efficient\", \"efficient\", \"egg\", \"egg\", \"eifel_tower\", \"eiffel_tower_view\", \"electricity\", \"electricity\", \"electricity\", \"elegance\", \"element\", \"elevator\", \"email\", \"end\", \"english\", \"english\", \"enter\", \"entrance\", \"entrance\", \"equipment\", \"espresso\", \"establishment\", \"etoile\", \"eur\", \"euro\", \"europe\", \"europe\", \"eurostar\", \"euston\", \"evening\", \"evening_meal\", \"exceeded_expectation\", \"exceeded_expectation\", \"excellent\", \"excellent\", \"excellent_customer_service\", \"executive\", \"executive\", \"executive_lounge\", \"executive_lounge\", \"executive_lounge\", \"exit\", \"expectation\", \"expensive\", \"expensive\", \"expensive_per_person\", \"experience\", \"extra\", \"eye\", \"fab\", \"facility\", \"facility\", \"fact\", \"family\", \"family\", \"fan\", \"fan\", \"fan\", \"fantastic\", \"far_city_centre\", \"far_city_centre\", \"fast\", \"fault\", \"fav\", \"feature\", \"feature\", \"fee\", \"fee\", \"feel\", \"feel\", \"feel\", \"feeling\", \"feeling\", \"feeling\", \"ferry\", \"file\", \"film\", \"find\", \"find\", \"fine\", \"fire\", \"fire_alarm\", \"firm\", \"first_impression\", \"fitness\", \"five_star_hotel\", \"fix\", \"floor\", \"floor\", \"floor\", \"flop\", \"flower\", \"flute\", \"foam\", \"food\", \"foot\", \"foot\", \"four_poster\", \"foyer\", \"franco\", \"free_tea_coffee\", \"fresh_fruit\", \"fridge\", \"fridge\", \"fridge\", \"friend\", \"friend\", \"friendlier\", \"friendliness\", \"friendliness\", \"front\", \"front\", \"front_desk\", \"front_desk_staff\", \"front_office\", \"fruit\", \"full_english_breakfast\", \"full_english_breakfast\", \"fun\", \"funky\", \"furnishing\", \"furniture\", \"gallery\", \"gameday\", \"garage\", \"garden\", \"gbp\", \"geat\", \"genius\", \"gesture\", \"ggod\", \"girlfriend\", \"glass\", \"glass_door_bathroom\", \"gluten_free_bread\", \"good\", \"good\", \"good\", \"good\", \"good_transport_link\", \"good_value_money\", \"gracechurch\", \"grea\", \"great_value_money\", \"great_value_money\", \"grill\", \"ground\", \"ground\", \"ground\", \"ground_floor\", \"ground_floor\", \"group\", \"guess\", \"guest\", \"guy\", \"gym\", \"gym\", \"gym\", \"h_tel\", \"hadnot\", \"hair\", \"hair\", \"hair_dryer\", \"half\", \"hall\", \"hallway\", \"hallway\", \"hamza\", \"hand\", \"hand\", \"handy\", \"hanger\", \"hard\", \"hate\", \"hazley\", \"hbo\", \"head\", \"head\", \"health\", \"hear\", \"hear\", \"heart\", \"heart\", \"heating\", \"heating\", \"heating\", \"heel\", \"helper\", \"helpful\", \"helpful\", \"helpful_front_desk\", \"helpfull\", \"helpfulness\", \"hen\", \"hetero\", \"hight\", \"hilton\", \"hip\", \"history\", \"history\", \"hole\", \"holiday\", \"home\", \"honor\", \"hot_water_shower\", \"hotel\", \"hotel\", \"hotel\", \"hotel\", \"hotel_booking_com\", \"hotter\", \"hour\", \"hour\", \"hour\", \"hour\", \"house\", \"house_keeping\", \"housekeeper\", \"housekeeping\", \"huevos\", \"hugo\", \"hyde_park\", \"hyde_park\", \"ice\", \"ice\", \"idea\", \"ideal\", \"iffy\", \"ill\", \"impress\", \"impression\", \"improvement\", \"inconsistent\", \"indoor\", \"inform\", \"information\", \"ingredient\", \"interest\", \"interest\", \"interior\", \"interior_design\", \"interiorv\", \"internet\", \"internet_connection\", \"internet_connection\", \"interview\", \"iron\", \"irritation\", \"issue\", \"issue\", \"italy\", \"item\", \"item\", \"item\", \"jeez\", \"jhony\", \"job\", \"john\", \"juat\", \"judge\", \"jug\", \"junction\", \"jusrt\", \"kettle\", \"kettle_tea_coffee\", \"key\", \"keycard\", \"kid\", \"kid\", \"kind\", \"kind\", \"kind\", \"kindness\", \"king\", \"king\", \"king_cross\", \"kitchen\", \"kitchen\", \"kitchen\", \"kitchenette\", \"knob\", \"la_rambla\", \"lack\", \"lack\", \"lack\", \"lady\", \"land\", \"laundery\", \"lavender\", \"layout\", \"layout\", \"le_minute_walk\", \"lead\", \"leisure\", \"length\", \"length\", \"level\", \"level\", \"library\", \"life\", \"life\", \"lift\", \"lift\", \"lift\", \"light\", \"light_sleeper\", \"light_switch\", \"lighting\", \"limp\", \"line\", \"load\", \"lobby\", \"lobby\", \"locality\", \"localization\", \"location\", \"location\", \"location\", \"location\", \"location\", \"location\", \"location\", \"location\", \"location_walking_distance\", \"lock\", \"locker\", \"lol\", \"london\", \"london\", \"london\", \"lot\", \"lot\", \"lotion\", \"lounge\", \"love\", \"luca\", \"luggage\", \"luggage\", \"luxury\", \"luxury\", \"mac\", \"machine\", \"machine\", \"maid\", \"make\", \"make\", \"makeup\", \"making\", \"making\", \"male\", \"man\", \"map\", \"marche\", \"mark\", \"market\", \"market\", \"martin\", \"mary\", \"mass\", \"massage\", \"match\", \"material\", \"mattress\", \"mattress\", \"meal\", \"meal\", \"meant\", \"medium\", \"meet\", \"meet_expectation\", \"meeting\", \"member\", \"menu\", \"menu\", \"mercer\", \"message\", \"met_expectation\", \"meterage\", \"metro\", \"metro\", \"midnight\", \"milan\", \"milano\", \"milano\", \"milano_centrale\", \"milk\", \"min\", \"min_walking_distance\", \"mini\", \"miniature\", \"minibar\", \"minibar\", \"mint\", \"minute\", \"minute\", \"minute_walk_away\", \"minute_walk_duomo\", \"minute_walk_paddington\", \"mirror\", \"misery\", \"misplace\", \"mistake\", \"misunderstood\", \"mobile_phone\", \"mobility\", \"modern\", \"modernity\", \"moment\", \"money\", \"monk\", \"montcalm\", \"month\", \"mony\", \"morning\", \"morning\", \"morning\", \"mother\", \"move\", \"mum\", \"museum\", \"museum\", \"music\", \"music\", \"musket\", \"near_metro_station\", \"near_train_station\", \"neat\", \"need_refurbishment\", \"neighbor\", \"neighborhood\", \"neighbour\", \"neighbourghood\", \"neighbourhood\", \"neighbourhood\", \"nespresso_coffee_machine\", \"network\", \"news\", \"nexpresso\", \"next_tube_station\", \"nice\", \"nice\", \"nice\", \"night\", \"noise\", \"noise\", \"noisy\", \"noisy\", \"note\", \"nuisance\", \"number\", \"number\", \"number\", \"occasion\", \"occupancy\", \"odor\", \"offer\", \"opera\", \"opinion\", \"option\", \"orange\", \"orange_juice\", \"order\", \"order\", \"orgasm\", \"outer\", \"outweigh\", \"overhead\", \"owner\", \"oxford_st\", \"oxford_street\", \"pack\", \"package\", \"package\", \"paddington\", \"pain\", \"palace\", \"paper\", \"parent\", \"paris\", \"paris\", \"paris\", \"park\", \"parking\", \"parking\", \"part\", \"part\", \"part\", \"partner\", \"partner\", \"partner\", \"pastry\", \"pastry\", \"pay\", \"pay\", \"pay\", \"peace\", \"penthouse\", \"perfect\", \"perfect\", \"performance\", \"perfume\", \"person\", \"person\", \"personel\", \"peruse\", \"petrichor\", \"petrol\", \"phone\", \"phone\", \"photo\", \"pick\", \"picture\", \"picture\", \"piece\", \"pillow\", \"pillow\", \"pin\", \"place\", \"plate\", \"pleasant\", \"pleasant\", \"plein\", \"plenty\", \"plenty\", \"plenty_place_eat\", \"plug\", \"plumbing\", \"plunge\", \"point\", \"point\", \"police\", \"policy\", \"polite\", \"pool\", \"poop\", \"pop\", \"porter\", \"porter\", \"portion\", \"position\", \"possibility\", \"pot\", \"pound\", \"power\", \"power\", \"premier_inn\", \"premise\", \"premium\", \"prepaid\", \"pressure\", \"pretty\", \"pretty\", \"previous_guest\", \"price\", \"pricey\", \"pricey\", \"priority\", \"privacy\", \"privacy\", \"privelage\", \"prob\", \"problem\", \"problem\", \"problem\", \"product\", \"proper\", \"property\", \"property\", \"property\", \"prostitute\", \"proximity\", \"pub\", \"public_transport\", \"public_transport\", \"public_transport_link\", \"public_transportation\", \"purpose\", \"push\", \"putney\", \"quaint\", \"quality\", \"queensway\", \"question\", \"question\", \"queue\", \"quiet\", \"quiet\", \"quiet\", \"quietness\", \"quilt\", \"radiator\", \"rah\", \"railway\", \"rambla\", \"range\", \"range\", \"rapport\", \"rarity\", \"rate\", \"rate\", \"rate\", \"rated_star\", \"rating\", \"ratio\", \"reality\", \"reall\", \"realyy\", \"reason\", \"reason\", \"recaiption\", \"recall\", \"reception\", \"reception\", \"receptionist\", \"receptionist\", \"reciption\", \"recomend\", \"recommend\", \"recommend_anyone\", \"refresh\", \"refurbishment\", \"refurbishment\", \"relax\", \"relax\", \"relaxing\", \"relaxing\", \"remote\", \"renovation\", \"rent\", \"repair\", \"replacement\", \"request\", \"research\", \"reservation\", \"resolve\", \"resourceful\", \"respond\", \"response\", \"response\", \"rest\", \"restaurant\", \"restaurant\", \"resteraunt\", \"resteraunt\", \"return\", \"return\", \"review\", \"rip\", \"ritz\", \"river\", \"road\", \"rocco\", \"rod\", \"roissy\", \"rolex\", \"roman\", \"roof\", \"roof_terrace_bar\", \"roof_top_bar\", \"roof_top_bar\", \"roof_top_pool\", \"rooftop\", \"rooftop_terrace\", \"room\", \"room\", \"room\", \"room\", \"room\", \"room\", \"room\", \"room\", \"room_ground_floor\", \"rooster\", \"rotta\", \"round\", \"round\", \"round\", \"route\", \"royale\", \"rude\", \"rude\", \"rulez\", \"run\", \"rush\", \"rusty\", \"sandal\", \"saturday\", \"sausage\", \"school\", \"schwedenplatz\", \"scrambled_egg\", \"scrape\", \"screen\", \"seat\", \"section\", \"sector\", \"secure\", \"secure\", \"security\", \"selection\", \"serve\", \"service\", \"set\", \"sewage\", \"shabby\", \"shabby\", \"shame\", \"shampo\", \"shampoo_conditioner\", \"sheet\", \"sheet\", \"sheet\", \"shepherd_bush\", \"shop\", \"shopper\", \"shopping\", \"shopping\", \"shopping\", \"shopping\", \"short_walk_away\", \"short_walk_tube\", \"show\", \"shower\", \"shower_cubicle\", \"shower_gel\", \"shut\", \"shut\", \"side\", \"sight\", \"sign\", \"sign\", \"silence\", \"sink\", \"sink\", \"sissi\", \"sit\", \"sit\", \"sit\", \"site\", \"site\", \"site\", \"site\", \"situation\", \"situation\", \"situation\", \"size\", \"size\", \"sky\", \"sky_lounge\", \"sleep\", \"sleep\", \"sleep\", \"sleeping\", \"sliding_door\", \"slipper\", \"slipper\", \"sloping\", \"smell\", \"smell\", \"smell\", \"smelt\", \"smile\", \"smile\", \"smiley\", \"smoke\", \"smoke\", \"smoke\", \"smoker\", \"snooty\", \"snug\", \"soap\", \"socket\", \"sofa\", \"sofa\", \"sofa\", \"softer\", \"solution\", \"son\", \"sooo\", \"soooo\", \"sort\", \"sound\", \"sound\", \"soundproof\", \"soup\", \"spa\", \"spa\", \"spa\", \"space\", \"space\", \"speaker\", \"spoil\", \"sponge\", \"spot\", \"spot\", \"spot\", \"spotify\", \"spotless\", \"square\", \"stadium\", \"staff\", \"staff\", \"staff\", \"staff\", \"staff\", \"staff\", \"stain\", \"stair\", \"stair\", \"stand\", \"standard\", \"standard\", \"star\", \"star\", \"starting\", \"state\", \"station\", \"stay\", \"stay\", \"step\", \"step\", \"stick\", \"stitch\", \"stoff\", \"stop\", \"stop\", \"storage\", \"storage\", \"strange\", \"strauss\", \"street\", \"street\", \"stretch\", \"stuf\", \"stuff\", \"stuff\", \"style\", \"style\", \"style\", \"style\", \"sugar\", \"suggest\", \"suggestion\", \"suitcase\", \"suite\", \"suite\", \"summer\", \"sunrise\", \"super\", \"super\", \"superb\", \"superb\", \"superb\", \"supermarket\", \"supply\", \"support\", \"suppose\", \"surprise\", \"swimming_pool\", \"swimming_pool\", \"swing\", \"switch\", \"system\", \"system\", \"system\", \"table\", \"tad\", \"talk\", \"tap\", \"tapa\", \"taste\", \"taste\", \"taxi\", \"taxi\", \"taxi\", \"tea\", \"tea_coffee_facility\", \"tea_coffee_making\", \"team\", \"team\", \"telephone\", \"temperature\", \"tender\", \"tennis\", \"term\", \"terrace\", \"terrific\", \"theatre\", \"theatre\", \"thick\", \"thing\", \"thotel\", \"thought\", \"thought\", \"throe\", \"ticket\", \"ticket\", \"tidy\", \"tidy\", \"tidy\", \"till\", \"till\", \"time\", \"time\", \"tiny\", \"tissue\", \"toast\", \"toilet\", \"toilet\", \"toilet\", \"toiletry\", \"toiletry\", \"toothpaste\", \"top\", \"touch\", \"touch\", \"tour\", \"tour\", \"tourism\", \"tourist\", \"tourist\", \"tourist\", \"tourist_attraction\", \"towel\", \"towel\", \"tower\", \"tower_bridge\", \"town\", \"town\", \"town\", \"town\", \"tradition\", \"traffic\", \"train\", \"tram\", \"tram_stop\", \"transparent\", \"transport\", \"transport\", \"transport_link\", \"transportation\", \"transportation\", \"travel\", \"travel\", \"traveler\", \"trip\", \"trip\", \"trocadero\", \"trouble\", \"trouble\", \"tub\", \"tube\", \"tube\", \"turn\", \"turn\", \"turn\", \"tv_remote\", \"twin\", \"twin\", \"twin\", \"twin\", \"type\", \"underground\", \"understand\", \"unit\", \"update\", \"upgrade\", \"upgrade\", \"upgrade\", \"usa\", \"vacuum\", \"value_money\", \"value_money\", \"value_money\", \"vamp\", \"variety\", \"ventilation\", \"ventilation\", \"vibe\", \"victor\", \"view\", \"view\", \"view\", \"view_eiffel_tower\", \"view_st_paul\", \"view_tower_bridge\", \"village\", \"vino\", \"visit\", \"volksopera\", \"volume\", \"vracar\", \"wait\", \"waiter\", \"wake\", \"waking\", \"walk\", \"walk_city_center\", \"walk_city_centre\", \"walking\", \"walking_distance\", \"wall\", \"wardrobe\", \"wardrobe\", \"warm\", \"warrant\", \"wash\", \"wasnt\", \"wasnt\", \"wasnt\", \"watch\", \"water\", \"water_pressure\", \"weather\", \"weather\", \"week\", \"week\", \"week\", \"weekend\", \"weird\", \"welcoming\", \"welcoming\", \"went_extra_mile\", \"went_way_make\", \"wheat\", \"wheel\", \"whilst\", \"whilst\", \"whole_experience\", \"whole_experience\", \"wide_variety\", \"wife\", \"wife_birthday\", \"wifi\", \"wifi\", \"wifi\", \"wifi\", \"willingness\", \"window\", \"window\", \"wine\", \"wise\", \"wish_stayed_longer\", \"wonderful\", \"wooden_floor\", \"wool\", \"work\", \"work\", \"work\", \"worker\", \"working\", \"worn\", \"worth\", \"wounderful\", \"yasmine\", \"year\", \"year_old_daughter\", \"yolk\", \"yummy\"]}, \"R\": 30, \"lambda.step\": 0.01, \"plot.opts\": {\"xlab\": \"PC1\", \"ylab\": \"PC2\"}, \"topic.order\": [1, 2, 3, 4, 5, 6, 7, 8, 9, 10, 11, 12, 13, 14, 15, 16, 17, 18, 19, 20]};\n",
              "\n",
              "function LDAvis_load_lib(url, callback){\n",
              "  var s = document.createElement('script');\n",
              "  s.src = url;\n",
              "  s.async = true;\n",
              "  s.onreadystatechange = s.onload = callback;\n",
              "  s.onerror = function(){console.warn(\"failed to load library \" + url);};\n",
              "  document.getElementsByTagName(\"head\")[0].appendChild(s);\n",
              "}\n",
              "\n",
              "if(typeof(LDAvis) !== \"undefined\"){\n",
              "   // already loaded: just create the visualization\n",
              "   !function(LDAvis){\n",
              "       new LDAvis(\"#\" + \"ldavis_el3051404163422149924657426770\", ldavis_el3051404163422149924657426770_data);\n",
              "   }(LDAvis);\n",
              "}else if(typeof define === \"function\" && define.amd){\n",
              "   // require.js is available: use it to load d3/LDAvis\n",
              "   require.config({paths: {d3: \"https://d3js.org/d3.v5\"}});\n",
              "   require([\"d3\"], function(d3){\n",
              "      window.d3 = d3;\n",
              "      LDAvis_load_lib(\"https://cdn.jsdelivr.net/gh/bmabey/pyLDAvis@3.3.1/pyLDAvis/js/ldavis.v3.0.0.js\", function(){\n",
              "        new LDAvis(\"#\" + \"ldavis_el3051404163422149924657426770\", ldavis_el3051404163422149924657426770_data);\n",
              "      });\n",
              "    });\n",
              "}else{\n",
              "    // require.js not available: dynamically load d3 & LDAvis\n",
              "    LDAvis_load_lib(\"https://d3js.org/d3.v5.js\", function(){\n",
              "         LDAvis_load_lib(\"https://cdn.jsdelivr.net/gh/bmabey/pyLDAvis@3.3.1/pyLDAvis/js/ldavis.v3.0.0.js\", function(){\n",
              "                 new LDAvis(\"#\" + \"ldavis_el3051404163422149924657426770\", ldavis_el3051404163422149924657426770_data);\n",
              "            })\n",
              "         });\n",
              "}\n",
              "</script>"
            ]
          },
          "metadata": {},
          "execution_count": 53
        }
      ],
      "source": [
        "# Visualize the topics\n",
        "pyLDAvis.enable_notebook()\n",
        "vis = pyLDAvis.gensim_models.prepare(lda_model, doc_term_matrix, dictionary, sort_topics=False)\n",
        "vis"
      ]
    },
    {
      "cell_type": "markdown",
      "source": [
        "**Save visualiation as HTML file**"
      ],
      "metadata": {
        "id": "sHNRFTdHRRhP"
      }
    },
    {
      "cell_type": "code",
      "execution_count": null,
      "metadata": {
        "id": "yAgiFAR7tng3"
      },
      "outputs": [],
      "source": [
        "pyLDAvis.save_html(vis, '/content/drive/MyDrive/Colab Notebooks/Hotel_Analysis/Topic Modelling/Topic Models/lda.html')"
      ]
    },
    {
      "cell_type": "markdown",
      "metadata": {
        "id": "c064WGJZHEXP"
      },
      "source": [
        "**Observation of Topics:**\n",
        "\n",
        "We managed to obtain a very diverse range of topics. This can be seen from the intertopic distance visualisation. Although there are clustering of various topics in a single topic, we may be able to find out specific characteristics of each topic upon further discovery. \n",
        "\n",
        "What this means is, one topic may be referring to the 'hotel room size', whilst another may be referring to the 'hotel room bathroom'. Both topics may contain similar words, such as, 'room', however, they may be referring to similar yet completely different subjects.\n",
        "\n",
        "As such, we will be drilling deeper into finding out what each topics are referring to the **Topic Distribution (Interpretation of Topic Model)** workbook."
      ]
    }
  ],
  "metadata": {
    "colab": {
      "name": "LDA Mallet (NGRAMS + NOUNS).ipynb",
      "provenance": [],
      "authorship_tag": "ABX9TyONGGlA/i00F0G5f+DFUY7X",
      "include_colab_link": true
    },
    "kernelspec": {
      "display_name": "Python 3",
      "name": "python3"
    },
    "language_info": {
      "name": "python"
    }
  },
  "nbformat": 4,
  "nbformat_minor": 0
}
