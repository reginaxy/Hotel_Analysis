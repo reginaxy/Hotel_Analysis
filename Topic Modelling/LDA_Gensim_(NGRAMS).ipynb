{
  "cells": [
    {
      "cell_type": "markdown",
      "metadata": {
        "id": "view-in-github",
        "colab_type": "text"
      },
      "source": [
        "<a href=\"https://colab.research.google.com/drive/1Jn0GVjQyTs8tgv-faT7hqUOj1U6FkN5x?usp=sharing\" target=\"_parent\"><img src=\"https://colab.research.google.com/assets/colab-badge.svg\" alt=\"Open In Colab\"/></a>"
      ]
    },
    {
      "cell_type": "markdown",
      "source": [
        "#**Topic Modeling** \n",
        "is a technique to extract the hidden topics from large volumes of text. Latent Dirichlet Allocation(LDA) is a popular algorithm for topic modeling with excellent implementations in the Python’s Gensim package. \n",
        "\n",
        "The challenge, however, is how to extract good quality of topics that are clear, segregated and meaningful. This depends heavily on the quality of text preprocessing and the strategy of finding the optimal number of topics."
      ],
      "metadata": {
        "id": "w1m9Jd3DpIQs"
      },
      "id": "w1m9Jd3DpIQs"
    },
    {
      "cell_type": "markdown",
      "source": [
        "# **LDA Model (NGRAMS)**\n",
        "\n",
        "In this notebook, we present the approach of using **NGRAMS (1-gram, 2-grams and 3-grams)** apprach to build a LDA topic model using the Gensim Library."
      ],
      "metadata": {
        "id": "ImqTd987pMUM"
      },
      "id": "ImqTd987pMUM"
    },
    {
      "cell_type": "markdown",
      "source": [
        "## **Import Libraries, Packages and Data**"
      ],
      "metadata": {
        "id": "PWCLUEtgMRn9"
      },
      "id": "PWCLUEtgMRn9"
    },
    {
      "cell_type": "code",
      "execution_count": null,
      "id": "071fc57d",
      "metadata": {
        "colab": {
          "base_uri": "https://localhost:8080/"
        },
        "id": "071fc57d",
        "outputId": "a69b95bf-8c2c-403e-db06-2a2600d80826"
      },
      "outputs": [
        {
          "output_type": "stream",
          "name": "stdout",
          "text": [
            "Collecting pyLDAvis\n",
            "  Downloading pyLDAvis-3.3.1.tar.gz (1.7 MB)\n",
            "\u001b[?25l\r\u001b[K     |▏                               | 10 kB 17.7 MB/s eta 0:00:01\r\u001b[K     |▍                               | 20 kB 7.8 MB/s eta 0:00:01\r\u001b[K     |▋                               | 30 kB 10.0 MB/s eta 0:00:01\r\u001b[K     |▉                               | 40 kB 8.8 MB/s eta 0:00:01\r\u001b[K     |█                               | 51 kB 5.0 MB/s eta 0:00:01\r\u001b[K     |█▏                              | 61 kB 5.9 MB/s eta 0:00:01\r\u001b[K     |█▍                              | 71 kB 5.9 MB/s eta 0:00:01\r\u001b[K     |█▋                              | 81 kB 5.9 MB/s eta 0:00:01\r\u001b[K     |█▉                              | 92 kB 6.6 MB/s eta 0:00:01\r\u001b[K     |██                              | 102 kB 5.5 MB/s eta 0:00:01\r\u001b[K     |██▏                             | 112 kB 5.5 MB/s eta 0:00:01\r\u001b[K     |██▍                             | 122 kB 5.5 MB/s eta 0:00:01\r\u001b[K     |██▋                             | 133 kB 5.5 MB/s eta 0:00:01\r\u001b[K     |██▊                             | 143 kB 5.5 MB/s eta 0:00:01\r\u001b[K     |███                             | 153 kB 5.5 MB/s eta 0:00:01\r\u001b[K     |███▏                            | 163 kB 5.5 MB/s eta 0:00:01\r\u001b[K     |███▍                            | 174 kB 5.5 MB/s eta 0:00:01\r\u001b[K     |███▋                            | 184 kB 5.5 MB/s eta 0:00:01\r\u001b[K     |███▊                            | 194 kB 5.5 MB/s eta 0:00:01\r\u001b[K     |████                            | 204 kB 5.5 MB/s eta 0:00:01\r\u001b[K     |████▏                           | 215 kB 5.5 MB/s eta 0:00:01\r\u001b[K     |████▍                           | 225 kB 5.5 MB/s eta 0:00:01\r\u001b[K     |████▋                           | 235 kB 5.5 MB/s eta 0:00:01\r\u001b[K     |████▊                           | 245 kB 5.5 MB/s eta 0:00:01\r\u001b[K     |█████                           | 256 kB 5.5 MB/s eta 0:00:01\r\u001b[K     |█████▏                          | 266 kB 5.5 MB/s eta 0:00:01\r\u001b[K     |█████▍                          | 276 kB 5.5 MB/s eta 0:00:01\r\u001b[K     |█████▌                          | 286 kB 5.5 MB/s eta 0:00:01\r\u001b[K     |█████▊                          | 296 kB 5.5 MB/s eta 0:00:01\r\u001b[K     |██████                          | 307 kB 5.5 MB/s eta 0:00:01\r\u001b[K     |██████▏                         | 317 kB 5.5 MB/s eta 0:00:01\r\u001b[K     |██████▍                         | 327 kB 5.5 MB/s eta 0:00:01\r\u001b[K     |██████▌                         | 337 kB 5.5 MB/s eta 0:00:01\r\u001b[K     |██████▊                         | 348 kB 5.5 MB/s eta 0:00:01\r\u001b[K     |███████                         | 358 kB 5.5 MB/s eta 0:00:01\r\u001b[K     |███████▏                        | 368 kB 5.5 MB/s eta 0:00:01\r\u001b[K     |███████▎                        | 378 kB 5.5 MB/s eta 0:00:01\r\u001b[K     |███████▌                        | 389 kB 5.5 MB/s eta 0:00:01\r\u001b[K     |███████▊                        | 399 kB 5.5 MB/s eta 0:00:01\r\u001b[K     |████████                        | 409 kB 5.5 MB/s eta 0:00:01\r\u001b[K     |████████▏                       | 419 kB 5.5 MB/s eta 0:00:01\r\u001b[K     |████████▎                       | 430 kB 5.5 MB/s eta 0:00:01\r\u001b[K     |████████▌                       | 440 kB 5.5 MB/s eta 0:00:01\r\u001b[K     |████████▊                       | 450 kB 5.5 MB/s eta 0:00:01\r\u001b[K     |█████████                       | 460 kB 5.5 MB/s eta 0:00:01\r\u001b[K     |█████████▏                      | 471 kB 5.5 MB/s eta 0:00:01\r\u001b[K     |█████████▎                      | 481 kB 5.5 MB/s eta 0:00:01\r\u001b[K     |█████████▌                      | 491 kB 5.5 MB/s eta 0:00:01\r\u001b[K     |█████████▊                      | 501 kB 5.5 MB/s eta 0:00:01\r\u001b[K     |██████████                      | 512 kB 5.5 MB/s eta 0:00:01\r\u001b[K     |██████████                      | 522 kB 5.5 MB/s eta 0:00:01\r\u001b[K     |██████████▎                     | 532 kB 5.5 MB/s eta 0:00:01\r\u001b[K     |██████████▌                     | 542 kB 5.5 MB/s eta 0:00:01\r\u001b[K     |██████████▊                     | 552 kB 5.5 MB/s eta 0:00:01\r\u001b[K     |███████████                     | 563 kB 5.5 MB/s eta 0:00:01\r\u001b[K     |███████████                     | 573 kB 5.5 MB/s eta 0:00:01\r\u001b[K     |███████████▎                    | 583 kB 5.5 MB/s eta 0:00:01\r\u001b[K     |███████████▌                    | 593 kB 5.5 MB/s eta 0:00:01\r\u001b[K     |███████████▊                    | 604 kB 5.5 MB/s eta 0:00:01\r\u001b[K     |███████████▉                    | 614 kB 5.5 MB/s eta 0:00:01\r\u001b[K     |████████████                    | 624 kB 5.5 MB/s eta 0:00:01\r\u001b[K     |████████████▎                   | 634 kB 5.5 MB/s eta 0:00:01\r\u001b[K     |████████████▌                   | 645 kB 5.5 MB/s eta 0:00:01\r\u001b[K     |████████████▊                   | 655 kB 5.5 MB/s eta 0:00:01\r\u001b[K     |████████████▉                   | 665 kB 5.5 MB/s eta 0:00:01\r\u001b[K     |█████████████                   | 675 kB 5.5 MB/s eta 0:00:01\r\u001b[K     |█████████████▎                  | 686 kB 5.5 MB/s eta 0:00:01\r\u001b[K     |█████████████▌                  | 696 kB 5.5 MB/s eta 0:00:01\r\u001b[K     |█████████████▊                  | 706 kB 5.5 MB/s eta 0:00:01\r\u001b[K     |█████████████▉                  | 716 kB 5.5 MB/s eta 0:00:01\r\u001b[K     |██████████████                  | 727 kB 5.5 MB/s eta 0:00:01\r\u001b[K     |██████████████▎                 | 737 kB 5.5 MB/s eta 0:00:01\r\u001b[K     |██████████████▌                 | 747 kB 5.5 MB/s eta 0:00:01\r\u001b[K     |██████████████▋                 | 757 kB 5.5 MB/s eta 0:00:01\r\u001b[K     |██████████████▉                 | 768 kB 5.5 MB/s eta 0:00:01\r\u001b[K     |███████████████                 | 778 kB 5.5 MB/s eta 0:00:01\r\u001b[K     |███████████████▎                | 788 kB 5.5 MB/s eta 0:00:01\r\u001b[K     |███████████████▌                | 798 kB 5.5 MB/s eta 0:00:01\r\u001b[K     |███████████████▋                | 808 kB 5.5 MB/s eta 0:00:01\r\u001b[K     |███████████████▉                | 819 kB 5.5 MB/s eta 0:00:01\r\u001b[K     |████████████████                | 829 kB 5.5 MB/s eta 0:00:01\r\u001b[K     |████████████████▎               | 839 kB 5.5 MB/s eta 0:00:01\r\u001b[K     |████████████████▍               | 849 kB 5.5 MB/s eta 0:00:01\r\u001b[K     |████████████████▋               | 860 kB 5.5 MB/s eta 0:00:01\r\u001b[K     |████████████████▉               | 870 kB 5.5 MB/s eta 0:00:01\r\u001b[K     |█████████████████               | 880 kB 5.5 MB/s eta 0:00:01\r\u001b[K     |█████████████████▎              | 890 kB 5.5 MB/s eta 0:00:01\r\u001b[K     |█████████████████▍              | 901 kB 5.5 MB/s eta 0:00:01\r\u001b[K     |█████████████████▋              | 911 kB 5.5 MB/s eta 0:00:01\r\u001b[K     |█████████████████▉              | 921 kB 5.5 MB/s eta 0:00:01\r\u001b[K     |██████████████████              | 931 kB 5.5 MB/s eta 0:00:01\r\u001b[K     |██████████████████▎             | 942 kB 5.5 MB/s eta 0:00:01\r\u001b[K     |██████████████████▍             | 952 kB 5.5 MB/s eta 0:00:01\r\u001b[K     |██████████████████▋             | 962 kB 5.5 MB/s eta 0:00:01\r\u001b[K     |██████████████████▉             | 972 kB 5.5 MB/s eta 0:00:01\r\u001b[K     |███████████████████             | 983 kB 5.5 MB/s eta 0:00:01\r\u001b[K     |███████████████████▏            | 993 kB 5.5 MB/s eta 0:00:01\r\u001b[K     |███████████████████▍            | 1.0 MB 5.5 MB/s eta 0:00:01\r\u001b[K     |███████████████████▋            | 1.0 MB 5.5 MB/s eta 0:00:01\r\u001b[K     |███████████████████▉            | 1.0 MB 5.5 MB/s eta 0:00:01\r\u001b[K     |████████████████████            | 1.0 MB 5.5 MB/s eta 0:00:01\r\u001b[K     |████████████████████▏           | 1.0 MB 5.5 MB/s eta 0:00:01\r\u001b[K     |████████████████████▍           | 1.1 MB 5.5 MB/s eta 0:00:01\r\u001b[K     |████████████████████▋           | 1.1 MB 5.5 MB/s eta 0:00:01\r\u001b[K     |████████████████████▉           | 1.1 MB 5.5 MB/s eta 0:00:01\r\u001b[K     |█████████████████████           | 1.1 MB 5.5 MB/s eta 0:00:01\r\u001b[K     |█████████████████████▏          | 1.1 MB 5.5 MB/s eta 0:00:01\r\u001b[K     |█████████████████████▍          | 1.1 MB 5.5 MB/s eta 0:00:01\r\u001b[K     |█████████████████████▋          | 1.1 MB 5.5 MB/s eta 0:00:01\r\u001b[K     |█████████████████████▉          | 1.1 MB 5.5 MB/s eta 0:00:01\r\u001b[K     |██████████████████████          | 1.1 MB 5.5 MB/s eta 0:00:01\r\u001b[K     |██████████████████████▏         | 1.1 MB 5.5 MB/s eta 0:00:01\r\u001b[K     |██████████████████████▍         | 1.2 MB 5.5 MB/s eta 0:00:01\r\u001b[K     |██████████████████████▋         | 1.2 MB 5.5 MB/s eta 0:00:01\r\u001b[K     |██████████████████████▉         | 1.2 MB 5.5 MB/s eta 0:00:01\r\u001b[K     |███████████████████████         | 1.2 MB 5.5 MB/s eta 0:00:01\r\u001b[K     |███████████████████████▏        | 1.2 MB 5.5 MB/s eta 0:00:01\r\u001b[K     |███████████████████████▍        | 1.2 MB 5.5 MB/s eta 0:00:01\r\u001b[K     |███████████████████████▋        | 1.2 MB 5.5 MB/s eta 0:00:01\r\u001b[K     |███████████████████████▊        | 1.2 MB 5.5 MB/s eta 0:00:01\r\u001b[K     |████████████████████████        | 1.2 MB 5.5 MB/s eta 0:00:01\r\u001b[K     |████████████████████████▏       | 1.2 MB 5.5 MB/s eta 0:00:01\r\u001b[K     |████████████████████████▍       | 1.3 MB 5.5 MB/s eta 0:00:01\r\u001b[K     |████████████████████████▋       | 1.3 MB 5.5 MB/s eta 0:00:01\r\u001b[K     |████████████████████████▊       | 1.3 MB 5.5 MB/s eta 0:00:01\r\u001b[K     |█████████████████████████       | 1.3 MB 5.5 MB/s eta 0:00:01\r\u001b[K     |█████████████████████████▏      | 1.3 MB 5.5 MB/s eta 0:00:01\r\u001b[K     |█████████████████████████▍      | 1.3 MB 5.5 MB/s eta 0:00:01\r\u001b[K     |█████████████████████████▌      | 1.3 MB 5.5 MB/s eta 0:00:01\r\u001b[K     |█████████████████████████▊      | 1.3 MB 5.5 MB/s eta 0:00:01\r\u001b[K     |██████████████████████████      | 1.3 MB 5.5 MB/s eta 0:00:01\r\u001b[K     |██████████████████████████▏     | 1.4 MB 5.5 MB/s eta 0:00:01\r\u001b[K     |██████████████████████████▍     | 1.4 MB 5.5 MB/s eta 0:00:01\r\u001b[K     |██████████████████████████▌     | 1.4 MB 5.5 MB/s eta 0:00:01\r\u001b[K     |██████████████████████████▊     | 1.4 MB 5.5 MB/s eta 0:00:01\r\u001b[K     |███████████████████████████     | 1.4 MB 5.5 MB/s eta 0:00:01\r\u001b[K     |███████████████████████████▏    | 1.4 MB 5.5 MB/s eta 0:00:01\r\u001b[K     |███████████████████████████▍    | 1.4 MB 5.5 MB/s eta 0:00:01\r\u001b[K     |███████████████████████████▌    | 1.4 MB 5.5 MB/s eta 0:00:01\r\u001b[K     |███████████████████████████▊    | 1.4 MB 5.5 MB/s eta 0:00:01\r\u001b[K     |████████████████████████████    | 1.4 MB 5.5 MB/s eta 0:00:01\r\u001b[K     |████████████████████████████▏   | 1.5 MB 5.5 MB/s eta 0:00:01\r\u001b[K     |████████████████████████████▎   | 1.5 MB 5.5 MB/s eta 0:00:01\r\u001b[K     |████████████████████████████▌   | 1.5 MB 5.5 MB/s eta 0:00:01\r\u001b[K     |████████████████████████████▊   | 1.5 MB 5.5 MB/s eta 0:00:01\r\u001b[K     |█████████████████████████████   | 1.5 MB 5.5 MB/s eta 0:00:01\r\u001b[K     |█████████████████████████████▏  | 1.5 MB 5.5 MB/s eta 0:00:01\r\u001b[K     |█████████████████████████████▎  | 1.5 MB 5.5 MB/s eta 0:00:01\r\u001b[K     |█████████████████████████████▌  | 1.5 MB 5.5 MB/s eta 0:00:01\r\u001b[K     |█████████████████████████████▊  | 1.5 MB 5.5 MB/s eta 0:00:01\r\u001b[K     |██████████████████████████████  | 1.5 MB 5.5 MB/s eta 0:00:01\r\u001b[K     |██████████████████████████████▏ | 1.6 MB 5.5 MB/s eta 0:00:01\r\u001b[K     |██████████████████████████████▎ | 1.6 MB 5.5 MB/s eta 0:00:01\r\u001b[K     |██████████████████████████████▌ | 1.6 MB 5.5 MB/s eta 0:00:01\r\u001b[K     |██████████████████████████████▊ | 1.6 MB 5.5 MB/s eta 0:00:01\r\u001b[K     |███████████████████████████████ | 1.6 MB 5.5 MB/s eta 0:00:01\r\u001b[K     |███████████████████████████████ | 1.6 MB 5.5 MB/s eta 0:00:01\r\u001b[K     |███████████████████████████████▎| 1.6 MB 5.5 MB/s eta 0:00:01\r\u001b[K     |███████████████████████████████▌| 1.6 MB 5.5 MB/s eta 0:00:01\r\u001b[K     |███████████████████████████████▊| 1.6 MB 5.5 MB/s eta 0:00:01\r\u001b[K     |████████████████████████████████| 1.6 MB 5.5 MB/s eta 0:00:01\r\u001b[K     |████████████████████████████████| 1.7 MB 5.5 MB/s \n",
            "\u001b[?25h  Installing build dependencies ... \u001b[?25l\u001b[?25hdone\n",
            "  Getting requirements to build wheel ... \u001b[?25l\u001b[?25hdone\n",
            "  Installing backend dependencies ... \u001b[?25l\u001b[?25hdone\n",
            "    Preparing wheel metadata ... \u001b[?25l\u001b[?25hdone\n",
            "Requirement already satisfied: scipy in /usr/local/lib/python3.7/dist-packages (from pyLDAvis) (1.4.1)\n",
            "Requirement already satisfied: jinja2 in /usr/local/lib/python3.7/dist-packages (from pyLDAvis) (2.11.3)\n",
            "Requirement already satisfied: numpy>=1.20.0 in /usr/local/lib/python3.7/dist-packages (from pyLDAvis) (1.21.5)\n",
            "Requirement already satisfied: pandas>=1.2.0 in /usr/local/lib/python3.7/dist-packages (from pyLDAvis) (1.3.5)\n",
            "Requirement already satisfied: joblib in /usr/local/lib/python3.7/dist-packages (from pyLDAvis) (1.1.0)\n",
            "Requirement already satisfied: setuptools in /usr/local/lib/python3.7/dist-packages (from pyLDAvis) (57.4.0)\n",
            "Requirement already satisfied: scikit-learn in /usr/local/lib/python3.7/dist-packages (from pyLDAvis) (1.0.2)\n",
            "Requirement already satisfied: sklearn in /usr/local/lib/python3.7/dist-packages (from pyLDAvis) (0.0)\n",
            "Collecting funcy\n",
            "  Downloading funcy-1.17-py2.py3-none-any.whl (33 kB)\n",
            "Requirement already satisfied: future in /usr/local/lib/python3.7/dist-packages (from pyLDAvis) (0.16.0)\n",
            "Requirement already satisfied: numexpr in /usr/local/lib/python3.7/dist-packages (from pyLDAvis) (2.8.1)\n",
            "Requirement already satisfied: gensim in /usr/local/lib/python3.7/dist-packages (from pyLDAvis) (3.6.0)\n",
            "Requirement already satisfied: python-dateutil>=2.7.3 in /usr/local/lib/python3.7/dist-packages (from pandas>=1.2.0->pyLDAvis) (2.8.2)\n",
            "Requirement already satisfied: pytz>=2017.3 in /usr/local/lib/python3.7/dist-packages (from pandas>=1.2.0->pyLDAvis) (2018.9)\n",
            "Requirement already satisfied: six>=1.5 in /usr/local/lib/python3.7/dist-packages (from python-dateutil>=2.7.3->pandas>=1.2.0->pyLDAvis) (1.15.0)\n",
            "Requirement already satisfied: smart-open>=1.2.1 in /usr/local/lib/python3.7/dist-packages (from gensim->pyLDAvis) (5.2.1)\n",
            "Requirement already satisfied: MarkupSafe>=0.23 in /usr/local/lib/python3.7/dist-packages (from jinja2->pyLDAvis) (2.0.1)\n",
            "Requirement already satisfied: packaging in /usr/local/lib/python3.7/dist-packages (from numexpr->pyLDAvis) (21.3)\n",
            "Requirement already satisfied: pyparsing!=3.0.5,>=2.0.2 in /usr/local/lib/python3.7/dist-packages (from packaging->numexpr->pyLDAvis) (3.0.7)\n",
            "Requirement already satisfied: threadpoolctl>=2.0.0 in /usr/local/lib/python3.7/dist-packages (from scikit-learn->pyLDAvis) (3.1.0)\n",
            "Building wheels for collected packages: pyLDAvis\n",
            "  Building wheel for pyLDAvis (PEP 517) ... \u001b[?25l\u001b[?25hdone\n",
            "  Created wheel for pyLDAvis: filename=pyLDAvis-3.3.1-py2.py3-none-any.whl size=136898 sha256=433258934c0e9309d6614c9aa223529d3935ec14e8be0333e72ffd4d18fa201f\n",
            "  Stored in directory: /root/.cache/pip/wheels/c9/21/f6/17bcf2667e8a68532ba2fbf6d5c72fdf4c7f7d9abfa4852d2f\n",
            "Successfully built pyLDAvis\n",
            "Installing collected packages: funcy, pyLDAvis\n",
            "Successfully installed funcy-1.17 pyLDAvis-3.3.1\n",
            "Collecting gensim==3.8.0\n",
            "  Downloading gensim-3.8.0-cp37-cp37m-manylinux1_x86_64.whl (24.2 MB)\n",
            "\u001b[K     |████████████████████████████████| 24.2 MB 36.8 MB/s \n",
            "\u001b[?25hRequirement already satisfied: smart-open>=1.7.0 in /usr/local/lib/python3.7/dist-packages (from gensim==3.8.0) (5.2.1)\n",
            "Requirement already satisfied: numpy>=1.11.3 in /usr/local/lib/python3.7/dist-packages (from gensim==3.8.0) (1.21.5)\n",
            "Requirement already satisfied: six>=1.5.0 in /usr/local/lib/python3.7/dist-packages (from gensim==3.8.0) (1.15.0)\n",
            "Requirement already satisfied: scipy>=0.18.1 in /usr/local/lib/python3.7/dist-packages (from gensim==3.8.0) (1.4.1)\n",
            "Installing collected packages: gensim\n",
            "  Attempting uninstall: gensim\n",
            "    Found existing installation: gensim 3.6.0\n",
            "    Uninstalling gensim-3.6.0:\n",
            "      Successfully uninstalled gensim-3.6.0\n",
            "Successfully installed gensim-3.8.0\n",
            "[nltk_data] Downloading package punkt to /root/nltk_data...\n",
            "[nltk_data]   Unzipping tokenizers/punkt.zip.\n"
          ]
        }
      ],
      "source": [
        "!pip install pyLDAvis\n",
        "!pip install -U gensim==3.8.0\n",
        "\n",
        "import pandas as pd\n",
        "from pprint import pprint\n",
        "\n",
        "import gensim\n",
        "from gensim import corpora\n",
        "from gensim.models import CoherenceModel\n",
        "\n",
        "from nltk.tokenize import sent_tokenize, word_tokenize\n",
        "\n",
        "import nltk\n",
        "nltk.download('punkt')\n",
        "\n",
        "# libraries for visualization\n",
        "import pyLDAvis\n",
        "import pyLDAvis.gensim_models\n",
        "import matplotlib.pyplot as plt\n",
        "import seaborn as sns\n",
        "%matplotlib inline"
      ]
    },
    {
      "cell_type": "markdown",
      "source": [
        "**Mount to GDrive**"
      ],
      "metadata": {
        "id": "fOh22ZSrMbrX"
      },
      "id": "fOh22ZSrMbrX"
    },
    {
      "cell_type": "code",
      "source": [
        "from google.colab import drive\n",
        "drive.mount('/content/drive')"
      ],
      "metadata": {
        "colab": {
          "base_uri": "https://localhost:8080/"
        },
        "id": "6HsgshI-lDjn",
        "outputId": "b7b687a1-d69e-4e7c-d8fe-4863b32e1f00"
      },
      "id": "6HsgshI-lDjn",
      "execution_count": null,
      "outputs": [
        {
          "output_type": "stream",
          "name": "stdout",
          "text": [
            "Mounted at /content/drive\n"
          ]
        }
      ]
    },
    {
      "cell_type": "markdown",
      "source": [
        "**Import Data**"
      ],
      "metadata": {
        "id": "bfi5OlH-McRi"
      },
      "id": "bfi5OlH-McRi"
    },
    {
      "cell_type": "code",
      "execution_count": null,
      "id": "516380b0",
      "metadata": {
        "colab": {
          "base_uri": "https://localhost:8080/",
          "height": 206
        },
        "id": "516380b0",
        "outputId": "e285e7e6-77a2-4906-fd48-7ccf0aaaf012"
      },
      "outputs": [
        {
          "output_type": "execute_result",
          "data": {
            "text/html": [
              "\n",
              "  <div id=\"df-d8dc70fe-2d82-4599-9a87-423f343fc481\">\n",
              "    <div class=\"colab-df-container\">\n",
              "      <div>\n",
              "<style scoped>\n",
              "    .dataframe tbody tr th:only-of-type {\n",
              "        vertical-align: middle;\n",
              "    }\n",
              "\n",
              "    .dataframe tbody tr th {\n",
              "        vertical-align: top;\n",
              "    }\n",
              "\n",
              "    .dataframe thead th {\n",
              "        text-align: right;\n",
              "    }\n",
              "</style>\n",
              "<table border=\"1\" class=\"dataframe\">\n",
              "  <thead>\n",
              "    <tr style=\"text-align: right;\">\n",
              "      <th></th>\n",
              "      <th>cleaned_Reviews</th>\n",
              "    </tr>\n",
              "  </thead>\n",
              "  <tbody>\n",
              "    <tr>\n",
              "      <th>0</th>\n",
              "      <td>['backyard', 'hotel', 'total', 'mess', 'happen...</td>\n",
              "    </tr>\n",
              "    <tr>\n",
              "      <th>1</th>\n",
              "      <td>['cleaner', 'change', 'sheet', 'duvet', 'every...</td>\n",
              "    </tr>\n",
              "    <tr>\n",
              "      <th>2</th>\n",
              "      <td>['apart', 'price', 'brekfast', 'good']</td>\n",
              "    </tr>\n",
              "    <tr>\n",
              "      <th>3</th>\n",
              "      <td>['even', 'though', 'picture', 'show', 'clean',...</td>\n",
              "    </tr>\n",
              "    <tr>\n",
              "      <th>4</th>\n",
              "      <td>['aircondition', 'make', 'noise', 'hard', 'sle...</td>\n",
              "    </tr>\n",
              "  </tbody>\n",
              "</table>\n",
              "</div>\n",
              "      <button class=\"colab-df-convert\" onclick=\"convertToInteractive('df-d8dc70fe-2d82-4599-9a87-423f343fc481')\"\n",
              "              title=\"Convert this dataframe to an interactive table.\"\n",
              "              style=\"display:none;\">\n",
              "        \n",
              "  <svg xmlns=\"http://www.w3.org/2000/svg\" height=\"24px\"viewBox=\"0 0 24 24\"\n",
              "       width=\"24px\">\n",
              "    <path d=\"M0 0h24v24H0V0z\" fill=\"none\"/>\n",
              "    <path d=\"M18.56 5.44l.94 2.06.94-2.06 2.06-.94-2.06-.94-.94-2.06-.94 2.06-2.06.94zm-11 1L8.5 8.5l.94-2.06 2.06-.94-2.06-.94L8.5 2.5l-.94 2.06-2.06.94zm10 10l.94 2.06.94-2.06 2.06-.94-2.06-.94-.94-2.06-.94 2.06-2.06.94z\"/><path d=\"M17.41 7.96l-1.37-1.37c-.4-.4-.92-.59-1.43-.59-.52 0-1.04.2-1.43.59L10.3 9.45l-7.72 7.72c-.78.78-.78 2.05 0 2.83L4 21.41c.39.39.9.59 1.41.59.51 0 1.02-.2 1.41-.59l7.78-7.78 2.81-2.81c.8-.78.8-2.07 0-2.86zM5.41 20L4 18.59l7.72-7.72 1.47 1.35L5.41 20z\"/>\n",
              "  </svg>\n",
              "      </button>\n",
              "      \n",
              "  <style>\n",
              "    .colab-df-container {\n",
              "      display:flex;\n",
              "      flex-wrap:wrap;\n",
              "      gap: 12px;\n",
              "    }\n",
              "\n",
              "    .colab-df-convert {\n",
              "      background-color: #E8F0FE;\n",
              "      border: none;\n",
              "      border-radius: 50%;\n",
              "      cursor: pointer;\n",
              "      display: none;\n",
              "      fill: #1967D2;\n",
              "      height: 32px;\n",
              "      padding: 0 0 0 0;\n",
              "      width: 32px;\n",
              "    }\n",
              "\n",
              "    .colab-df-convert:hover {\n",
              "      background-color: #E2EBFA;\n",
              "      box-shadow: 0px 1px 2px rgba(60, 64, 67, 0.3), 0px 1px 3px 1px rgba(60, 64, 67, 0.15);\n",
              "      fill: #174EA6;\n",
              "    }\n",
              "\n",
              "    [theme=dark] .colab-df-convert {\n",
              "      background-color: #3B4455;\n",
              "      fill: #D2E3FC;\n",
              "    }\n",
              "\n",
              "    [theme=dark] .colab-df-convert:hover {\n",
              "      background-color: #434B5C;\n",
              "      box-shadow: 0px 1px 3px 1px rgba(0, 0, 0, 0.15);\n",
              "      filter: drop-shadow(0px 1px 2px rgba(0, 0, 0, 0.3));\n",
              "      fill: #FFFFFF;\n",
              "    }\n",
              "  </style>\n",
              "\n",
              "      <script>\n",
              "        const buttonEl =\n",
              "          document.querySelector('#df-d8dc70fe-2d82-4599-9a87-423f343fc481 button.colab-df-convert');\n",
              "        buttonEl.style.display =\n",
              "          google.colab.kernel.accessAllowed ? 'block' : 'none';\n",
              "\n",
              "        async function convertToInteractive(key) {\n",
              "          const element = document.querySelector('#df-d8dc70fe-2d82-4599-9a87-423f343fc481');\n",
              "          const dataTable =\n",
              "            await google.colab.kernel.invokeFunction('convertToInteractive',\n",
              "                                                     [key], {});\n",
              "          if (!dataTable) return;\n",
              "\n",
              "          const docLinkHtml = 'Like what you see? Visit the ' +\n",
              "            '<a target=\"_blank\" href=https://colab.research.google.com/notebooks/data_table.ipynb>data table notebook</a>'\n",
              "            + ' to learn more about interactive tables.';\n",
              "          element.innerHTML = '';\n",
              "          dataTable['output_type'] = 'display_data';\n",
              "          await google.colab.output.renderOutput(dataTable, element);\n",
              "          const docLink = document.createElement('div');\n",
              "          docLink.innerHTML = docLinkHtml;\n",
              "          element.appendChild(docLink);\n",
              "        }\n",
              "      </script>\n",
              "    </div>\n",
              "  </div>\n",
              "  "
            ],
            "text/plain": [
              "                                     cleaned_Reviews\n",
              "0  ['backyard', 'hotel', 'total', 'mess', 'happen...\n",
              "1  ['cleaner', 'change', 'sheet', 'duvet', 'every...\n",
              "2             ['apart', 'price', 'brekfast', 'good']\n",
              "3  ['even', 'though', 'picture', 'show', 'clean',...\n",
              "4  ['aircondition', 'make', 'noise', 'hard', 'sle..."
            ]
          },
          "metadata": {},
          "execution_count": 3
        }
      ],
      "source": [
        "path = '/content/drive/MyDrive/Colab Notebooks/Hotel_Analysis/Hotel_Datasets/515k_Hotel_Reviews_NGRAMS_TOKENS.csv'\n",
        "df = pd.read_csv(path)\n",
        "df.head(5)"
      ]
    },
    {
      "cell_type": "code",
      "source": [
        "df.info()"
      ],
      "metadata": {
        "colab": {
          "base_uri": "https://localhost:8080/"
        },
        "id": "iB7NvlAsw6cd",
        "outputId": "69bbbc17-ba53-4d22-8d59-594b422e3bde"
      },
      "id": "iB7NvlAsw6cd",
      "execution_count": null,
      "outputs": [
        {
          "output_type": "stream",
          "name": "stdout",
          "text": [
            "<class 'pandas.core.frame.DataFrame'>\n",
            "RangeIndex: 545181 entries, 0 to 545180\n",
            "Data columns (total 1 columns):\n",
            " #   Column           Non-Null Count   Dtype \n",
            "---  ------           --------------   ----- \n",
            " 0   cleaned_Reviews  545181 non-null  object\n",
            "dtypes: object(1)\n",
            "memory usage: 4.2+ MB\n"
          ]
        }
      ]
    },
    {
      "cell_type": "markdown",
      "source": [
        "**10000 random samples for Topic Modelling**"
      ],
      "metadata": {
        "id": "1JI2jahDMhon"
      },
      "id": "1JI2jahDMhon"
    },
    {
      "cell_type": "code",
      "execution_count": null,
      "id": "28b0a07c",
      "metadata": {
        "id": "28b0a07c"
      },
      "outputs": [],
      "source": [
        "df_sample = df.sample(10000, random_state=120)"
      ]
    },
    {
      "cell_type": "code",
      "execution_count": null,
      "id": "9b83e16d",
      "metadata": {
        "id": "9b83e16d"
      },
      "outputs": [],
      "source": [
        "df_sample = df_sample.reset_index(drop=True)"
      ]
    },
    {
      "cell_type": "code",
      "execution_count": null,
      "id": "3b01d3a0",
      "metadata": {
        "colab": {
          "base_uri": "https://localhost:8080/",
          "height": 424
        },
        "id": "3b01d3a0",
        "outputId": "1ee5fa70-fd0f-4ab3-d318-0e48bc28fbe9"
      },
      "outputs": [
        {
          "output_type": "execute_result",
          "data": {
            "text/html": [
              "\n",
              "  <div id=\"df-6c90f216-594f-4d59-b827-c2d8eac39a01\">\n",
              "    <div class=\"colab-df-container\">\n",
              "      <div>\n",
              "<style scoped>\n",
              "    .dataframe tbody tr th:only-of-type {\n",
              "        vertical-align: middle;\n",
              "    }\n",
              "\n",
              "    .dataframe tbody tr th {\n",
              "        vertical-align: top;\n",
              "    }\n",
              "\n",
              "    .dataframe thead th {\n",
              "        text-align: right;\n",
              "    }\n",
              "</style>\n",
              "<table border=\"1\" class=\"dataframe\">\n",
              "  <thead>\n",
              "    <tr style=\"text-align: right;\">\n",
              "      <th></th>\n",
              "      <th>cleaned_Reviews</th>\n",
              "    </tr>\n",
              "  </thead>\n",
              "  <tbody>\n",
              "    <tr>\n",
              "      <th>0</th>\n",
              "      <td>['good', 'service', 'gave_u_free', 'upgrade', ...</td>\n",
              "    </tr>\n",
              "    <tr>\n",
              "      <th>1</th>\n",
              "      <td>['room', 'immaculate', 'complimentary', 'bar',...</td>\n",
              "    </tr>\n",
              "    <tr>\n",
              "      <th>2</th>\n",
              "      <td>['star', 'hotel', 'room', 'shockingly', 'small...</td>\n",
              "    </tr>\n",
              "    <tr>\n",
              "      <th>3</th>\n",
              "      <td>['great', 'city', 'grea', 'thotel', 'great', '...</td>\n",
              "    </tr>\n",
              "    <tr>\n",
              "      <th>4</th>\n",
              "      <td>['front_desk', 'help', 'wonderful', 'true', 'd...</td>\n",
              "    </tr>\n",
              "    <tr>\n",
              "      <th>...</th>\n",
              "      <td>...</td>\n",
              "    </tr>\n",
              "    <tr>\n",
              "      <th>9995</th>\n",
              "      <td>['room', 'small', 'tiny', 'tiny', 'awfully', '...</td>\n",
              "    </tr>\n",
              "    <tr>\n",
              "      <th>9996</th>\n",
              "      <td>['staff', 'roof_terrace']</td>\n",
              "    </tr>\n",
              "    <tr>\n",
              "      <th>9997</th>\n",
              "      <td>['staff', 'grim', 'unhelpful']</td>\n",
              "    </tr>\n",
              "    <tr>\n",
              "      <th>9998</th>\n",
              "      <td>['get', 'little', 'loud', 'hotel', 'people', '...</td>\n",
              "    </tr>\n",
              "    <tr>\n",
              "      <th>9999</th>\n",
              "      <td>['breakfast', 'best', 'hotel', 'used', 'italy'...</td>\n",
              "    </tr>\n",
              "  </tbody>\n",
              "</table>\n",
              "<p>10000 rows × 1 columns</p>\n",
              "</div>\n",
              "      <button class=\"colab-df-convert\" onclick=\"convertToInteractive('df-6c90f216-594f-4d59-b827-c2d8eac39a01')\"\n",
              "              title=\"Convert this dataframe to an interactive table.\"\n",
              "              style=\"display:none;\">\n",
              "        \n",
              "  <svg xmlns=\"http://www.w3.org/2000/svg\" height=\"24px\"viewBox=\"0 0 24 24\"\n",
              "       width=\"24px\">\n",
              "    <path d=\"M0 0h24v24H0V0z\" fill=\"none\"/>\n",
              "    <path d=\"M18.56 5.44l.94 2.06.94-2.06 2.06-.94-2.06-.94-.94-2.06-.94 2.06-2.06.94zm-11 1L8.5 8.5l.94-2.06 2.06-.94-2.06-.94L8.5 2.5l-.94 2.06-2.06.94zm10 10l.94 2.06.94-2.06 2.06-.94-2.06-.94-.94-2.06-.94 2.06-2.06.94z\"/><path d=\"M17.41 7.96l-1.37-1.37c-.4-.4-.92-.59-1.43-.59-.52 0-1.04.2-1.43.59L10.3 9.45l-7.72 7.72c-.78.78-.78 2.05 0 2.83L4 21.41c.39.39.9.59 1.41.59.51 0 1.02-.2 1.41-.59l7.78-7.78 2.81-2.81c.8-.78.8-2.07 0-2.86zM5.41 20L4 18.59l7.72-7.72 1.47 1.35L5.41 20z\"/>\n",
              "  </svg>\n",
              "      </button>\n",
              "      \n",
              "  <style>\n",
              "    .colab-df-container {\n",
              "      display:flex;\n",
              "      flex-wrap:wrap;\n",
              "      gap: 12px;\n",
              "    }\n",
              "\n",
              "    .colab-df-convert {\n",
              "      background-color: #E8F0FE;\n",
              "      border: none;\n",
              "      border-radius: 50%;\n",
              "      cursor: pointer;\n",
              "      display: none;\n",
              "      fill: #1967D2;\n",
              "      height: 32px;\n",
              "      padding: 0 0 0 0;\n",
              "      width: 32px;\n",
              "    }\n",
              "\n",
              "    .colab-df-convert:hover {\n",
              "      background-color: #E2EBFA;\n",
              "      box-shadow: 0px 1px 2px rgba(60, 64, 67, 0.3), 0px 1px 3px 1px rgba(60, 64, 67, 0.15);\n",
              "      fill: #174EA6;\n",
              "    }\n",
              "\n",
              "    [theme=dark] .colab-df-convert {\n",
              "      background-color: #3B4455;\n",
              "      fill: #D2E3FC;\n",
              "    }\n",
              "\n",
              "    [theme=dark] .colab-df-convert:hover {\n",
              "      background-color: #434B5C;\n",
              "      box-shadow: 0px 1px 3px 1px rgba(0, 0, 0, 0.15);\n",
              "      filter: drop-shadow(0px 1px 2px rgba(0, 0, 0, 0.3));\n",
              "      fill: #FFFFFF;\n",
              "    }\n",
              "  </style>\n",
              "\n",
              "      <script>\n",
              "        const buttonEl =\n",
              "          document.querySelector('#df-6c90f216-594f-4d59-b827-c2d8eac39a01 button.colab-df-convert');\n",
              "        buttonEl.style.display =\n",
              "          google.colab.kernel.accessAllowed ? 'block' : 'none';\n",
              "\n",
              "        async function convertToInteractive(key) {\n",
              "          const element = document.querySelector('#df-6c90f216-594f-4d59-b827-c2d8eac39a01');\n",
              "          const dataTable =\n",
              "            await google.colab.kernel.invokeFunction('convertToInteractive',\n",
              "                                                     [key], {});\n",
              "          if (!dataTable) return;\n",
              "\n",
              "          const docLinkHtml = 'Like what you see? Visit the ' +\n",
              "            '<a target=\"_blank\" href=https://colab.research.google.com/notebooks/data_table.ipynb>data table notebook</a>'\n",
              "            + ' to learn more about interactive tables.';\n",
              "          element.innerHTML = '';\n",
              "          dataTable['output_type'] = 'display_data';\n",
              "          await google.colab.output.renderOutput(dataTable, element);\n",
              "          const docLink = document.createElement('div');\n",
              "          docLink.innerHTML = docLinkHtml;\n",
              "          element.appendChild(docLink);\n",
              "        }\n",
              "      </script>\n",
              "    </div>\n",
              "  </div>\n",
              "  "
            ],
            "text/plain": [
              "                                        cleaned_Reviews\n",
              "0     ['good', 'service', 'gave_u_free', 'upgrade', ...\n",
              "1     ['room', 'immaculate', 'complimentary', 'bar',...\n",
              "2     ['star', 'hotel', 'room', 'shockingly', 'small...\n",
              "3     ['great', 'city', 'grea', 'thotel', 'great', '...\n",
              "4     ['front_desk', 'help', 'wonderful', 'true', 'd...\n",
              "...                                                 ...\n",
              "9995  ['room', 'small', 'tiny', 'tiny', 'awfully', '...\n",
              "9996                          ['staff', 'roof_terrace']\n",
              "9997                     ['staff', 'grim', 'unhelpful']\n",
              "9998  ['get', 'little', 'loud', 'hotel', 'people', '...\n",
              "9999  ['breakfast', 'best', 'hotel', 'used', 'italy'...\n",
              "\n",
              "[10000 rows x 1 columns]"
            ]
          },
          "metadata": {},
          "execution_count": 7
        }
      ],
      "source": [
        "df_sample"
      ]
    },
    {
      "cell_type": "markdown",
      "source": [
        "## **Reviews Pre-processing**"
      ],
      "metadata": {
        "id": "t5cKy4xhpXg8"
      },
      "id": "t5cKy4xhpXg8"
    },
    {
      "cell_type": "markdown",
      "source": [
        "**Remove Punctuations**"
      ],
      "metadata": {
        "id": "HmttsGAOMkyC"
      },
      "id": "HmttsGAOMkyC"
    },
    {
      "cell_type": "code",
      "source": [
        "df_sample[\"Reviews\"] = df_sample['cleaned_Reviews'].str.replace('[^\\w\\s]','')"
      ],
      "metadata": {
        "colab": {
          "base_uri": "https://localhost:8080/"
        },
        "id": "PDsN-8eBLT1P",
        "outputId": "add4961a-f2e1-4746-e8c3-017bd4b7c1b7"
      },
      "id": "PDsN-8eBLT1P",
      "execution_count": null,
      "outputs": [
        {
          "output_type": "stream",
          "name": "stderr",
          "text": [
            "<input>:1: DeprecationWarning: invalid escape sequence \\w\n",
            "<ipython-input-8-1e9b69d4e2be>:1: DeprecationWarning: invalid escape sequence \\w\n",
            "  df_sample[\"Reviews\"] = df_sample['cleaned_Reviews'].str.replace('[^\\w\\s]','')\n",
            "/usr/local/lib/python3.7/dist-packages/ipykernel_launcher.py:1: FutureWarning: The default value of regex will change from True to False in a future version.\n",
            "  \"\"\"Entry point for launching an IPython kernel.\n"
          ]
        }
      ]
    },
    {
      "cell_type": "markdown",
      "source": [
        "**Create Dataframe of Reviews**"
      ],
      "metadata": {
        "id": "xv9cWdlHMqXA"
      },
      "id": "xv9cWdlHMqXA"
    },
    {
      "cell_type": "code",
      "source": [
        "# Extract only reviews text\n",
        "reviews = df_sample.Reviews"
      ],
      "metadata": {
        "id": "hXjGyTA-_IMs"
      },
      "id": "hXjGyTA-_IMs",
      "execution_count": null,
      "outputs": []
    },
    {
      "cell_type": "code",
      "source": [
        "reviews.head()"
      ],
      "metadata": {
        "colab": {
          "base_uri": "https://localhost:8080/"
        },
        "id": "htXn2lbV_Oxu",
        "outputId": "d30a7d5f-b60a-4f40-fcf3-fb8f1caa3124"
      },
      "id": "htXn2lbV_Oxu",
      "execution_count": null,
      "outputs": [
        {
          "output_type": "execute_result",
          "data": {
            "text/plain": [
              "0    good service gave_u_free upgrade bottle bubble...\n",
              "1    room immaculate complimentary bar double showe...\n",
              "2    star hotel room shockingly small literally fit...\n",
              "3                  great city grea thotel great people\n",
              "4    front_desk help wonderful true delight stay mo...\n",
              "Name: Reviews, dtype: object"
            ]
          },
          "metadata": {},
          "execution_count": 10
        }
      ]
    },
    {
      "cell_type": "markdown",
      "source": [
        "**Convert reviews dataframe to list**"
      ],
      "metadata": {
        "id": "3tXAADMbMtD4"
      },
      "id": "3tXAADMbMtD4"
    },
    {
      "cell_type": "code",
      "source": [
        "reviews = reviews.tolist()"
      ],
      "metadata": {
        "id": "QXz1Y5d-LdkY"
      },
      "id": "QXz1Y5d-LdkY",
      "execution_count": null,
      "outputs": []
    },
    {
      "cell_type": "markdown",
      "source": [
        "**Tokenize the sentence into words**"
      ],
      "metadata": {
        "id": "Wxi24hN3Mv3n"
      },
      "id": "Wxi24hN3Mv3n"
    },
    {
      "cell_type": "code",
      "source": [
        "import string \n",
        "\n",
        "#Tokenize the sentence into words\n",
        "reviews_tokens = [word_tokenize(t) for t in reviews]"
      ],
      "metadata": {
        "id": "nGycOUpxLgdg"
      },
      "id": "nGycOUpxLgdg",
      "execution_count": null,
      "outputs": []
    },
    {
      "cell_type": "markdown",
      "source": [
        "**Samples of reviews tokens**"
      ],
      "metadata": {
        "id": "ORLvaqbFMyc6"
      },
      "id": "ORLvaqbFMyc6"
    },
    {
      "cell_type": "code",
      "source": [
        "reviews_tokens[:5]"
      ],
      "metadata": {
        "colab": {
          "base_uri": "https://localhost:8080/"
        },
        "id": "5eArE-sGLiWK",
        "outputId": "1692cdab-533c-41d5-8d5e-3e84db9a1e5c"
      },
      "id": "5eArE-sGLiWK",
      "execution_count": null,
      "outputs": [
        {
          "output_type": "execute_result",
          "data": {
            "text/plain": [
              "[['good',\n",
              "  'service',\n",
              "  'gave_u_free',\n",
              "  'upgrade',\n",
              "  'bottle',\n",
              "  'bubble',\n",
              "  'room',\n",
              "  'victoria',\n",
              "  'sponge',\n",
              "  'thank'],\n",
              " ['room',\n",
              "  'immaculate',\n",
              "  'complimentary',\n",
              "  'bar',\n",
              "  'double',\n",
              "  'shower',\n",
              "  'view',\n",
              "  'oxford_street',\n",
              "  'angelica',\n",
              "  'reception',\n",
              "  'delightful',\n",
              "  'done',\n",
              "  'able',\n",
              "  'shop',\n",
              "  'come',\n",
              "  'back',\n",
              "  'rest',\n",
              "  'shop',\n",
              "  'going',\n",
              "  'palladium',\n",
              "  'wonderful',\n",
              "  'dinner',\n",
              "  'grill',\n",
              "  'caught',\n",
              "  'bus',\n",
              "  'argyll',\n",
              "  'street',\n",
              "  'ten',\n",
              "  'minute',\n",
              "  'amazing'],\n",
              " ['star',\n",
              "  'hotel',\n",
              "  'room',\n",
              "  'shockingly',\n",
              "  'small',\n",
              "  'literally',\n",
              "  'fit',\n",
              "  'bed',\n",
              "  'table',\n",
              "  'bathroom',\n",
              "  'term',\n",
              "  'little',\n",
              "  'touch',\n",
              "  'make',\n",
              "  'star',\n",
              "  'hotel',\n",
              "  'experience',\n",
              "  'bathrobe_slipper',\n",
              "  'room',\n",
              "  'made',\n",
              "  'got',\n",
              "  'back',\n",
              "  'strangely',\n",
              "  'pen',\n",
              "  'commend',\n",
              "  'spa',\n",
              "  'yet',\n",
              "  'short',\n",
              "  'space'],\n",
              " ['great', 'city', 'grea', 'thotel', 'great', 'people'],\n",
              " ['front_desk',\n",
              "  'help',\n",
              "  'wonderful',\n",
              "  'true',\n",
              "  'delight',\n",
              "  'stay',\n",
              "  'morning',\n",
              "  'brekfast',\n",
              "  'delight',\n",
              "  'every',\n",
              "  'morning']]"
            ]
          },
          "metadata": {},
          "execution_count": 13
        }
      ]
    },
    {
      "cell_type": "markdown",
      "source": [
        "**Create a dictionary (mapping between words and their integer ids)**"
      ],
      "metadata": {
        "id": "YSFeb3B9M0C3"
      },
      "id": "YSFeb3B9M0C3"
    },
    {
      "cell_type": "code",
      "source": [
        "dictionary = corpora.Dictionary(reviews_tokens)  "
      ],
      "metadata": {
        "id": "f8CK75YXLk8k"
      },
      "id": "f8CK75YXLk8k",
      "execution_count": null,
      "outputs": []
    },
    {
      "cell_type": "markdown",
      "source": [
        "**Converts the word to its integer word id and returns the result as a sparse vector (using Doc2bow Doc term matrix)**"
      ],
      "metadata": {
        "id": "gE_uqYIxM4S_"
      },
      "id": "gE_uqYIxM4S_"
    },
    {
      "cell_type": "code",
      "source": [
        "doc_term_matrix = [dictionary.doc2bow(doc) for doc in reviews_tokens]"
      ],
      "metadata": {
        "id": "u6IVw0WFLli0"
      },
      "id": "u6IVw0WFLli0",
      "execution_count": null,
      "outputs": []
    },
    {
      "cell_type": "markdown",
      "source": [
        "**Samples of doc_term_matrix (corpus)**"
      ],
      "metadata": {
        "id": "QfOxh1plNHLy"
      },
      "id": "QfOxh1plNHLy"
    },
    {
      "cell_type": "code",
      "source": [
        "doc_term_matrix[:5]"
      ],
      "metadata": {
        "colab": {
          "base_uri": "https://localhost:8080/"
        },
        "id": "kPaA7944LndN",
        "outputId": "31568c0f-f191-414b-8a2b-1cf30b2567a7"
      },
      "id": "kPaA7944LndN",
      "execution_count": null,
      "outputs": [
        {
          "output_type": "execute_result",
          "data": {
            "text/plain": [
              "[[(0, 1),\n",
              "  (1, 1),\n",
              "  (2, 1),\n",
              "  (3, 1),\n",
              "  (4, 1),\n",
              "  (5, 1),\n",
              "  (6, 1),\n",
              "  (7, 1),\n",
              "  (8, 1),\n",
              "  (9, 1)],\n",
              " [(4, 1),\n",
              "  (10, 1),\n",
              "  (11, 1),\n",
              "  (12, 1),\n",
              "  (13, 1),\n",
              "  (14, 1),\n",
              "  (15, 1),\n",
              "  (16, 1),\n",
              "  (17, 1),\n",
              "  (18, 1),\n",
              "  (19, 1),\n",
              "  (20, 1),\n",
              "  (21, 1),\n",
              "  (22, 1),\n",
              "  (23, 1),\n",
              "  (24, 1),\n",
              "  (25, 1),\n",
              "  (26, 1),\n",
              "  (27, 1),\n",
              "  (28, 1),\n",
              "  (29, 1),\n",
              "  (30, 1),\n",
              "  (31, 1),\n",
              "  (32, 2),\n",
              "  (33, 1),\n",
              "  (34, 1),\n",
              "  (35, 1),\n",
              "  (36, 1),\n",
              "  (37, 1)],\n",
              " [(4, 2),\n",
              "  (14, 1),\n",
              "  (38, 1),\n",
              "  (39, 1),\n",
              "  (40, 1),\n",
              "  (41, 1),\n",
              "  (42, 1),\n",
              "  (43, 1),\n",
              "  (44, 1),\n",
              "  (45, 2),\n",
              "  (46, 1),\n",
              "  (47, 1),\n",
              "  (48, 1),\n",
              "  (49, 1),\n",
              "  (50, 1),\n",
              "  (51, 1),\n",
              "  (52, 1),\n",
              "  (53, 1),\n",
              "  (54, 1),\n",
              "  (55, 1),\n",
              "  (56, 2),\n",
              "  (57, 1),\n",
              "  (58, 1),\n",
              "  (59, 1),\n",
              "  (60, 1),\n",
              "  (61, 1)],\n",
              " [(62, 1), (63, 1), (64, 2), (65, 1), (66, 1)],\n",
              " [(37, 1),\n",
              "  (67, 1),\n",
              "  (68, 2),\n",
              "  (69, 1),\n",
              "  (70, 1),\n",
              "  (71, 1),\n",
              "  (72, 2),\n",
              "  (73, 1),\n",
              "  (74, 1)]]"
            ]
          },
          "metadata": {},
          "execution_count": 16
        }
      ]
    },
    {
      "cell_type": "markdown",
      "source": [
        "**Human readable format of corpus**"
      ],
      "metadata": {
        "id": "vQjWDSPXNKLP"
      },
      "id": "vQjWDSPXNKLP"
    },
    {
      "cell_type": "code",
      "source": [
        "# Human readable format of corpus\n",
        "[[(dictionary[id], freq) for id, freq in cp] for cp in doc_term_matrix[:5]]"
      ],
      "metadata": {
        "colab": {
          "base_uri": "https://localhost:8080/"
        },
        "id": "bSGnmBFiLpK8",
        "outputId": "90c849c1-2d36-4ec9-dec6-827ee167bac1"
      },
      "id": "bSGnmBFiLpK8",
      "execution_count": null,
      "outputs": [
        {
          "output_type": "execute_result",
          "data": {
            "text/plain": [
              "[[('bottle', 1),\n",
              "  ('bubble', 1),\n",
              "  ('gave_u_free', 1),\n",
              "  ('good', 1),\n",
              "  ('room', 1),\n",
              "  ('service', 1),\n",
              "  ('sponge', 1),\n",
              "  ('thank', 1),\n",
              "  ('upgrade', 1),\n",
              "  ('victoria', 1)],\n",
              " [('room', 1),\n",
              "  ('able', 1),\n",
              "  ('amazing', 1),\n",
              "  ('angelica', 1),\n",
              "  ('argyll', 1),\n",
              "  ('back', 1),\n",
              "  ('bar', 1),\n",
              "  ('bus', 1),\n",
              "  ('caught', 1),\n",
              "  ('come', 1),\n",
              "  ('complimentary', 1),\n",
              "  ('delightful', 1),\n",
              "  ('dinner', 1),\n",
              "  ('done', 1),\n",
              "  ('double', 1),\n",
              "  ('going', 1),\n",
              "  ('grill', 1),\n",
              "  ('immaculate', 1),\n",
              "  ('minute', 1),\n",
              "  ('oxford_street', 1),\n",
              "  ('palladium', 1),\n",
              "  ('reception', 1),\n",
              "  ('rest', 1),\n",
              "  ('shop', 2),\n",
              "  ('shower', 1),\n",
              "  ('street', 1),\n",
              "  ('ten', 1),\n",
              "  ('view', 1),\n",
              "  ('wonderful', 1)],\n",
              " [('room', 2),\n",
              "  ('back', 1),\n",
              "  ('bathrobe_slipper', 1),\n",
              "  ('bathroom', 1),\n",
              "  ('bed', 1),\n",
              "  ('commend', 1),\n",
              "  ('experience', 1),\n",
              "  ('fit', 1),\n",
              "  ('got', 1),\n",
              "  ('hotel', 2),\n",
              "  ('literally', 1),\n",
              "  ('little', 1),\n",
              "  ('made', 1),\n",
              "  ('make', 1),\n",
              "  ('pen', 1),\n",
              "  ('shockingly', 1),\n",
              "  ('short', 1),\n",
              "  ('small', 1),\n",
              "  ('spa', 1),\n",
              "  ('space', 1),\n",
              "  ('star', 2),\n",
              "  ('strangely', 1),\n",
              "  ('table', 1),\n",
              "  ('term', 1),\n",
              "  ('touch', 1),\n",
              "  ('yet', 1)],\n",
              " [('city', 1), ('grea', 1), ('great', 2), ('people', 1), ('thotel', 1)],\n",
              " [('wonderful', 1),\n",
              "  ('brekfast', 1),\n",
              "  ('delight', 2),\n",
              "  ('every', 1),\n",
              "  ('front_desk', 1),\n",
              "  ('help', 1),\n",
              "  ('morning', 2),\n",
              "  ('stay', 1),\n",
              "  ('true', 1)]]"
            ]
          },
          "metadata": {},
          "execution_count": 17
        }
      ]
    },
    {
      "cell_type": "markdown",
      "source": [
        "## **Model Building**"
      ],
      "metadata": {
        "id": "4gPNdvzfE3uP"
      },
      "id": "4gPNdvzfE3uP"
    },
    {
      "cell_type": "markdown",
      "source": [
        "**Compute coherence score for models with different number of topics (Try from 2 topics - 40 topics)**"
      ],
      "metadata": {
        "id": "VKwHg5LVNRPz"
      },
      "id": "VKwHg5LVNRPz"
    },
    {
      "cell_type": "code",
      "execution_count": null,
      "id": "56529c38",
      "metadata": {
        "id": "56529c38"
      },
      "outputs": [],
      "source": [
        "# Testing of which number of topics is the most optimal\n",
        "# Compute coherence score for each number of topics between 2 - 40 topics\n",
        "\n",
        "#\n",
        "def compute_coherence_values(dictionary, corpus, texts, limit, start, step):\n",
        "    coherence_values = []\n",
        "    model_list = []\n",
        "    for num_topics in range(start, limit, step):\n",
        "        model = gensim.models.ldamodel.LdaModel(corpus= corpus,\n",
        "                                                num_topics=num_topics,\n",
        "                                                id2word=dictionary,\n",
        "                                                random_state=100,\n",
        "                                                update_every=1,\n",
        "                                                chunksize=1000,\n",
        "                                                passes=10, \n",
        "                                                alpha='auto',\n",
        "                                                per_word_topics=True)\n",
        "        model_list.append(model)\n",
        "        coherencemodel = CoherenceModel(model=model, texts=texts, dictionary=dictionary, coherence='c_v')\n",
        "        coherence_values.append(coherencemodel.get_coherence())\n",
        "\n",
        "    return model_list, coherence_values"
      ]
    },
    {
      "cell_type": "code",
      "execution_count": null,
      "id": "b15614f6",
      "metadata": {
        "id": "b15614f6"
      },
      "outputs": [],
      "source": [
        "# Compute coherence score between 2 - 30 topics with a step of 2 for each iteration\n",
        "\n",
        "model_list, coherence_values = compute_coherence_values(dictionary=dictionary, corpus=doc_term_matrix, texts=reviews_tokens, start=2, limit=40, step=2)"
      ]
    },
    {
      "cell_type": "code",
      "execution_count": null,
      "id": "cc05c4f9",
      "metadata": {
        "id": "cc05c4f9",
        "outputId": "c18b6c78-1a3f-4646-9154-335b57d74ff9",
        "colab": {
          "base_uri": "https://localhost:8080/",
          "height": 278
        }
      },
      "outputs": [
        {
          "output_type": "display_data",
          "data": {
            "image/png": "[encoded data removed]",
            "text/plain": [
              "<Figure size 432x288 with 1 Axes>"
            ]
          },
          "metadata": {
            "needs_background": "light"
          }
        }
      ],
      "source": [
        "# Show graph\n",
        "limit=40; start=2; step=2;\n",
        "x = range(start, limit, step)\n",
        "plt.plot(x, coherence_values)\n",
        "plt.xlabel(\"Num Topics\")\n",
        "plt.ylabel(\"Coherence score\")\n",
        "plt.legend((\"coherence_values\"), loc='best')\n",
        "plt.show()"
      ]
    },
    {
      "cell_type": "code",
      "execution_count": null,
      "id": "39510951",
      "metadata": {
        "id": "39510951",
        "outputId": "268d7c7a-cb51-4fe8-e2b3-f697b38b604f",
        "colab": {
          "base_uri": "https://localhost:8080/"
        }
      },
      "outputs": [
        {
          "output_type": "stream",
          "name": "stdout",
          "text": [
            "Num Topics = 2  has Coherence Value of 0.3784\n",
            "Num Topics = 4  has Coherence Value of 0.3806\n",
            "Num Topics = 6  has Coherence Value of 0.4496\n",
            "Num Topics = 8  has Coherence Value of 0.3789\n",
            "Num Topics = 10  has Coherence Value of 0.4607\n",
            "Num Topics = 12  has Coherence Value of 0.4282\n",
            "Num Topics = 14  has Coherence Value of 0.4211\n",
            "Num Topics = 16  has Coherence Value of 0.3672\n",
            "Num Topics = 18  has Coherence Value of 0.3846\n",
            "Num Topics = 20  has Coherence Value of 0.3563\n",
            "Num Topics = 22  has Coherence Value of 0.3847\n",
            "Num Topics = 24  has Coherence Value of 0.3766\n",
            "Num Topics = 26  has Coherence Value of 0.3956\n",
            "Num Topics = 28  has Coherence Value of 0.4106\n",
            "Num Topics = 30  has Coherence Value of 0.4054\n",
            "Num Topics = 32  has Coherence Value of 0.4226\n",
            "Num Topics = 34  has Coherence Value of 0.4178\n",
            "Num Topics = 36  has Coherence Value of 0.43\n",
            "Num Topics = 38  has Coherence Value of 0.4454\n"
          ]
        }
      ],
      "source": [
        "# Print the coherence scores\n",
        "for m, cv in zip(x, coherence_values):\n",
        "    print(\"Num Topics =\", m, \" has Coherence Value of\", round(cv, 4))"
      ]
    },
    {
      "cell_type": "markdown",
      "source": [
        "Finding the optimal number of topics is to build many LDA models with different values of number of topics (k) and pick the one that gives the highest coherence value.\n",
        "\n",
        "Observing the line graph, we can see that coherence score peaked at around 10 topics.\n",
        "\n",
        "Hence, we will be choosing 10 number of topics to build our topic model and investigate further."
      ],
      "metadata": {
        "id": "bmg9nwQIYufe"
      },
      "id": "bmg9nwQIYufe"
    },
    {
      "cell_type": "markdown",
      "source": [
        "## **Topic Model with Num Topic = 10**"
      ],
      "metadata": {
        "id": "HtEpN2B5NomU"
      },
      "id": "HtEpN2B5NomU"
    },
    {
      "cell_type": "code",
      "execution_count": null,
      "id": "d9efb916",
      "metadata": {
        "id": "d9efb916",
        "outputId": "4a95921c-d861-49a9-d09f-54b01b8eaa69",
        "colab": {
          "base_uri": "https://localhost:8080/"
        }
      },
      "outputs": [
        {
          "output_type": "stream",
          "name": "stdout",
          "text": [
            "--- 35.217012882232666 seconds ---\n"
          ]
        }
      ],
      "source": [
        "import time\n",
        "\n",
        "start_time = time.time()\n",
        "\n",
        "# Single core LDA\n",
        "NUM_TOPICS = 10\n",
        "\n",
        "lda_model = gensim.models.ldamodel.LdaModel(corpus=doc_term_matrix,\n",
        "                                           id2word=dictionary,\n",
        "                                           num_topics=NUM_TOPICS, \n",
        "                                           random_state=100,\n",
        "                                           update_every=1,\n",
        "                                           chunksize=1000,\n",
        "                                           passes=10,\n",
        "                                           alpha='auto')\n",
        "                                          #  per_word_topics=True)\n",
        "\n",
        "print(\"--- %s seconds ---\" % (time.time() - start_time))"
      ]
    },
    {
      "cell_type": "markdown",
      "source": [
        "**Save & Load the model**"
      ],
      "metadata": {
        "id": "XaO0A-F8Nu-H"
      },
      "id": "XaO0A-F8Nu-H"
    },
    {
      "cell_type": "code",
      "source": [
        "# Save & Load the model\n",
        "lda_model.save('/content/drive/MyDrive/Colab Notebooks/Hotel_Analysis/Models/LDA_model_NGRAMS')\n",
        "lda_model = gensim.models.ldamodel.LdaModel.load('/content/drive/MyDrive/Colab Notebooks/Hotel_Analysis/Models/LDA_model_NGRAMS')"
      ],
      "metadata": {
        "id": "uARTmRsNR88a"
      },
      "id": "uARTmRsNR88a",
      "execution_count": null,
      "outputs": []
    },
    {
      "cell_type": "markdown",
      "source": [
        "**Show Topic Keywords**"
      ],
      "metadata": {
        "id": "h5XUik9FNwJP"
      },
      "id": "h5XUik9FNwJP"
    },
    {
      "cell_type": "code",
      "source": [
        "# Show the 5 most dominant words in each topic\n",
        "\n",
        "lda_model.print_topics(num_words = 10)"
      ],
      "metadata": {
        "colab": {
          "base_uri": "https://localhost:8080/"
        },
        "id": "ggGiosPzSFN3",
        "outputId": "bf405265-4855-40c1-d335-38601bd7c171"
      },
      "id": "ggGiosPzSFN3",
      "execution_count": null,
      "outputs": [
        {
          "output_type": "execute_result",
          "data": {
            "text/plain": [
              "[(0,\n",
              "  '0.045*\"stay\" + 0.031*\"station\" + 0.028*\"place\" + 0.023*\"walk\" + 0.020*\"metro\" + 0.019*\"hotel\" + 0.018*\"city\" + 0.017*\"modern\" + 0.016*\"easy\" + 0.016*\"close\"'),\n",
              " (1,\n",
              "  '0.038*\"expensive\" + 0.037*\"wifi\" + 0.028*\"price\" + 0.026*\"better\" + 0.025*\"free\" + 0.024*\"coffee\" + 0.022*\"poor\" + 0.017*\"decor\" + 0.015*\"tea\" + 0.013*\"welcoming\"'),\n",
              " (2,\n",
              "  '0.057*\"loved\" + 0.047*\"every\" + 0.032*\"kind\" + 0.024*\"paris\" + 0.018*\"amsterdam\" + 0.017*\"within\" + 0.016*\"thing\" + 0.016*\"quick\" + 0.014*\"trip\" + 0.013*\"soft\"'),\n",
              " (3,\n",
              "  '0.029*\"night\" + 0.028*\"one\" + 0.023*\"time\" + 0.022*\"bad\" + 0.017*\"first\" + 0.017*\"two\" + 0.017*\"day\" + 0.014*\"booked\" + 0.014*\"standard\" + 0.014*\"room\"'),\n",
              " (4,\n",
              "  '0.079*\"amazing\" + 0.036*\"check\" + 0.027*\"back\" + 0.025*\"come\" + 0.022*\"best\" + 0.021*\"atmosphere\" + 0.018*\"ideal\" + 0.017*\"ever\" + 0.014*\"charged\" + 0.014*\"value_money\"'),\n",
              " (5,\n",
              "  '0.085*\"staff\" + 0.080*\"room\" + 0.074*\"location\" + 0.051*\"breakfast\" + 0.050*\"hotel\" + 0.048*\"good\" + 0.043*\"great\" + 0.036*\"friendly\" + 0.034*\"bed\" + 0.030*\"helpful\"'),\n",
              " (6,\n",
              "  '0.105*\"room\" + 0.061*\"small\" + 0.037*\"bathroom\" + 0.027*\"little\" + 0.020*\"shower\" + 0.019*\"need\" + 0.015*\"quite\" + 0.015*\"work\" + 0.015*\"floor\" + 0.013*\"door\"'),\n",
              " (7,\n",
              "  '0.031*\"noisy\" + 0.029*\"window\" + 0.023*\"cold\" + 0.018*\"tiny\" + 0.015*\"open\" + 0.014*\"due\" + 0.013*\"found\" + 0.013*\"tram\" + 0.013*\"without\" + 0.013*\"problem\"'),\n",
              " (8,\n",
              "  '0.042*\"pillow\" + 0.033*\"slow\" + 0.023*\"customer\" + 0.021*\"gym\" + 0.016*\"road\" + 0.016*\"help\" + 0.016*\"top\" + 0.016*\"menu\" + 0.013*\"mattress\" + 0.012*\"looking\"'),\n",
              " (9,\n",
              "  '0.043*\"parking\" + 0.039*\"extra\" + 0.035*\"liked\" + 0.034*\"like\" + 0.024*\"hard\" + 0.023*\"uncomfortable\" + 0.021*\"pay\" + 0.015*\"book\" + 0.014*\"twin\" + 0.013*\"car\"')]"
            ]
          },
          "metadata": {},
          "execution_count": 39
        }
      ]
    },
    {
      "cell_type": "markdown",
      "source": [
        "**Compute Perplexity & Coherence Score**"
      ],
      "metadata": {
        "id": "RvBCmjQ3N33_"
      },
      "id": "RvBCmjQ3N33_"
    },
    {
      "cell_type": "code",
      "source": [
        "# Compute Perplexity\n",
        "print('\\nPerplexity: ', lda_model.log_perplexity(doc_term_matrix))  \n",
        "# a measure of how good the model is. lower the better.\n",
        "\n",
        "# Compute Coherence Score\n",
        "coherence_model_lda = CoherenceModel(model=lda_model, texts=reviews_tokens, dictionary=dictionary, coherence='c_v')\n",
        "coherence_lda = coherence_model_lda.get_coherence()\n",
        "print('\\nCoherence Score: ', coherence_lda)"
      ],
      "metadata": {
        "colab": {
          "base_uri": "https://localhost:8080/"
        },
        "id": "oeumibsP08de",
        "outputId": "5e635b90-f280-4003-9a2d-8b541ad82601"
      },
      "id": "oeumibsP08de",
      "execution_count": null,
      "outputs": [
        {
          "output_type": "stream",
          "name": "stdout",
          "text": [
            "\n",
            "Perplexity:  -7.192485928407458\n",
            "\n",
            "Coherence Score:  0.46068857135498603\n"
          ]
        }
      ]
    },
    {
      "cell_type": "markdown",
      "source": [
        "## **Visualize the topics using pyLDAvis**"
      ],
      "metadata": {
        "id": "dn1e3Le4N_Gn"
      },
      "id": "dn1e3Le4N_Gn"
    },
    {
      "cell_type": "code",
      "execution_count": null,
      "id": "787a41f7",
      "metadata": {
        "id": "787a41f7",
        "outputId": "565e51bf-c7a5-443b-cead-0f749ee82f0c",
        "colab": {
          "base_uri": "https://localhost:8080/",
          "height": 896
        }
      },
      "outputs": [
        {
          "output_type": "stream",
          "name": "stderr",
          "text": [
            "/usr/local/lib/python3.7/dist-packages/pyLDAvis/_prepare.py:247: FutureWarning: In a future version of pandas all arguments of DataFrame.drop except for the argument 'labels' will be keyword-only\n",
            "  by='saliency', ascending=False).head(R).drop('saliency', 1)\n"
          ]
        },
        {
          "output_type": "execute_result",
          "data": {
            "text/html": [
              "\n",
              "<link rel=\"stylesheet\" type=\"text/css\" href=\"https://cdn.jsdelivr.net/gh/bmabey/pyLDAvis@3.3.1/pyLDAvis/js/ldavis.v1.0.0.css\">\n",
              "\n",
              "\n",
              "<div id=\"ldavis_el661398536436283683106186797\"></div>\n",
              "<script type=\"text/javascript\">\n",
              "\n",
              "var ldavis_el661398536436283683106186797_data = {\"mdsDat\": {\"x\": [-0.38541592719244305, -0.19301798123810732, -0.045361292228970646, 0.009802714354500126, 0.037530019714234544, 0.07882094269163693, 0.12445238092095429, 0.11606871382004395, 0.11458038603891703, 0.14254004311923452], \"y\": [0.07999054169789246, -0.21025737068454842, 0.26815086983329395, 0.008061320888542311, -0.15947342666193196, -0.1508751781879865, 0.026834723180860186, 0.027693583075034143, 0.07180326512682485, 0.038071671732018794], \"topics\": [1, 2, 3, 4, 5, 6, 7, 8, 9, 10], \"cluster\": [1, 1, 1, 1, 1, 1, 1, 1, 1, 1], \"Freq\": [41.77021671891012, 14.918076016708609, 9.53004367035029, 8.085764661645104, 7.4398949052843335, 5.628326072858079, 3.3482889603931447, 3.2374806491652106, 3.185272147330969, 2.856636197354142]}, \"tinfo\": {\"Term\": [\"staff\", \"room\", \"location\", \"small\", \"good\", \"great\", \"breakfast\", \"friendly\", \"bed\", \"helpful\", \"bathroom\", \"nice\", \"hotel\", \"stay\", \"amazing\", \"expensive\", \"comfortable\", \"little\", \"excellent\", \"wifi\", \"station\", \"clean\", \"bar\", \"night\", \"price\", \"place\", \"service\", \"loved\", \"like\", \"shower\", \"staff\", \"location\", \"good\", \"great\", \"friendly\", \"helpful\", \"nice\", \"comfortable\", \"excellent\", \"clean\", \"lovely\", \"restaurant\", \"perfect\", \"comfy\", \"facility\", \"quiet\", \"fantastic\", \"spacious\", \"beautiful\", \"big\", \"view\", \"extremely\", \"large\", \"convenient\", \"super\", \"choice\", \"wonderful\", \"polite\", \"min\", \"superb\", \"bed\", \"food\", \"breakfast\", \"reception\", \"service\", \"well\", \"hotel\", \"bar\", \"room\", \"size\", \"close\", \"small\", \"little\", \"need\", \"work\", \"door\", \"old\", \"noise\", \"people\", \"space\", \"outside\", \"lift\", \"hot\", \"though\", \"bath\", \"morning\", \"included\", \"air_conditioning\", \"limited\", \"early\", \"cost\", \"tired\", \"wall\", \"drink\", \"difficult\", \"glass\", \"looked\", \"inside\", \"basic\", \"even\", \"put\", \"make\", \"floor\", \"dirty\", \"side\", \"bathroom\", \"quite\", \"double\", \"water\", \"shower\", \"use\", \"room\", \"next\", \"way\", \"get\", \"got\", \"also\", \"night\", \"station\", \"place\", \"walk\", \"metro\", \"city\", \"modern\", \"easy\", \"right\", \"minute\", \"tube\", \"far\", \"pleasant\", \"train\", \"centre\", \"design\", \"airport\", \"bus\", \"located\", \"wanted\", \"concierge\", \"shopping\", \"huge\", \"visit\", \"getting\", \"taxi\", \"enjoyed\", \"love\", \"short\", \"welcome\", \"plus\", \"stay\", \"around\", \"away\", \"close\", \"get\", \"hotel\", \"london\", \"best\", \"central\", \"expensive\", \"wifi\", \"better\", \"coffee\", \"poor\", \"decor\", \"tea\", \"welcoming\", \"felt\", \"internet\", \"issue\", \"know\", \"experience\", \"rude\", \"eat\", \"euro\", \"stop\", \"position\", \"kept\", \"overpriced\", \"several\", \"something\", \"safe\", \"bottle\", \"kettle\", \"general\", \"disappointing\", \"said\", \"dinner\", \"keep\", \"star\", \"working\", \"free\", \"provided\", \"charge\", \"price\", \"option\", \"think\", \"one\", \"day\", \"breakfast\", \"like\", \"hotel\", \"bad\", \"first\", \"two\", \"booked\", \"standard\", \"upgraded\", \"hour\", \"single\", \"long\", \"cleaning\", \"still\", \"took\", \"smell\", \"toilet\", \"carpet\", \"lack\", \"offered\", \"evening\", \"second\", \"amenity\", \"ready\", \"cooked\", \"year\", \"changed\", \"closed\", \"luggage\", \"swimming_pool\", \"renovation\", \"move\", \"low\", \"never\", \"wait\", \"although\", \"told\", \"one\", \"night\", \"time\", \"day\", \"enough\", \"stayed\", \"check\", \"like\", \"room\", \"stay\", \"window\", \"tiny\", \"open\", \"noisy\", \"due\", \"tram\", \"without\", \"absolutely\", \"family\", \"style\", \"staying\", \"curtain\", \"thank\", \"suite\", \"cool\", \"fabulous\", \"slightly\", \"fab\", \"rate\", \"river\", \"opened\", \"feeling\", \"requested\", \"attitude\", \"nicely\", \"surprise\", \"easy_access\", \"dust\", \"average\", \"kid\", \"cold\", \"left\", \"found\", \"sleep\", \"asked\", \"problem\", \"booking\", \"always\", \"night\", \"like\", \"bedroom\", \"amazing\", \"come\", \"ideal\", \"ever\", \"charged\", \"value_money\", \"cleaned\", \"entrance\", \"accommodating\", \"home\", \"special\", \"run\", \"helped\", \"quickly\", \"fault\", \"corner\", \"overnight\", \"arrival\", \"roof\", \"till\", \"worst\", \"tidy\", \"thanks\", \"breakfast_included_price\", \"man\", \"movie\", \"since\", \"driver\", \"leaving\", \"suitable\", \"atmosphere\", \"check\", \"back\", \"best\", \"late\", \"made\", \"went\", \"stayed\", \"feel\", \"way\", \"parking\", \"extra\", \"liked\", \"hard\", \"uncomfortable\", \"pay\", \"book\", \"twin\", \"car\", \"business\", \"dated\", \"channel\", \"attraction\", \"proximity\", \"level\", \"birthday\", \"instead\", \"pub\", \"chocolate\", \"reservation\", \"deluxe\", \"wine\", \"coffee_machine\", \"return\", \"appointed\", \"confusing\", \"reach\", \"real\", \"trying\", \"basement\", \"like\", \"bed\", \"pillow\", \"slow\", \"customer\", \"gym\", \"road\", \"top\", \"help\", \"menu\", \"mattress\", \"looking\", \"stylish\", \"properly\", \"making\", \"milk\", \"expect\", \"member\", \"complaint\", \"housekeeping\", \"turn\", \"cocktail\", \"decoration\", \"helpfull\", \"sight\", \"sometimes\", \"good_value_money\", \"maybe\", \"connection\", \"baby\", \"else\", \"great_value_money\", \"want\", \"offer\", \"local\", \"busy\", \"bar\", \"every\", \"kind\", \"paris\", \"amsterdam\", \"within\", \"quick\", \"trip\", \"soft\", \"relaxing\", \"coming\", \"request\", \"lighting\", \"spotless\", \"head\", \"including\", \"priced\", \"situated\", \"yet\", \"fully\", \"loved\", \"fairly\", \"meal\", \"french\", \"knowledgeable\", \"ambience\", \"longer\", \"everyday\", \"gorgeous\", \"property\", \"complete\", \"thing\", \"hear\", \"going\"], \"Freq\": [2735.0, 3881.0, 2363.0, 702.0, 1545.0, 1375.0, 1700.0, 1142.0, 1094.0, 966.0, 505.0, 868.0, 1834.0, 379.0, 202.0, 239.0, 699.0, 310.0, 692.0, 228.0, 229.0, 636.0, 402.0, 303.0, 251.0, 203.0, 468.0, 131.0, 230.0, 321.0, 2735.0912317503107, 2362.3590414256355, 1544.9833180941305, 1374.3319357552318, 1141.4780609503628, 965.589018854471, 867.6006834107876, 698.5696944001947, 692.0769426624915, 635.608324400641, 404.4521055638694, 374.88263226190446, 328.41520691635503, 280.3006676235545, 258.26177609468505, 265.3620781917875, 172.0381047511919, 166.47187702544406, 156.9160875359038, 182.15451912838162, 316.83038393942485, 155.88903242571266, 123.99364730545199, 122.00119775272552, 118.55281818908377, 123.64657814751703, 95.8105676385898, 88.07627103487124, 91.89501063151864, 84.12979402746562, 1077.4166024710507, 309.1815320442187, 1634.068905215318, 254.51497145289989, 452.7211701362534, 289.1237323105822, 1613.47824732222, 357.8439038030707, 2568.1962782582314, 177.6394369142455, 200.27800309435742, 701.6351119424345, 309.4239870270521, 222.06293861361738, 170.453994687469, 150.06521758627096, 147.51354080189978, 125.59702408379397, 119.47753654257386, 111.25632087887192, 106.65472021998808, 105.39896091093252, 138.60123533441197, 91.43590672407223, 86.73005708812944, 83.82757278199126, 75.77302098054831, 63.74760365307852, 62.404904369247554, 59.601491817777, 54.013208643276535, 52.46125884001102, 48.502904045206094, 94.90662054304197, 48.024683479186024, 44.47168384825041, 43.78387117286481, 42.42706529235318, 41.24120115425171, 139.74243392036732, 40.659590923342805, 70.8986660991249, 167.94954271105487, 60.19399022773568, 54.49802082749586, 420.19169553372257, 177.3534494626401, 79.4138625971708, 124.79457596251076, 228.16821814864605, 88.9276598970187, 1203.643360274368, 112.7488447088334, 80.5759248556289, 120.77182079103201, 82.45889665137831, 87.35915899412899, 86.85282130691567, 228.2107972789903, 203.05978966407704, 165.208226678345, 146.96124100119667, 133.31635470582836, 124.0880566825387, 120.17103365360455, 107.10607756343892, 114.28786154062291, 98.38053619629699, 94.96055528484239, 83.78079004117187, 82.49928087742279, 80.49012954893416, 77.49534304683478, 73.56152418408227, 72.31496372042214, 71.28168920655357, 57.05388928036524, 54.9883460932648, 52.19214662914397, 51.03821897368055, 46.985751831348054, 46.901493072655576, 45.11989699248263, 44.786721658054255, 43.79570608944445, 42.89051770899452, 42.36518930703324, 41.09599572423259, 327.8923457185006, 82.37417475999221, 47.635388497489096, 117.60693788325487, 87.85854299422238, 139.88780140391768, 67.55023184138922, 55.17880798467633, 48.444169610132704, 238.57030532629855, 227.49730379947235, 159.38344944781718, 150.07680615567077, 135.09576336000222, 107.0248819802717, 91.33818574666095, 83.31020409603883, 59.290302156435054, 58.10666648233336, 54.46885096899961, 48.8319376590315, 47.90200928348565, 47.41686422781391, 46.460315389767366, 45.11724044482637, 42.01579456111565, 41.87890255008187, 39.49392665607276, 35.897760218877075, 34.5547286674307, 31.696491749476962, 31.116265761289437, 29.36901802164111, 28.27124650179752, 28.10352485928473, 27.224847093786938, 26.899086343861313, 26.822028176111804, 25.701208924824723, 58.33312845206595, 67.40158774513259, 158.11285321049326, 42.408624296328824, 39.07631344963121, 176.82732185264572, 43.32529451281788, 56.485797956421756, 58.49814523341398, 53.618870767945076, 65.99243897238071, 45.209512371790304, 47.10995361195202, 125.73107346063634, 98.28482064250747, 95.73289958870339, 82.44846280179382, 78.58808036987593, 63.12032636815531, 59.33738167280196, 54.972461456790036, 57.33037824853684, 52.41377405050599, 58.71293411431086, 48.9991403936843, 48.52216844211683, 46.05867845129045, 45.92119532556658, 45.87390538923337, 44.47292172714983, 40.29441425577865, 40.20899903755303, 39.51402383338566, 36.9197585092231, 33.94765016060019, 32.745086723895824, 30.867375997903416, 30.54087686525502, 30.376716955678205, 27.581595838662377, 26.017131031707923, 26.04169432859427, 25.223596530421915, 47.31466998672723, 42.14311910333905, 58.623858890318154, 48.83307461928622, 162.3817164039943, 165.7533403348635, 132.28111560703027, 95.4907269889288, 60.86988864030935, 47.79256825248157, 50.73282257273009, 53.061837297117556, 78.28609662131112, 45.85031099569191, 125.57651771673056, 78.36417625996359, 65.79149676036586, 133.27060648065125, 60.4360533502328, 57.08364650806464, 54.42182083186628, 50.68732532823121, 49.11355403236452, 47.19768988518795, 44.406074160260296, 40.952685046027156, 40.65739425995088, 39.92837990333275, 38.33644919673218, 42.29487854712602, 31.748256061657475, 31.743294341980356, 42.79076859894708, 26.948317845813452, 24.951114923102047, 23.750028380060968, 22.093033499561315, 21.950476688351127, 21.597280378315755, 20.624672568929242, 19.302690423511887, 19.004938914446388, 18.71361508768988, 18.70573755222848, 99.22834443282073, 42.58918665495455, 57.49416034605841, 51.07846751716091, 50.34922360046031, 54.13681192106247, 41.10324826853451, 52.82141653906388, 50.50472840579545, 41.1949273162049, 31.8118844781987, 202.14084184455857, 64.26112979255792, 45.14036745225046, 42.508664956656816, 37.21456154547656, 36.96724915139597, 33.37035411804621, 32.56754000194027, 31.876690184836253, 26.47838033650823, 25.85927996009176, 25.157885871826497, 25.007216119379912, 19.39682769921563, 36.84078737800261, 16.32014426244936, 15.91337522328781, 14.95758292363693, 14.882366643510544, 14.55553856130564, 13.975422758440695, 13.706039510931923, 12.306463012540828, 12.110107408097365, 11.0991176098897, 10.97612267593518, 10.841470584213095, 10.827221083478825, 10.69958652646051, 10.504614543147614, 53.020122135213775, 91.75354988346292, 69.05482715533793, 56.40457681873469, 22.00141601241167, 31.39940917739224, 16.964311541166342, 20.84028595140219, 17.74953390289794, 15.985827854974183, 105.87355706649569, 97.60834798827273, 87.10677566272591, 58.483815042826066, 57.85635698435443, 52.44592060575392, 38.339829293064874, 34.59814955981592, 32.737180689326436, 28.4434826979194, 27.787120528024072, 26.08859104945803, 24.987024019619195, 24.643737600173, 23.304187131482266, 22.546026983844612, 22.092723320219353, 21.679596301975273, 21.62665523774786, 20.46492864474787, 19.42142466281504, 19.338399183824162, 18.978887357917163, 17.686796898101722, 17.52435518958684, 16.95283933955591, 15.598331798218947, 15.52722170731076, 14.69526538098775, 14.267736113747835, 84.39096138416927, 16.47041727979857, 102.06182212059767, 80.56516799474433, 56.823437008903575, 50.49820861777897, 39.597482889283896, 38.4607197633131, 38.78899319901073, 38.07799999890199, 30.71720416786443, 30.407444945501513, 29.394122824085024, 28.478691500220243, 27.568162807511808, 25.99875330835274, 24.190400370200138, 24.144063554110677, 23.49117485240669, 23.48456279616097, 22.494459225925162, 21.805893682989087, 21.653903000208683, 20.79186044073542, 19.21370324358563, 18.90060836306497, 18.73453543639825, 18.583970414142385, 17.958195473589416, 17.226350706240417, 16.939240226695055, 16.395711425275792, 25.236892176050954, 18.683631036469965, 21.681684576761285, 21.09217451967115, 28.705552722682043, 103.49988914884914, 70.45267870960272, 51.58641434516924, 39.854141412442914, 36.90534809671763, 34.23400549644625, 30.793777289251544, 28.76402132728602, 23.792417822438516, 23.070022697430435, 20.30676818547602, 19.99998088030846, 19.978595749205873, 19.81613252802123, 19.344445462166615, 18.869669796321936, 18.581941462899792, 17.075975061459065, 15.82748363529827, 125.0036993483418, 15.006730602532603, 13.934754403269002, 13.334013528895225, 12.932011083994377, 12.895180908864724, 12.491019918901332, 12.25422180212534, 11.768134215469946, 11.581050089665666, 11.45656581475192, 34.956803304576795, 16.576567248572548, 15.033131898013488], \"Total\": [2735.0, 3881.0, 2363.0, 702.0, 1545.0, 1375.0, 1700.0, 1142.0, 1094.0, 966.0, 505.0, 868.0, 1834.0, 379.0, 202.0, 239.0, 699.0, 310.0, 692.0, 228.0, 229.0, 636.0, 402.0, 303.0, 251.0, 203.0, 468.0, 131.0, 230.0, 321.0, 2735.9019857126564, 2363.1693456713215, 1545.7933490781786, 1375.1420000990959, 1142.288076052489, 966.3990425379308, 868.4107293954753, 699.3813738206302, 692.8869570989945, 636.4183496305337, 405.26216818485636, 375.7009737567419, 329.22530293838076, 281.1167152085145, 259.07186766950684, 266.315112114949, 172.8481300717996, 167.28189213196762, 157.72629131426663, 183.13259914489922, 318.72979571624955, 156.8640878467372, 124.80735008712858, 122.81124439022115, 119.36298402141328, 124.54167362350996, 96.6244334601296, 88.88629670956091, 92.74989821863463, 84.93981596225974, 1094.63533530951, 314.0118148208071, 1700.791543817091, 260.2871341873656, 468.58105243502513, 299.55377974905264, 1834.0527220997687, 402.98080489683156, 3881.324648799927, 186.4884449917576, 318.5990348260392, 702.4487865848407, 310.595401370043, 223.08431302922682, 171.26762019292883, 150.87885818710592, 148.3271818803865, 126.41063167223508, 120.29589242213, 112.07810089892088, 107.4683591954703, 106.212582728154, 139.72458420298193, 92.24957662487786, 87.5477492657717, 84.64417745118344, 76.58670380209122, 64.56439780284764, 63.218532916811924, 60.415164228775325, 54.82689155243633, 53.27490685298404, 49.316533910497064, 96.50252808156391, 48.83838452139758, 45.285363542478585, 44.59751862356779, 43.240680878111874, 42.0548007968877, 142.55772039158333, 41.48261177694457, 73.8159301272898, 183.64717608947782, 62.371652594927056, 56.275664184925695, 505.64864865182415, 200.4654383023012, 84.71154227290133, 146.81042895507179, 321.256521002722, 102.63634801490733, 3881.324648799927, 153.62230282673556, 97.4035383292685, 227.7417368418662, 113.78696034522467, 245.14544591847894, 303.74749081013084, 229.03702957027912, 203.87518240540226, 166.03148014728123, 147.77657187271245, 134.13169437642006, 124.90340982022292, 120.98636802209035, 107.92149404869946, 115.18131210980701, 99.20539221372047, 95.7827674347733, 84.59614008422851, 83.31459850049139, 81.3054488715297, 78.31070931810603, 74.3768953947531, 73.1303050537552, 72.09704097247626, 57.86930542773194, 55.80376714378617, 53.007536937087885, 51.8536119273162, 47.801101394699096, 47.716909776531644, 45.93525576313025, 45.60206085954915, 44.61810458683436, 43.70589497952761, 43.180588154679064, 41.911412556199714, 379.7100001376549, 106.84659085048803, 51.546091921571204, 318.5990348260392, 227.7417368418662, 1834.0527220997687, 185.43212227762595, 112.313004951915, 138.6921570992843, 239.40966593976728, 228.3145454771987, 160.21176792779545, 150.89405317902316, 135.91297798887453, 107.84215647500399, 92.15536730340736, 84.12782004050904, 60.107613203185785, 58.923863166706425, 55.28612198603593, 49.64925005675565, 48.71924248164636, 48.23407574916995, 47.27754298244727, 45.93447059493503, 42.83307524459548, 42.69615522938036, 40.31119489357704, 36.71500908969612, 35.37204851181839, 32.51372694963987, 31.933477583148917, 30.18627753441303, 29.08843210715602, 28.920764507261364, 28.042072344348277, 27.716313645750837, 27.63973912566233, 26.51846085405564, 60.378166113572355, 69.91675499450878, 177.12177265856795, 44.587700752465324, 42.569592756607, 251.74620062833586, 49.02315769640583, 68.73328132987662, 256.0039813957382, 193.67749289050408, 1700.791543817091, 230.73546688264747, 1834.0527220997687, 126.5497017032569, 99.12196034406178, 96.55153628050927, 83.26708804127158, 79.40676877290441, 63.939001619629, 60.15951522135564, 55.79109747850268, 58.233986238936886, 53.253676035466164, 59.68518567259152, 49.81794267389321, 49.35518966277318, 46.87729188213786, 46.739823793925986, 46.6925588284536, 45.29156119340526, 41.11301882404907, 41.02760694369143, 40.33269448839058, 37.73838949057202, 34.766300071943256, 33.56367838514275, 31.686037540567366, 31.35948304032907, 31.19534825443201, 28.400192722988734, 26.835768222665425, 26.864954260087647, 26.042225101121478, 49.31573309494816, 45.74765550818237, 66.49780842276296, 54.72263840053202, 256.0039813957382, 303.74749081013084, 251.53662981290762, 193.67749289050408, 105.66153143569665, 84.07128708269995, 143.21926834039905, 230.73546688264747, 3881.324648799927, 379.7100001376549, 126.39697648069318, 79.32418692647062, 66.61195872020255, 134.94878846808678, 61.25658573848684, 57.90414977674828, 55.242304227592484, 51.50785135326006, 49.93405673709357, 48.018181270179596, 45.22658174827752, 41.773165030163916, 41.4779424767626, 40.74884739722587, 39.1569380105643, 43.27168509373289, 32.568721695743726, 32.563800746864736, 43.98888302999524, 27.76880586623996, 25.771586583800655, 24.570543684298706, 22.913588435972198, 22.77098946876348, 22.417768439452193, 21.445179249041086, 20.123151370473224, 19.825385406483974, 19.534101262603052, 19.52626516563669, 108.77508035763499, 49.3923234638922, 69.51023327824286, 62.81944543045409, 62.69676487935169, 73.0501021156197, 52.356445548543924, 92.88602342437613, 303.74749081013084, 230.73546688264747, 92.63721925982557, 202.96668966860085, 65.08700522522159, 45.9662220914339, 43.334520947462835, 38.04044662991056, 37.79310404626532, 34.19627746889418, 33.39342361163143, 32.70252759726019, 27.304219011447888, 26.68513329633273, 25.983810523661695, 25.833100851354953, 20.222867863680282, 38.543075586368715, 17.14607699692681, 16.73926824723843, 15.783484121501523, 15.708264429483194, 15.381443257213986, 14.801341205406887, 14.531927382067128, 13.132319549849546, 12.935967973902603, 11.925051963201865, 11.801989680286809, 11.667324665022793, 11.653213147108794, 11.525469033341432, 11.33053417272078, 60.10899649676795, 143.21926834039905, 142.4055252282478, 112.313004951915, 43.98471438036163, 138.1253679172764, 34.0771952066041, 84.07128708269995, 65.46101963584107, 97.4035383292685, 106.70069875444106, 98.43608653460271, 87.93397062931443, 59.31100297301385, 58.683547009592886, 53.27312184795016, 39.16707478431815, 35.42535871457913, 33.56435433582149, 29.270724350481647, 28.61425569922224, 26.915732966390554, 25.81425786979686, 25.470903542542764, 24.131349749472832, 23.37319494409884, 22.91991122266277, 22.506788647080796, 22.453864993251518, 21.2921442692348, 20.248589480003094, 20.165590274609663, 19.806078552711014, 18.514114162754026, 18.351540172534634, 17.780078703348252, 16.425599213297097, 16.354429933940295, 15.52250507796692, 15.094906854035107, 230.73546688264747, 1094.63533530951, 102.88717791522535, 81.39052967239084, 57.648828575069665, 51.32359207501657, 40.422876596736934, 39.286104439661024, 39.6289844987107, 38.90335485069648, 31.542578371508192, 31.23284131881069, 30.219535271445423, 29.30409251480113, 28.393606275209397, 26.824185778127205, 25.015799436355238, 24.969427579129334, 24.316526720786463, 24.30992668673492, 23.332927267720034, 22.631257246803518, 22.47929490994776, 21.617222817825954, 20.03910098460904, 19.725988811462127, 19.559884187353777, 19.409357429912145, 18.783599786598568, 18.051782693331344, 17.764603649225183, 17.221395701397373, 41.82790607287416, 23.195379376728027, 39.19055078453425, 37.663340824356766, 402.98080489683156, 104.3319033339677, 71.28343598079732, 52.41890268990791, 40.684928775101994, 37.736174595444474, 35.064801849302796, 31.62452282866686, 29.59477879787622, 24.623173516326126, 23.90079273109678, 21.13756882798975, 20.830778426892586, 20.809344729144872, 20.64701037743574, 20.175260401533084, 19.700460074572195, 19.41272561402309, 17.906767323885013, 16.658299086414146, 131.573683269692, 15.837466143763393, 14.765498265540515, 14.164905128726014, 13.76276668716766, 13.725928632825847, 13.321801616877279, 13.085086820586376, 12.598916954614701, 12.411784186298217, 12.28736342598794, 88.10900806200652, 37.24130246217973, 54.50790256758007], \"Category\": [\"Default\", \"Default\", \"Default\", \"Default\", \"Default\", \"Default\", \"Default\", \"Default\", \"Default\", \"Default\", \"Default\", \"Default\", \"Default\", \"Default\", \"Default\", \"Default\", \"Default\", \"Default\", \"Default\", \"Default\", \"Default\", \"Default\", \"Default\", \"Default\", \"Default\", \"Default\", \"Default\", \"Default\", \"Default\", \"Default\", \"Topic1\", \"Topic1\", \"Topic1\", \"Topic1\", \"Topic1\", \"Topic1\", \"Topic1\", \"Topic1\", \"Topic1\", \"Topic1\", \"Topic1\", \"Topic1\", \"Topic1\", \"Topic1\", \"Topic1\", \"Topic1\", \"Topic1\", \"Topic1\", \"Topic1\", \"Topic1\", \"Topic1\", \"Topic1\", \"Topic1\", \"Topic1\", \"Topic1\", \"Topic1\", \"Topic1\", \"Topic1\", \"Topic1\", \"Topic1\", \"Topic1\", \"Topic1\", \"Topic1\", \"Topic1\", \"Topic1\", \"Topic1\", \"Topic1\", \"Topic1\", \"Topic1\", \"Topic1\", \"Topic1\", \"Topic2\", \"Topic2\", \"Topic2\", \"Topic2\", \"Topic2\", \"Topic2\", \"Topic2\", \"Topic2\", \"Topic2\", \"Topic2\", \"Topic2\", \"Topic2\", \"Topic2\", \"Topic2\", \"Topic2\", \"Topic2\", \"Topic2\", \"Topic2\", \"Topic2\", \"Topic2\", \"Topic2\", \"Topic2\", \"Topic2\", \"Topic2\", \"Topic2\", \"Topic2\", \"Topic2\", \"Topic2\", \"Topic2\", \"Topic2\", \"Topic2\", \"Topic2\", \"Topic2\", \"Topic2\", \"Topic2\", \"Topic2\", \"Topic2\", \"Topic2\", \"Topic2\", \"Topic2\", \"Topic2\", \"Topic2\", \"Topic2\", \"Topic2\", \"Topic2\", \"Topic2\", \"Topic2\", \"Topic3\", \"Topic3\", \"Topic3\", \"Topic3\", \"Topic3\", \"Topic3\", \"Topic3\", \"Topic3\", \"Topic3\", \"Topic3\", \"Topic3\", \"Topic3\", \"Topic3\", \"Topic3\", \"Topic3\", \"Topic3\", \"Topic3\", \"Topic3\", \"Topic3\", \"Topic3\", \"Topic3\", \"Topic3\", \"Topic3\", \"Topic3\", \"Topic3\", \"Topic3\", \"Topic3\", \"Topic3\", \"Topic3\", \"Topic3\", \"Topic3\", \"Topic3\", \"Topic3\", \"Topic3\", \"Topic3\", \"Topic3\", \"Topic3\", \"Topic3\", \"Topic3\", \"Topic4\", \"Topic4\", \"Topic4\", \"Topic4\", \"Topic4\", \"Topic4\", \"Topic4\", \"Topic4\", \"Topic4\", \"Topic4\", \"Topic4\", \"Topic4\", \"Topic4\", \"Topic4\", \"Topic4\", \"Topic4\", \"Topic4\", \"Topic4\", \"Topic4\", \"Topic4\", \"Topic4\", \"Topic4\", \"Topic4\", \"Topic4\", \"Topic4\", \"Topic4\", \"Topic4\", \"Topic4\", \"Topic4\", \"Topic4\", \"Topic4\", \"Topic4\", \"Topic4\", \"Topic4\", \"Topic4\", \"Topic4\", \"Topic4\", \"Topic4\", \"Topic4\", \"Topic4\", \"Topic4\", \"Topic4\", \"Topic4\", \"Topic5\", \"Topic5\", \"Topic5\", \"Topic5\", \"Topic5\", \"Topic5\", \"Topic5\", \"Topic5\", \"Topic5\", \"Topic5\", \"Topic5\", \"Topic5\", \"Topic5\", \"Topic5\", \"Topic5\", \"Topic5\", \"Topic5\", \"Topic5\", \"Topic5\", \"Topic5\", \"Topic5\", \"Topic5\", \"Topic5\", \"Topic5\", \"Topic5\", \"Topic5\", \"Topic5\", \"Topic5\", \"Topic5\", \"Topic5\", \"Topic5\", \"Topic5\", \"Topic5\", \"Topic5\", \"Topic5\", \"Topic5\", \"Topic5\", \"Topic5\", \"Topic5\", \"Topic5\", \"Topic5\", \"Topic5\", \"Topic5\", \"Topic5\", \"Topic6\", \"Topic6\", \"Topic6\", \"Topic6\", \"Topic6\", \"Topic6\", \"Topic6\", \"Topic6\", \"Topic6\", \"Topic6\", \"Topic6\", \"Topic6\", \"Topic6\", \"Topic6\", \"Topic6\", \"Topic6\", \"Topic6\", \"Topic6\", \"Topic6\", \"Topic6\", \"Topic6\", \"Topic6\", \"Topic6\", \"Topic6\", \"Topic6\", \"Topic6\", \"Topic6\", \"Topic6\", \"Topic6\", \"Topic6\", \"Topic6\", \"Topic6\", \"Topic6\", \"Topic6\", \"Topic6\", \"Topic6\", \"Topic6\", \"Topic6\", \"Topic6\", \"Topic6\", \"Topic6\", \"Topic7\", \"Topic7\", \"Topic7\", \"Topic7\", \"Topic7\", \"Topic7\", \"Topic7\", \"Topic7\", \"Topic7\", \"Topic7\", \"Topic7\", \"Topic7\", \"Topic7\", \"Topic7\", \"Topic7\", \"Topic7\", \"Topic7\", \"Topic7\", \"Topic7\", \"Topic7\", \"Topic7\", \"Topic7\", \"Topic7\", \"Topic7\", \"Topic7\", \"Topic7\", \"Topic7\", \"Topic7\", \"Topic7\", \"Topic7\", \"Topic7\", \"Topic7\", \"Topic7\", \"Topic7\", \"Topic7\", \"Topic7\", \"Topic7\", \"Topic7\", \"Topic7\", \"Topic7\", \"Topic8\", \"Topic8\", \"Topic8\", \"Topic8\", \"Topic8\", \"Topic8\", \"Topic8\", \"Topic8\", \"Topic8\", \"Topic8\", \"Topic8\", \"Topic8\", \"Topic8\", \"Topic8\", \"Topic8\", \"Topic8\", \"Topic8\", \"Topic8\", \"Topic8\", \"Topic8\", \"Topic8\", \"Topic8\", \"Topic8\", \"Topic8\", \"Topic8\", \"Topic8\", \"Topic8\", \"Topic8\", \"Topic8\", \"Topic8\", \"Topic8\", \"Topic8\", \"Topic9\", \"Topic9\", \"Topic9\", \"Topic9\", \"Topic9\", \"Topic9\", \"Topic9\", \"Topic9\", \"Topic9\", \"Topic9\", \"Topic9\", \"Topic9\", \"Topic9\", \"Topic9\", \"Topic9\", \"Topic9\", \"Topic9\", \"Topic9\", \"Topic9\", \"Topic9\", \"Topic9\", \"Topic9\", \"Topic9\", \"Topic9\", \"Topic9\", \"Topic9\", \"Topic9\", \"Topic9\", \"Topic9\", \"Topic9\", \"Topic9\", \"Topic9\", \"Topic9\", \"Topic9\", \"Topic9\", \"Topic10\", \"Topic10\", \"Topic10\", \"Topic10\", \"Topic10\", \"Topic10\", \"Topic10\", \"Topic10\", \"Topic10\", \"Topic10\", \"Topic10\", \"Topic10\", \"Topic10\", \"Topic10\", \"Topic10\", \"Topic10\", \"Topic10\", \"Topic10\", \"Topic10\", \"Topic10\", \"Topic10\", \"Topic10\", \"Topic10\", \"Topic10\", \"Topic10\", \"Topic10\", \"Topic10\", \"Topic10\", \"Topic10\", \"Topic10\", \"Topic10\", \"Topic10\", \"Topic10\"], \"logprob\": [30.0, 29.0, 28.0, 27.0, 26.0, 25.0, 24.0, 23.0, 22.0, 21.0, 20.0, 19.0, 18.0, 17.0, 16.0, 15.0, 14.0, 13.0, 12.0, 11.0, 10.0, 9.0, 8.0, 7.0, 6.0, 5.0, 4.0, 3.0, 2.0, 1.0, -2.4625, -2.609, -3.0336, -3.1507, -3.3363, -3.5037, -3.6107, -3.8274, -3.8367, -3.9218, -4.3739, -4.4498, -4.5821, -4.7405, -4.8224, -4.7953, -5.2287, -5.2616, -5.3207, -5.1715, -4.618, -5.3272, -5.5562, -5.5724, -5.601, -5.559, -5.814, -5.8982, -5.8557, -5.944, -3.3941, -4.6425, -2.9776, -4.837, -4.2611, -4.7095, -2.9902, -4.4963, -2.5254, -5.1966, -5.0767, -2.7934, -3.6121, -3.9438, -4.2083, -4.3357, -4.3529, -4.5137, -4.5637, -4.6349, -4.6772, -4.689, -4.4152, -4.8311, -4.884, -4.918, -5.019, -5.1918, -5.2131, -5.2591, -5.3576, -5.3867, -5.4652, -4.7939, -5.4751, -5.5519, -5.5675, -5.599, -5.6273, -4.407, -5.6415, -5.0855, -4.2231, -5.2492, -5.3486, -3.3061, -4.1686, -4.9721, -4.5201, -3.9167, -4.859, -2.2537, -4.6216, -4.9576, -4.5529, -4.9345, -4.8768, -4.8826, -3.4684, -3.5852, -3.7914, -3.9085, -4.0059, -4.0777, -4.1097, -4.2248, -4.1599, -4.3098, -4.3452, -4.4705, -4.4859, -4.5105, -4.5484, -4.6005, -4.6176, -4.632, -4.8547, -4.8915, -4.9437, -4.9661, -5.0488, -5.0506, -5.0893, -5.0967, -5.1191, -5.14, -5.1523, -5.1827, -3.106, -4.4874, -5.0351, -4.1313, -4.4229, -3.9578, -4.6858, -4.8881, -5.0182, -3.2596, -3.3072, -3.663, -3.7232, -3.8283, -4.0613, -4.2197, -4.3117, -4.6519, -4.672, -4.7367, -4.8459, -4.8652, -4.8753, -4.8957, -4.925, -4.9963, -4.9995, -5.0582, -5.1536, -5.1918, -5.2781, -5.2966, -5.3544, -5.3925, -5.3984, -5.4302, -5.4422, -5.4451, -5.4878, -4.6681, -4.5236, -3.671, -4.987, -5.0688, -3.5591, -4.9656, -4.7003, -4.6653, -4.7524, -4.5448, -4.923, -4.8818, -3.8169, -4.0632, -4.0895, -4.2389, -4.2868, -4.506, -4.5678, -4.6442, -4.6022, -4.6919, -4.5784, -4.7593, -4.769, -4.8211, -4.8241, -4.8252, -4.8562, -4.9549, -4.957, -4.9744, -5.0423, -5.1262, -5.1623, -5.2214, -5.232, -5.2374, -5.3339, -5.3923, -5.3914, -5.4233, -4.7942, -4.91, -4.5799, -4.7627, -3.5611, -3.5406, -3.7661, -4.092, -4.5423, -4.7842, -4.7245, -4.6796, -4.2907, -4.8257, -3.5391, -4.0107, -4.1855, -3.4796, -4.2704, -4.3275, -4.3753, -4.4463, -4.4779, -4.5177, -4.5786, -4.6596, -4.6668, -4.6849, -4.7256, -4.6274, -4.9142, -4.9143, -4.6157, -5.0781, -5.1551, -5.2044, -5.2768, -5.2832, -5.2995, -5.3455, -5.4118, -5.4273, -5.4428, -5.4432, -3.7746, -4.6204, -4.3203, -4.4387, -4.453, -4.3805, -4.6559, -4.4051, -4.45, -4.6537, -4.9122, -2.5437, -3.6897, -4.0429, -4.1029, -4.236, -4.2426, -4.345, -4.3693, -4.3908, -4.5763, -4.6, -4.6275, -4.6335, -4.8875, -4.2461, -5.0603, -5.0855, -5.1474, -5.1525, -5.1747, -5.2154, -5.2348, -5.3425, -5.3586, -5.4458, -5.4569, -5.4693, -5.4706, -5.4825, -5.5008, -3.882, -3.3335, -3.6178, -3.8201, -4.7615, -4.4059, -5.0215, -4.8158, -4.9763, -5.081, -3.1568, -3.238, -3.3519, -3.7503, -3.761, -3.8592, -4.1725, -4.2752, -4.3305, -4.4711, -4.4944, -4.5575, -4.6006, -4.6145, -4.6704, -4.7034, -4.7238, -4.7426, -4.7451, -4.8003, -4.8526, -4.8569, -4.8757, -4.9462, -4.9554, -4.9886, -5.0718, -5.0764, -5.1315, -5.161, -3.3835, -5.0174, -3.1772, -3.4137, -3.7628, -3.8808, -4.124, -4.1531, -4.1446, -4.1631, -4.3779, -4.3881, -4.4219, -4.4536, -4.4861, -4.5447, -4.6168, -4.6187, -4.6461, -4.6464, -4.6895, -4.7206, -4.7276, -4.7682, -4.8471, -4.8635, -4.8724, -4.8804, -4.9147, -4.9563, -4.9731, -5.0057, -4.5744, -4.8751, -4.7263, -4.7538, -4.4457, -3.0543, -3.4389, -3.7506, -4.0086, -4.0855, -4.1606, -4.2665, -4.3347, -4.5245, -4.5553, -4.6829, -4.6981, -4.6992, -4.7074, -4.7314, -4.7563, -4.7717, -4.8562, -4.9321, -2.8655, -4.9854, -5.0595, -5.1035, -5.1341, -5.137, -5.1688, -5.188, -5.2285, -5.2445, -5.2553, -4.1397, -4.8859, -4.9836], \"loglift\": [30.0, 29.0, 28.0, 27.0, 26.0, 25.0, 24.0, 23.0, 22.0, 21.0, 20.0, 19.0, 18.0, 17.0, 16.0, 15.0, 14.0, 13.0, 12.0, 11.0, 10.0, 9.0, 8.0, 7.0, 6.0, 5.0, 4.0, 3.0, 2.0, 1.0, 0.8727, 0.8726, 0.8725, 0.8724, 0.8723, 0.8721, 0.8721, 0.8718, 0.8718, 0.8717, 0.871, 0.8708, 0.8705, 0.8701, 0.8699, 0.8694, 0.8683, 0.8681, 0.8678, 0.8676, 0.867, 0.8668, 0.8664, 0.8664, 0.8662, 0.8658, 0.8645, 0.8638, 0.8637, 0.8634, 0.8571, 0.8575, 0.833, 0.8506, 0.8386, 0.8375, 0.7449, 0.7542, 0.46, 0.8244, 0.4088, 1.9014, 1.8988, 1.898, 1.8978, 1.8972, 1.8971, 1.8961, 1.8958, 1.8952, 1.895, 1.8949, 1.8945, 1.8937, 1.8932, 1.8929, 1.8919, 1.8899, 1.8896, 1.889, 1.8876, 1.8872, 1.886, 1.8859, 1.8858, 1.8845, 1.8842, 1.8836, 1.8831, 1.8827, 1.8826, 1.8623, 1.8132, 1.8671, 1.8705, 1.7175, 1.7801, 1.838, 1.7401, 1.5604, 1.7592, 0.7318, 1.5933, 1.7129, 1.2683, 1.5806, 0.8708, 0.6506, 2.3471, 2.3467, 2.3458, 2.3452, 2.3446, 2.3442, 2.344, 2.3431, 2.3429, 2.3424, 2.3421, 2.341, 2.3409, 2.3406, 2.3403, 2.3397, 2.3395, 2.3393, 2.3365, 2.336, 2.3352, 2.3349, 2.3335, 2.3335, 2.3328, 2.3327, 2.3321, 2.3319, 2.3317, 2.3311, 2.204, 2.0906, 2.2718, 1.3541, 1.3982, -0.2227, 1.3409, 1.64, 1.2989, 2.5116, 2.5115, 2.5099, 2.5096, 2.509, 2.5075, 2.5062, 2.5053, 2.5014, 2.5011, 2.5002, 2.4985, 2.4981, 2.498, 2.4976, 2.4971, 2.4958, 2.4957, 2.4946, 2.4926, 2.4917, 2.4896, 2.4891, 2.4876, 2.4866, 2.4864, 2.4855, 2.4851, 2.485, 2.4838, 2.4806, 2.4784, 2.4015, 2.465, 2.4294, 2.1618, 2.3915, 2.3188, 1.0389, 1.2308, -0.7342, 0.8851, -1.1467, 2.5918, 2.5898, 2.5898, 2.5884, 2.5879, 2.5854, 2.5846, 2.5835, 2.5827, 2.5824, 2.5819, 2.5817, 2.5813, 2.5807, 2.5806, 2.5806, 2.5801, 2.5782, 2.5782, 2.5778, 2.5764, 2.5745, 2.5736, 2.5721, 2.5719, 2.5717, 2.5691, 2.5673, 2.5672, 2.5664, 2.5569, 2.5162, 2.4723, 2.4844, 2.1431, 1.9926, 1.9557, 1.8911, 2.0468, 2.0335, 1.5605, 1.1285, -1.3052, 0.4843, 2.8708, 2.8652, 2.865, 2.8648, 2.8639, 2.8631, 2.8624, 2.8613, 2.8608, 2.8601, 2.859, 2.8575, 2.8574, 2.857, 2.8562, 2.8545, 2.8518, 2.8518, 2.8497, 2.8474, 2.845, 2.8434, 2.8409, 2.8407, 2.8401, 2.8383, 2.8357, 2.8351, 2.8344, 2.8344, 2.7855, 2.7292, 2.6876, 2.6705, 2.658, 2.5777, 2.6354, 2.3129, 1.0832, 1.1544, 1.8085, 3.3926, 3.384, 3.3786, 3.3775, 3.3748, 3.3746, 3.3723, 3.3717, 3.3711, 3.366, 3.3653, 3.3644, 3.3642, 3.355, 3.3515, 3.3474, 3.3461, 3.343, 3.3427, 3.3415, 3.3393, 3.3382, 3.3318, 3.3307, 3.3249, 3.3242, 3.3233, 3.3232, 3.3224, 3.321, 3.2712, 2.9515, 2.6729, 2.708, 2.704, 1.9153, 2.6992, 2.0019, 2.0916, 1.5896, 3.4226, 3.4219, 3.4209, 3.4163, 3.4162, 3.4147, 3.409, 3.4067, 3.4054, 3.4017, 3.401, 3.3992, 3.3978, 3.3974, 3.3955, 3.3943, 3.3936, 3.3929, 3.3928, 3.3907, 3.3887, 3.3885, 3.3877, 3.3847, 3.3843, 3.3827, 3.3787, 3.3785, 3.3756, 3.374, 2.4246, -0.7662, 3.4386, 3.4364, 3.4322, 3.4304, 3.426, 3.4254, 3.4252, 3.4252, 3.4201, 3.4198, 3.4189, 3.4181, 3.4171, 3.4154, 3.4131, 3.413, 3.4121, 3.4121, 3.41, 3.4095, 3.4092, 3.4077, 3.4046, 3.4039, 3.4035, 3.4032, 3.4017, 3.3998, 3.3991, 3.3975, 2.9414, 3.2303, 2.8547, 2.8668, 0.8048, 3.5475, 3.5438, 3.5395, 3.5349, 3.5333, 3.5315, 3.5289, 3.5271, 3.5212, 3.5201, 3.5154, 3.5148, 3.5148, 3.5145, 3.5135, 3.5124, 3.5118, 3.508, 3.5044, 3.5043, 3.5016, 3.4976, 3.4951, 3.4933, 3.4931, 3.4911, 3.4899, 3.4873, 3.4862, 3.4855, 2.6311, 2.7461, 2.2674]}, \"token.table\": {\"Topic\": [6, 7, 2, 3, 1, 2, 4, 5, 8, 3, 5, 3, 5, 6, 7, 10, 5, 10, 8, 2, 3, 5, 7, 4, 6, 3, 7, 6, 8, 6, 3, 4, 6, 9, 5, 6, 7, 10, 5, 1, 2, 4, 9, 8, 2, 2, 1, 2, 1, 1, 8, 2, 6, 3, 7, 4, 1, 8, 8, 5, 6, 8, 4, 1, 4, 7, 3, 8, 4, 7, 9, 8, 5, 1, 3, 3, 5, 8, 4, 6, 7, 5, 7, 8, 1, 3, 1, 7, 5, 1, 3, 5, 9, 4, 8, 4, 6, 7, 1, 1, 10, 9, 10, 3, 8, 9, 1, 5, 6, 7, 2, 6, 9, 8, 2, 4, 5, 6, 7, 4, 9, 8, 3, 2, 4, 2, 6, 4, 2, 2, 8, 2, 6, 7, 6, 6, 2, 3, 6, 4, 9, 3, 2, 5, 7, 4, 2, 7, 5, 7, 10, 10, 1, 9, 4, 4, 8, 1, 6, 6, 1, 10, 6, 1, 3, 6, 7, 3, 4, 6, 7, 6, 4, 5, 2, 5, 6, 9, 1, 4, 5, 6, 1, 3, 4, 8, 10, 1, 10, 4, 2, 3, 4, 7, 3, 2, 4, 5, 10, 1, 9, 10, 2, 5, 6, 1, 9, 9, 8, 10, 5, 9, 10, 9, 7, 1, 9, 7, 2, 1, 3, 4, 5, 6, 7, 5, 9, 3, 7, 2, 10, 2, 8, 4, 4, 4, 4, 4, 6, 10, 4, 10, 5, 1, 5, 7, 7, 6, 7, 8, 2, 10, 2, 4, 5, 6, 8, 8, 2, 2, 4, 9, 3, 1, 1, 3, 5, 10, 2, 9, 3, 3, 10, 1, 5, 5, 2, 3, 4, 5, 7, 8, 10, 2, 6, 9, 7, 9, 9, 10, 9, 9, 3, 9, 1, 3, 3, 2, 5, 7, 2, 5, 6, 2, 3, 1, 6, 2, 5, 6, 2, 5, 6, 8, 9, 5, 2, 3, 4, 5, 6, 6, 6, 4, 5, 2, 7, 4, 10, 8, 8, 2, 1, 9, 3, 3, 3, 1, 4, 4, 2, 4, 10, 3, 5, 6, 9, 10, 4, 5, 8, 8, 2, 10, 7, 1, 1, 2, 3, 6, 8, 5, 8, 1, 5, 10, 5, 10, 6, 8, 1, 8, 3, 6, 9, 7, 1, 2, 4, 5, 6, 4, 7, 4, 4, 5, 1, 9, 4, 3, 3, 1, 2, 2, 6, 9, 7, 5, 10, 1, 5, 6, 9, 6, 9, 2, 5, 10, 4, 9, 2, 1, 7, 10, 1, 5, 4, 5, 3, 3, 5, 7, 3, 4, 5, 6, 7, 6, 5, 4, 6, 9, 7, 6, 1, 1, 6, 5, 3, 4, 6, 7, 2, 5, 10, 4, 8, 2, 7, 7, 2, 4, 5, 6, 10, 6, 2, 5, 5, 7, 5, 9, 3, 6, 10, 8, 3, 9, 8, 5, 8, 5, 2, 4, 7, 1, 6, 3, 5, 7, 9, 3, 2, 5, 8, 9, 3, 2, 4, 2, 7, 3, 4, 1, 2, 3, 2, 7, 4, 6, 8, 10, 6, 1, 2, 4, 6, 7, 5, 10], \"Freq\": [0.9901403118181532, 0.9785176361316166, 0.9912583742425498, 0.9949326280324993, 0.5099013752087718, 0.3548913571453052, 0.08566343103507366, 0.02855447701169122, 0.020396055008350872, 0.10526662706682255, 0.8872472852775044, 0.279912941059083, 0.1399564705295415, 0.5705917644665923, 0.9952372003988476, 0.9471126032893853, 0.9917512456677958, 0.9831650491785756, 0.9808441052233449, 0.19654347258852276, 0.7674554643932794, 0.028077638941217536, 0.9503605087780208, 0.1913974353077352, 0.7974893137822301, 0.09981866858021193, 0.8817315724585387, 0.9661415912636954, 0.9684570490500307, 0.9726580068658925, 0.9312054165625848, 0.0388002256901077, 0.01940011284505385, 0.9417352451445202, 0.26684357885056453, 0.18959938497276954, 0.4845317615970777, 0.056177595547487275, 0.99565623864886, 0.8883797829816057, 0.03225960105799127, 0.007444523321074908, 0.07196372543705744, 0.927465146713216, 0.9749184212765131, 0.9937434226423243, 0.1681009139975546, 0.8306162809290933, 0.9953952425545878, 0.9838893056521661, 0.014616739916838123, 0.64768783518549, 0.345433512098928, 0.4897028623136507, 0.4986065507193534, 0.9924364611696841, 0.993815414895067, 0.9840332079122515, 0.9702026564213718, 0.9847828467275865, 0.7830936491283688, 0.21009829610761113, 0.9607014302091191, 0.960729141640021, 0.03880546104543536, 0.9276460813917558, 0.9845439581726844, 0.9565871915137373, 0.18585711853455977, 0.23895915240157686, 0.5575713556036793, 0.9831859022171272, 0.9841714466621047, 0.6489191738186935, 0.34609022603663653, 0.9839438944173048, 0.9783489008466573, 0.9659777808193438, 0.9161468897056108, 0.07047283766966236, 0.9726489375891691, 0.3560973365593853, 0.6423716659502637, 0.9797867764241066, 0.9956506636875023, 0.9915628115958625, 0.9993426499553688, 0.9650173189177581, 0.9764584132251972, 0.6277482921729616, 0.3703714923820473, 0.9885367038778424, 0.9721068414397226, 0.9940749608073525, 0.9593014563399942, 0.08273953896801957, 0.9101349286482152, 0.9832991974133668, 0.9994546983449862, 0.996027574498065, 0.9623111776571002, 0.9458587677465854, 0.8952286685632536, 0.9855965432993951, 0.9561262513871015, 0.9582827681860194, 0.9933943801787115, 0.9779585382868605, 0.97045381816494, 0.9331580630874208, 0.9849181390915535, 0.981491346667038, 0.9887451559536068, 0.978533228133593, 0.14973345414170144, 0.2788140180569613, 0.4905061428779875, 0.030979335339662368, 0.046469003009493554, 0.992190841665901, 0.9786783832914768, 0.9383369650890416, 0.9832627066014458, 0.9828334919425875, 0.9768543717886121, 0.9619754728910301, 0.016032924548183836, 0.9628389681207601, 0.9941750739787808, 0.9325765755214162, 0.059023833893760515, 0.9844301687071454, 0.010362422828496268, 0.9439456621223085, 0.9794865201294211, 0.958367245349287, 0.9931281453245213, 0.9918472796711258, 0.9441861093326949, 0.9729778050665284, 0.9569591495356254, 0.9867975076520457, 0.4164240230303444, 0.577315122837523, 0.9882185302050194, 0.9796564413863503, 0.9820583523322506, 0.014029405033317864, 0.9729278253972922, 0.9922804973921738, 0.9872339783766403, 0.9170745417692421, 0.9987199108167543, 0.9593936848214818, 0.9982888496245163, 0.9852369937419015, 0.9955698509565452, 0.994491487130047, 0.9826862732870941, 0.9706116114734559, 0.9958626628234517, 0.9471212038490654, 0.9812941948215534, 0.9950932065539425, 0.9918276799080131, 0.025944997506988355, 0.9599649077585691, 0.19859146820991877, 0.2749728021368106, 0.24442026856605387, 0.2749728021368106, 0.9767793626535297, 0.9815728300599519, 0.9886810113503876, 0.9147976221433751, 0.05445223941329613, 0.005445223941329613, 0.021780895765318452, 0.9840394068494934, 0.012738374198698945, 0.15825008032943932, 0.8200231435252765, 0.011291666574810861, 0.022583333149621722, 0.8920416594100581, 0.06774999944886517, 0.9177611767858846, 0.9988723719703524, 0.9604822147207677, 0.968162511505179, 0.5313035795630954, 0.3864026033186148, 0.06586408011112753, 0.017563754696300674, 0.984975771065455, 0.9716163580916627, 0.3669192733146092, 0.3485733096488787, 0.2751894549859569, 0.9994867689923419, 0.9713758945609829, 0.9524628222590727, 0.7206449645127665, 0.24607389032143245, 0.01757670645153089, 0.9991695402372892, 0.929076845885478, 0.9742108449252352, 0.9778961253848574, 0.9686632415246503, 0.4027786089176982, 0.1342595363058994, 0.4564824234400579, 0.9841281701596173, 0.9677506445645585, 0.9995870830574471, 0.9714476358490888, 0.9522337917484084, 0.9948141967491612, 0.8794730819696993, 0.07633368349396026, 0.02562630803011523, 0.010904811927708608, 0.0005452405963854304, 0.006542887156625165, 0.9807259879490513, 0.9461155640814951, 0.9835380430487134, 0.9789797366963956, 0.9923393517025183, 0.9417474482042483, 0.9713075545315962, 0.9598641018402734, 0.9843210693078177, 0.9767369831734486, 0.9804490593587242, 0.9674731821510466, 0.9625819603082609, 0.9730483448231135, 0.9819953126117117, 0.9869232655878293, 0.9445775181323927, 0.9851676831206011, 0.9935312296385993, 0.47743858965186586, 0.500173760587669, 0.9544080130863802, 0.8705806284135379, 0.12147636675537737, 0.9531170132952241, 0.9885834361898764, 0.9601177445284499, 0.026003804621209846, 0.19502853465907385, 0.2297002741540203, 0.17769266491160063, 0.3640532646969379, 0.9893787278951433, 0.9807250680996447, 0.9948634095578824, 0.433778032196187, 0.561359806371536, 0.9847838280506537, 0.9995051790624048, 0.6309586417008672, 0.3667110054329827, 0.9788098614119635, 0.9007790646572383, 0.9866019760289527, 0.960527404272112, 0.9861467762344895, 0.04560182439904455, 0.9500380083134281, 0.996885551418457, 0.9599794143136949, 0.9616818429247, 0.25339299020699496, 0.06515819748179871, 0.1375561946837973, 0.17375519328479655, 0.22443379132619556, 0.10859699580299785, 0.02895919888079943, 0.9618519996641111, 0.027094422525749607, 0.9861375032324423, 0.9224278463476406, 0.9827985409081746, 0.9789092744883313, 0.9481562862441952, 0.9611754183768462, 0.9767795128681477, 0.9947449594826077, 0.9692745276615532, 0.991914835131496, 0.9897438908433269, 0.9927671324463982, 0.992389583423444, 0.9678036205938129, 0.9320462310159113, 0.9951394474380422, 0.95304271173482, 0.02027750450499617, 0.7355702780178225, 0.2603788594753354, 0.9995270332556102, 0.9813644056240238, 0.28642211913573545, 0.546506572144047, 0.16790262156232766, 0.9967516049338334, 0.0074102184343543325, 0.9855590517691263, 0.17244813870184889, 0.8191286588337822, 0.9714834031026222, 0.997794187982009, 0.12109186673967903, 0.2265589764806898, 0.6328026584460646, 0.011718567749001197, 0.990813080234241, 0.9700605711141721, 0.8771364804016404, 0.10199261400019075, 0.9956418875380947, 0.9558362864899789, 0.9805254279537471, 0.992008556676854, 0.9934330443697127, 0.9761019853204052, 0.9892274590924304, 0.9962782236740471, 0.991377177086572, 0.995707263654769, 0.9929531053824092, 0.9782538334880126, 0.9900288712392089, 0.9932826283230343, 0.983695130729211, 0.29394683937752647, 0.7030890617543539, 0.9644444814019194, 0.12320311319695754, 0.12320311319695754, 0.7392186791817452, 0.955497938926365, 0.9668231271090905, 0.9419637992362222, 0.022427709505624338, 0.981512099020899, 0.977482853950089, 0.9883659259561665, 0.9696333133756474, 0.9395304428667846, 0.9950618194194653, 0.024941955293360928, 0.8829452173849768, 0.08480264799742715, 0.9775197058465671, 0.9740892732270882, 0.9804339957126023, 0.9783282000429285, 0.9796873010881909, 0.019209554923297862, 0.9746915840919962, 0.9688561841892964, 0.9461826079788602, 0.9601289672054182, 0.9393135678165665, 0.998134224274873, 0.9722312308201977, 0.9914614409592621, 0.9723140465620584, 0.9895386812533012, 0.954911350476515, 0.661629786829093, 0.31020337357563393, 0.00025764399798640695, 0.02009623184293974, 0.007729319939592208, 0.9744148565095873, 0.9621375578164024, 0.9707680574181652, 0.9741555224512819, 0.9749532809675744, 0.9667484368946274, 0.032011537645517466, 0.9894818500066773, 0.9809925720886884, 0.9838489755247373, 0.28637550986621213, 0.7097132201032214, 0.9595621976588725, 0.01776967032701616, 0.9481463272525491, 0.9428039688461443, 0.9858203635659345, 0.9787394298858811, 0.9544827295217525, 0.042898100203224834, 0.8118505289331293, 0.17510501604440043, 0.9825377949722218, 0.9952017799372632, 0.9993611113103026, 0.9928033978756831, 0.9799025766694055, 0.9841996904742549, 0.9631963285389131, 0.990380806863482, 0.9923369342872069, 0.9743252810947403, 0.961106669158528, 0.9996703150487968, 0.9948774042919725, 0.9606121506059163, 0.016562278458722695, 0.9954722187402413, 0.8638171232811654, 0.12114508436260248, 0.01316794395245679, 0.15463067654967683, 0.011894667426898218, 0.5709440364911145, 0.011894667426898218, 0.24978801596486255, 0.9728791851857291, 0.9885200043382596, 0.9805506553092848, 0.9787959218103099, 0.9596441420924905, 0.9708280150183414, 0.9816228569626523, 0.9969589900555086, 0.9889355074341423, 0.9792410572151785, 0.9859088025601743, 0.9796396961855837, 0.9874628322015853, 0.9884771893632294, 0.9137761196297939, 0.4880318249609489, 0.1134957732467323, 0.397235206363563, 0.8147435844250639, 0.17458791094822798, 0.9864543917642125, 0.9633959509924648, 0.9752010750333792, 0.24250941123514164, 0.11926692355826637, 0.524774463656372, 0.10336466708383085, 0.003975564118608879, 0.9833066435625988, 0.9760692804869235, 0.9812853548719579, 0.8954246621179657, 0.09136986348142508, 0.9835813638622647, 0.9672631211975641, 0.9842212706518219, 0.9843854062233145, 0.9802519446048134, 0.9663388689298238, 0.9878495292763556, 0.9428735515082981, 0.9879928184212267, 0.99428764883754, 0.9883519820388302, 0.9853141025689595, 0.8671391930963217, 0.12666078101406947, 0.9790145830494784, 0.9945728459042796, 0.0031374537725687053, 0.9832409427539271, 0.9180798345499461, 0.04371808735952124, 0.02185904367976062, 0.9937874423189733, 0.993581586429583, 0.3347047776096817, 0.047814968229954534, 0.5976871028744316, 0.9849781257731262, 0.8514381497942056, 0.14304160916542655, 0.831591966671508, 0.16426507983634725, 0.972659284990514, 0.9865939704610678, 0.9647683305552214, 0.023368091051510553, 0.00667659744328873, 0.46952220988243853, 0.49886734800009097, 0.9942423927724309, 0.9968592881590501, 0.9421990500284414, 0.9804915415158868, 0.9775117232171504, 0.9935375200891888, 0.9925985998316501, 0.9582824604096992, 0.028605446579394008, 0.9458602302125054, 0.9832057029424919, 0.9493617520413348], \"Term\": [\"absolutely\", \"accommodating\", \"air_conditioning\", \"airport\", \"also\", \"also\", \"also\", \"also\", \"also\", \"although\", \"although\", \"always\", \"always\", \"always\", \"amazing\", \"ambience\", \"amenity\", \"amsterdam\", \"appointed\", \"around\", \"around\", \"around\", \"arrival\", \"asked\", \"asked\", \"atmosphere\", \"atmosphere\", \"attitude\", \"attraction\", \"average\", \"away\", \"away\", \"away\", \"baby\", \"back\", \"back\", \"back\", \"back\", \"bad\", \"bar\", \"bar\", \"bar\", \"bar\", \"basement\", \"basic\", \"bath\", \"bathroom\", \"bathroom\", \"beautiful\", \"bed\", \"bed\", \"bedroom\", \"bedroom\", \"best\", \"best\", \"better\", \"big\", \"birthday\", \"book\", \"booked\", \"booking\", \"booking\", \"bottle\", \"breakfast\", \"breakfast\", \"breakfast_included_price\", \"bus\", \"business\", \"busy\", \"busy\", \"busy\", \"car\", \"carpet\", \"central\", \"central\", \"centre\", \"changed\", \"channel\", \"charge\", \"charge\", \"charged\", \"check\", \"check\", \"chocolate\", \"choice\", \"city\", \"clean\", \"cleaned\", \"cleaning\", \"close\", \"close\", \"closed\", \"cocktail\", \"coffee\", \"coffee_machine\", \"cold\", \"cold\", \"come\", \"comfortable\", \"comfy\", \"coming\", \"complaint\", \"complete\", \"concierge\", \"confusing\", \"connection\", \"convenient\", \"cooked\", \"cool\", \"corner\", \"cost\", \"curtain\", \"customer\", \"dated\", \"day\", \"day\", \"day\", \"day\", \"day\", \"decor\", \"decoration\", \"deluxe\", \"design\", \"difficult\", \"dinner\", \"dirty\", \"dirty\", \"disappointing\", \"door\", \"double\", \"double\", \"drink\", \"drink\", \"driver\", \"due\", \"dust\", \"early\", \"easy\", \"easy_access\", \"eat\", \"else\", \"enjoyed\", \"enough\", \"enough\", \"entrance\", \"euro\", \"even\", \"even\", \"evening\", \"ever\", \"every\", \"everyday\", \"excellent\", \"expect\", \"expensive\", \"experience\", \"extra\", \"extremely\", \"fab\", \"fabulous\", \"facility\", \"fairly\", \"family\", \"fantastic\", \"far\", \"fault\", \"fault\", \"feel\", \"feel\", \"feel\", \"feel\", \"feeling\", \"felt\", \"first\", \"floor\", \"floor\", \"floor\", \"floor\", \"food\", \"food\", \"found\", \"found\", \"free\", \"free\", \"free\", \"free\", \"french\", \"friendly\", \"fully\", \"general\", \"get\", \"get\", \"get\", \"get\", \"getting\", \"glass\", \"going\", \"going\", \"going\", \"good\", \"good_value_money\", \"gorgeous\", \"got\", \"got\", \"got\", \"great\", \"great_value_money\", \"gym\", \"hard\", \"head\", \"hear\", \"hear\", \"hear\", \"help\", \"helped\", \"helpful\", \"helpfull\", \"home\", \"hot\", \"hotel\", \"hotel\", \"hotel\", \"hotel\", \"hotel\", \"hotel\", \"hour\", \"housekeeping\", \"huge\", \"ideal\", \"included\", \"including\", \"inside\", \"instead\", \"internet\", \"issue\", \"keep\", \"kept\", \"kettle\", \"kid\", \"kind\", \"know\", \"knowledgeable\", \"lack\", \"large\", \"late\", \"late\", \"leaving\", \"left\", \"left\", \"level\", \"lift\", \"lighting\", \"like\", \"like\", \"like\", \"like\", \"like\", \"liked\", \"limited\", \"little\", \"local\", \"local\", \"located\", \"location\", \"london\", \"london\", \"long\", \"longer\", \"looked\", \"looking\", \"love\", \"loved\", \"loved\", \"lovely\", \"low\", \"luggage\", \"made\", \"made\", \"made\", \"made\", \"made\", \"made\", \"made\", \"make\", \"make\", \"making\", \"man\", \"mattress\", \"maybe\", \"meal\", \"member\", \"menu\", \"metro\", \"milk\", \"min\", \"minute\", \"modern\", \"morning\", \"move\", \"movie\", \"need\", \"never\", \"never\", \"next\", \"next\", \"nice\", \"nicely\", \"night\", \"night\", \"night\", \"noise\", \"noisy\", \"noisy\", \"offer\", \"offer\", \"offered\", \"old\", \"one\", \"one\", \"one\", \"one\", \"open\", \"opened\", \"option\", \"option\", \"outside\", \"overnight\", \"overpriced\", \"paris\", \"parking\", \"pay\", \"people\", \"perfect\", \"pillow\", \"place\", \"pleasant\", \"plus\", \"polite\", \"poor\", \"position\", \"price\", \"price\", \"priced\", \"problem\", \"problem\", \"problem\", \"properly\", \"property\", \"provided\", \"provided\", \"proximity\", \"pub\", \"put\", \"quick\", \"quickly\", \"quiet\", \"quite\", \"quite\", \"quite\", \"rate\", \"reach\", \"ready\", \"real\", \"reception\", \"reception\", \"relaxing\", \"renovation\", \"request\", \"requested\", \"reservation\", \"restaurant\", \"return\", \"right\", \"river\", \"road\", \"roof\", \"room\", \"room\", \"room\", \"room\", \"room\", \"rude\", \"run\", \"safe\", \"said\", \"second\", \"service\", \"service\", \"several\", \"shopping\", \"short\", \"shower\", \"shower\", \"side\", \"side\", \"sight\", \"since\", \"single\", \"situated\", \"size\", \"size\", \"sleep\", \"sleep\", \"slightly\", \"slow\", \"small\", \"smell\", \"soft\", \"something\", \"sometimes\", \"space\", \"spacious\", \"special\", \"spotless\", \"staff\", \"standard\", \"star\", \"star\", \"station\", \"stay\", \"stay\", \"stay\", \"stayed\", \"stayed\", \"stayed\", \"stayed\", \"stayed\", \"staying\", \"still\", \"stop\", \"style\", \"stylish\", \"suitable\", \"suite\", \"super\", \"superb\", \"surprise\", \"swimming_pool\", \"taxi\", \"tea\", \"thank\", \"thanks\", \"thing\", \"thing\", \"thing\", \"think\", \"think\", \"though\", \"tidy\", \"till\", \"time\", \"time\", \"time\", \"time\", \"time\", \"tiny\", \"tired\", \"toilet\", \"told\", \"told\", \"took\", \"top\", \"train\", \"tram\", \"trip\", \"trying\", \"tube\", \"turn\", \"twin\", \"two\", \"uncomfortable\", \"upgraded\", \"use\", \"use\", \"value_money\", \"view\", \"view\", \"visit\", \"wait\", \"wait\", \"wait\", \"walk\", \"wall\", \"want\", \"want\", \"want\", \"wanted\", \"water\", \"water\", \"way\", \"way\", \"welcome\", \"welcoming\", \"well\", \"well\", \"well\", \"went\", \"went\", \"wifi\", \"window\", \"wine\", \"within\", \"without\", \"wonderful\", \"work\", \"working\", \"working\", \"worst\", \"year\", \"yet\"]}, \"R\": 30, \"lambda.step\": 0.01, \"plot.opts\": {\"xlab\": \"PC1\", \"ylab\": \"PC2\"}, \"topic.order\": [6, 7, 1, 2, 4, 8, 5, 10, 9, 3]};\n",
              "\n",
              "function LDAvis_load_lib(url, callback){\n",
              "  var s = document.createElement('script');\n",
              "  s.src = url;\n",
              "  s.async = true;\n",
              "  s.onreadystatechange = s.onload = callback;\n",
              "  s.onerror = function(){console.warn(\"failed to load library \" + url);};\n",
              "  document.getElementsByTagName(\"head\")[0].appendChild(s);\n",
              "}\n",
              "\n",
              "if(typeof(LDAvis) !== \"undefined\"){\n",
              "   // already loaded: just create the visualization\n",
              "   !function(LDAvis){\n",
              "       new LDAvis(\"#\" + \"ldavis_el661398536436283683106186797\", ldavis_el661398536436283683106186797_data);\n",
              "   }(LDAvis);\n",
              "}else if(typeof define === \"function\" && define.amd){\n",
              "   // require.js is available: use it to load d3/LDAvis\n",
              "   require.config({paths: {d3: \"https://d3js.org/d3.v5\"}});\n",
              "   require([\"d3\"], function(d3){\n",
              "      window.d3 = d3;\n",
              "      LDAvis_load_lib(\"https://cdn.jsdelivr.net/gh/bmabey/pyLDAvis@3.3.1/pyLDAvis/js/ldavis.v3.0.0.js\", function(){\n",
              "        new LDAvis(\"#\" + \"ldavis_el661398536436283683106186797\", ldavis_el661398536436283683106186797_data);\n",
              "      });\n",
              "    });\n",
              "}else{\n",
              "    // require.js not available: dynamically load d3 & LDAvis\n",
              "    LDAvis_load_lib(\"https://d3js.org/d3.v5.js\", function(){\n",
              "         LDAvis_load_lib(\"https://cdn.jsdelivr.net/gh/bmabey/pyLDAvis@3.3.1/pyLDAvis/js/ldavis.v3.0.0.js\", function(){\n",
              "                 new LDAvis(\"#\" + \"ldavis_el661398536436283683106186797\", ldavis_el661398536436283683106186797_data);\n",
              "            })\n",
              "         });\n",
              "}\n",
              "</script>"
            ],
            "text/plain": [
              "PreparedData(topic_coordinates=              x         y  topics  cluster       Freq\n",
              "topic                                                \n",
              "5     -0.385416  0.079991       1        1  41.770217\n",
              "6     -0.193018 -0.210257       2        1  14.918076\n",
              "0     -0.045361  0.268151       3        1   9.530044\n",
              "1      0.009803  0.008061       4        1   8.085765\n",
              "3      0.037530 -0.159473       5        1   7.439895\n",
              "7      0.078821 -0.150875       6        1   5.628326\n",
              "4      0.124452  0.026835       7        1   3.348289\n",
              "9      0.116069  0.027694       8        1   3.237481\n",
              "8      0.114580  0.071803       9        1   3.185272\n",
              "2      0.142540  0.038072      10        1   2.856636, topic_info=          Term         Freq        Total Category  logprob  loglift\n",
              "109      staff  2735.000000  2735.000000  Default  30.0000  30.0000\n",
              "4         room  3881.000000  3881.000000  Default  29.0000  29.0000\n",
              "98    location  2363.000000  2363.000000  Default  28.0000  28.0000\n",
              "53       small   702.000000   702.000000  Default  27.0000  27.0000\n",
              "3         good  1545.000000  1545.000000  Default  26.0000  26.0000\n",
              "...        ...          ...          ...      ...      ...      ...\n",
              "1336  property    11.581050    12.411784  Topic10  -5.2445   3.4862\n",
              "521   complete    11.456566    12.287363  Topic10  -5.2553   3.4855\n",
              "216      thing    34.956803    88.109008  Topic10  -4.1397   2.6311\n",
              "348       hear    16.576567    37.241302  Topic10  -4.8859   2.7461\n",
              "24       going    15.033132    54.507903  Topic10  -4.9836   2.2674\n",
              "\n",
              "[425 rows x 6 columns], token_table=      Topic      Freq              Term\n",
              "term                                   \n",
              "1737      6  0.990140        absolutely\n",
              "694       7  0.978518     accommodating\n",
              "763       2  0.991258  air_conditioning\n",
              "681       3  0.994933           airport\n",
              "126       1  0.509901              also\n",
              "...     ...       ...               ...\n",
              "628       4  0.958282           working\n",
              "628       6  0.028605           working\n",
              "899       7  0.945860             worst\n",
              "1859      5  0.983206              year\n",
              "61       10  0.949362               yet\n",
              "\n",
              "[510 rows x 3 columns], R=30, lambda_step=0.01, plot_opts={'xlab': 'PC1', 'ylab': 'PC2'}, topic_order=[6, 7, 1, 2, 4, 8, 5, 10, 9, 3])"
            ]
          },
          "metadata": {},
          "execution_count": 41
        }
      ],
      "source": [
        "# Visualize the topics\n",
        "pyLDAvis.enable_notebook()\n",
        "vis = pyLDAvis.gensim_models.prepare(lda_model, doc_term_matrix, dictionary)\n",
        "vis"
      ]
    },
    {
      "cell_type": "markdown",
      "source": [
        "**Observation of Topics:**\n",
        "\n",
        "We managed to obtain a very diverse range of topics. This can be seen from the intertopic distance visualisation. \n",
        "\n",
        "Unfortunately, the topics that we obtained only gave us a very 'surface' understanding of the most mentioned topics in the reviews. Also, topic keywords like 'good', 'great', 'small', 'friendly' suggests that adjectives are present in our topic keywords, however, these words bring little to no value to us. We would attempt trying out the topic modelling using purely nouns in the LDA Mallet (NGRAMS + NOUNS) approach."
      ],
      "metadata": {
        "id": "3JDL2wKkOOKW"
      },
      "id": "3JDL2wKkOOKW"
    }
  ],
  "metadata": {
    "kernelspec": {
      "display_name": "Python 3 (ipykernel)",
      "language": "python",
      "name": "python3"
    },
    "language_info": {
      "codemirror_mode": {
        "name": "ipython",
        "version": 3
      },
      "file_extension": ".py",
      "mimetype": "text/x-python",
      "name": "python",
      "nbconvert_exporter": "python",
      "pygments_lexer": "ipython3",
      "version": "3.9.6"
    },
    "colab": {
      "name": "LDA Gensim (NGRAMS).ipynb",
      "provenance": [],
      "collapsed_sections": [],
      "include_colab_link": true
    }
  },
  "nbformat": 4,
  "nbformat_minor": 5
}
